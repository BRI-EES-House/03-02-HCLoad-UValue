{
 "cells": [
  {
   "cell_type": "code",
   "execution_count": 1,
   "metadata": {
    "collapsed": true
   },
   "outputs": [],
   "source": [
    "import matplotlib.pyplot as plt\n",
    "import csv\n",
    "from  scipy.interpolate  import  interp1d\n",
    "from scipy import optimize"
   ]
  },
  {
   "cell_type": "markdown",
   "metadata": {},
   "source": [
    "# Evaluation on Thermal Resistance of Flat Glasses and Thermal Transmittance of Glazing based on JIS R 3107 / JIS R 3107 に基づく板ガラス類の熱抵抗及び建築における熱貫流率の算定方法"
   ]
  },
  {
   "cell_type": "markdown",
   "metadata": {},
   "source": [
    "## 1. Introduction"
   ]
  },
  {
   "cell_type": "markdown",
   "metadata": {},
   "source": [
    "## 2. Type"
   ]
  },
  {
   "cell_type": "markdown",
   "metadata": {},
   "source": [
    "## 3. Functions"
   ]
  },
  {
   "cell_type": "markdown",
   "metadata": {},
   "source": [
    "### 3.1 Thermal Transmittance (U value) / 熱貫流率"
   ]
  },
  {
   "cell_type": "markdown",
   "metadata": {},
   "source": [
    "$ \\displaystyle \\frac{1}{U} = \\frac{1}{h_e} + R + \\frac{1}{h_i} $"
   ]
  },
  {
   "cell_type": "markdown",
   "metadata": {},
   "source": [
    "$ U $ is the thermal transmittance / 熱貫流率 (W/m<sup>2</sup>K);  \n",
    "$ h_e $ is the external thermal transfer coefficient / 室外側表面熱伝達率 (W/m<sup>2</sup>K);  \n",
    "$ h_i $ is the internal thermal transfer coefficient / 室内側表面熱伝達率 (W/m<sup>2</sup>K);  \n",
    "$ R $ is the thermal resistance of the flat glasses / 板ガラス類の熱抵抗 (m<sup>2</sup>K/W);  "
   ]
  },
  {
   "cell_type": "code",
   "execution_count": 2,
   "metadata": {
    "collapsed": true
   },
   "outputs": [],
   "source": [
    "def get_U( he, hi, R ):\n",
    "    return 1 / ( 1/he +  R + 1/hi )"
   ]
  },
  {
   "cell_type": "markdown",
   "metadata": {},
   "source": [
    "$ \\displaystyle R_g = \\frac{d_m}{\\Lambda_m} $"
   ]
  },
  {
   "cell_type": "markdown",
   "metadata": {},
   "source": [
    "$ R_g $ is the thermal resistance of the glasses / ガラスの熱抵抗 (m<sup>2</sup>K/W);  \n",
    "$ d_m $ is the mean thickness of the composed flat glasses or the film of the laminated glasses/ 構成するガラス板又は合わせガラスの中間膜の平均的な厚さ (m);  \n",
    "$ \\Lambda_m $ is the mean thermal conductivity of the composed flat glasses or the film of the laminated glasses/ 構成するガラス板又は合わせガラスの中間膜の平均的な熱伝導率 (W/mK).  "
   ]
  },
  {
   "cell_type": "markdown",
   "metadata": {},
   "source": [
    "$ \\Lambda_m = 1 $"
   ]
  },
  {
   "cell_type": "code",
   "execution_count": 3,
   "metadata": {
    "collapsed": true
   },
   "outputs": [],
   "source": [
    "def get_Rg( dm ):\n",
    "    lambdam = 1.0\n",
    "    return dm / lambdam"
   ]
  },
  {
   "cell_type": "markdown",
   "metadata": {},
   "source": [
    "Single glass:"
   ]
  },
  {
   "cell_type": "markdown",
   "metadata": {},
   "source": [
    "$ \\displaystyle R = \\sum^M R_{g,j} $"
   ]
  },
  {
   "cell_type": "markdown",
   "metadata": {},
   "source": [
    "More than double glasses:"
   ]
  },
  {
   "cell_type": "markdown",
   "metadata": {},
   "source": [
    "$ \\displaystyle R = \\sum^N \\frac{1}{h_{s,i}} + \\sum^M R_{g,j} $"
   ]
  },
  {
   "cell_type": "markdown",
   "metadata": {},
   "source": [
    "$ R $ is the thermal resistance of the flat glasses / 板ガラス類の熱抵抗 (m<sup>2</sup>K/W);  \n",
    "$ h_s $ is the thermal conductance of air layer between the glasses / 中空層の熱コンダクタンス (W/m<sup>2</sup>K)."
   ]
  },
  {
   "cell_type": "code",
   "execution_count": 4,
   "metadata": {
    "collapsed": true
   },
   "outputs": [],
   "source": [
    "def get_R( hs, Rg ):\n",
    "    if len(hs) == 0:\n",
    "        return sum( Rg )\n",
    "    else:\n",
    "        return sum( [ 1/hsi for hsi in hs ] ) + sum( Rg )"
   ]
  },
  {
   "cell_type": "markdown",
   "metadata": {},
   "source": [
    "$ \\displaystyle h_s = h_r + h_g $"
   ]
  },
  {
   "cell_type": "markdown",
   "metadata": {},
   "source": [
    "$ h_s $ is the thermal conductance of air layer between the glasses / 中空層の熱コンダクタンス (W/m<sup>2</sup>K);  \n",
    "$ h_r $ is the radiative thermal conductance / 放射熱コンダクタンス (W/m<sup>2</sup>K);  \n",
    "$ h_g $ is the thermal conductance caused by conduction and convection of the air (the air thermal conductance) / 気体の伝導と対流による熱コンダクタンス(気体コンダクタンス) (W/m<sup>2</sup>K);  "
   ]
  },
  {
   "cell_type": "code",
   "execution_count": 5,
   "metadata": {
    "collapsed": true
   },
   "outputs": [],
   "source": [
    "def get_hs( hr, hg ):\n",
    "    return hr + hg"
   ]
  },
  {
   "cell_type": "markdown",
   "metadata": {},
   "source": [
    "### 3.2 Radiative Thermal Conductance / 放射熱コンダクタンス"
   ]
  },
  {
   "cell_type": "markdown",
   "metadata": {},
   "source": [
    "$ \\displaystyle h_r = 4 \\times \\sigma \\times \\left( \\frac{1}{\\epsilon_1} + \\frac{1}{\\epsilon_2} -1 \\right)^{-1} \\times T_m^3 $"
   ]
  },
  {
   "cell_type": "markdown",
   "metadata": {},
   "source": [
    "$ h_r $ is the radiative thermal conductance / 放射熱コンダクタンス (W/m<sup>2</sup>K);  \n",
    "$ \\sigma $ is Stefan-Boltzmann constant / ステファン・ボルツマン定数 (W/m<sup>2</sup>K<sup>4</sup>);  \n",
    "$ \\epsilon_1 $, $ \\epsilon_2 $ are the corrected emissivity of two glass surfaces surfaced to the air layer / 中空層に接する2つのガラス面の修正放射率;  \n",
    "$ T_m $ is the average value of the absolute temperatures at the two glass surfaces surfaced to the air layer / 中空層に接する2つのガラス面の絶対温度の値の平均値 (K)."
   ]
  },
  {
   "cell_type": "markdown",
   "metadata": {},
   "source": [
    "$ \\displaystyle \\sigma = 5.67 \\times 10 ^ {-8}$"
   ]
  },
  {
   "cell_type": "code",
   "execution_count": 6,
   "metadata": {
    "collapsed": false
   },
   "outputs": [],
   "source": [
    "def get_hr( e1, e2, Tm ):\n",
    "    sigma = 5.67 * 10 ** (-8)\n",
    "    return 4 * sigma / ( 1/e1 + 1/e2 - 1 ) * ( Tm ** 3 )"
   ]
  },
  {
   "cell_type": "markdown",
   "metadata": {},
   "source": [
    "### 3.3 Air Thermal Conductance / 気体熱コンダクタンス"
   ]
  },
  {
   "cell_type": "markdown",
   "metadata": {},
   "source": [
    "$ \\displaystyle h_g = C \\times \\frac{\\lambda}{s} $"
   ]
  },
  {
   "cell_type": "markdown",
   "metadata": {},
   "source": [
    "$ h_g $ is the thermal conductance caused by conduction and convection of the air (the air thermal conductance) / 気体の伝導と対流による熱コンダクタンス(気体コンダクタンス) (W/m<sup>2</sup>K);  \n",
    "$ C $ is the convection effect coefficient / 対流効果係数;  \n",
    "$ \\lambda $ is the thermal conductivity of the air / 気体の熱伝導率 (W/mK);  \n",
    "$ s $ is the thickness of the air layer / 中空層の厚さ (m)."
   ]
  },
  {
   "cell_type": "markdown",
   "metadata": {},
   "source": [
    "$ Nu \\le 1 $ のとき、$ C = 1 $  \n",
    "$ Nu \\gt 1 $ のとき、$ C = Nu $"
   ]
  },
  {
   "cell_type": "markdown",
   "metadata": {},
   "source": [
    "$Nu$ is Nusselt number."
   ]
  },
  {
   "cell_type": "code",
   "execution_count": 7,
   "metadata": {
    "collapsed": true
   },
   "outputs": [],
   "source": [
    "def get_hg( l, s, Nu ):\n",
    "    C = 1 if Nu <= 1 else Nu\n",
    "    return C * l / s"
   ]
  },
  {
   "cell_type": "markdown",
   "metadata": {},
   "source": [
    "$ \\displaystyle Nu = A \\times \\left( Gr \\times Pr \\right)^n $ "
   ]
  },
  {
   "cell_type": "markdown",
   "metadata": {},
   "source": [
    "$ A $ and $ n $ are defined corresponding to the tilt angle of the air layer and the direction of heat flow / 中空層の傾斜角と熱流方向によって決まる数値;  \n",
    "$ Gr $ is Grashof number;  \n",
    "$ Pr $ is Prandtl number."
   ]
  },
  {
   "cell_type": "markdown",
   "metadata": {},
   "source": [
    "| | $A$ | $n$ | symbol |\n",
    "| --- | --- | --- | --- |\n",
    "| Air layer is vertical and heat flow orientation is horizontal | 0.035 | 0.38 | 'horizontal' |\n",
    "| Air layer is horizontal and heat flow orientation is upstream | 0.16 | 0.28 | 'up' |\n",
    "| Air layer is 45 degree and heat flow orientation is upstream | 0.10 | 0.31 | 'up45' |\n",
    "| heat flow orientation is downstream | *1 | *1 | 'down' |\n",
    "*1 $Nu = 1.0 $. "
   ]
  },
  {
   "cell_type": "code",
   "execution_count": 8,
   "metadata": {
    "collapsed": true
   },
   "outputs": [],
   "source": [
    "def get_Nu( Gr, Pr, heatFlowOrientation ):\n",
    "    return {\n",
    "        'horizontal' : 0.035 * ( Gr * Pr )**0.38,\n",
    "        'up'         : 0.16  * ( Gr * Pr )**0.28,\n",
    "        'up45'       : 0.10  * ( Gr * Pr )**0.31,\n",
    "        'down'       : 1.0\n",
    "    }[heatFlowOrientation]"
   ]
  },
  {
   "cell_type": "markdown",
   "metadata": {},
   "source": [
    "$ \\displaystyle Gr = \\frac{ 9.81 \\times s^3 \\times \\Delta T \\times \\rho ^2 }{ T'_m \\times \\mu ^2 } $"
   ]
  },
  {
   "cell_type": "markdown",
   "metadata": {},
   "source": [
    "$ Gr $ is Grashof number;  \n",
    "$ s $ is the thickness of the air layer / 中空層の厚さ (m);  \n",
    "$ \\Delta T $ is the temperature difference of the two surface surfaced the air layer / 中空層に接する2面間の温度差 (K);  \n",
    "$ \\rho $ is the density of the air / 気体の密度 (kg/m<sup>3</sup>);  \n",
    "$ T'_m $ is the average temperature of the air at the air layer / 中空層の気体の平均温度 (K);  \n",
    "$ \\mu $ is the viscosity of the air / 気体の粘度 (N・s/m<sup>2</sup>= kg/ms)."
   ]
  },
  {
   "cell_type": "code",
   "execution_count": 9,
   "metadata": {
    "collapsed": true
   },
   "outputs": [],
   "source": [
    "def get_Gr( s, dT, rho, Tmd, mu ):\n",
    "    return 9.81 * ( s**3 ) * dT * ( rho**2 ) / Tmd / (mu**2)"
   ]
  },
  {
   "cell_type": "markdown",
   "metadata": {},
   "source": [
    "$ \\displaystyle Pr = \\frac{ \\mu \\times c }{ \\lambda } $"
   ]
  },
  {
   "cell_type": "markdown",
   "metadata": {},
   "source": [
    "$ Pr $ is Prandtl number;  \n",
    "$ \\mu $ is the viscosity of the air / 気体の粘度 (N・s/m<sup>2</sup>= kg/ms);  \n",
    "$ c $ is the specific heat of the air / 気体の比熱 (J/kgK);  \n",
    "$ \\lambda $ is the thermal conductivity of the air / 気体の熱伝導率 (W/mK)."
   ]
  },
  {
   "cell_type": "code",
   "execution_count": 10,
   "metadata": {
    "collapsed": true
   },
   "outputs": [],
   "source": [
    "def get_Pr( mu, c, l ):\n",
    "    return mu * c / l"
   ]
  },
  {
   "cell_type": "markdown",
   "metadata": {},
   "source": [
    "### 3.4 Corrected Emissivity"
   ]
  },
  {
   "cell_type": "markdown",
   "metadata": {},
   "source": [
    "| nomarl emissivity $ \\epsilon_n $ | coefficient $ \\frac{\\epsilon}{\\epsilon_n} $ |\n",
    "| --- | --- |\n",
    "| 0.03 | 1.22 |\n",
    "| 0.05 | 1.18 |\n",
    "| 0.1 | 1.14 |\n",
    "| 0.2 | 1.10 |\n",
    "| 0.3 | 1.06 |\n",
    "| 0.4 | 1.03 |\n",
    "| 0.5 | 1.00 |\n",
    "| 0.6 | 0.98 |\n",
    "| 0.7 | 0.96 |\n",
    "| 0.8 | 0.95 |\n",
    "| 0.89 | 0.94 |\n",
    "\n",
    "$ \\epsilon_n $ is normal emissivity / 垂直放射率  \n",
    "$ \\epsilon $ is corrected emissivity / 修正放射率"
   ]
  },
  {
   "cell_type": "code",
   "execution_count": 11,
   "metadata": {
    "collapsed": true
   },
   "outputs": [],
   "source": [
    "def getCorrectedCoefficient( e ):\n",
    "    # e : normal emissivity\n",
    "    x = [ 0.03, 0.05, 0.1,  0.2,  0.3,  0.4,  0.5,  0.6,  0.7,  0.8,  0.89 ]\n",
    "    y = [ 1.22, 1.18, 1.14, 1.10, 1.06, 1.03, 1.00, 0.98, 0.96, 0.95, 0.94 ]\n",
    "    return float(interp1d(x,y)(e))"
   ]
  },
  {
   "cell_type": "markdown",
   "metadata": {},
   "source": [
    "#### Example"
   ]
  },
  {
   "cell_type": "code",
   "execution_count": 12,
   "metadata": {
    "collapsed": false
   },
   "outputs": [
    {
     "data": {
      "image/png": "[encoded data removed]",
      "text/plain": [
       "<matplotlib.figure.Figure at 0x240851dbac8>"
      ]
     },
     "metadata": {},
     "output_type": "display_data"
    }
   ],
   "source": [
    "fig = plt.figure(figsize=(15,4))\n",
    "xs = [ n * 0.01 for n in range(3, 89) ]\n",
    "ys = [ getCorrectedCoefficient( e = x ) for x in xs ]\n",
    "ax = fig.add_subplot(1,1,1)\n",
    "ax.plot(xs,ys)\n",
    "ax.set_xticks([ n * 0.1 for n in range(0, 10) ])\n",
    "ax.set_yticks([ n * 0.1 for n in range(0, 14) ])\n",
    "ax.set_xlabel('normal emissibity', fontsize = 20 )\n",
    "ax.set_ylabel('coefficient', fontsize = 20 )\n",
    "plt.show()"
   ]
  },
  {
   "cell_type": "markdown",
   "metadata": {},
   "source": [
    "In case of not low E glass, the corrected emissivity is 0.837."
   ]
  },
  {
   "cell_type": "code",
   "execution_count": 13,
   "metadata": {
    "collapsed": true
   },
   "outputs": [],
   "source": [
    "def getCorrectedEmissivity( isLowE, e ):\n",
    "    # e : normal emissivity\n",
    "    if isLowE:\n",
    "        return e * getCorrectedCoefficient( e )\n",
    "    else:\n",
    "        return 0.837    "
   ]
  },
  {
   "cell_type": "markdown",
   "metadata": {},
   "source": [
    "#### Example"
   ]
  },
  {
   "cell_type": "markdown",
   "metadata": {},
   "source": [
    "Low E with 0.11 of $ \\epsilon_n$ "
   ]
  },
  {
   "cell_type": "code",
   "execution_count": 14,
   "metadata": {
    "collapsed": false
   },
   "outputs": [
    {
     "data": {
      "text/plain": [
       "0.12495999999999999"
      ]
     },
     "execution_count": 14,
     "metadata": {},
     "output_type": "execute_result"
    }
   ],
   "source": [
    "getCorrectedEmissivity( isLowE = True, e = 0.11 )"
   ]
  },
  {
   "cell_type": "markdown",
   "metadata": {},
   "source": [
    "Not Low E"
   ]
  },
  {
   "cell_type": "code",
   "execution_count": 15,
   "metadata": {
    "collapsed": false
   },
   "outputs": [
    {
     "data": {
      "text/plain": [
       "0.837"
      ]
     },
     "execution_count": 15,
     "metadata": {},
     "output_type": "execute_result"
    }
   ],
   "source": [
    "getCorrectedEmissivity( isLowE = False, e = 0.11 )"
   ]
  },
  {
   "cell_type": "markdown",
   "metadata": {},
   "source": [
    "### 3.5 Air Property"
   ]
  },
  {
   "cell_type": "markdown",
   "metadata": {},
   "source": [
    "#### air"
   ]
  },
  {
   "cell_type": "markdown",
   "metadata": {},
   "source": [
    "| temperature $\\theta$ <br> degree C | density $\\rho$ <br> kg/m<sup>3</sup> | viscosity $\\mu$ <br> kg/ms | thermal conductivity $\\lambda$ <br> W/mK | specific heat $c$ <br> 10<sup>3</sup> J/kgK |\n",
    "| --- | --- | --- | --- | --- |\n",
    "| -10 | 1.326 | 1.661 | 2.336 | 1.008 |\n",
    "|   0 | 1.277 | 1.711 | 2.416 | 1.008 |\n",
    "|  10 | 1.232 | 1.761 | 2.496 | 1.008 |\n",
    "|  20 | 1.189 | 1.811 | 2.576 | 1.008 |"
   ]
  },
  {
   "cell_type": "markdown",
   "metadata": {},
   "source": [
    "#### argon"
   ]
  },
  {
   "cell_type": "markdown",
   "metadata": {},
   "source": [
    "| temperature $\\theta$ <br> degree C | density $\\rho$ <br> kg/m<sup>3</sup> | viscosity $\\mu$ <br> kg/ms | thermal conductivity $\\lambda$ <br> W/mK | specific heat $c$ <br> 10<sup>3</sup> J/kgK |\n",
    "| --- | --- | --- | --- | --- |\n",
    "| -10 | 1.829 | 2.038 | 1.584 | 0.519 |\n",
    "|   0 | 1.762 | 2.101 | 1.634 | 0.519 |\n",
    "|  10 | 1.699 | 2.164 | 1.684 | 0.519 |\n",
    "|  20 | 1.640 | 2.228 | 1.734 | 0.519 |"
   ]
  },
  {
   "cell_type": "markdown",
   "metadata": {},
   "source": [
    "#### SF<sub>6</sub>"
   ]
  },
  {
   "cell_type": "markdown",
   "metadata": {},
   "source": [
    "| temperature $\\theta$ <br> degree C | density $\\rho$ <br> kg/m<sup>3</sup> | viscosity $\\mu$ <br> kg/ms | thermal conductivity $\\lambda$ <br> W/mK | specific heat $c$ <br> 10<sup>3</sup> J/kgK |\n",
    "| --- | --- | --- | --- | --- |\n",
    "| -10 | 6.844 | 1.383 | 1.119 | 0.614 |\n",
    "|   0 | 6.602 | 1.421 | 1.197 | 0.614 |\n",
    "|  10 | 6.360 | 1.459 | 1.275 | 0.614 |\n",
    "|  20 | 6.118 | 1.497 | 1.354 | 0.614 |"
   ]
  },
  {
   "cell_type": "markdown",
   "metadata": {},
   "source": [
    "#### krypton"
   ]
  },
  {
   "cell_type": "markdown",
   "metadata": {},
   "source": [
    "| temperature $\\theta$ <br> degree C | density $\\rho$ <br> kg/m<sup>3</sup> | viscosity $\\mu$ <br> kg/ms | thermal conductivity $\\lambda$ <br> W/mK | specific heat $c$ <br> 10<sup>3</sup> J/kgK |\n",
    "| --- | --- | --- | --- | --- |\n",
    "| -10 | 3.832 | 2.260 | 0.842 | 0.245 |\n",
    "|   0 | 3.690 | 2.330 | 0.870 | 0.245 |\n",
    "|  10 | 3.560 | 2.400 | 0.900 | 0.245 |\n",
    "|  20 | 3.430 | 2.470 | 0.926 | 0.245 |"
   ]
  },
  {
   "cell_type": "code",
   "execution_count": 16,
   "metadata": {
    "collapsed": false
   },
   "outputs": [],
   "source": [
    "class AirProperty:\n",
    "\n",
    "    def __init__( self, density, viscosity, thermalConductivity, specificHeat):\n",
    "        self.density             = density\n",
    "        self.viscosity           = viscosity\n",
    "        self.thermalConductivity = thermalConductivity\n",
    "        self.specificHeat        = specificHeat\n",
    "    \n",
    "    def SetProp( airtype, temp ):\n",
    "        T   = [ -10+273.15, 0+273.15, 10+273.15, 20+273.15]\n",
    "        rho = {\n",
    "            'air':     [ 1.326, 1.277, 1.232, 1.189 ],\n",
    "            'argon':   [ 1.829, 1.762, 1.699, 1.640 ],\n",
    "            'SF6':     [ 6.844, 6.602, 6.360, 6.118 ],\n",
    "            'krypton': [ 3.832, 3.690, 3.560, 3.430 ]\n",
    "        }[airtype]\n",
    "        mu = {\n",
    "            'air':     [ 0.00001661, 0.00001711, 0.00001761, 0.00001811 ],\n",
    "            'argon':   [ 0.00002038, 0.00002101, 0.00002164, 0.00002228 ],\n",
    "            'SF6':     [ 0.00001383, 0.00001421, 0.00001459, 0.00001497 ],\n",
    "            'krypton': [ 0.00002260, 0.00002330, 0.00002400, 0.00002470 ]\n",
    "        }[airtype]\n",
    "        l = {\n",
    "            'air':     [ 0.02336, 0.02416, 0.02496, 0.02576],\n",
    "            'argon':   [ 0.01584, 0.01634, 0.01684, 0.01734],\n",
    "            'SF6':     [ 0.01119, 0.01197, 0.01275, 0.01354],\n",
    "            'krypton': [ 0.00842, 0.00870, 0.00900, 0.00926]\n",
    "        }[airtype]\n",
    "        c = {\n",
    "            'air':     1008,\n",
    "            'argon':    519,\n",
    "            'SF6':      614,\n",
    "            'krypton':  245\n",
    "        }[airtype]\n",
    "        \n",
    "        return AirProperty( density             = float(interp1d(T,rho)(temp)),\n",
    "                            viscosity           = float(interp1d(T,mu)(temp)),\n",
    "                            thermalConductivity = float(interp1d(T,l)(temp)),\n",
    "                            specificHeat        = c)"
   ]
  },
  {
   "cell_type": "markdown",
   "metadata": {},
   "source": [
    "#### Example"
   ]
  },
  {
   "cell_type": "code",
   "execution_count": 17,
   "metadata": {
    "collapsed": false
   },
   "outputs": [
    {
     "data": {
      "text/plain": [
       "(1.277, 1008, 0.02416, 1.711e-05)"
      ]
     },
     "execution_count": 17,
     "metadata": {},
     "output_type": "execute_result"
    }
   ],
   "source": [
    "p = AirProperty.SetProp( airtype = 'air', temp = 273.15 )\n",
    "p.density, p.specificHeat, p.thermalConductivity, p.viscosity"
   ]
  },
  {
   "cell_type": "markdown",
   "metadata": {},
   "source": [
    "#### Example"
   ]
  },
  {
   "cell_type": "code",
   "execution_count": 18,
   "metadata": {
    "collapsed": false
   },
   "outputs": [
    {
     "data": {
      "image/png": "[encoded data removed]",
      "text/plain": [
       "<matplotlib.figure.Figure at 0x240851db400>"
      ]
     },
     "metadata": {},
     "output_type": "display_data"
    }
   ],
   "source": [
    "fig = plt.figure(figsize=(15,8))\n",
    "xs = [ float(n - 10) for n in range(0, 31) ]\n",
    "for i, air_property in enumerate(['density','viscosity','thermal conductivity','specific heat']):\n",
    "    ax = fig.add_subplot(2,2,i+1)\n",
    "    for airtype in [ 'air', 'argon', 'SF6', 'krypton' ]:\n",
    "        ys = [ { 'density'              : AirProperty.SetProp( airtype = airtype, temp = x+273.15 ).density,\n",
    "                 'viscosity'            : AirProperty.SetProp( airtype = airtype, temp = x+273.15 ).viscosity,\n",
    "                 'thermal conductivity' : AirProperty.SetProp( airtype = airtype, temp = x+273.15 ).thermalConductivity,\n",
    "                 'specific heat'        : AirProperty.SetProp( airtype = airtype, temp = x+273.15 ).specificHeat\n",
    "               }[air_property] for x in xs ]\n",
    "        ax.plot(xs,ys,label = airtype )\n",
    "    ax.set_title(air_property)\n",
    "    ax.legend()\n",
    "plt.show()"
   ]
  },
  {
   "cell_type": "markdown",
   "metadata": {},
   "source": [
    "#### Mixed Air"
   ]
  },
  {
   "cell_type": "code",
   "execution_count": 19,
   "metadata": {
    "collapsed": true
   },
   "outputs": [],
   "source": [
    "class AirComp:\n",
    "    \n",
    "    def __init__( self, aType, aVolumeRate ):\n",
    "        self.aType       = aType\n",
    "        self.aVolumeRate = aVolumeRate\n",
    "        \n",
    "    def getAirProperty( self, temp ):\n",
    "        return AirProperty.SetProp( self.aType, temp )"
   ]
  },
  {
   "cell_type": "code",
   "execution_count": 20,
   "metadata": {
    "collapsed": true
   },
   "outputs": [],
   "source": [
    "def getMixedAirProperty( aComps, temp ):\n",
    "    density             = sum( [ c.getAirProperty( temp ).density             * c.aVolumeRate for c in aComps ] )\n",
    "    viscosity           = sum( [ c.getAirProperty( temp ).viscosity           * c.aVolumeRate for c in aComps ] )\n",
    "    thermalConductivity = sum( [ c.getAirProperty( temp ).thermalConductivity * c.aVolumeRate for c in aComps ] )\n",
    "    specificHeat        = sum( [ c.getAirProperty( temp ).specificHeat        * c.aVolumeRate for c in aComps ] )\n",
    "    return AirProperty( density = density, viscosity = viscosity, thermalConductivity = thermalConductivity, specificHeat = specificHeat )"
   ]
  },
  {
   "cell_type": "markdown",
   "metadata": {},
   "source": [
    "#### Example"
   ]
  },
  {
   "cell_type": "code",
   "execution_count": 21,
   "metadata": {
    "collapsed": false
   },
   "outputs": [
    {
     "data": {
      "text/plain": [
       "(1.4144999999999999, 2.0195e-05, 0.02155, 763.5)"
      ]
     },
     "execution_count": 21,
     "metadata": {},
     "output_type": "execute_result"
    }
   ],
   "source": [
    "p = getMixedAirProperty( [ AirComp( aType = 'air', aVolumeRate = 0.5 ), AirComp( aType = 'argon', aVolumeRate = 0.5 ) ], 20.0 + 273.15 )\n",
    "p.density, p.viscosity, p.thermalConductivity, p.specificHeat"
   ]
  },
  {
   "cell_type": "markdown",
   "metadata": {},
   "source": [
    "### 3.6 Thermal Transfer Coefficient / 表面熱伝達率"
   ]
  },
  {
   "cell_type": "markdown",
   "metadata": {},
   "source": [
    "#### External / 室外側"
   ]
  },
  {
   "cell_type": "markdown",
   "metadata": {},
   "source": [
    "$ h_e = 4.9 \\times \\epsilon_e + 16.3 $"
   ]
  },
  {
   "cell_type": "markdown",
   "metadata": {},
   "source": [
    "$ h_e $ is the external thermal transfer coefficient / 室外側表面熱伝達率 (W/m<sup>2</sup>K);  \n",
    "$ \\epsilon_e $ is the hemispherical emissivity at the external surface / ガラス表面の半球放射率.  \n",
    "The hemispherical emissivity $ \\epsilon_e $ is considered to be equals to the corrected emissivity."
   ]
  },
  {
   "cell_type": "code",
   "execution_count": 22,
   "metadata": {
    "collapsed": true
   },
   "outputs": [],
   "source": [
    "def get_he( ee ):\n",
    "    return 4.9 * ee + 16.3"
   ]
  },
  {
   "cell_type": "markdown",
   "metadata": {},
   "source": [
    "#### Internal / 室内側"
   ]
  },
  {
   "cell_type": "markdown",
   "metadata": {},
   "source": [
    "$ h_i = 5.4 \\times \\epsilon_i + 4.1 $"
   ]
  },
  {
   "cell_type": "markdown",
   "metadata": {},
   "source": [
    "$ h_i $ is the internal thermal transfer coefficient / 室内側表面熱伝達率 (W/m<sup>2</sup>K);  \n",
    "$ \\epsilon_i $ is the hemispherical emissivity at the external surface / ガラス表面の半球放射率.  \n",
    "The hemispherical emissivity $ \\epsilon_i $ is considered to be equals to the corrected emissivity."
   ]
  },
  {
   "cell_type": "code",
   "execution_count": 23,
   "metadata": {
    "collapsed": false
   },
   "outputs": [],
   "source": [
    "def get_hi( ei ):\n",
    "    return 5.4 * ei + 4.1"
   ]
  },
  {
   "cell_type": "markdown",
   "metadata": {},
   "source": [
    "## 4. Integration"
   ]
  },
  {
   "cell_type": "markdown",
   "metadata": {},
   "source": [
    "### 4.1 Input Example"
   ]
  },
  {
   "cell_type": "code",
   "execution_count": 24,
   "metadata": {
    "collapsed": false
   },
   "outputs": [],
   "source": [
    "spec = {\n",
    "    'Glasses' : [\n",
    "        {\n",
    "            'Thickness'      : 0.003,\n",
    "            'InsideSurface'  : {\n",
    "                'IsLowE'     : False\n",
    "            },\n",
    "            'OutsideSurface' : {\n",
    "                'IsLowE'     : True,\n",
    "                'Emissivity' : 0.11\n",
    "            }\n",
    "        },\n",
    "        {\n",
    "            'Thickness'      : 0.003,\n",
    "            'InsideSurface'  : {\n",
    "                'IsLowE'     : False\n",
    "            },\n",
    "            'OutsideSurface' : {\n",
    "                'IsLowE'     : False\n",
    "            }\n",
    "        }\n",
    "    ],\n",
    "    'AirLayers' : [\n",
    "        {\n",
    "            'AirComponents' : [\n",
    "                {\n",
    "                    'AirType'    : 'air',\n",
    "                    'VolumeRate' : 1.0\n",
    "                }\n",
    "            ],\n",
    "            'Thickness' : 0.012\n",
    "        }\n",
    "    ],\n",
    "    'HeatFlowOrientation' : 'horizontal'\n",
    "}"
   ]
  },
  {
   "cell_type": "markdown",
   "metadata": {},
   "source": [
    "### 4.2 Corrected Emissivity"
   ]
  },
  {
   "cell_type": "code",
   "execution_count": 25,
   "metadata": {
    "collapsed": true
   },
   "outputs": [],
   "source": [
    "def correctedEmissivity(surface):\n",
    "    if surface['IsLowE']:\n",
    "        return getCorrectedEmissivity( isLowE = surface['IsLowE'], e = surface['Emissivity'] )\n",
    "    else:\n",
    "        return getCorrectedEmissivity( isLowE = surface['IsLowE'], e = 0.0 )"
   ]
  },
  {
   "cell_type": "markdown",
   "metadata": {},
   "source": [
    "#### Example - In case of Low E"
   ]
  },
  {
   "cell_type": "code",
   "execution_count": 26,
   "metadata": {
    "collapsed": false
   },
   "outputs": [
    {
     "data": {
      "text/plain": [
       "0.12495999999999999"
      ]
     },
     "execution_count": 26,
     "metadata": {},
     "output_type": "execute_result"
    }
   ],
   "source": [
    "surface = { 'IsLowE' : True, 'Emissivity' : 0.11 }\n",
    "correctedEmissivity( surface )"
   ]
  },
  {
   "cell_type": "markdown",
   "metadata": {},
   "source": [
    "#### Example - In case of not Low E"
   ]
  },
  {
   "cell_type": "code",
   "execution_count": 27,
   "metadata": {
    "collapsed": false
   },
   "outputs": [
    {
     "data": {
      "text/plain": [
       "0.837"
      ]
     },
     "execution_count": 27,
     "metadata": {},
     "output_type": "execute_result"
    }
   ],
   "source": [
    "surface = { 'IsLowE' : False, 'Emissivity' : 0.11 }\n",
    "correctedEmissivity( surface )"
   ]
  },
  {
   "cell_type": "markdown",
   "metadata": {},
   "source": [
    "### 4.3 Thermal Transfer Coefficient"
   ]
  },
  {
   "cell_type": "code",
   "execution_count": 28,
   "metadata": {
    "collapsed": true
   },
   "outputs": [],
   "source": [
    "def getThermalTransferCoefficient(spec):\n",
    "\n",
    "    nG = len(spec['Glasses'])\n",
    "    \n",
    "    insideSurface  = spec['Glasses'][0]['InsideSurface']\n",
    "    outsideSurface = spec['Glasses'][nG-1]['OutsideSurface']\n",
    "\n",
    "    ei = correctedEmissivity( insideSurface )\n",
    "    ee = correctedEmissivity( outsideSurface )\n",
    "    \n",
    "    return get_hi( ei = ei), get_he( ee = ee )"
   ]
  },
  {
   "cell_type": "markdown",
   "metadata": {},
   "source": [
    "#### Example - normal surface"
   ]
  },
  {
   "cell_type": "code",
   "execution_count": 29,
   "metadata": {
    "collapsed": false
   },
   "outputs": [
    {
     "data": {
      "text/plain": [
       "'inside: 8.6198/ outside: 20.4013'"
      ]
     },
     "execution_count": 29,
     "metadata": {},
     "output_type": "execute_result"
    }
   ],
   "source": [
    "'inside: ' + str(getThermalTransferCoefficient(spec)[0]) + '/ outside: ' + str(getThermalTransferCoefficient(spec)[1])"
   ]
  },
  {
   "cell_type": "markdown",
   "metadata": {},
   "source": [
    "### 4.4 Air Layer"
   ]
  },
  {
   "cell_type": "code",
   "execution_count": 30,
   "metadata": {
    "collapsed": false
   },
   "outputs": [],
   "source": [
    "class AirLayer:\n",
    "    \n",
    "    def __init__( self, airComps, thickness, insideEmissivity, outsideEmissivity):\n",
    "        self.airComps          = airComps\n",
    "        self.thickness         = thickness\n",
    "        self.insideEmissivity  = insideEmissivity\n",
    "        self.outsideEmissivity = outsideEmissivity\n",
    "    \n",
    "    def SetProperty( spec, i ):\n",
    "        \n",
    "        airComps = [ AirComp( c['AirType'], c['VolumeRate'] ) for c in spec['AirLayers'][i]['AirComponents'] ]\n",
    "        \n",
    "        thickness = spec['AirLayers'][i]['Thickness']\n",
    "        \n",
    "        insideSurface  = spec['Glasses'][i]['OutsideSurface']\n",
    "        insideEmissivity = correctedEmissivity( insideSurface )\n",
    "\n",
    "        outsideSurface = spec['Glasses'][i+1]['InsideSurface']\n",
    "        outsideEmissivity = correctedEmissivity( outsideSurface )\n",
    "        \n",
    "        return AirLayer( airComps, thickness, insideEmissivity, outsideEmissivity )\n",
    "                \n",
    "    def getAirThermalConductance( self, heatFlowOrientation, Tmd, dT ):\n",
    "        \n",
    "        # air property\n",
    "        p = getMixedAirProperty( self.airComps, Tmd )\n",
    "        \n",
    "        # plandtl number\n",
    "        Pr = get_Pr( p.viscosity, p.specificHeat, p.thermalConductivity )\n",
    "        \n",
    "        # grashof number\n",
    "        Gr = get_Gr( self.thickness, dT, p.density, Tmd, p.viscosity )\n",
    "        \n",
    "        # nusselt number\n",
    "        Nu = get_Nu( Gr, Pr, heatFlowOrientation )\n",
    "        \n",
    "        # air thermal conductance\n",
    "        return get_hg( p.thermalConductivity, self.thickness, Nu )\n",
    "    \n",
    "    def getRadiativeThermalConductance( self, Tm ):\n",
    "        return get_hr( self.insideEmissivity, self.outsideEmissivity, Tm )\n",
    "    \n",
    "    def getThermalConductance( self, heatFlowOrientation, Tmd, dT, Tm ):\n",
    "        return get_hs( self.getAirThermalConductance( heatFlowOrientation, Tmd, dT ), self.getRadiativeThermalConductance( Tm ) )\n",
    "    \n",
    "    def getThermalConductance2( self, heatFlowOrientation, T1, T2 ):\n",
    "        Tmd, dT, Tm = (T1+T2)/2, abs(T1-T2), (T1+T2)/2\n",
    "        return self.getThermalConductance( heatFlowOrientation, Tmd, dT, Tm )"
   ]
  },
  {
   "cell_type": "code",
   "execution_count": 31,
   "metadata": {
    "collapsed": false,
    "scrolled": true
   },
   "outputs": [
    {
     "data": {
      "text/plain": [
       "2.08"
      ]
     },
     "execution_count": 31,
     "metadata": {},
     "output_type": "execute_result"
    }
   ],
   "source": [
    "ls = AirLayer.SetProperty( spec, 0 )\n",
    "ls.getAirThermalConductance( heatFlowOrientation = 'horizontal', dT = 15.0 , Tmd = 283.15 )"
   ]
  },
  {
   "cell_type": "markdown",
   "metadata": {},
   "source": [
    "### 4.5 Glass Layer"
   ]
  },
  {
   "cell_type": "code",
   "execution_count": 32,
   "metadata": {
    "collapsed": true
   },
   "outputs": [],
   "source": [
    "class GlassLayer:\n",
    "    \n",
    "    def __init__( self, thickness ):\n",
    "        self.thickness = thickness\n",
    "        \n",
    "    def SetProperty( spec, i ):\n",
    "        \n",
    "        thickness = spec['Glasses'][i]['Thickness']\n",
    "        \n",
    "        return GlassLayer( thickness )\n",
    "\n",
    "    def getResistance( self ):\n",
    "        \n",
    "        return get_Rg( self.thickness )\n",
    "        "
   ]
  },
  {
   "cell_type": "markdown",
   "metadata": {},
   "source": [
    "### 4.6 Total"
   ]
  },
  {
   "cell_type": "markdown",
   "metadata": {},
   "source": [
    "#### Surface Temperature Calculation"
   ]
  },
  {
   "cell_type": "code",
   "execution_count": 33,
   "metadata": {
    "collapsed": false
   },
   "outputs": [],
   "source": [
    "def getSurfaceTemperatures( gLayers, aLayers, hi, he, Ti, To, heatFlowOrientation ):\n",
    "    \n",
    "    nG = len(gLayers)\n",
    "\n",
    "    def f(x):\n",
    "\n",
    "        t = lambda n : (\n",
    "            Ti if n == 0 else x[n * 2 - 1],      # left next\n",
    "            x[n * 2],                            # left\n",
    "            x[n * 2 + 1],                        # right\n",
    "            To if n == nG - 1 else x[n * 2 + 2]  # right\n",
    "        )\n",
    "        \n",
    "        c = lambda n : (\n",
    "            hi if n == 0 else aLayers[n-1].getThermalConductance2( heatFlowOrientation, t(n)[0], t(n)[1] ),   # left\n",
    "            1 / gLayers[n].getResistance(),                                                                   # middle\n",
    "            he if n == nG - 1 else aLayers[n].getThermalConductance2( heatFlowOrientation, t(n)[2], t(n)[3] ) # right\n",
    "        )\n",
    "        \n",
    "        q = []   # q is heat flow into an temperature point, which must be 0.0 totally.\n",
    "        for n in range(nG):\n",
    "            q.append( ( t(n)[0] - t(n)[1] ) * c(n)[0] + ( t(n)[2] - t(n)[1] ) * c(n)[1] )\n",
    "            q.append( ( t(n)[1] - t(n)[2] ) * c(n)[1] + ( t(n)[3] - t(n)[2] ) * c(n)[2] )\n",
    "            \n",
    "        return q\n",
    "    \n",
    "    # ST is the surface temperatures.\n",
    "    ST = optimize.fsolve( f, [283.15]*(nG*2) ) # 283.15 = initial value\n",
    "    \n",
    "    return ST    "
   ]
  },
  {
   "cell_type": "markdown",
   "metadata": {},
   "source": [
    "#### main"
   ]
  },
  {
   "cell_type": "code",
   "execution_count": 34,
   "metadata": {
    "collapsed": false
   },
   "outputs": [],
   "source": [
    "def getThermalTransmittance(spec, method):\n",
    "    \n",
    "    hi, he = getThermalTransferCoefficient(spec)\n",
    "    \n",
    "    heatFlowOrientation = spec['HeatFlowOrientation']\n",
    "\n",
    "    # set glass laysers\n",
    "    nG = len(spec['Glasses']) # number of glasses\n",
    "    gLayers = [ GlassLayer.SetProperty( spec, i ) for i in range(nG) ]\n",
    "\n",
    "    # set air layers\n",
    "    nL = nG - 1 # number of layers\n",
    "    aLayers = [] if nL == 0 else [ AirLayer.SetProperty( spec, i ) for i in range(nL) ]\n",
    "    \n",
    "    # thermal resistance of glass layers\n",
    "    Rgs = [ gLayer.getResistance() for gLayer in gLayers ]\n",
    "\n",
    "    # thermal conductance of air layers\n",
    "    if method == 'simple':\n",
    "        if len(aLayers) == 0:\n",
    "            hss = []\n",
    "        elif len(aLayers) == 1:\n",
    "            hss = [ aLayer.getThermalConductance( heatFlowOrientation = heatFlowOrientation, Tmd = 283, dT = 15, Tm = 283 ) for aLayer in aLayers ]\n",
    "        else:\n",
    "            raise Exception # Simple method is only defined for single and double glasses.\n",
    "    elif method == 'detail':\n",
    "        # Internal temperature and external temperature is decided to be 20.0 and 0.0 degree C.\n",
    "        Ti, To = 20.0 + 273.15, 0.0 + 273.15\n",
    "        # ST is the surface temperatures.\n",
    "        ST = getSurfaceTemperatures( gLayers, aLayers, hi, he, Ti, To, heatFlowOrientation )\n",
    "        if len(aLayers) == 0:\n",
    "            hss = []\n",
    "        else:\n",
    "            hss = [ aLayer.getThermalConductance2( heatFlowOrientation, ST[i*2+1], ST[i*2+2] ) for ( i, aLayer ) in enumerate(aLayers) ]\n",
    "\n",
    "    # total resistance\n",
    "    R = get_R( hss, Rgs )\n",
    "    \n",
    "    return get_U( he, hi, R )"
   ]
  },
  {
   "cell_type": "markdown",
   "metadata": {},
   "source": [
    "#### Example"
   ]
  },
  {
   "cell_type": "markdown",
   "metadata": {},
   "source": [
    "- Single glass"
   ]
  },
  {
   "cell_type": "code",
   "execution_count": 35,
   "metadata": {
    "collapsed": true
   },
   "outputs": [],
   "source": [
    "spec = {\n",
    "    'Glasses' : [\n",
    "        {\n",
    "            'Thickness'             : 0.003,\n",
    "            'InsideSurface' : {\n",
    "                'IsLowE'     : False,\n",
    "            },\n",
    "            'OutsideSurface' : {\n",
    "                'IsLowE'     : False,\n",
    "            }\n",
    "        },\n",
    "    ],\n",
    "    'HeatFlowOrientation' : 'horizontal'\n",
    "}"
   ]
  },
  {
   "cell_type": "code",
   "execution_count": 36,
   "metadata": {
    "collapsed": false
   },
   "outputs": [
    {
     "data": {
      "text/plain": [
       "5.951372879113934"
      ]
     },
     "execution_count": 36,
     "metadata": {},
     "output_type": "execute_result"
    }
   ],
   "source": [
    "getThermalTransmittance(spec,'simple')"
   ]
  },
  {
   "cell_type": "code",
   "execution_count": 37,
   "metadata": {
    "collapsed": false
   },
   "outputs": [
    {
     "data": {
      "text/plain": [
       "5.951372879113934"
      ]
     },
     "execution_count": 37,
     "metadata": {},
     "output_type": "execute_result"
    }
   ],
   "source": [
    "getThermalTransmittance(spec,'detail')"
   ]
  },
  {
   "cell_type": "markdown",
   "metadata": {},
   "source": [
    "#### Example"
   ]
  },
  {
   "cell_type": "markdown",
   "metadata": {},
   "source": [
    "- Double glasses\n",
    "- Not Low E\n",
    "- Thickness of air layer is 6 mm."
   ]
  },
  {
   "cell_type": "code",
   "execution_count": 38,
   "metadata": {
    "collapsed": true
   },
   "outputs": [],
   "source": [
    "spec = {\n",
    "    'Glasses' : [\n",
    "        {\n",
    "            'Thickness'      : 0.003,\n",
    "            'InsideSurface'  : {\n",
    "                'IsLowE'     : False,\n",
    "            },\n",
    "            'OutsideSurface' : {\n",
    "                'IsLowE'     : False,\n",
    "            }\n",
    "        },\n",
    "        {\n",
    "            'Thickness'             : 0.003,\n",
    "            'InsideSurface' : {\n",
    "                'IsLowE'     : False,\n",
    "            },\n",
    "            'OutsideSurface' : {\n",
    "                'IsLowE'     : False,\n",
    "            }\n",
    "        }\n",
    "    ],\n",
    "    'AirLayers' : [\n",
    "        {\n",
    "            'AirComponents' : [\n",
    "                {\n",
    "                    'AirType'    : 'air',\n",
    "                    'VolumeRate' : 1.0\n",
    "                }\n",
    "            ],\n",
    "            'Thickness' : 0.006\n",
    "        }\n",
    "    ],\n",
    "    'HeatFlowOrientation' : 'horizontal'\n",
    "}"
   ]
  },
  {
   "cell_type": "code",
   "execution_count": 39,
   "metadata": {
    "collapsed": false
   },
   "outputs": [
    {
     "data": {
      "text/plain": [
       "3.352389434634687"
      ]
     },
     "execution_count": 39,
     "metadata": {},
     "output_type": "execute_result"
    }
   ],
   "source": [
    "getThermalTransmittance(spec,'simple')"
   ]
  },
  {
   "cell_type": "code",
   "execution_count": 40,
   "metadata": {
    "collapsed": false
   },
   "outputs": [
    {
     "data": {
      "text/plain": [
       "3.3324186981549677"
      ]
     },
     "execution_count": 40,
     "metadata": {},
     "output_type": "execute_result"
    }
   ],
   "source": [
    "getThermalTransmittance(spec,'detail')"
   ]
  },
  {
   "cell_type": "markdown",
   "metadata": {},
   "source": [
    "## 5. Labeling"
   ]
  },
  {
   "cell_type": "markdown",
   "metadata": {},
   "source": [
    "- The thickness of the glass is considered to be 3mm.  \n",
    "- Internal and external surface is not low-E glass.\n",
    "- Heat flow orientation is horizontal.\n",
    "- The normal emissivity of the low-E surface is 0.11."
   ]
  },
  {
   "cell_type": "markdown",
   "metadata": {},
   "source": [
    "### 5.1 Example of Label"
   ]
  },
  {
   "cell_type": "markdown",
   "metadata": {},
   "source": [
    "| Type of components | Type of solar gain | Symbol |\n",
    "| --- | --- | --- |\n",
    "| Double Low-E Triple Glasses with Insulation Gas | High | 3WgG06 |\n",
    "| Double Low-E Triple Glasses with Insulation Gas | Low | 3WsG06 |\n",
    "| Double Low-E Triple Glasses | High | 3WgA06 |\n",
    "| Double Low-E Triple Glasses | Low | 3WsA06 |\n",
    "| Low-E Triple Glasses with Insulation Gas | High | 3LgG06 |\n",
    "| Low-E Triple Glasses with Insulation Gas | Low | 3LsG06 |\n",
    "| Low-E Triple Glasses | High | 3LgA06 |\n",
    "| Low-E Triple Glasses | Low | 3LsA06 |\n",
    "| Triple Glasses | - | 3FA06 |\n",
    "| Low-E Double Glasses with Insulation Gas | High | 2LgG06 |\n",
    "| Low-E Double Glasses with Insulation Gas | Low | 2LsG06 |\n",
    "| Low-E Double Glasses | High | 2LgA06 |\n",
    "| Low-E Double Glasses | Low | 2LsA06 |\n",
    "| Double Glasses | - | 2FA06 |\n",
    "| Single Glass | - | T |"
   ]
  },
  {
   "cell_type": "markdown",
   "metadata": {},
   "source": [
    "### 5.2 Function"
   ]
  },
  {
   "cell_type": "code",
   "execution_count": 41,
   "metadata": {
    "collapsed": false
   },
   "outputs": [],
   "source": [
    "def getThermalTransmittanceLabelling( label ):\n",
    "    \n",
    "    def makeSpec( label ):\n",
    "        \n",
    "        nGass = [ { 'AirType' : 'air', 'VolumeRate' : 1.0 } ]\n",
    "        # air 100 %\n",
    "        iGass = [ { 'AirType' : 'air', 'VolumeRate' : 0.15 }, { 'AirType' : 'argon', 'VolumeRate' : 0.85 } ]\n",
    "        # air 15 %  argon 85 %\n",
    "        \n",
    "        gasLayerS = lambda a,t : { 'A' : [ { 'AirComponents' : nGass, 'Thickness' : t } ],\n",
    "                                   'G' : [ { 'AirComponents' : iGass, 'Thickness' : t } ] }[a] \n",
    "        \n",
    "        gasLayerD = lambda a,t : { 'A' : [ { 'AirComponents' : nGass, 'Thickness' : t }, { 'AirComponents' : nGass, 'Thickness' : t } ],\n",
    "                                   'G' : [ { 'AirComponents' : iGass, 'Thickness' : t }, { 'AirComponents' : iGass, 'Thickness' : t } ] }[a] \n",
    "\n",
    "        normalGlass      = { 'Thickness' : 0.003, 'InsideSurface'  : { 'IsLowE' : False }, 'OutsideSurface' : { 'IsLowE' : False } }\n",
    "        insideLowEGlass  = { 'Thickness' : 0.003, 'InsideSurface'  : { 'IsLowE' : True, 'Emissivity' : 0.11 }, 'OutsideSurface' : { 'IsLowE' : False } }\n",
    "        outsideLowEGlass = { 'Thickness' : 0.003, 'InsideSurface'  : { 'IsLowE' : False }, 'OutsideSurface' : { 'IsLowE' : True, 'Emissivity' : 0.11 } }\n",
    "\n",
    "        glassLayerD = lambda g : {\n",
    "            'F'  : [ normalGlass, normalGlass ],\n",
    "            'Ls' : [ normalGlass, insideLowEGlass ],\n",
    "            'Lg' : [ outsideLowEGlass, normalGlass ]\n",
    "        }[g]\n",
    "\n",
    "        glassLayerT = lambda g : {\n",
    "            'F'  : [ normalGlass, normalGlass, normalGlass ],\n",
    "            'Ls' : [ normalGlass, normalGlass, insideLowEGlass ],\n",
    "            'Lg' : [ normalGlass, normalGlass, insideLowEGlass ], # Assumption of the composition of 'Ls' and 'Lg' is same.\n",
    "            'Ws' : [ outsideLowEGlass, normalGlass, insideLowEGlass ],\n",
    "            'Wg' : [ outsideLowEGlass, normalGlass, insideLowEGlass ]\n",
    "        }[g]\n",
    "\n",
    "        spec = { 'HeatFlowOrientation' : 'horizontal' }\n",
    "        \n",
    "        if label[0] == 'T':\n",
    "            \n",
    "            spec['Glasses'] = [ normalGlass ]\n",
    "            \n",
    "        elif label[0] == '2':   # Double glass\n",
    "\n",
    "            if label[1] == 'F':     # normal glass\n",
    "                spec['Glasses']   = glassLayerD( g = 'F' )\n",
    "                spec['AirLayers'] = gasLayerS( a = label[2], t = float(label[3:5]) * 0.001 )\n",
    "                \n",
    "            elif label[1:3] == 'Ls' or 'Lg':\n",
    "                spec['Glasses']   = glassLayerD( g = label[1:3] )                    \n",
    "                spec['AirLayers'] = gasLayerS( a = label[3], t = float(label[4:6]) * 0.001 )\n",
    "\n",
    "            else:\n",
    "                raise NameError\n",
    "                \n",
    "        elif label[0] == '3':   # Triple glass\n",
    "            \n",
    "            if label[1] == 'F':     # normal glass\n",
    "                spec['Glasses']   = glassLayerT( g = 'F' )\n",
    "                spec['AirLayers'] = gasLayerD( a = label[2], t = float(label[3:5]) * 0.001 )\n",
    "                \n",
    "            elif label[1:3] == 'Ls' or 'Lg':\n",
    "                spec['Glasses']   = glassLayerT( g = label[1:3] )\n",
    "                spec['AirLayers'] = gasLayerD( a = label[3], t = float(label[4:6]) * 0.001 )\n",
    "\n",
    "            else:\n",
    "                raise NameError\n",
    "                    \n",
    "        return spec\n",
    "                    \n",
    "    spec = makeSpec( label )\n",
    "    \n",
    "    return getThermalTransmittance( spec, 'detail' )     "
   ]
  },
  {
   "cell_type": "markdown",
   "metadata": {},
   "source": [
    "#### Example"
   ]
  },
  {
   "cell_type": "code",
   "execution_count": 42,
   "metadata": {
    "collapsed": false
   },
   "outputs": [
    {
     "name": "stdout",
     "output_type": "stream",
     "text": [
      "3WgG06: 1.37747190615\n",
      "3WsG06: 1.37747190615\n",
      "3WgA06: 1.68440674839\n",
      "3WsA06: 1.68440674839\n",
      "3LgG06: 1.67122288421\n",
      "3LsG06: 1.67122288421\n",
      "3LgA06: 1.95716949304\n",
      "3LsA06: 1.95716949304\n",
      "3FA06: 2.32058438988\n",
      "2LgG06: 2.23358682943\n",
      "2LsG06: 2.23358682943\n",
      "2LgA06: 2.62178507443\n",
      "2LsA06: 2.62178507443\n",
      "2FA06: 3.33241869815\n",
      "T: 5.951372879113934\n"
     ]
    }
   ],
   "source": [
    "examples = [\n",
    "    '3WgG06', '3WsG06', '3WgA06', '3WsA06', '3LgG06', '3LsG06', '3LgA06', '3LsA06', '3FA06', \n",
    "    '2LgG06', '2LsG06', '2LgA06', '2LsA06', '2FA06',\n",
    "    'T'\n",
    "]\n",
    "\n",
    "for e in examples:\n",
    "    print( e + ': ' + str( getThermalTransmittanceLabelling(e)) )"
   ]
  },
  {
   "cell_type": "markdown",
   "metadata": {},
   "source": [
    "### 5.3 Test"
   ]
  },
  {
   "cell_type": "code",
   "execution_count": 44,
   "metadata": {
    "collapsed": false
   },
   "outputs": [
    {
     "name": "stdout",
     "output_type": "stream",
     "text": [
      "3WgG06\n",
      "EXPECTED = 1.38\n",
      "RESULT = 1.37747190615\n",
      "OK\n",
      "3WgG07\n",
      "EXPECTED = 1.25\n",
      "RESULT = 1.25032044406\n",
      "OK\n",
      "3WgG08\n",
      "EXPECTED = 1.15\n",
      "RESULT = 1.14995964006\n",
      "OK\n",
      "3WgG09\n",
      "EXPECTED = 1.07\n",
      "RESULT = 1.06872798879\n",
      "OK\n",
      "3WgG10\n",
      "EXPECTED = 1\n",
      "RESULT = 1.00163148578\n",
      "OK\n",
      "3WgG11\n",
      "EXPECTED = 0.95\n",
      "RESULT = 0.945275524872\n",
      "OK\n",
      "3WgG12\n",
      "EXPECTED = 0.9\n",
      "RESULT = 0.897272012861\n",
      "OK\n",
      "3WgG13\n",
      "EXPECTED = 0.86\n",
      "RESULT = 0.855892037736\n",
      "OK\n",
      "3WgG14\n",
      "EXPECTED = 0.82\n",
      "RESULT = 0.819853092439\n",
      "OK\n",
      "3WgG15\n",
      "EXPECTED = 0.79\n",
      "RESULT = 0.788183724257\n",
      "OK\n",
      "3WgG16\n",
      "EXPECTED = 0.76\n",
      "RESULT = 0.760134617793\n",
      "OK\n",
      "3WsG06\n",
      "EXPECTED = 1.38\n",
      "RESULT = 1.37747190615\n",
      "OK\n",
      "3WsG07\n",
      "EXPECTED = 1.25\n",
      "RESULT = 1.25032044406\n",
      "OK\n",
      "3WsG08\n",
      "EXPECTED = 1.15\n",
      "RESULT = 1.14995964006\n",
      "OK\n",
      "3WsG09\n",
      "EXPECTED = 1.07\n",
      "RESULT = 1.06872798879\n",
      "OK\n",
      "3WsG10\n",
      "EXPECTED = 1\n",
      "RESULT = 1.00163148578\n",
      "OK\n",
      "3WsG11\n",
      "EXPECTED = 0.95\n",
      "RESULT = 0.945275524872\n",
      "OK\n",
      "3WsG12\n",
      "EXPECTED = 0.9\n",
      "RESULT = 0.897272012861\n",
      "OK\n",
      "3WsG13\n",
      "EXPECTED = 0.86\n",
      "RESULT = 0.855892037736\n",
      "OK\n",
      "3WsG14\n",
      "EXPECTED = 0.82\n",
      "RESULT = 0.819853092439\n",
      "OK\n",
      "3WsG15\n",
      "EXPECTED = 0.79\n",
      "RESULT = 0.788183724257\n",
      "OK\n",
      "3WsG16\n",
      "EXPECTED = 0.76\n",
      "RESULT = 0.760134617793\n",
      "OK\n",
      "3WgA06\n",
      "EXPECTED = 1.68\n",
      "RESULT = 1.68440674839\n",
      "OK\n",
      "3WgA07\n",
      "EXPECTED = 1.53\n",
      "RESULT = 1.53138610252\n",
      "OK\n",
      "3WgA08\n",
      "EXPECTED = 1.41\n",
      "RESULT = 1.40878672582\n",
      "OK\n",
      "3WgA09\n",
      "EXPECTED = 1.31\n",
      "RESULT = 1.30835428677\n",
      "OK\n",
      "3WgA10\n",
      "EXPECTED = 1.22\n",
      "RESULT = 1.22457376694\n",
      "OK\n",
      "3WgA11\n",
      "EXPECTED = 1.15\n",
      "RESULT = 1.15361992075\n",
      "OK\n",
      "3WgA12\n",
      "EXPECTED = 1.09\n",
      "RESULT = 1.09275602665\n",
      "OK\n",
      "3WgA13\n",
      "EXPECTED = 1.04\n",
      "RESULT = 1.03997234648\n",
      "OK\n",
      "3WgA14\n",
      "EXPECTED = 0.99\n",
      "RESULT = 0.993759727869\n",
      "OK\n",
      "3WgA15\n",
      "EXPECTED = 0.95\n",
      "RESULT = 0.952962862829\n",
      "OK\n",
      "3WgA16\n",
      "EXPECTED = 0.92\n",
      "RESULT = 0.916682312527\n",
      "OK\n",
      "3WsA06\n",
      "EXPECTED = 1.68\n",
      "RESULT = 1.68440674839\n",
      "OK\n",
      "3WsA07\n",
      "EXPECTED = 1.53\n",
      "RESULT = 1.53138610252\n",
      "OK\n",
      "3WsA08\n",
      "EXPECTED = 1.41\n",
      "RESULT = 1.40878672582\n",
      "OK\n",
      "3WsA09\n",
      "EXPECTED = 1.31\n",
      "RESULT = 1.30835428677\n",
      "OK\n",
      "3WsA10\n",
      "EXPECTED = 1.22\n",
      "RESULT = 1.22457376694\n",
      "OK\n",
      "3WsA11\n",
      "EXPECTED = 1.15\n",
      "RESULT = 1.15361992075\n",
      "OK\n",
      "3WsA12\n",
      "EXPECTED = 1.09\n",
      "RESULT = 1.09275602665\n",
      "OK\n",
      "3WsA13\n",
      "EXPECTED = 1.04\n",
      "RESULT = 1.03997234648\n",
      "OK\n",
      "3WsA14\n",
      "EXPECTED = 0.99\n",
      "RESULT = 0.993759727869\n",
      "OK\n",
      "3WsA15\n",
      "EXPECTED = 0.95\n",
      "RESULT = 0.952962862829\n",
      "OK\n",
      "3WsA16\n",
      "EXPECTED = 0.92\n",
      "RESULT = 0.916682312527\n",
      "OK\n",
      "3LgG06\n",
      "EXPECTED = 1.67\n",
      "RESULT = 1.67122288421\n",
      "OK\n",
      "3LgG07\n",
      "EXPECTED = 1.55\n",
      "RESULT = 1.54984920314\n",
      "OK\n",
      "3LgG08\n",
      "EXPECTED = 1.45\n",
      "RESULT = 1.45240043396\n",
      "OK\n",
      "3LgG09\n",
      "EXPECTED = 1.37\n",
      "RESULT = 1.37222751402\n",
      "OK\n",
      "3LgG10\n",
      "EXPECTED = 1.31\n",
      "RESULT = 1.30497627323\n",
      "OK\n",
      "3LgG11\n",
      "EXPECTED = 1.25\n",
      "RESULT = 1.24766720836\n",
      "OK\n",
      "3LgG12\n",
      "EXPECTED = 1.2\n",
      "RESULT = 1.19818735815\n",
      "OK\n",
      "3LgG13\n",
      "EXPECTED = 1.16\n",
      "RESULT = 1.15499332829\n",
      "OK\n",
      "3LgG14\n",
      "EXPECTED = 1.12\n",
      "RESULT = 1.11692938854\n",
      "OK\n",
      "3LgG15\n",
      "EXPECTED = 1.08\n",
      "RESULT = 1.08311157712\n",
      "OK\n",
      "3LgG16\n",
      "EXPECTED = 1.07\n",
      "RESULT = 1.06726040962\n",
      "OK\n",
      "3LsG06\n",
      "EXPECTED = 1.67\n",
      "RESULT = 1.67122288421\n",
      "OK\n",
      "3LsG07\n",
      "EXPECTED = 1.55\n",
      "RESULT = 1.54984920314\n",
      "OK\n",
      "3LsG08\n",
      "EXPECTED = 1.45\n",
      "RESULT = 1.45240043396\n",
      "OK\n",
      "3LsG09\n",
      "EXPECTED = 1.37\n",
      "RESULT = 1.37222751402\n",
      "OK\n",
      "3LsG10\n",
      "EXPECTED = 1.31\n",
      "RESULT = 1.30497627323\n",
      "OK\n",
      "3LsG11\n",
      "EXPECTED = 1.25\n",
      "RESULT = 1.24766720836\n",
      "OK\n",
      "3LsG12\n",
      "EXPECTED = 1.2\n",
      "RESULT = 1.19818735815\n",
      "OK\n",
      "3LsG13\n",
      "EXPECTED = 1.16\n",
      "RESULT = 1.15499332829\n",
      "OK\n",
      "3LsG14\n",
      "EXPECTED = 1.12\n",
      "RESULT = 1.11692938854\n",
      "OK\n",
      "3LsG15\n",
      "EXPECTED = 1.08\n",
      "RESULT = 1.08311157712\n",
      "OK\n",
      "3LsG16\n",
      "EXPECTED = 1.07\n",
      "RESULT = 1.06726040962\n",
      "OK\n",
      "3LgA06\n",
      "EXPECTED = 1.96\n",
      "RESULT = 1.95716949304\n",
      "OK\n",
      "3LgA07\n",
      "EXPECTED = 1.82\n",
      "RESULT = 1.81552917169\n",
      "OK\n",
      "3LgA08\n",
      "EXPECTED = 1.7\n",
      "RESULT = 1.7006428396\n",
      "OK\n",
      "3LgA09\n",
      "EXPECTED = 1.61\n",
      "RESULT = 1.6053381787\n",
      "OK\n",
      "3LgA10\n",
      "EXPECTED = 1.53\n",
      "RESULT = 1.52483570414\n",
      "OK\n",
      "3LgA11\n",
      "EXPECTED = 1.46\n",
      "RESULT = 1.45582041216\n",
      "OK\n",
      "3LgA12\n",
      "EXPECTED = 1.4\n",
      "RESULT = 1.39591604825\n",
      "OK\n",
      "3LgA13\n",
      "EXPECTED = 1.34\n",
      "RESULT = 1.34337165345\n",
      "OK\n",
      "3LgA14\n",
      "EXPECTED = 1.3\n",
      "RESULT = 1.29686647307\n",
      "OK\n",
      "3LgA15\n",
      "EXPECTED = 1.26\n",
      "RESULT = 1.25538403115\n",
      "OK\n",
      "3LgA16\n",
      "EXPECTED = 1.22\n",
      "RESULT = 1.21812826804\n",
      "OK\n",
      "3LsA06\n",
      "EXPECTED = 1.96\n",
      "RESULT = 1.95716949304\n",
      "OK\n",
      "3LsA07\n",
      "EXPECTED = 1.82\n",
      "RESULT = 1.81552917169\n",
      "OK\n",
      "3LsA08\n",
      "EXPECTED = 1.7\n",
      "RESULT = 1.7006428396\n",
      "OK\n",
      "3LsA09\n",
      "EXPECTED = 1.61\n",
      "RESULT = 1.6053381787\n",
      "OK\n",
      "3LsA10\n",
      "EXPECTED = 1.53\n",
      "RESULT = 1.52483570414\n",
      "OK\n",
      "3LsA11\n",
      "EXPECTED = 1.46\n",
      "RESULT = 1.45582041216\n",
      "OK\n",
      "3LsA12\n",
      "EXPECTED = 1.4\n",
      "RESULT = 1.39591604825\n",
      "OK\n",
      "3LsA13\n",
      "EXPECTED = 1.34\n",
      "RESULT = 1.34337165345\n",
      "OK\n",
      "3LsA14\n",
      "EXPECTED = 1.3\n",
      "RESULT = 1.29686647307\n",
      "OK\n",
      "3LsA15\n",
      "EXPECTED = 1.26\n",
      "RESULT = 1.25538403115\n",
      "OK\n",
      "3LsA16\n",
      "EXPECTED = 1.22\n",
      "RESULT = 1.21812826804\n",
      "OK\n",
      "3FA06\n",
      "EXPECTED = 2.32\n",
      "RESULT = 2.32058438988\n",
      "OK\n",
      "3FA07\n",
      "EXPECTED = 2.21\n",
      "RESULT = 2.21288227907\n",
      "OK\n",
      "3FA08\n",
      "EXPECTED = 2.13\n",
      "RESULT = 2.12754896327\n",
      "OK\n",
      "3FA09\n",
      "EXPECTED = 2.06\n",
      "RESULT = 2.05827111438\n",
      "OK\n",
      "3FA10\n",
      "EXPECTED = 2\n",
      "RESULT = 2.00090698697\n",
      "OK\n",
      "3FA11\n",
      "EXPECTED = 1.95\n",
      "RESULT = 1.95262663616\n",
      "OK\n",
      "3FA12\n",
      "EXPECTED = 1.91\n",
      "RESULT = 1.91143066099\n",
      "OK\n",
      "3FA13\n",
      "EXPECTED = 1.88\n",
      "RESULT = 1.87586633729\n",
      "OK\n",
      "3FA14\n",
      "EXPECTED = 1.84\n",
      "RESULT = 1.8448527287\n",
      "OK\n",
      "3FA15\n",
      "EXPECTED = 1.82\n",
      "RESULT = 1.81756890018\n",
      "OK\n",
      "3FA16\n",
      "EXPECTED = 1.79\n",
      "RESULT = 1.79338017764\n",
      "OK\n",
      "2LgG06\n",
      "EXPECTED = 2.23\n",
      "RESULT = 2.23358682943\n",
      "OK\n",
      "2LgG07\n",
      "EXPECTED = 2.06\n",
      "RESULT = 2.06306555053\n",
      "OK\n",
      "2LgG08\n",
      "EXPECTED = 1.92\n",
      "RESULT = 1.92418221486\n",
      "OK\n",
      "2LgG09\n",
      "EXPECTED = 1.81\n",
      "RESULT = 1.80887616484\n",
      "OK\n",
      "2LgG10\n",
      "EXPECTED = 1.71\n",
      "RESULT = 1.71161147554\n",
      "OK\n",
      "2LgG11\n",
      "EXPECTED = 1.63\n",
      "RESULT = 1.628459989\n",
      "OK\n",
      "2LgG12\n",
      "EXPECTED = 1.56\n",
      "RESULT = 1.55655702028\n",
      "OK\n",
      "2LgG13\n",
      "EXPECTED = 1.49\n",
      "RESULT = 1.49376420506\n",
      "OK\n",
      "2LgG14\n",
      "EXPECTED = 1.44\n",
      "RESULT = 1.43845298732\n",
      "OK\n",
      "2LgG15\n",
      "EXPECTED = 1.42\n",
      "RESULT = 1.4145841263\n",
      "OK\n",
      "2LgG16\n",
      "EXPECTED = 1.42\n",
      "RESULT = 1.42068253008\n",
      "OK\n",
      "2LsG06\n",
      "EXPECTED = 2.23\n",
      "RESULT = 2.23358682943\n",
      "OK\n",
      "2LsG07\n",
      "EXPECTED = 2.06\n",
      "RESULT = 2.06306555053\n",
      "OK\n",
      "2LsG08\n",
      "EXPECTED = 1.92\n",
      "RESULT = 1.92418221486\n",
      "OK\n",
      "2LsG09\n",
      "EXPECTED = 1.81\n",
      "RESULT = 1.80887616484\n",
      "OK\n",
      "2LsG10\n",
      "EXPECTED = 1.71\n",
      "RESULT = 1.71161147554\n",
      "OK\n",
      "2LsG11\n",
      "EXPECTED = 1.63\n",
      "RESULT = 1.628459989\n",
      "OK\n",
      "2LsG12\n",
      "EXPECTED = 1.56\n",
      "RESULT = 1.55655702028\n",
      "OK\n",
      "2LsG13\n",
      "EXPECTED = 1.49\n",
      "RESULT = 1.49376420506\n",
      "OK\n",
      "2LsG14\n",
      "EXPECTED = 1.44\n",
      "RESULT = 1.43845298732\n",
      "OK\n",
      "2LsG15\n",
      "EXPECTED = 1.42\n",
      "RESULT = 1.4145841263\n",
      "OK\n",
      "2LsG16\n",
      "EXPECTED = 1.42\n",
      "RESULT = 1.42068253008\n",
      "OK\n",
      "2LgA06\n",
      "EXPECTED = 2.62\n",
      "RESULT = 2.62178507443\n",
      "OK\n",
      "2LgA07\n",
      "EXPECTED = 2.43\n",
      "RESULT = 2.43214892379\n",
      "OK\n",
      "2LgA08\n",
      "EXPECTED = 2.28\n",
      "RESULT = 2.27455724315\n",
      "OK\n",
      "2LgA09\n",
      "EXPECTED = 2.14\n",
      "RESULT = 2.14151541454\n",
      "OK\n",
      "2LgA10\n",
      "EXPECTED = 2.03\n",
      "RESULT = 2.02769821613\n",
      "OK\n",
      "2LgA11\n",
      "EXPECTED = 1.93\n",
      "RESULT = 1.92921747141\n",
      "OK\n",
      "2LgA12\n",
      "EXPECTED = 1.84\n",
      "RESULT = 1.84316773512\n",
      "OK\n",
      "2LgA13\n",
      "EXPECTED = 1.77\n",
      "RESULT = 1.76733414903\n",
      "OK\n",
      "2LgA14\n",
      "EXPECTED = 1.7\n",
      "RESULT = 1.69999870166\n",
      "OK\n",
      "2LgA15\n",
      "EXPECTED = 1.64\n",
      "RESULT = 1.63980826593\n",
      "OK\n",
      "2LgA16\n",
      "EXPECTED = 1.61\n",
      "RESULT = 1.60853818454\n",
      "OK\n",
      "2LsA06\n",
      "EXPECTED = 2.62\n",
      "RESULT = 2.62178507443\n",
      "OK\n",
      "2LsA07\n",
      "EXPECTED = 2.43\n",
      "RESULT = 2.43214892379\n",
      "OK\n",
      "2LsA08\n",
      "EXPECTED = 2.28\n",
      "RESULT = 2.27455724315\n",
      "OK\n",
      "2LsA09\n",
      "EXPECTED = 2.14\n",
      "RESULT = 2.14151541454\n",
      "OK\n",
      "2LsA10\n",
      "EXPECTED = 2.03\n",
      "RESULT = 2.02769821613\n",
      "OK\n",
      "2LsA11\n",
      "EXPECTED = 1.93\n",
      "RESULT = 1.92921747141\n",
      "OK\n",
      "2LsA12\n",
      "EXPECTED = 1.84\n",
      "RESULT = 1.84316773512\n",
      "OK\n",
      "2LsA13\n",
      "EXPECTED = 1.77\n",
      "RESULT = 1.76733414903\n",
      "OK\n",
      "2LsA14\n",
      "EXPECTED = 1.7\n",
      "RESULT = 1.69999870166\n",
      "OK\n",
      "2LsA15\n",
      "EXPECTED = 1.64\n",
      "RESULT = 1.63980826593\n",
      "OK\n",
      "2LsA16\n",
      "EXPECTED = 1.61\n",
      "RESULT = 1.60853818454\n",
      "OK\n",
      "2FA06\n",
      "EXPECTED = 3.33\n",
      "RESULT = 3.33241869815\n",
      "OK\n",
      "2FA07\n",
      "EXPECTED = 3.22\n",
      "RESULT = 3.21910762726\n",
      "OK\n",
      "2FA08\n",
      "EXPECTED = 3.13\n",
      "RESULT = 3.12719630949\n",
      "OK\n",
      "2FA09\n",
      "EXPECTED = 3.05\n",
      "RESULT = 3.05114610072\n",
      "OK\n",
      "2FA10\n",
      "EXPECTED = 2.99\n",
      "RESULT = 2.98717773771\n",
      "OK\n",
      "2FA11\n",
      "EXPECTED = 2.93\n",
      "RESULT = 2.93262418696\n",
      "OK\n",
      "2FA12\n",
      "EXPECTED = 2.89\n",
      "RESULT = 2.8855495514\n",
      "OK\n",
      "2FA13\n",
      "EXPECTED = 2.84\n",
      "RESULT = 2.84451461248\n",
      "OK\n",
      "2FA14\n",
      "EXPECTED = 2.81\n",
      "RESULT = 2.80842715236\n",
      "OK\n",
      "2FA15\n",
      "EXPECTED = 2.78\n",
      "RESULT = 2.77644332474\n",
      "OK\n",
      "2FA16\n",
      "EXPECTED = 2.75\n",
      "RESULT = 2.74790085531\n",
      "OK\n",
      "T\n",
      "EXPECTED = 5.95\n",
      "RESULT = 5.951372879113934\n",
      "OK\n",
      "Number of OK is 155\n",
      "Number of NG is 0\n"
     ]
    }
   ],
   "source": [
    "with open('Ug.csv', 'r') as f:\n",
    "    reader = csv.reader(f)\n",
    "    header = next(reader)\n",
    "    OKNum = 0\n",
    "    NGNum = 0\n",
    "    \n",
    "    for row in reader:\n",
    "        print( row[0] )\n",
    "        expected = row[1]\n",
    "        print( 'EXPECTED = ' + str(expected) )\n",
    "        result = getThermalTransmittanceLabelling(row[0])\n",
    "        print( 'RESULT = ' + str(result) )\n",
    "        if abs( result - float(expected) ) < 0.01:\n",
    "            print ('OK')\n",
    "            OKNum += 1\n",
    "        else:\n",
    "            print ('NG')\n",
    "            NGNum += 1\n",
    "    print ('Number of OK is ' + str(OKNum) )\n",
    "    print ('Number of NG is ' + str(NGNum) )    "
   ]
  },
  {
   "cell_type": "code",
   "execution_count": null,
   "metadata": {
    "collapsed": true
   },
   "outputs": [],
   "source": []
  }
 ],
 "metadata": {
  "kernelspec": {
   "display_name": "Python 3",
   "language": "python",
   "name": "python3"
  },
  "language_info": {
   "codemirror_mode": {
    "name": "ipython",
    "version": 3
   },
   "file_extension": ".py",
   "mimetype": "text/x-python",
   "name": "python",
   "nbconvert_exporter": "python",
   "pygments_lexer": "ipython3",
   "version": "3.6.2"
  }
 },
 "nbformat": 4,
 "nbformat_minor": 2
}
