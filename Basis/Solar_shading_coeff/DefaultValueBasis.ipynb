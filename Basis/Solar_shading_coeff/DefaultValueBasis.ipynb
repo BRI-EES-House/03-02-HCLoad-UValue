{
 "cells": [
  {
   "cell_type": "code",
   "execution_count": 1,
   "metadata": {
    "collapsed": false
   },
   "outputs": [
    {
     "name": "stdout",
     "output_type": "stream",
     "text": [
      "Importing Jupyter notebook from fvalue.ipynb\n"
     ]
    }
   ],
   "source": [
    "import nbimporter\n",
    "from fvalue import f1f2Value\n",
    "import math\n",
    "from decimal import *"
   ]
  },
  {
   "cell_type": "markdown",
   "metadata": {},
   "source": [
    "# 日除け補正係数のデフォルト値"
   ]
  },
  {
   "cell_type": "markdown",
   "metadata": {},
   "source": [
    "## 冷房期  "
   ]
  },
  {
   "cell_type": "markdown",
   "metadata": {},
   "source": [
    "冷房期は、日射取得効果による影響の大きい8地域を念頭に、最悪値となる天窓の値である0.93を採用。"
   ]
  },
  {
   "cell_type": "markdown",
   "metadata": {},
   "source": [
    "## 暖房期"
   ]
  },
  {
   "cell_type": "markdown",
   "metadata": {},
   "source": [
    "暖房期は、下記前提で詳細式により算出。"
   ]
  },
  {
   "cell_type": "markdown",
   "metadata": {},
   "source": [
    "詳細算出式  \n",
    "$$ f = \\frac { f_2 \\times ( y_1 + y_2 ) - f_1 \\times  y_1 }{ y_2 } \\tag{1} $$\n",
    "$$ l_1 = \\frac{y_1}{z} \\tag{4a} $$\n",
    "$$ l_2 = \\frac{y_1 + y_2}{z} \\tag{4b} $$"
   ]
  },
  {
   "cell_type": "markdown",
   "metadata": {},
   "source": [
    "ここで、  \n",
    "$y_1$: 日除け下端から窓上端までの垂直方向の距離(㎜)  \n",
    "$y_2$: 窓の開口高さ寸法(㎜)  \n",
    "$z$: 壁面からの日除けの張り出し寸法(ひさし等のオーバーハング型日除けの出寸法は壁表面から先端までの寸法とする)(㎜)  \n",
    "$f_1$、$f_2$: 式(4)により定義される$l_1$及び$l_2$をパラメーターとして、地域の区分及びガラスの仕様の区分に応じ、データ「取得日射量補正係数」より算出した値である。$l_1$又は$l_2$の値が表に定められてない場合、直近の上下の値を直線補完し補正係数を求めることとする。なお、$l_1$又は$l_2$の値が20を超える場合は、20として定められた値を用いる。  \n",
    "上式において、一般的な共同住宅仕様で、日射取得効果による影響の大きい1地域を念頭に以下の値及び仕様を設定し、計算した。"
   ]
  },
  {
   "cell_type": "markdown",
   "metadata": {},
   "source": [
    "| 記号 | 値 | 備考 |\n",
    "| --- | --- | --- |\n",
    "| $y_1$ | 500㎜ | 階高2,850㎜、スラブ厚150㎜、SL～FL100㎜ |\n",
    "| $y_2$ | 2,100㎜ | 窓南向き(金属枠、普通複層A6) |\n",
    "| $z$ | 2,000㎜ | 基準法延べ面積不算入限界値 |"
   ]
  },
  {
   "cell_type": "code",
   "execution_count": 2,
   "metadata": {
    "collapsed": true
   },
   "outputs": [],
   "source": [
    "y_1 = 500\n",
    "y_2 = 2100\n",
    "z = 2000"
   ]
  },
  {
   "cell_type": "markdown",
   "metadata": {},
   "source": [
    "$l_1 = 500 \\div 2000 = 0.25$  "
   ]
  },
  {
   "cell_type": "code",
   "execution_count": 3,
   "metadata": {
    "collapsed": false
   },
   "outputs": [
    {
     "name": "stdout",
     "output_type": "stream",
     "text": [
      "0.25\n"
     ]
    }
   ],
   "source": [
    "l_1 = 500 / 2000\n",
    "print(l_1)"
   ]
  },
  {
   "cell_type": "markdown",
   "metadata": {},
   "source": [
    "$l_2 = (500 + 2100) \\div 2000 = 1.30$  "
   ]
  },
  {
   "cell_type": "code",
   "execution_count": 4,
   "metadata": {
    "collapsed": false
   },
   "outputs": [
    {
     "name": "stdout",
     "output_type": "stream",
     "text": [
      "1.3\n"
     ]
    }
   ],
   "source": [
    "l_2 = (500 + 2100)/2000\n",
    "print(l_2)"
   ]
  },
  {
   "cell_type": "markdown",
   "metadata": {},
   "source": [
    "よって、数表から  \n",
    "$f_1=0.075$ (暖房)  \n",
    "なお、普通複層はType2"
   ]
  },
  {
   "cell_type": "code",
   "execution_count": 5,
   "metadata": {
    "collapsed": true
   },
   "outputs": [],
   "source": [
    "d = f1f2Value()"
   ]
  },
  {
   "cell_type": "code",
   "execution_count": 6,
   "metadata": {
    "collapsed": false
   },
   "outputs": [
    {
     "name": "stdout",
     "output_type": "stream",
     "text": [
      "0.075\n"
     ]
    }
   ],
   "source": [
    "f_1 = round(d.getValue(glassType = 'Type2', season = 'Heating', region = 'region1', direction = 'S', lValue = 0.25),3)\n",
    "print(f_1)"
   ]
  },
  {
   "cell_type": "markdown",
   "metadata": {},
   "source": [
    "$f_2=0.432$ (暖房)  "
   ]
  },
  {
   "cell_type": "code",
   "execution_count": 7,
   "metadata": {
    "collapsed": false
   },
   "outputs": [
    {
     "name": "stdout",
     "output_type": "stream",
     "text": [
      "0.431\n"
     ]
    }
   ],
   "source": [
    "f_2 = round(d.getValue(glassType = 'Type2', season = 'Heating', region = 'region1', direction = 'S', lValue = 1.3),3)\n",
    "print(f_2)"
   ]
  },
  {
   "cell_type": "markdown",
   "metadata": {},
   "source": [
    "$f_{H,i}=(0.432 \\times (500+2100) - 0.075 \\times500 )\\div2100=0.516 \\simeq 0.51$  "
   ]
  },
  {
   "cell_type": "code",
   "execution_count": 8,
   "metadata": {
    "collapsed": false
   },
   "outputs": [
    {
     "name": "stdout",
     "output_type": "stream",
     "text": [
      "0.5157619047619048\n",
      "0.51\n"
     ]
    }
   ],
   "source": [
    "f_H_i =  ( f_2 * ( y_1 + y_2) - f_1 * y_1 ) / y_2\n",
    "print(f_H_i)\n",
    "print(Decimal(f_H_i).quantize(Decimal('0.01'), rounding=ROUND_DOWN))"
   ]
  },
  {
   "cell_type": "code",
   "execution_count": null,
   "metadata": {
    "collapsed": true
   },
   "outputs": [],
   "source": []
  }
 ],
 "metadata": {
  "kernelspec": {
   "display_name": "Python 3",
   "language": "python",
   "name": "python3"
  },
  "language_info": {
   "codemirror_mode": {
    "name": "ipython",
    "version": 3
   },
   "file_extension": ".py",
   "mimetype": "text/x-python",
   "name": "python",
   "nbconvert_exporter": "python",
   "pygments_lexer": "ipython3",
   "version": "3.6.2"
  }
 },
 "nbformat": 4,
 "nbformat_minor": 2
}
