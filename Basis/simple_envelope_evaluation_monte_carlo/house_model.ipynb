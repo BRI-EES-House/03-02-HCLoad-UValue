{
 "cells": [
  {
   "cell_type": "code",
   "execution_count": 1,
   "metadata": {},
   "outputs": [],
   "source": [
    "import numpy as np\n",
    "import matplotlib.pyplot as plt\n",
    "import json"
   ]
  },
  {
   "cell_type": "markdown",
   "metadata": {},
   "source": [
    "# 書き出し用辞書"
   ]
  },
  {
   "cell_type": "markdown",
   "metadata": {},
   "source": [
    "検討結果書き出し用の辞書ファイル"
   ]
  },
  {
   "cell_type": "code",
   "execution_count": 2,
   "metadata": {},
   "outputs": [],
   "source": [
    "result = {}"
   ]
  },
  {
   "cell_type": "markdown",
   "metadata": {},
   "source": [
    "# 発生戸数"
   ]
  },
  {
   "cell_type": "code",
   "execution_count": 3,
   "metadata": {},
   "outputs": [],
   "source": [
    "n = 10000"
   ]
  },
  {
   "cell_type": "markdown",
   "metadata": {},
   "source": [
    "# 階数"
   ]
  },
  {
   "cell_type": "markdown",
   "metadata": {},
   "source": [
    "<img src=\"figure/storeys.png\" width = \"50%\" height = \"50%\">"
   ]
  },
  {
   "cell_type": "code",
   "execution_count": 4,
   "metadata": {},
   "outputs": [],
   "source": [
    "def get_story_prop():\n",
    "    \n",
    "    r12 = np.array([1400, 13800, 300])\n",
    "    r3 = np.array([1700, 10500, 0])\n",
    "    r4= np.array([3500, 38600, 900])\n",
    "    r56 = np.array([19800, 283300, 14400])\n",
    "    r7 = np.array([4600, 4300, 100])\n",
    "    r8 = np.array([1100, 1100, 100])\n",
    "    \n",
    "    gp1 = r12\n",
    "    gp2 = r3 + r4\n",
    "    gp3 = r56 + r7\n",
    "    gp4 = r8\n",
    "    \n",
    "    return (\n",
    "        gp1/np.sum(gp1),\n",
    "        gp2/np.sum(gp2),\n",
    "        gp3/np.sum(gp3),\n",
    "        gp4/np.sum(gp4),\n",
    "    )"
   ]
  },
  {
   "cell_type": "code",
   "execution_count": 5,
   "metadata": {},
   "outputs": [],
   "source": [
    "story_prop_gp1, story_prop_gp2, story_prop_gp3, story_prop_gp4 = get_story_prop()"
   ]
  },
  {
   "cell_type": "code",
   "execution_count": 6,
   "metadata": {},
   "outputs": [],
   "source": [
    "def draw_story_hist(ax, story_prop, title):\n",
    "    story = np.random.choice(a=[1,2,3], size=n, p=story_prop)\n",
    "    c = np.array([np.count_nonzero(story == 1), np.count_nonzero(story == 2), np.count_nonzero(story == 3)])\n",
    "    ax.bar(x=[1,2,3], height=c/n, tick_label=[1,2,3])\n",
    "    ax.set_ylim([0,1])\n",
    "    ax.set_title(title)"
   ]
  },
  {
   "cell_type": "code",
   "execution_count": 7,
   "metadata": {
    "scrolled": true
   },
   "outputs": [
    {
     "data": {
      "image/png": "[encoded data removed]",
      "text/plain": [
       "<Figure size 864x504 with 4 Axes>"
      ]
     },
     "metadata": {},
     "output_type": "display_data"
    }
   ],
   "source": [
    "fig = plt.figure(figsize=(12,7))\n",
    "    \n",
    "ax1 = fig.add_subplot(2,2,1)\n",
    "draw_story_hist(ax1, story_prop_gp1, 'region 1,2')\n",
    "\n",
    "ax2 = fig.add_subplot(2,2,2)\n",
    "draw_story_hist(ax2, story_prop_gp2, 'region 3, 4')\n",
    "\n",
    "ax3 = fig.add_subplot(2,2,3)\n",
    "draw_story_hist(ax3, story_prop_gp3, 'region 5, 6, 7')\n",
    "\n",
    "ax4 = fig.add_subplot(2,2,4)\n",
    "draw_story_hist(ax4, story_prop_gp4, 'region 8')\n",
    "\n",
    "plt.show()"
   ]
  },
  {
   "cell_type": "code",
   "execution_count": 8,
   "metadata": {},
   "outputs": [],
   "source": [
    "result['story'] = {\n",
    "    'a': [1,2,3],\n",
    "    'p': {\n",
    "        'group_1': list(story_prop_gp1),\n",
    "        'group_2': list(story_prop_gp2),\n",
    "        'group_3': list(story_prop_gp3),\n",
    "        'group_4': list(story_prop_gp4),\n",
    "    }\n",
    "}"
   ]
  },
  {
   "cell_type": "markdown",
   "metadata": {},
   "source": [
    "# 延床面積"
   ]
  },
  {
   "cell_type": "markdown",
   "metadata": {},
   "source": [
    "<img src=\"figure/floor_area.png\" width = \"30%\" height = \"30%\">"
   ]
  },
  {
   "cell_type": "code",
   "execution_count": 9,
   "metadata": {},
   "outputs": [],
   "source": [
    "def get_floor_area_hist():\n",
    "    \n",
    "    bins = np.array([65, 75, 85, 95, 105, 115, 125, 135, 145, 155, 165, 175, 185, 245, 300])\n",
    "    freq = np.array([12, 18, 29, 50, 65, 82, 74, 56, 32, 24, 16, 13, 10, 22, 2])\n",
    "    \n",
    "    return bins, freq"
   ]
  },
  {
   "cell_type": "code",
   "execution_count": 10,
   "metadata": {},
   "outputs": [],
   "source": [
    "floor_area_bins, floor_area_freq = get_floor_area_hist()"
   ]
  },
  {
   "cell_type": "code",
   "execution_count": 11,
   "metadata": {
    "scrolled": true
   },
   "outputs": [
    {
     "data": {
      "image/png": "[encoded data removed]",
      "text/plain": [
       "<Figure size 432x288 with 1 Axes>"
      ]
     },
     "metadata": {},
     "output_type": "display_data"
    }
   ],
   "source": [
    "plt.bar(floor_area_bins, floor_area_freq)\n",
    "plt.show()"
   ]
  },
  {
   "cell_type": "code",
   "execution_count": 12,
   "metadata": {},
   "outputs": [
    {
     "data": {
      "image/png": "[encoded data removed]",
      "text/plain": [
       "<Figure size 432x288 with 1 Axes>"
      ]
     },
     "metadata": {},
     "output_type": "display_data"
    }
   ],
   "source": [
    "floor_area = np.concatenate([np.tile(b, f) for b, f in zip(floor_area_bins, floor_area_freq)])\n",
    "plt.hist(floor_area)\n",
    "plt.show()"
   ]
  },
  {
   "cell_type": "code",
   "execution_count": 13,
   "metadata": {},
   "outputs": [],
   "source": [
    "floor_area_log_ave = np.average(np.log(floor_area))\n",
    "floor_area_log_var = np.var(np.log(floor_area))\n",
    "floor_area_log_std = np.std(np.log(floor_area))\n",
    "floor_area_stat = np.exp(np.random.normal(floor_area_log_ave, floor_area_log_std, n))"
   ]
  },
  {
   "cell_type": "code",
   "execution_count": 14,
   "metadata": {},
   "outputs": [
    {
     "data": {
      "image/png": "[encoded data removed]",
      "text/plain": [
       "<Figure size 432x288 with 1 Axes>"
      ]
     },
     "metadata": {},
     "output_type": "display_data"
    }
   ],
   "source": [
    "plt.hist(floor_area, range=[0,300], alpha=0.3, density=True, bins=30, label= 'real')\n",
    "plt.hist(floor_area_stat, range=[0,300], alpha=0.3, density=True, bins=30, label = 'estimated')\n",
    "plt.legend()\n",
    "plt.show()"
   ]
  },
  {
   "cell_type": "code",
   "execution_count": 15,
   "metadata": {},
   "outputs": [],
   "source": [
    "result['floor_area'] = {\n",
    "    'log_ave': floor_area_log_ave,\n",
    "    'log_std': floor_area_log_std,\n",
    "}"
   ]
  },
  {
   "cell_type": "markdown",
   "metadata": {},
   "source": [
    "# アスペクト比（✕形状係数）"
   ]
  },
  {
   "cell_type": "markdown",
   "metadata": {},
   "source": [
    "<img src=\"figure/aspect_ratio.png\" width = \"30%\" height = \"30%\">"
   ]
  },
  {
   "cell_type": "code",
   "execution_count": 16,
   "metadata": {
    "scrolled": true
   },
   "outputs": [],
   "source": [
    "def get_aspect_ratio_hist():\n",
    "    \n",
    "    bins = np.array([0.9, 1.1, 1.3, 1.5, 1.7, 1.9, 2.1, 2.3, 2.5, 2.7, 2.9, 3.1])\n",
    "    freq = np.array([24, 110, 144, 87, 62, 41, 12, 8, 7, 3, 1, 6])\n",
    "    \n",
    "    return bins, freq"
   ]
  },
  {
   "cell_type": "code",
   "execution_count": 17,
   "metadata": {},
   "outputs": [],
   "source": [
    "aspect_ratio_bins, aspect_ratio_freq = get_aspect_ratio_hist()"
   ]
  },
  {
   "cell_type": "code",
   "execution_count": 18,
   "metadata": {},
   "outputs": [
    {
     "data": {
      "image/png": "[encoded data removed]",
      "text/plain": [
       "<Figure size 432x288 with 1 Axes>"
      ]
     },
     "metadata": {},
     "output_type": "display_data"
    }
   ],
   "source": [
    "plt.bar(aspect_ratio_bins, aspect_ratio_freq, width=0.1)\n",
    "plt.show()"
   ]
  },
  {
   "cell_type": "code",
   "execution_count": 19,
   "metadata": {},
   "outputs": [
    {
     "data": {
      "image/png": "[encoded data removed]",
      "text/plain": [
       "<Figure size 432x288 with 1 Axes>"
      ]
     },
     "metadata": {},
     "output_type": "display_data"
    }
   ],
   "source": [
    "aspect_ratio = np.concatenate([np.tile(b, f) for b, f in zip(aspect_ratio_bins, aspect_ratio_freq)])\n",
    "plt.hist(aspect_ratio, bins=22)\n",
    "plt.show()"
   ]
  },
  {
   "cell_type": "code",
   "execution_count": 20,
   "metadata": {},
   "outputs": [],
   "source": [
    "aspect_ratio_log_ave = np.average(np.log(aspect_ratio))\n",
    "aspect_ratio_log_std = np.std(np.log(aspect_ratio))\n",
    "aspect_ratio_stat = np.exp(np.random.normal(aspect_ratio_log_ave, aspect_ratio_log_std, n))"
   ]
  },
  {
   "cell_type": "code",
   "execution_count": 21,
   "metadata": {},
   "outputs": [
    {
     "data": {
      "image/png": "[encoded data removed]",
      "text/plain": [
       "<Figure size 432x288 with 1 Axes>"
      ]
     },
     "metadata": {},
     "output_type": "display_data"
    }
   ],
   "source": [
    "plt.hist(aspect_ratio, range=[0,3.2], alpha=0.3, density=True, bins=16, label= 'real')\n",
    "plt.hist(aspect_ratio_stat, range=[0,3.2], alpha=0.3, density=True, bins=16, label = 'estimated')\n",
    "plt.legend()\n",
    "plt.show()"
   ]
  },
  {
   "cell_type": "code",
   "execution_count": 22,
   "metadata": {},
   "outputs": [],
   "source": [
    "result['aspect_ratio'] = {\n",
    "    'log_ave': aspect_ratio_log_ave,\n",
    "    'log_std': aspect_ratio_log_std,\n",
    "}"
   ]
  },
  {
   "cell_type": "markdown",
   "metadata": {},
   "source": [
    "# 主開口方位"
   ]
  },
  {
   "cell_type": "markdown",
   "metadata": {},
   "source": [
    "<img src=\"figure/direction_1.png\" width = \"30%\" height = \"30%\">"
   ]
  },
  {
   "cell_type": "markdown",
   "metadata": {},
   "source": [
    "<img src=\"figure/direction_2.png\" width = \"45%\" height = \"45%\">"
   ]
  },
  {
   "cell_type": "code",
   "execution_count": 23,
   "metadata": {},
   "outputs": [],
   "source": [
    "direction_hist = np.array([3, 8, 15, 83, 287, 92, 9, 8])"
   ]
  },
  {
   "cell_type": "code",
   "execution_count": 24,
   "metadata": {},
   "outputs": [
    {
     "data": {
      "text/plain": [
       "array([0.00594059, 0.01584158, 0.02970297, 0.16435644, 0.56831683,\n",
       "       0.18217822, 0.01782178, 0.01584158])"
      ]
     },
     "execution_count": 24,
     "metadata": {},
     "output_type": "execute_result"
    }
   ],
   "source": [
    "direction_prop = direction_hist / np.sum(direction_hist)\n",
    "direction_prop"
   ]
  },
  {
   "cell_type": "code",
   "execution_count": 25,
   "metadata": {},
   "outputs": [],
   "source": [
    "result['direction'] = {\n",
    "    'a': ['n', 'ne', 'e', 'se', 's', 'sw', 'w', 'nw'],\n",
    "    'p': list(direction_prop)\n",
    "}"
   ]
  },
  {
   "cell_type": "markdown",
   "metadata": {},
   "source": [
    "# 開口部面積比率"
   ]
  },
  {
   "cell_type": "markdown",
   "metadata": {},
   "source": [
    "<img src=\"figure/opening_ratio_1.png\" width = \"40%\" height = \"40%\">"
   ]
  },
  {
   "cell_type": "markdown",
   "metadata": {},
   "source": [
    "<img src=\"figure/opening_ratio_2.png\" width = \"60%\" height = \"30%\">"
   ]
  },
  {
   "cell_type": "code",
   "execution_count": 26,
   "metadata": {},
   "outputs": [],
   "source": [
    "opening_ratio_bins = np.array([4.5, 5.5, 6.5, 7.5, 8.5, 9.5, 10.5, 11.5, 12.5, 13.5, 14.5, 15.5, 16.5, 17.5])\n",
    "opening_ratio_freq = np.array([5, 17, 45, 74, 119, 80, 75, 42, 24, 8, 8, 5, 0, 3])"
   ]
  },
  {
   "cell_type": "code",
   "execution_count": 27,
   "metadata": {},
   "outputs": [
    {
     "data": {
      "image/png": "[encoded data removed]",
      "text/plain": [
       "<Figure size 432x288 with 1 Axes>"
      ]
     },
     "metadata": {},
     "output_type": "display_data"
    }
   ],
   "source": [
    "opening_ratio = np.concatenate([np.tile(b, f) for b, f in zip(opening_ratio_bins, opening_ratio_freq)])\n",
    "plt.hist(opening_ratio, bins=14)\n",
    "plt.show()"
   ]
  },
  {
   "cell_type": "code",
   "execution_count": 28,
   "metadata": {},
   "outputs": [],
   "source": [
    "opening_ratio_log_ave = np.average(np.log(opening_ratio))\n",
    "opening_ratio_log_std = np.std(np.log(opening_ratio))\n",
    "opening_ratio_stat = np.exp(np.random.normal(opening_ratio_log_ave, opening_ratio_log_std, n))"
   ]
  },
  {
   "cell_type": "code",
   "execution_count": 29,
   "metadata": {},
   "outputs": [
    {
     "data": {
      "image/png": "[encoded data removed]",
      "text/plain": [
       "<Figure size 432x288 with 1 Axes>"
      ]
     },
     "metadata": {},
     "output_type": "display_data"
    }
   ],
   "source": [
    "plt.hist(opening_ratio, range=[4.5,17.5], alpha=0.3, density=True, bins=14, label= 'real')\n",
    "plt.hist(opening_ratio_stat, range=[4.5,17.5], alpha=0.3, density=True, bins=14, label = 'estimated')\n",
    "plt.legend()\n",
    "plt.show()"
   ]
  },
  {
   "cell_type": "code",
   "execution_count": 30,
   "metadata": {},
   "outputs": [],
   "source": [
    "result['opening_ratio'] = {\n",
    "    'log_ave': opening_ratio_log_ave,\n",
    "    'log_std': opening_ratio_log_std,\n",
    "}"
   ]
  },
  {
   "cell_type": "markdown",
   "metadata": {},
   "source": [
    "# 各特性の書き出し"
   ]
  },
  {
   "cell_type": "code",
   "execution_count": 31,
   "metadata": {},
   "outputs": [
    {
     "data": {
      "text/plain": [
       "{'story': {'a': [1, 2, 3],\n",
       "  'p': {'group_1': [0.09032258064516129,\n",
       "    0.8903225806451613,\n",
       "    0.01935483870967742],\n",
       "   'group_2': [0.09420289855072464, 0.8894927536231884, 0.016304347826086956],\n",
       "   'group_3': [0.07473200612557428, 0.8808575803981623, 0.0444104134762634],\n",
       "   'group_4': [0.4782608695652174, 0.4782608695652174, 0.043478260869565216]}},\n",
       " 'floor_area': {'log_ave': 4.795434569066554, 'log_std': 0.27356281805671834},\n",
       " 'aspect_ratio': {'log_ave': 0.34265303318546936,\n",
       "  'log_std': 0.24512178873989865},\n",
       " 'direction': {'a': ['n', 'ne', 'e', 'se', 's', 'sw', 'w', 'nw'],\n",
       "  'p': [0.005940594059405941,\n",
       "   0.015841584158415842,\n",
       "   0.0297029702970297,\n",
       "   0.16435643564356436,\n",
       "   0.5683168316831683,\n",
       "   0.18217821782178217,\n",
       "   0.01782178217821782,\n",
       "   0.015841584158415842]},\n",
       " 'opening_ratio': {'log_ave': 2.1953682377321915,\n",
       "  'log_std': 0.23210749319697407}}"
      ]
     },
     "execution_count": 31,
     "metadata": {},
     "output_type": "execute_result"
    }
   ],
   "source": [
    "result"
   ]
  },
  {
   "cell_type": "code",
   "execution_count": 33,
   "metadata": {},
   "outputs": [],
   "source": [
    "fw = open('house_spec.json', 'w')\n",
    "json.dump(result, fw, indent=4)"
   ]
  },
  {
   "cell_type": "code",
   "execution_count": null,
   "metadata": {},
   "outputs": [],
   "source": []
  }
 ],
 "metadata": {
  "kernelspec": {
   "display_name": "Python 3",
   "language": "python",
   "name": "python3"
  },
  "language_info": {
   "codemirror_mode": {
    "name": "ipython",
    "version": 3
   },
   "file_extension": ".py",
   "mimetype": "text/x-python",
   "name": "python",
   "nbconvert_exporter": "python",
   "pygments_lexer": "ipython3",
   "version": "3.6.4"
  },
  "toc": {
   "base_numbering": 1,
   "nav_menu": {},
   "number_sections": true,
   "sideBar": true,
   "skip_h1_title": false,
   "title_cell": "Table of Contents",
   "title_sidebar": "Contents",
   "toc_cell": false,
   "toc_position": {
    "height": "calc(100% - 180px)",
    "left": "10px",
    "top": "150px",
    "width": "256px"
   },
   "toc_section_display": true,
   "toc_window_display": false
  }
 },
 "nbformat": 4,
 "nbformat_minor": 2
}
