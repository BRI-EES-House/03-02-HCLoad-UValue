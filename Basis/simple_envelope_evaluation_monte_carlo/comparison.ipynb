{
 "cells": [
  {
   "cell_type": "code",
   "execution_count": 1,
   "metadata": {},
   "outputs": [],
   "source": [
    "import json"
   ]
  },
  {
   "cell_type": "code",
   "execution_count": 2,
   "metadata": {},
   "outputs": [],
   "source": [
    "f = open('envelope_spec.json', 'r')\n",
    "\n",
    "json_data = json.load(f)\n",
    "\n",
    "gp1 = json_data['group1']\n",
    "gp2 = json_data['group2']\n",
    "gp3 = json_data['group3']\n",
    "gp4 = json_data['group4']\n",
    "\n",
    "mean_gp1 = gp1['mean']\n",
    "mean_gp2 = gp2['mean']\n",
    "mean_gp3 = gp3['mean']\n",
    "mean_gp4 = gp4['mean']\n",
    "\n",
    "cov_gp1 = gp1['cov']\n",
    "cov_gp2 = gp2['cov']\n",
    "cov_gp3 = gp3['cov']\n",
    "cov_gp4 = gp4['cov']"
   ]
  },
  {
   "cell_type": "code",
   "execution_count": null,
   "metadata": {},
   "outputs": [],
   "source": []
  }
 ],
 "metadata": {
  "kernelspec": {
   "display_name": "Python 3",
   "language": "python",
   "name": "python3"
  },
  "language_info": {
   "codemirror_mode": {
    "name": "ipython",
    "version": 3
   },
   "file_extension": ".py",
   "mimetype": "text/x-python",
   "name": "python",
   "nbconvert_exporter": "python",
   "pygments_lexer": "ipython3",
   "version": "3.6.4"
  },
  "toc": {
   "base_numbering": 1,
   "nav_menu": {},
   "number_sections": true,
   "sideBar": true,
   "skip_h1_title": false,
   "title_cell": "Table of Contents",
   "title_sidebar": "Contents",
   "toc_cell": false,
   "toc_position": {},
   "toc_section_display": true,
   "toc_window_display": false
  }
 },
 "nbformat": 4,
 "nbformat_minor": 2
}
