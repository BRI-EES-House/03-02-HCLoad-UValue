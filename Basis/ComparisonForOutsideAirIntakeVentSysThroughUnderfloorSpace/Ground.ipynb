{
 "cells": [
  {
   "cell_type": "markdown",
   "metadata": {},
   "source": [
    "# 地盤の計算"
   ]
  },
  {
   "cell_type": "markdown",
   "metadata": {},
   "source": [
    "地盤表面の温度は以下の式で表される。"
   ]
  },
  {
   "cell_type": "markdown",
   "metadata": {},
   "source": [
    "$\n",
    "\\displaystyle\n",
    "T_{surf}(t) = \\phi_{A,0} \\times q (t) + \\sum_{m=1}^M T_{surf,A,m}' (t) + \\phi_{T,0} \\times T_g (t) + \\sum_{m=1}^M T_{surf,T,m}'(t)\n",
    "$"
   ]
  },
  {
   "cell_type": "markdown",
   "metadata": {},
   "source": [
    "$\n",
    "\\displaystyle\n",
    "T_{surf,A,m}'(t) = \\phi_{1,A,m} \\times q ( t - \\Delta t )+ r_m \\times T_{surf,A,m}'( t - \\Delta t )\n",
    "$"
   ]
  },
  {
   "cell_type": "markdown",
   "metadata": {},
   "source": [
    "$\n",
    "\\displaystyle\n",
    "T_{surf,T,m}'(t) = \\phi_{1,T,m} \\times T_g ( t - \\Delta t )+ r_m \\times T_{surf,T,m}'( t - \\Delta t )\n",
    "$"
   ]
  },
  {
   "cell_type": "markdown",
   "metadata": {},
   "source": [
    "$T_{surf}$: 土間表面温度, <sup>o</sup>C  \n",
    "$q$: 表面熱流, W m<sup>-2</sup>  \n",
    "$T_g$: 土壌の境界温度, <sup>o</sup>C  \n",
    "$\\phi_{A,0}$: 吸熱応答の初項, m<sup>2</sup> K W<sup>-1</sup>  \n",
    "$\\phi_{T,0}$: 貫流応答の初項  \n",
    "$\\phi_{1,A,m}$: 指数項別吸熱応答係数, m<sup>2</sup> K W<sup>-1</sup>  \n",
    "$\\phi_{1,T,m}$: 指数項別貫流応答係数  \n",
    "$r_m$: 公比"
   ]
  },
  {
   "cell_type": "markdown",
   "metadata": {},
   "source": [
    "$\n",
    "q (t) = h \\times ( T_{space} (t) - T_{surf} (t) )\n",
    "$"
   ]
  },
  {
   "cell_type": "markdown",
   "metadata": {},
   "source": [
    "$T_{space}$: 床下空間の温度, <sup>o</sup>C  \n",
    "$h$: 表面熱伝達率, W m<sup>-2</sup> K<sup>-2</sup>"
   ]
  },
  {
   "cell_type": "markdown",
   "metadata": {},
   "source": [
    "ここで、$T_{surf}(t)$について解くと、次式となる。  "
   ]
  },
  {
   "cell_type": "markdown",
   "metadata": {},
   "source": [
    "$\n",
    "\\displaystyle\n",
    "T_{surf}(t) = \\frac { h \\times \\phi_{A,0} \\times T_{space} (t) + \\sum_{m=1}^M T_{surf,A,m}' (t) + \\phi_{T,0} \\times T_g (t) + \\sum_{m=1}^M T_{surf,T,m}'(t) }{ 1 + h \\times \\phi_{A,0} }\n",
    "$"
   ]
  },
  {
   "cell_type": "markdown",
   "metadata": {},
   "source": [
    "ここで、$T_{surf,T,m}'(t)$は、"
   ]
  },
  {
   "cell_type": "markdown",
   "metadata": {},
   "source": [
    "$\n",
    "\\displaystyle\n",
    "\\begin{array}{ll}\n",
    "T_{surf,T,m}'(t) & = \\phi_{1,T,m} \\times T_g ( t - \\Delta t )+ r_m \\times T_{surf,T,m}'( t - \\Delta t ) \\\\\n",
    "& = \\phi_{1,T,m} \\times T_g ( t - \\Delta t )+ r_m \\times \\left( \\phi_{1,T,m} \\times T_g ( t - 2 \\Delta t )+ r_m \\times T_{surf,T,m}'( t - 2 \\Delta t ) \\right) \\\\\n",
    "& = \\sum_{k=0}^\\infty \\phi_{1,T,m} \\times r_m^k \\times T_g ( t - (k+1)\\Delta t )\n",
    "\\end{array}\n",
    "$"
   ]
  },
  {
   "cell_type": "markdown",
   "metadata": {},
   "source": [
    "と書ける。$T_g(t)$は土壌の境界温度であり、土壌の境界温度は常に一定かつ年平均気温に等しいとすると、"
   ]
  },
  {
   "cell_type": "markdown",
   "metadata": {},
   "source": [
    "$\n",
    "\\displaystyle\n",
    "T_g(t) = T_{g,ave}\n",
    "$"
   ]
  },
  {
   "cell_type": "markdown",
   "metadata": {},
   "source": [
    "となり、"
   ]
  },
  {
   "cell_type": "markdown",
   "metadata": {},
   "source": [
    "$\n",
    "\\displaystyle\n",
    "T_{surf,T,m}'(t) = \\phi_{1,T,m} \\times T_{g,ave} \\times \\sum_{k=0}^\\infty r_m^k\n",
    "$"
   ]
  },
  {
   "cell_type": "markdown",
   "metadata": {},
   "source": [
    "$\n",
    "\\displaystyle\n",
    "\\phi_{T,0} \\times T_g (t) + \\sum_{m=1}^M T_{surf,T,m}'(t) = \\phi_{T,0} \\times T_{g,ave} + \\sum_{m=1}^M \\left( \\phi_{1,T,m} \\times T_{g,ave} \\times \\sum_{k=0}^\\infty r_m^k \\right ) \n",
    "$"
   ]
  },
  {
   "cell_type": "markdown",
   "metadata": {},
   "source": [
    "ここで、"
   ]
  },
  {
   "cell_type": "markdown",
   "metadata": {},
   "source": [
    "$\n",
    "\\displaystyle\n",
    "\\phi_{T,0} + \\sum_{m=1}^M \\left( \\phi_{1,T,m} \\times \\sum_{k=0}^\\infty r_m^k \\right ) = 1\n",
    "$"
   ]
  },
  {
   "cell_type": "markdown",
   "metadata": {},
   "source": [
    "なので、"
   ]
  },
  {
   "cell_type": "markdown",
   "metadata": {},
   "source": [
    "$\n",
    "\\displaystyle\n",
    "\\phi_{T,0} \\times T_g (t) + \\sum_{m=1}^M T_{surf,T,m}'(t)  = T_{g,ave}\n",
    "$"
   ]
  },
  {
   "cell_type": "markdown",
   "metadata": {},
   "source": [
    "となる。従って、最終的に任意の時刻$t$における地盤の表面温度は"
   ]
  },
  {
   "cell_type": "markdown",
   "metadata": {},
   "source": [
    "$\n",
    "\\displaystyle\n",
    "T_{surf}(t) = \\frac { h \\times \\phi_{A,0} \\times T_{space} (t) + \\sum_{m=1}^M \\left( \\phi_{1,A,m} \\times q ( t - \\Delta t )+ r_m \\times T_{surf,A,m}'( t - \\Delta t ) \\right) + T_{g,ave} }{ 1 + h \\times \\phi_{A,0} }\n",
    "$"
   ]
  },
  {
   "cell_type": "markdown",
   "metadata": {},
   "source": [
    "となる。"
   ]
  },
  {
   "cell_type": "code",
   "execution_count": 1,
   "metadata": {
    "collapsed": true
   },
   "outputs": [],
   "source": [
    "class GroundTemp():\n",
    "    \n",
    "    def __init__( self, T_g_ave, phi_A0, phi_A1, r ):\n",
    "        if len(phi_A1) != len(r):\n",
    "            raise Exception('phi_A1 と r の項数が異なります。')\n",
    "        self._T_g_ave       = T_g_ave\n",
    "        self._phi_A0        = phi_A0\n",
    "        self._phi_A1        = phi_A1\n",
    "        self._r             = r\n",
    "        self._q_surf        = 0.0\n",
    "        self._T_surf_A_prev = [0.0] * len(self._phi_A1)\n",
    "        self._T_surf        = 0.0\n",
    "    \n",
    "    def updateTemp( self, h, T_space ):\n",
    "        T_surf_new = ( h * self._phi_A0 * T_space\n",
    "                         + sum([ phi_A1_m * self._q_surf + r_m * T_surf_A_prev_m\n",
    "                                for phi_A1_m, r_m, T_surf_A_prev_m in zip( self._phi_A1, self._r, self._T_surf_A_prev ) ])\n",
    "                         + self._T_g_ave ) / ( 1 + h * self._phi_A0 )\n",
    "        q_surf_new = h * ( T_space - T_surf_new )\n",
    "        self._T_surf, self._q_surf = T_surf_new, q_surf_new\n",
    "    \n",
    "    def getSurfTemp( self ):\n",
    "        return self._T_surf"
   ]
  },
  {
   "cell_type": "code",
   "execution_count": 2,
   "metadata": {
    "collapsed": false
   },
   "outputs": [
    {
     "name": "stdout",
     "output_type": "stream",
     "text": [
      "14.207804786638711\n",
      "15.860413261093974\n"
     ]
    }
   ],
   "source": [
    "gt = GroundTemp( T_g_ave = 8.788409273,\n",
    "                 phi_A0  = 0.026999775,\n",
    "                 phi_A1  = [ -0.0000000538985, 0.00000103123, -0.000013185, 0.000615251, 0.000353372, 0.002822011, 0.01866059, -0.013547161, 0.026262083, -0.023028152 ],\n",
    "                 r       = [ 0.999996185, 0.99998474, 0.999938962, 0.99975593, 0.999023877, 0.996101618, 0.984491515, 0.939413063, 0.778800783, 0.367879441 ],\n",
    "               )\n",
    "gt.updateTemp( 19.0, 24.77201663 )\n",
    "print( gt.getSurfTemp() )\n",
    "gt.updateTemp( 19.0, 24.90165011 )\n",
    "print( gt.getSurfTemp() )"
   ]
  },
  {
   "cell_type": "code",
   "execution_count": null,
   "metadata": {
    "collapsed": true
   },
   "outputs": [],
   "source": []
  }
 ],
 "metadata": {
  "kernelspec": {
   "display_name": "Python 3",
   "language": "python",
   "name": "python3"
  },
  "language_info": {
   "codemirror_mode": {
    "name": "ipython",
    "version": 3
   },
   "file_extension": ".py",
   "mimetype": "text/x-python",
   "name": "python",
   "nbconvert_exporter": "python",
   "pygments_lexer": "ipython3",
   "version": "3.6.2"
  }
 },
 "nbformat": 4,
 "nbformat_minor": 2
}
