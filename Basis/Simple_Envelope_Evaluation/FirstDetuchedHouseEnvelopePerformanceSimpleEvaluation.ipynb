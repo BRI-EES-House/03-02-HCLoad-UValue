{
 "cells": [
  {
   "cell_type": "code",
   "execution_count": 1,
   "metadata": {
    "collapsed": true
   },
   "outputs": [],
   "source": [
    "from collections import namedtuple\n",
    "import math\n",
    "from DirectionCoefficient import get_nu_H as DC_get_nu_H\n",
    "from DirectionCoefficient import get_nu_C as DC_get_nu_C"
   ]
  },
  {
   "cell_type": "markdown",
   "metadata": {},
   "source": [
    "# 戸建て住宅の外皮性能の簡易評価法（デフォルト面積検討用）"
   ]
  },
  {
   "cell_type": "markdown",
   "metadata": {},
   "source": [
    "本方法は、建築研究所で公表している戸建て住宅の外皮性能の簡易評価のデフォルト面積を決めるために開発されたモデルである。  \n",
    "本評価方法をもとに、デフォルト面積を決めるための住宅形状が検討された。  \n",
    "建築物省エネ法で運用されている外皮性能の簡易評価法と本評価方法は異なることに留意されたい。  "
   ]
  },
  {
   "cell_type": "markdown",
   "metadata": {},
   "source": [
    "## 1. 検討の流れ"
   ]
  },
  {
   "cell_type": "markdown",
   "metadata": {},
   "source": [
    "1. 戸建て住宅の外皮性能の簡易評価法（デフォルト面積検討用）を開発\n",
    "1. 上記の評価法を用いて、住宅形状に関する諸元（階数・床面積等）を決定\n",
    "1. 決定された住宅形状をもとに、外皮部位の面積・長さ（デフォルト値）を算出\n",
    "1. 外皮部位の面積・長さ（デフォルト値）から簡易法を作成"
   ]
  },
  {
   "cell_type": "markdown",
   "metadata": {},
   "source": [
    "ここで示す方法は、上記の1.の評価法である。"
   ]
  },
  {
   "cell_type": "markdown",
   "metadata": {},
   "source": [
    "## 2. 型"
   ]
  },
  {
   "cell_type": "markdown",
   "metadata": {},
   "source": [
    "### 2.1 Orientation"
   ]
  },
  {
   "cell_type": "markdown",
   "metadata": {},
   "source": [
    "主方位から時計回りに0°、90°、180°、270°を表す。"
   ]
  },
  {
   "cell_type": "code",
   "execution_count": 2,
   "metadata": {
    "collapsed": false
   },
   "outputs": [],
   "source": [
    "Orientation = namedtuple('Orientation', 'deg0 deg90 deg180 deg270')"
   ]
  },
  {
   "cell_type": "markdown",
   "metadata": {},
   "source": [
    "## 3. 各関数"
   ]
  },
  {
   "cell_type": "markdown",
   "metadata": {},
   "source": [
    "### 3.1 外皮平均熱貫流率 (U<sub>A</sub>値)"
   ]
  },
  {
   "cell_type": "markdown",
   "metadata": {},
   "source": [
    "$$\n",
    "U_A = \\frac{q_{total}}{A_{evp,total}}\n",
    "$$"
   ]
  },
  {
   "cell_type": "markdown",
   "metadata": {},
   "source": [
    "$U_A$：外皮平均熱貫流率(W/m<sup>2</sup>K)  \n",
    "$q_{total}$：単位温度差当たりの外皮熱損失量(W/K)  \n",
    "$A_{env,total}$：部位の面積の合計(m<sup>2</sup>)  "
   ]
  },
  {
   "cell_type": "code",
   "execution_count": 3,
   "metadata": {
    "collapsed": true
   },
   "outputs": [],
   "source": [
    "def get_U_A(q_total, A_env_total):\n",
    "    return q_total / A_env_total"
   ]
  },
  {
   "cell_type": "markdown",
   "metadata": {},
   "source": [
    "### 3.2 平均日射熱取得率 ($\\eta_{A,H}$値、$\\eta_{A,C}$値)"
   ]
  },
  {
   "cell_type": "markdown",
   "metadata": {},
   "source": [
    "$$\n",
    "\\eta_{A,H}=\\frac{m_H}{A_{evp,total}} \\times 100\n",
    "$$"
   ]
  },
  {
   "cell_type": "markdown",
   "metadata": {},
   "source": [
    "$$\n",
    "\\eta_{A,C}=\\frac{m_C}{A_{evp,total}} \\times 100\n",
    "$$"
   ]
  },
  {
   "cell_type": "markdown",
   "metadata": {},
   "source": [
    "$\\eta_{A,H}$：平均日射熱取得率(暖房期)(%)  \n",
    "$\\eta_{A,C}$：平均日射熱取得率(冷房期)(%)  \n",
    "$m_H$：単位日射強度当たりの暖房期の日射熱取得量(W/(W/m<sup>2</sup>))  \n",
    "$m_C$：単位日射強度当たりの冷房期の日射熱取得量(W/(W/m<sup>2</sup>))  \n",
    "$A_{env,total}$：部位の面積の合計(m<sup>2</sup>)  "
   ]
  },
  {
   "cell_type": "code",
   "execution_count": 4,
   "metadata": {
    "collapsed": true
   },
   "outputs": [],
   "source": [
    "def get_eta_A_H(m_H, A_env_total):\n",
    "    return m_H / A_env_total * 100"
   ]
  },
  {
   "cell_type": "code",
   "execution_count": 5,
   "metadata": {
    "collapsed": true
   },
   "outputs": [],
   "source": [
    "def get_eta_A_C(m_C, A_env_total):\n",
    "    return m_C / A_env_total * 100"
   ]
  },
  {
   "cell_type": "markdown",
   "metadata": {},
   "source": [
    "### 3.3 単位温度差当たりの外皮熱損失量"
   ]
  },
  {
   "cell_type": "markdown",
   "metadata": {},
   "source": [
    "#### 1) 合計"
   ]
  },
  {
   "cell_type": "markdown",
   "metadata": {},
   "source": [
    "$$\n",
    "q_{total} = q_{roof} + q_{window} + q_{wall} + q_{floor} + q_{base}\n",
    "$$"
   ]
  },
  {
   "cell_type": "markdown",
   "metadata": {},
   "source": [
    "$q_{total}$：単位温度差当たりの外皮熱損失量(W/K)  \n",
    "$q_{roof}$：天井又は外気屋根の単位温度差当たりの外皮熱損失量(W/K)  \n",
    "$q_{window}$：窓の単位温度差当たりの外皮熱損失量(W/K)  \n",
    "$q_{wall}$：壁の単位温度差当たりの外皮熱損失量(W/K)  \n",
    "$q_{floor}$：外気床の単位温度差当たりの外皮熱損失量(W/K)  \n",
    "$q_{base}$：土間床外周部および基礎等単位温度差当たりの外皮熱損失量(W/K)"
   ]
  },
  {
   "cell_type": "code",
   "execution_count": 6,
   "metadata": {
    "collapsed": true
   },
   "outputs": [],
   "source": [
    "def get_q_total(q_roof, q_window, q_wall, q_floor, q_base):\n",
    "    return q_roof + q_window + q_wall + q_floor + q_base"
   ]
  },
  {
   "cell_type": "markdown",
   "metadata": {},
   "source": [
    "#### 2) 天井又は外気屋根"
   ]
  },
  {
   "cell_type": "markdown",
   "metadata": {},
   "source": [
    "$$\n",
    "q_{roof} = \\sum_i \\left ( A_{roof,i} \\times U_{roof} \\times H_{roof} \\right )\n",
    "$$"
   ]
  },
  {
   "cell_type": "markdown",
   "metadata": {},
   "source": [
    "$A_{roof,i}$：i階の天井又は外気屋根の面積の合計(m<sup>2</sup>)  \n",
    "$U_{roof}$：天井又は外気屋根の熱貫流率(W/m<sup>2</sup>K)  \n",
    "$H_{roof}$：天井又は外気屋根の温度差係数($=1.0$)  "
   ]
  },
  {
   "cell_type": "code",
   "execution_count": 7,
   "metadata": {
    "collapsed": true
   },
   "outputs": [],
   "source": [
    "def get_q_roof(A_roof, U_roof):\n",
    "    H_roof = 1.0\n",
    "    return sum( [ A_roof_i * U_roof * H_roof for A_roof_i in A_roof ] )"
   ]
  },
  {
   "cell_type": "markdown",
   "metadata": {},
   "source": [
    "#### 3) 窓"
   ]
  },
  {
   "cell_type": "markdown",
   "metadata": {},
   "source": [
    "$$\n",
    "q_{window} = A_{wnd,0} \\times U_{wnd,0} \\times H_{wnd} + A_{wnd,90} \\times U_{wnd,90} \\times H_{wnd} + A_{wnd,180} \\times U_{wnd,180} \\times H_{wnd} + A_{wnd,270} \\times U_{wnd,270} \\times H_{wnd}\n",
    "$$"
   ]
  },
  {
   "cell_type": "markdown",
   "metadata": {},
   "source": [
    "$$\n",
    "U_{wnd,0} = U_{wnd,main}\n",
    "$$"
   ]
  },
  {
   "cell_type": "markdown",
   "metadata": {},
   "source": [
    "$$\n",
    "U_{wnd,90} = U_{wnd,other}\n",
    "$$"
   ]
  },
  {
   "cell_type": "markdown",
   "metadata": {},
   "source": [
    "$$\n",
    "U_{wnd,180} = U_{wnd,other}\n",
    "$$"
   ]
  },
  {
   "cell_type": "markdown",
   "metadata": {},
   "source": [
    "$$\n",
    "U_{wnd,270} = U_{wnd,other}\n",
    "$$"
   ]
  },
  {
   "cell_type": "markdown",
   "metadata": {},
   "source": [
    "$A_{wnd,0}$：主開口方位の窓面積の合計(m<sup>2</sup>)  \n",
    "$A_{wnd,90}$：主開口方位から時計回りに90度の方位の窓面積の合計(m<sup>2</sup>)  \n",
    "$A_{wnd,180}$：主開口方位から時計回りに180度の方位の窓面積の合計(m<sup>2</sup>)  \n",
    "$A_{wnd,270}$：主開口方位から時計回りに270度の方位の窓面積の合計(m<sup>2</sup>)  \n",
    "$U_{wnd,0}$：主開口方位の窓の熱貫流率(W/m<sup>2</sup>K)  \n",
    "$U_{wnd,90}$：主開口方位から時計回りに90度の方位の窓の熱貫流率(W/m<sup>2</sup>K)  \n",
    "$U_{wnd,180}$：主開口方位から時計回りに180度の方位の窓の熱貫流率(W/m<sup>2</sup>K)  \n",
    "$U_{wnd,270}$：主開口方位から時計回りに270度の方位の窓の熱貫流率(W/m<sup>2</sup>K)  \n",
    "$H_{wnd}$：窓の温度差係数($=1.0$)  \n",
    "$U_{wnd,main}$：主開口方位の窓の熱貫流率(W/m<sup>2</sup>K)  \n",
    "$U_{wnd,other}$：主開口方位以外の窓の熱貫流率(W/m<sup>2</sup>K)  "
   ]
  },
  {
   "cell_type": "code",
   "execution_count": 8,
   "metadata": {
    "collapsed": false
   },
   "outputs": [],
   "source": [
    "def get_q_window(A_wnd, U_wnd_main, U_wnd_other):\n",
    "    U_wnd = Orientation( deg0 = U_wnd_main, deg90 = U_wnd_other, deg180 = U_wnd_other, deg270 = U_wnd_other )\n",
    "    H_wnd = 1.0\n",
    "    return   A_wnd.deg0   * U_wnd.deg0   * H_wnd \\\n",
    "           + A_wnd.deg90  * U_wnd.deg90  * H_wnd \\\n",
    "           + A_wnd.deg180 * U_wnd.deg180 * H_wnd \\\n",
    "           + A_wnd.deg270 * U_wnd.deg270 * H_wnd "
   ]
  },
  {
   "cell_type": "markdown",
   "metadata": {},
   "source": [
    "#### 4) 壁"
   ]
  },
  {
   "cell_type": "markdown",
   "metadata": {},
   "source": [
    "$$\n",
    "q_{wall} = A_{wall,0} \\times U_{wall} \\times H_{wall} + A_{wall,90} \\times U_{wall} \\times H_{wall} + A_{wall,180} \\times U_{wall} \\times H_{wall} + A_{wall,270} \\times U_{wall} \\times H_{wall}\n",
    "$$"
   ]
  },
  {
   "cell_type": "markdown",
   "metadata": {},
   "source": [
    "$A_{wall,0}$：主開口方位の壁面積の合計(m<sup>2</sup>)  \n",
    "$A_{wall,90}$：主開口方位から時計回りに90度の方位の壁面積の合計(m<sup>2</sup>)  \n",
    "$A_{wall,180}$：主開口方位から時計回りに180度の方位の壁面積の合計(m<sup>2</sup>)  \n",
    "$A_{wall,270}$：主開口方位から時計回りに270度の方位の壁面積の合計(m<sup>2</sup>)  \n",
    "$U_{wall}$：壁の熱貫流率(W/m<sup>2</sup>K)  \n",
    "$H_{wall}$：壁の温度差係数($=1.0$)  "
   ]
  },
  {
   "cell_type": "code",
   "execution_count": 9,
   "metadata": {
    "collapsed": true
   },
   "outputs": [],
   "source": [
    "def get_q_wall(A_wall, U_wall):\n",
    "    H_wall = 1.0\n",
    "    return   A_wall.deg0   * U_wall * H_wall \\\n",
    "           + A_wall.deg90  * U_wall * H_wall \\\n",
    "           + A_wall.deg180 * U_wall * H_wall \\\n",
    "           + A_wall.deg270 * U_wall * H_wall"
   ]
  },
  {
   "cell_type": "markdown",
   "metadata": {},
   "source": [
    "#### 5) 外気床"
   ]
  },
  {
   "cell_type": "markdown",
   "metadata": {},
   "source": [
    "$$\n",
    "q_{floor} = \\sum_{i=1} \\left ( A_{exfloor,i} \\times U_{exfloor,i} \\times H_{exfloor,i} \\right )\n",
    "$$"
   ]
  },
  {
   "cell_type": "markdown",
   "metadata": {},
   "source": [
    "$$\n",
    "U_{exfloor,i} = \\left \\{\n",
    "\\begin{array}{ll}\n",
    "    U_{exfloor,C} & (i=1) \\\\\n",
    "    U_{exfloor,O} & (i\\ne1)\n",
    "\\end{array}\n",
    "\\right.\n",
    "$$"
   ]
  },
  {
   "cell_type": "markdown",
   "metadata": {},
   "source": [
    "$$\n",
    "H_{exfloor,i} = \\left \\{\n",
    "\\begin{array}{ll}\n",
    "    H_{exfloor,C} & (i=1) \\\\\n",
    "    H_{exfloor,O} & (i\\ne1)\n",
    "\\end{array}\n",
    "\\right.\n",
    "$$"
   ]
  },
  {
   "cell_type": "markdown",
   "metadata": {},
   "source": [
    "$A_{exfloor,i}$：i階の外気床の面積の合計(m<sup>2</sup>)  \n",
    "$U_{exfloor,C}$：床下に面する外気床の熱貫流率(W/m<sup>2</sup>K)  \n",
    "$U_{exfloor,O}$：外気に面する外気床の熱貫流率(W/m<sup>2</sup>K)  \n",
    "$H_{exfloor,C}$：床下に面する外気床の温度差係数($=0.7$)  \n",
    "$H_{exfloor,O}$：外気に面する外気床の温度差係数($=1.0$)  "
   ]
  },
  {
   "cell_type": "code",
   "execution_count": 10,
   "metadata": {
    "collapsed": false
   },
   "outputs": [],
   "source": [
    "def get_q_floor(A_exfloor, U_exfloor_C, U_exfloor_O):\n",
    "    H_exfloor_C = 0.7\n",
    "    H_exfloor_O = 1.0\n",
    "    q_floor = 0.0\n",
    "    for (i, A_exfloor_i) in enumerate(A_exfloor):\n",
    "        if i == 0:\n",
    "            q_floor = q_floor + A_exfloor_i * U_exfloor_C * H_exfloor_C\n",
    "        else:\n",
    "            q_floor = q_floor + A_exfloor_i * U_exfloor_O * H_exfloor_O\n",
    "    return q_floor"
   ]
  },
  {
   "cell_type": "markdown",
   "metadata": {},
   "source": [
    "#### 6) 土間床外周部及び基礎等"
   ]
  },
  {
   "cell_type": "markdown",
   "metadata": {},
   "source": [
    "$$\n",
    "q_{base} = L_{base,ex} \\times \\psi_{base,ex} \\times H_{base,ex} + L_{base,in} \\times \\psi_{base,in} \\times H_{base,in}\n",
    "$$"
   ]
  },
  {
   "cell_type": "markdown",
   "metadata": {},
   "source": [
    "$L_{base,ex}$：土間床外周部及び基礎等の外気側の長さ(m)  \n",
    "$L_{base,in}$：土間床外周部及び基礎等の室内側の長さ(m)  \n",
    "$\\psi_{base,ex}$：土間床外周部及び基礎等の外気側の線熱貫流率(W/mK)  \n",
    "$\\psi_{base,in}$：土間床外周部及び基礎等の室内側の線熱貫流率(W/mK)  \n",
    "$H_{base,ex}$：土間床外周部及び基礎等の外気側の温度差係数($=1.0$)  \n",
    "$H_{base,in}$：土間床外周部及び基礎等の室内側の温度差係数($=0.7$)"
   ]
  },
  {
   "cell_type": "code",
   "execution_count": 11,
   "metadata": {
    "collapsed": true
   },
   "outputs": [],
   "source": [
    "def get_q_base(L_base_ex, L_base_in, psi_base_ex, psi_base_in):\n",
    "    H_base_ex = 1.0\n",
    "    H_base_in = 0.7\n",
    "    return L_base_ex * psi_base_ex * H_base_ex + L_base_in * psi_base_in * H_base_in"
   ]
  },
  {
   "cell_type": "markdown",
   "metadata": {},
   "source": [
    "### 3.4 単位日射強度当たりの暖房期・冷房期の日射熱取得量"
   ]
  },
  {
   "cell_type": "markdown",
   "metadata": {},
   "source": [
    "#### 1) 合計"
   ]
  },
  {
   "cell_type": "markdown",
   "metadata": {},
   "source": [
    "$$\n",
    "m_{H,total} = m_{H,roof} + m_{H,window} + m_{H,wall}\n",
    "$$"
   ]
  },
  {
   "cell_type": "markdown",
   "metadata": {},
   "source": [
    "$$\n",
    "m_{C,total} = m_{C,roof} + m_{C,window} + m_{C,wall}\n",
    "$$"
   ]
  },
  {
   "cell_type": "markdown",
   "metadata": {},
   "source": [
    "$m_{H,total}$：単位日射強度当たりの暖房期の日射熱取得量(W/(W/m<sup>2</sup>))  \n",
    "$m_{C,total}$：単位日射強度当たりの冷房期の日射熱取得量(W/(W/m<sup>2</sup>))  \n",
    "$m_{H,roof}$：天井又は外気屋根の単位日射強度当たりの暖房期の日射熱取得量(W/(W/m<sup>2</sup>))  \n",
    "$m_{C,roof}$：天井又は外気屋根の単位日射強度当たりの冷房期の日射熱取得量(W/(W/m<sup>2</sup>))  \n",
    "$m_{H,window}$：窓の単位日射強度当たりの暖房期の日射熱取得量(W/(W/m<sup>2</sup>))  \n",
    "$m_{C,window}$：窓の単位日射強度当たりの冷房期の日射熱取得量(W/(W/m<sup>2</sup>))  \n",
    "$m_{H,wall}$：壁の単位日射強度当たりの暖房期の日射熱取得量(W/(W/m<sup>2</sup>))  \n",
    "$m_{C,wall}$：壁の単位日射強度当たりの冷房期の日射熱取得量(W/(W/m<sup>2</sup>))  "
   ]
  },
  {
   "cell_type": "code",
   "execution_count": 12,
   "metadata": {
    "collapsed": true
   },
   "outputs": [],
   "source": [
    "def get_m_H_total(m_H_roof, m_H_window, m_H_wall):\n",
    "    return m_H_roof + m_H_window + m_H_wall"
   ]
  },
  {
   "cell_type": "code",
   "execution_count": 13,
   "metadata": {
    "collapsed": true
   },
   "outputs": [],
   "source": [
    "def get_m_C_total(m_C_roof, m_C_window, m_C_wall):\n",
    "    return m_C_roof + m_C_window + m_C_wall"
   ]
  },
  {
   "cell_type": "markdown",
   "metadata": {},
   "source": [
    "#### 2) 天井又は外気屋根"
   ]
  },
  {
   "cell_type": "markdown",
   "metadata": {},
   "source": [
    "$$\n",
    "m_{H,roof} = \\sum_{i=1} \\left ( A_{roof,i} \\times \\eta_{H,roof} \\times \\nu_{H,roof} \\right )\n",
    "$$"
   ]
  },
  {
   "cell_type": "markdown",
   "metadata": {},
   "source": [
    "$$\n",
    "m_{C,roof} = \\sum_{i=1} \\left ( A_{roof,i} \\times \\eta_{C,roof} \\times \\nu_{C,roof} \\right )\n",
    "$$"
   ]
  },
  {
   "cell_type": "markdown",
   "metadata": {},
   "source": [
    "$A_{roof,i}$：i階の天井又は外気屋根の面積の合計(m<sup>2</sup>)  \n",
    "$\\eta_{H,roof}$：天井又は外気屋根の暖房期の日射熱取得率((W/m<sup>2</sup>)/(W/m<sup>2</sup>))  \n",
    "$\\eta_{C,roof}$：天井又は外気屋根の冷房期の日射熱取得率((W/m<sup>2</sup>)/(W/m<sup>2</sup>))  \n",
    "$\\nu_{H,roof}$：天井又は外気屋根の暖房期の方位係数  \n",
    "$\\nu_{C,roof}$：天井又は外気屋根の冷房期の方位係数  "
   ]
  },
  {
   "cell_type": "code",
   "execution_count": 14,
   "metadata": {
    "collapsed": true
   },
   "outputs": [],
   "source": [
    "def get_m_H_roof(A_roof, eta_H_roof, nu_H_roof):\n",
    "    return sum( [ A_roof_i * eta_H_roof * nu_H_roof for A_roof_i in A_roof ] )"
   ]
  },
  {
   "cell_type": "code",
   "execution_count": 15,
   "metadata": {
    "collapsed": true
   },
   "outputs": [],
   "source": [
    "def get_m_C_roof(A_roof, eta_C_roof, nu_C_roof):\n",
    "    return sum( [ A_roof_i * eta_C_roof * nu_C_roof for A_roof_i in A_roof ] )"
   ]
  },
  {
   "cell_type": "markdown",
   "metadata": {},
   "source": [
    "#### 3) 窓"
   ]
  },
  {
   "cell_type": "markdown",
   "metadata": {},
   "source": [
    "$$\n",
    "m_{H,window} = A_{window,0} \\times \\eta_{H,window,0} \\times \\nu_{H,0} + A_{window,90} \\times \\eta_{H,window,90} \\times \\nu_{H,90} + A_{window,180} \\times \\eta_{H,window,180} \\times \\nu_{H,180} + A_{window,270} \\times \\eta_{H,window,270} \\times \\nu_{H,270}\n",
    "$$"
   ]
  },
  {
   "cell_type": "markdown",
   "metadata": {},
   "source": [
    "$$\n",
    "\\eta_{H,window,0} = \\eta_{H,window,main}\n",
    "$$"
   ]
  },
  {
   "cell_type": "markdown",
   "metadata": {},
   "source": [
    "$$\n",
    "\\eta_{H,window,90} = \\eta_{H,window,other}\n",
    "$$"
   ]
  },
  {
   "cell_type": "markdown",
   "metadata": {},
   "source": [
    "$$\n",
    "\\eta_{H,window,180} = \\eta_{H,window,other}\n",
    "$$"
   ]
  },
  {
   "cell_type": "markdown",
   "metadata": {},
   "source": [
    "$$\n",
    "\\eta_{H,window,270} = \\eta_{H,window,other}\n",
    "$$"
   ]
  },
  {
   "cell_type": "markdown",
   "metadata": {},
   "source": [
    "$$\n",
    "m_{C,window} = A_{window,0} \\times \\eta_{C,window,0} \\times \\nu_{C,0} + A_{window,90} \\times \\eta_{C,window,90} \\times \\nu_{C,90} + A_{window,180} \\times \\eta_{C,window,180} \\times \\nu_{C,180} + A_{window,270} \\times \\eta_{C,window,270} \\times \\nu_{C,270}\n",
    "$$"
   ]
  },
  {
   "cell_type": "markdown",
   "metadata": {},
   "source": [
    "$$\n",
    "\\eta_{C,window,0} = \\eta_{C,window,main}\n",
    "$$"
   ]
  },
  {
   "cell_type": "markdown",
   "metadata": {},
   "source": [
    "$$\n",
    "\\eta_{C,window,90} = \\eta_{C,window,other}\n",
    "$$"
   ]
  },
  {
   "cell_type": "markdown",
   "metadata": {},
   "source": [
    "$$\n",
    "\\eta_{C,window,180} = \\eta_{C,window,other}\n",
    "$$"
   ]
  },
  {
   "cell_type": "markdown",
   "metadata": {},
   "source": [
    "$$\n",
    "\\eta_{C,window,270} = \\eta_{C,window,other}\n",
    "$$"
   ]
  },
  {
   "cell_type": "markdown",
   "metadata": {},
   "source": [
    "$A_{window,0}$：主開口方位の窓面積の合計(m<sup>2</sup>)  \n",
    "$A_{window,90}$：主開口方位から時計回りに90度の方位の窓面積の合計(m<sup>2</sup>)  \n",
    "$A_{window,180}$：主開口方位から時計回りに180度の方位の窓面積の合計(m<sup>2</sup>)  \n",
    "$A_{window,270}$：主開口方位から時計回りに270度の方位の窓面積の合計(m<sup>2</sup>)  \n",
    "$\\eta_{H,window,0}$：主開口方位の窓の暖房期の日射熱取得率((W/m<sup>2</sup>)/(W/m<sup>2</sup>))  \n",
    "$\\eta_{H,window,90}$：主開口方位から時計回りに90度の方位の窓の暖房期の日射熱取得率((W/m<sup>2</sup>)/(W/m<sup>2</sup>))  \n",
    "$\\eta_{H,window,180}$：主開口方位から時計回りに180度の方位の窓の暖房期の日射熱取得率((W/m<sup>2</sup>)/(W/m<sup>2</sup>))  \n",
    "$\\eta_{H,window,270}$：主開口方位から時計回りに270度の方位の窓の暖房期の日射熱取得率((W/m<sup>2</sup>)/(W/m<sup>2</sup>))  \n",
    "$\\eta_{C,window,0}$：主開口方位の窓の冷房期の日射熱取得率((W/m<sup>2</sup>)/(W/m<sup>2</sup>))  \n",
    "$\\eta_{C,window,90}$：主開口方位から時計回りに90度の方位の窓の冷房期の日射熱取得率((W/m<sup>2</sup>)/(W/m<sup>2</sup>))  \n",
    "$\\eta_{C,window,180}$：主開口方位から時計回りに180度の方位の窓の冷房期の日射熱取得率((W/m<sup>2</sup>)/(W/m<sup>2</sup>))  \n",
    "$\\eta_{C,window,270}$：主開口方位から時計回りに270度の方位の窓の冷房期の日射熱取得率((W/m<sup>2</sup>)/(W/m<sup>2</sup>))  \n",
    "$\\eta_{H,window,main}$：主開口方位の窓の暖房期の日射熱取得率  \n",
    "$\\eta_{H,window,other}$：主開口方位以外の窓の暖房期の日射熱取得率  \n",
    "$\\eta_{C,window,main}$：主開口方位の窓の冷房期の日射熱取得率  \n",
    "$\\eta_{C,window,other}$：主開口方位以外の窓の冷房期の日射熱取得率  \n",
    "$\\nu_{H,0}$：主開口方位の暖房期の方位係数  \n",
    "$\\nu_{H,90}$：主開口方位から時計回りに90度の方位の暖房期の方位係数  \n",
    "$\\nu_{H,180}$：主開口方位から時計回りに180度の方位の暖房期の方位係数  \n",
    "$\\nu_{H,270}$：主開口方位から時計回りに270度の方位の暖房期の方位係数  \n",
    "$\\nu_{C,0}$：主開口方位の冷房期の方位係数  \n",
    "$\\nu_{C,90}$：主開口方位から時計回りに90度の方位の冷房期の方位係数  \n",
    "$\\nu_{C,180}$：主開口方位から時計回りに180度の方位の冷房期の方位係数  \n",
    "$\\nu_{C,270}$：主開口方位から時計回りに270度の方位の冷房期の方位係数  "
   ]
  },
  {
   "cell_type": "code",
   "execution_count": 16,
   "metadata": {
    "collapsed": true
   },
   "outputs": [],
   "source": [
    "def get_m_H_window(A_window, eta_H_window_main, eta_H_window_other, nu_H):\n",
    "    eta_H_window = Orientation( deg0   = eta_H_window_main,\n",
    "                                deg90  = eta_H_window_other,\n",
    "                                deg180 = eta_H_window_other,\n",
    "                                deg270 = eta_H_window_other )\n",
    "    return   A_window.deg0   * eta_H_window.deg0   * nu_H.deg0 \\\n",
    "           + A_window.deg90  * eta_H_window.deg90  * nu_H.deg90 \\\n",
    "           + A_window.deg180 * eta_H_window.deg180 * nu_H.deg180 \\\n",
    "           + A_window.deg270 * eta_H_window.deg270 * nu_H.deg270 "
   ]
  },
  {
   "cell_type": "code",
   "execution_count": 17,
   "metadata": {
    "collapsed": true
   },
   "outputs": [],
   "source": [
    "def get_m_C_window(A_window, eta_C_window_main, eta_C_window_other, nu_C):\n",
    "    eta_C_window = Orientation( deg0   = eta_C_window_main,\n",
    "                                deg90  = eta_C_window_other,\n",
    "                                deg180 = eta_C_window_other,\n",
    "                                deg270 = eta_C_window_other )\n",
    "    return   A_window.deg0   * eta_C_window.deg0   * nu_C.deg0 \\\n",
    "           + A_window.deg90  * eta_C_window.deg90  * nu_C.deg90 \\\n",
    "           + A_window.deg180 * eta_C_window.deg180 * nu_C.deg180 \\\n",
    "           + A_window.deg270 * eta_C_window.deg270 * nu_C.deg270 "
   ]
  },
  {
   "cell_type": "markdown",
   "metadata": {},
   "source": [
    "#### 4) 壁"
   ]
  },
  {
   "cell_type": "markdown",
   "metadata": {},
   "source": [
    "$$\n",
    "m_{H,wall} = A_{wall,0} \\times \\eta_{H,wall} \\times \\nu_{H,0} + A_{wall,90} \\times \\eta_{H,wall} \\times \\nu_{H,90} + A_{wall,180} \\times \\eta_{H,wall} \\times \\nu_{H,180} + A_{wall,270} \\times \\eta_{H,wall} \\times \\nu_{H,270}\n",
    "$$"
   ]
  },
  {
   "cell_type": "markdown",
   "metadata": {},
   "source": [
    "$$\n",
    "m_{C,wall} = A_{wall,0} \\times \\eta_{C,wall} \\times \\nu_{C,0} + A_{wall,90} \\times \\eta_{C,wall} \\times \\nu_{C,90} + A_{wall,180} \\times \\eta_{C,wall} \\times \\nu_{C,180} + A_{wall,270} \\times \\eta_{C,wall} \\times \\nu_{C,270}\n",
    "$$"
   ]
  },
  {
   "cell_type": "markdown",
   "metadata": {},
   "source": [
    "$A_{wall,0}$：主開口方位の壁面積の合計(m<sup>2</sup>)  \n",
    "$A_{wall,90}$：主開口方位から時計回りに90度の方位の壁面積の合計(m<sup>2</sup>)  \n",
    "$A_{wall,180}$：主開口方位から時計回りに180度の方位の壁面積の合計(m<sup>2</sup>)  \n",
    "$A_{wall,270}$：主開口方位から時計回りに270度の方位の壁面積の合計(m<sup>2</sup>)  \n",
    "$\\eta_{H,wall}$：壁の暖房期の日射熱取得率((W/m<sup>2</sup>K)/(W/m<sup>2</sup>K))  \n",
    "$\\eta_{C,wall}$：壁の冷房期の日射熱取得率((W/m<sup>2</sup>K)/(W/m<sup>2</sup>K))  \n",
    "$\\nu_{H,0}$：主開口方位の暖房期の方位係数  \n",
    "$\\nu_{H,90}$：主開口方位から時計回りに90度の方位の暖房期の方位係数  \n",
    "$\\nu_{H,180}$：主開口方位から時計回りに180度の方位の暖房期の方位係数  \n",
    "$\\nu_{H,270}$：主開口方位から時計回りに270度の方位の暖房期の方位係数\n",
    "$\\nu_{C,0}$：主開口方位の冷房期の方位係数  \n",
    "$\\nu_{C,90}$：主開口方位から時計回りに90度の方位の冷房期の方位係数  \n",
    "$\\nu_{C,180}$：主開口方位から時計回りに180度の方位の冷房期の方位係数  \n",
    "$\\nu_{C,270}$：主開口方位から時計回りに270度の方位の冷房期の方位係数"
   ]
  },
  {
   "cell_type": "code",
   "execution_count": 18,
   "metadata": {
    "collapsed": true
   },
   "outputs": [],
   "source": [
    "def get_m_H_wall(A_wall, eta_H_wall, nu_H):\n",
    "    return   A_wall.deg0   * eta_H_wall * nu_H.deg0 \\\n",
    "           + A_wall.deg90  * eta_H_wall * nu_H.deg90 \\\n",
    "           + A_wall.deg180 * eta_H_wall * nu_H.deg180 \\\n",
    "           + A_wall.deg270 * eta_H_wall * nu_H.deg270    "
   ]
  },
  {
   "cell_type": "code",
   "execution_count": 19,
   "metadata": {
    "collapsed": true
   },
   "outputs": [],
   "source": [
    "def get_m_C_wall(A_wall, eta_C_wall, nu_C):\n",
    "    return   A_wall.deg0   * eta_C_wall * nu_C.deg0 \\\n",
    "           + A_wall.deg90  * eta_C_wall * nu_C.deg90 \\\n",
    "           + A_wall.deg180 * eta_C_wall * nu_C.deg180 \\\n",
    "           + A_wall.deg270 * eta_C_wall * nu_C.deg270    "
   ]
  },
  {
   "cell_type": "markdown",
   "metadata": {},
   "source": [
    "### 3.5 日射熱取得率(開口部を除く)"
   ]
  },
  {
   "cell_type": "markdown",
   "metadata": {},
   "source": [
    "#### 1) 天井又は外気屋根"
   ]
  },
  {
   "cell_type": "markdown",
   "metadata": {},
   "source": [
    "$$\n",
    "\\eta_{H,roof} = U_{roof} \\times 0.034\n",
    "$$"
   ]
  },
  {
   "cell_type": "markdown",
   "metadata": {},
   "source": [
    "$$\n",
    "\\eta_{C,roof} = U_{roof} \\times 0.034\n",
    "$$"
   ]
  },
  {
   "cell_type": "markdown",
   "metadata": {},
   "source": [
    "$\\eta_{H,roof}$：天井又は外気屋根の暖房期の日射熱取得率((W/m<sup>2</sup>)/(W/m<sup>2</sup>))  \n",
    "$\\eta_{C,roof}$：天井又は外気屋根の冷房期の日射熱取得率((W/m<sup>2</sup>)/(W/m<sup>2</sup>))  \n",
    "$U_{roof}$：天井又は外気屋根の熱貫流率(W/m<sup>2</sup>K)  "
   ]
  },
  {
   "cell_type": "code",
   "execution_count": 20,
   "metadata": {
    "collapsed": true
   },
   "outputs": [],
   "source": [
    "def get_eta_H_roof(U_roof):\n",
    "    return U_roof * 0.034"
   ]
  },
  {
   "cell_type": "code",
   "execution_count": 21,
   "metadata": {
    "collapsed": true
   },
   "outputs": [],
   "source": [
    "def get_eta_C_roof(U_roof):\n",
    "    return U_roof * 0.034"
   ]
  },
  {
   "cell_type": "markdown",
   "metadata": {},
   "source": [
    "#### 2) 壁"
   ]
  },
  {
   "cell_type": "markdown",
   "metadata": {},
   "source": [
    "$$\n",
    "\\eta_{H,wall} = U_{wall} \\times 0.034\n",
    "$$"
   ]
  },
  {
   "cell_type": "markdown",
   "metadata": {},
   "source": [
    "$$\n",
    "\\eta_{C,wall} = U_{wall} \\times 0.034\n",
    "$$"
   ]
  },
  {
   "cell_type": "markdown",
   "metadata": {},
   "source": [
    "$\\eta_{H,wall}$：壁の暖房期の日射熱取得率((W/m<sup>2</sup>K)/(W/m<sup>2</sup>K))  \n",
    "$\\eta_{C,wall}$：壁の冷房期の日射熱取得率((W/m<sup>2</sup>K)/(W/m<sup>2</sup>K))  \n",
    "$U_{wall}$：壁の熱貫流率(W/m<sup>2</sup>K)  "
   ]
  },
  {
   "cell_type": "code",
   "execution_count": 22,
   "metadata": {
    "collapsed": true
   },
   "outputs": [],
   "source": [
    "def get_eta_H_wall(U_wall):\n",
    "    return U_wall * 0.034"
   ]
  },
  {
   "cell_type": "code",
   "execution_count": 23,
   "metadata": {
    "collapsed": true
   },
   "outputs": [],
   "source": [
    "def get_eta_C_wall(U_wall):\n",
    "    return U_wall * 0.034"
   ]
  },
  {
   "cell_type": "markdown",
   "metadata": {},
   "source": [
    "### 3.6 方位係数"
   ]
  },
  {
   "cell_type": "markdown",
   "metadata": {},
   "source": [
    "#### 1) 上側"
   ]
  },
  {
   "cell_type": "code",
   "execution_count": 24,
   "metadata": {
    "collapsed": true
   },
   "outputs": [],
   "source": [
    "def get_nu_H_top():\n",
    "    return 1.0"
   ]
  },
  {
   "cell_type": "code",
   "execution_count": 25,
   "metadata": {
    "collapsed": true
   },
   "outputs": [],
   "source": [
    "def get_nu_C_top():\n",
    "    return 1.0"
   ]
  },
  {
   "cell_type": "markdown",
   "metadata": {},
   "source": [
    "#### 2) 水平方向"
   ]
  },
  {
   "cell_type": "code",
   "execution_count": 26,
   "metadata": {
    "collapsed": true
   },
   "outputs": [],
   "source": [
    "def get_orientation(main_direction):\n",
    "    # main_direction : 'S','SW','W','NW','N','NE','E',SE' as string\n",
    "    return {\n",
    "        'S'  : ['S',  'W',  'N',  'E'  ], \n",
    "        'SW' : ['SW', 'NW', 'NE', 'SE' ],\n",
    "        'W'  : ['W',  'N',  'E',  'S'  ],\n",
    "        'NW' : ['NW', 'NE', 'SE', 'SW' ],\n",
    "        'N'  : ['N',  'E',  'S',  'W'  ],\n",
    "        'NE' : ['NE', 'SE', 'SW', 'NW' ],\n",
    "        'E'  : ['E',  'S',  'W',  'N'  ],\n",
    "        'SE' : ['SE', 'SW', 'NW', 'NE' ]\n",
    "    }[main_direction]"
   ]
  },
  {
   "cell_type": "code",
   "execution_count": 27,
   "metadata": {
    "collapsed": false
   },
   "outputs": [],
   "source": [
    "def get_nu_H_horizontal(region, main_direction):\n",
    "    # main_direction : 'S','SW','W','NW','N','NE','E',SE' as string\n",
    "    return Orientation._make( [ DC_get_nu_H(region)[ort] for ort in get_orientation(main_direction) ] )"
   ]
  },
  {
   "cell_type": "code",
   "execution_count": 28,
   "metadata": {
    "collapsed": false
   },
   "outputs": [],
   "source": [
    "def get_nu_C_horizontal(region, main_direction):\n",
    "    # main_direction : 'S','SW','W','NW','N','NE','E',SE' as string\n",
    "    return Orientation._make( [ DC_get_nu_C(region)[ort] for ort in get_orientation(main_direction) ] )"
   ]
  },
  {
   "cell_type": "markdown",
   "metadata": {},
   "source": [
    "#### Example"
   ]
  },
  {
   "cell_type": "code",
   "execution_count": 29,
   "metadata": {
    "collapsed": false
   },
   "outputs": [
    {
     "data": {
      "text/plain": [
       "1.0"
      ]
     },
     "execution_count": 29,
     "metadata": {},
     "output_type": "execute_result"
    }
   ],
   "source": [
    "get_nu_H_top()"
   ]
  },
  {
   "cell_type": "code",
   "execution_count": 30,
   "metadata": {
    "collapsed": false
   },
   "outputs": [
    {
     "data": {
      "text/plain": [
       "1.0"
      ]
     },
     "execution_count": 30,
     "metadata": {},
     "output_type": "execute_result"
    }
   ],
   "source": [
    "get_nu_C_top()"
   ]
  },
  {
   "cell_type": "code",
   "execution_count": 31,
   "metadata": {
    "collapsed": false
   },
   "outputs": [
    {
     "data": {
      "text/plain": [
       "Orientation(deg0=0.935, deg90=0.535, deg180=0.26, deg270=0.564)"
      ]
     },
     "execution_count": 31,
     "metadata": {},
     "output_type": "execute_result"
    }
   ],
   "source": [
    "get_nu_H_horizontal('region1', 'S')"
   ]
  },
  {
   "cell_type": "code",
   "execution_count": 32,
   "metadata": {
    "collapsed": false
   },
   "outputs": [
    {
     "data": {
      "text/plain": [
       "Orientation(deg0=0.502, deg90=0.508, deg180=0.329, deg270=0.545)"
      ]
     },
     "execution_count": 32,
     "metadata": {},
     "output_type": "execute_result"
    }
   ],
   "source": [
    "get_nu_C_horizontal('region1', 'S')"
   ]
  },
  {
   "cell_type": "markdown",
   "metadata": {},
   "source": [
    "### 3.7 面積 "
   ]
  },
  {
   "cell_type": "markdown",
   "metadata": {},
   "source": [
    "#### 1) 合計"
   ]
  },
  {
   "cell_type": "markdown",
   "metadata": {},
   "source": [
    "$$\n",
    "\\begin{array}{l}\n",
    "A_{env,total} &= \\sum_{i=1} A_{roof,i} \\\\\n",
    "&+ A_{window,0} + A_{window,90} + A_{window,180} + A_{window,270} \\\\\n",
    "&+ A_{wall,0} + A_{wall,90} + A_{wall,180} + A_{wall,270} \\\\\n",
    "&+ \\sum_{i=1} A_{exfloor,i} + A_{EF}\n",
    "\\end{array}\n",
    "$$"
   ]
  },
  {
   "cell_type": "markdown",
   "metadata": {},
   "source": [
    "$A_{env,total}$：部位の面積の合計(m<sup>2</sup>)  \n",
    "$A_{roof,i}$：i階の天井又は外気屋根の面積の合計(m<sup>2</sup>)  \n",
    "$A_{window,0}$：主開口方位の窓面積の合計(m<sup>2</sup>)  \n",
    "$A_{window,90}$：主開口方位から時計回りに90度の方位の窓面積の合計(m<sup>2</sup>)  \n",
    "$A_{window,180}$：主開口方位から時計回りに180度の方位の窓面積の合計(m<sup>2</sup>)  \n",
    "$A_{window,270}$：主開口方位から時計回りに270度の方位の窓面積の合計(m<sup>2</sup>)  \n",
    "$A_{wall,0}$：主開口方位の壁面積の合計(m<sup>2</sup>)  \n",
    "$A_{wall,90}$：主開口方位から時計回りに90度の方位の壁面積の合計(m<sup>2</sup>)  \n",
    "$A_{wall,180}$：主開口方位から時計回りに180度の方位の壁面積の合計(m<sup>2</sup>)  \n",
    "$A_{wall,270}$：主開口方位から時計回りに270度の方位の壁面積の合計(m<sup>2</sup>)  \n",
    "$A_{exfloor,i}$：i階の外気床の面積の合計(m<sup>2</sup>)  \n",
    "$A_{EF}$：土間床の面積の合計(m<sup>2</sup>)  "
   ]
  },
  {
   "cell_type": "code",
   "execution_count": 33,
   "metadata": {
    "collapsed": false
   },
   "outputs": [],
   "source": [
    "def get_A_env_total(A_roof, A_window, A_wall, A_exfloor, A_EF):\n",
    "    return   sum(A_roof) + sum(A_window) + sum(A_wall) + sum(A_exfloor) + A_EF"
   ]
  },
  {
   "cell_type": "markdown",
   "metadata": {},
   "source": [
    "#### 2) 天井又は外気屋根"
   ]
  },
  {
   "cell_type": "markdown",
   "metadata": {},
   "source": [
    "天井又は外気屋根の面積の算出において、屋根断熱の場合は屋根の勾配を考慮して計算する。"
   ]
  },
  {
   "cell_type": "markdown",
   "metadata": {},
   "source": [
    "$i \\ne N$の場合($N$・・・階数)"
   ]
  },
  {
   "cell_type": "markdown",
   "metadata": {},
   "source": [
    "$$\n",
    "A_{roof,i} = \\left \\{\n",
    "\\begin{array}{ll}\n",
    "    0 & (A_{floor,i} \\le A_{floor,i+1}) \\\\\n",
    "    (A_{floor,i} - A_{floor,i+1}) \\times \\sqrt{\\left(\\frac{D_{pitch,i}}{10}\\right)^2 + 1} & ((A_{floor,i} \\gt A_{floor,i+1})\\text{&屋根断熱}) \\\\\n",
    "    A_{floor,i} - A_{floor,i+1} & ((A_{floor,i} \\gt A_{floor,i+1})\\text{&天井断熱})\n",
    "\\end{array}\n",
    "\\right.\n",
    "$$"
   ]
  },
  {
   "cell_type": "markdown",
   "metadata": {},
   "source": [
    "$i=N$の場合(最上階の場合)"
   ]
  },
  {
   "cell_type": "markdown",
   "metadata": {},
   "source": [
    "$$\n",
    "A_{roof,i} = \\left \\{\n",
    "\\begin{array}{ll}\n",
    "    A_{floor,i} \\times \\sqrt{\\left(\\frac{D_{pitch,i}}{10}\\right)^2 + 1} & (\\text{屋根断熱}) \\\\\n",
    "    A_{floor,i} & (\\text{天井断熱})\n",
    "\\end{array}\n",
    "\\right.\n",
    "$$"
   ]
  },
  {
   "cell_type": "markdown",
   "metadata": {},
   "source": [
    "$A_{floor,i}$：i階部分の床面積の合計(m<sup>2</sup>)  \n",
    "$D_{pitch,i}$：i階外気屋根の勾配(寸)  "
   ]
  },
  {
   "cell_type": "code",
   "execution_count": 34,
   "metadata": {
    "collapsed": true
   },
   "outputs": [],
   "source": [
    "def get_A_roof(A_floor, D_pitch, roof_ins_type):\n",
    "    # roof_ins_type : 'roof' or 'ceiling' as string\n",
    "\n",
    "    def get_A_roof_i(A_floor_i, A_floor_i_plus, D_pitch_i, roof_ins_type):\n",
    "        return {\n",
    "            'roof'    : max( (A_floor_i - A_floor_i_plus), 0.0 ) * math.sqrt((D_pitch_i/10)**2 + 1),\n",
    "            'ceiling' : max( (A_floor_i - A_floor_i_plus), 0.0 )\n",
    "        }[roof_ins_type]\n",
    "        \n",
    "    def get_A_roof_top(A_floor_i, D_pitch_i, roof_ins_type):\n",
    "        return {\n",
    "            'roof'    : A_floor_i * math.sqrt((D_pitch_i/10)**2 + 1),\n",
    "            'ceiling' : A_floor_i\n",
    "        }[roof_ins_type]\n",
    "\n",
    "    A_roof = []\n",
    "    \n",
    "    for i in range(len(A_floor)):\n",
    "        if i == len(A_floor) - 1:\n",
    "            A_roof.append( get_A_roof_top(A_floor[i], D_pitch[i], roof_ins_type) )\n",
    "        else:\n",
    "            A_roof.append( get_A_roof_i(A_floor[i], A_floor[i+1], D_pitch[i], roof_ins_type) )\n",
    "\n",
    "    return A_roof"
   ]
  },
  {
   "cell_type": "markdown",
   "metadata": {},
   "source": [
    "#### 3) 窓"
   ]
  },
  {
   "cell_type": "markdown",
   "metadata": {},
   "source": [
    "$$\n",
    "A_{window,0} = A_{window,total} \\times r_0\n",
    "$$"
   ]
  },
  {
   "cell_type": "markdown",
   "metadata": {},
   "source": [
    "$$\n",
    "A_{window,90} = A_{window,total} \\times r_{90}\n",
    "$$"
   ]
  },
  {
   "cell_type": "markdown",
   "metadata": {},
   "source": [
    "$$\n",
    "A_{window,180} = A_{window,total} \\times r_{180}\n",
    "$$"
   ]
  },
  {
   "cell_type": "markdown",
   "metadata": {},
   "source": [
    "$$\n",
    "A_{window,270} = A_{window,total} \\times r_{270}\n",
    "$$"
   ]
  },
  {
   "cell_type": "markdown",
   "metadata": {},
   "source": [
    "$A_{window,total}$：窓面積の合計(m<sup>2</sup>)  \n",
    "$r_0$,$r_{90}$,$r_{180}$,$r_{270}$：主開口方位から時計回りに0度、90度、180度、270度の方位の窓面積の比率"
   ]
  },
  {
   "cell_type": "markdown",
   "metadata": {},
   "source": [
    "$r_0$,$r_{90}$,$r_{180}$,$r_{270}$は、次に示す自立循環型住宅モデルの窓面積をもとに比率を算出する。"
   ]
  },
  {
   "cell_type": "markdown",
   "metadata": {},
   "source": [
    "| 方位 | 面積(m<sup>2</sup>) |\n",
    "| :---: | :---: |\n",
    "| 主方位 | 19.7 |\n",
    "| 主方位+90° | 3.96 |\n",
    "| 主方位+180° | 4.77 |\n",
    "| 主方位+270° | 3.79 |\n",
    "| 合計 | 32.22 |\n"
   ]
  },
  {
   "cell_type": "code",
   "execution_count": 35,
   "metadata": {
    "collapsed": true
   },
   "outputs": [],
   "source": [
    "def get_A_window(A_window_total):\n",
    "    rs = [19.7, 3.96, 4.77, 3.79]\n",
    "    return Orientation._make([ A_window_total * r / sum(rs) for r in rs ])"
   ]
  },
  {
   "cell_type": "markdown",
   "metadata": {},
   "source": [
    "#### 4) 壁"
   ]
  },
  {
   "cell_type": "markdown",
   "metadata": {},
   "source": [
    "$$\n",
    "A_{wall,0} = \\sum_{i=1} \\left( L_{long,i} \\times h_i \\right) - A_{window,0}\n",
    "$$"
   ]
  },
  {
   "cell_type": "markdown",
   "metadata": {},
   "source": [
    "$$\n",
    "A_{wall,90} = \\sum_{i=1} \\left( L_{short,i} \\times h_i \\right) - A_{window,90}\n",
    "$$"
   ]
  },
  {
   "cell_type": "markdown",
   "metadata": {},
   "source": [
    "$$\n",
    "A_{wall,180} = \\sum_{i=1} \\left( L_{long,i} \\times h_i \\right) - A_{window,180}\n",
    "$$"
   ]
  },
  {
   "cell_type": "markdown",
   "metadata": {},
   "source": [
    "$$\n",
    "A_{wall,270} = \\sum_{i=1} \\left( L_{short,i} \\times h_i \\right) - A_{window,270}\n",
    "$$"
   ]
  },
  {
   "cell_type": "markdown",
   "metadata": {},
   "source": [
    "$L_{long,i}$：$i$階の長辺側の壁幅(m)  \n",
    "$L_{short,i}$：$i$階の短辺側の壁幅(m)  \n",
    "$h_i$：$i$階の高さ(m)  "
   ]
  },
  {
   "cell_type": "code",
   "execution_count": 36,
   "metadata": {
    "collapsed": true
   },
   "outputs": [],
   "source": [
    "def get_A_wall(L_long, L_short, h, A_window):\n",
    "    A_wall_0   = sum( [ L_i * h_i for L_i,h_i in zip(L_long,  h) ] ) - A_window.deg0\n",
    "    A_wall_90  = sum( [ L_i * h_i for L_i,h_i in zip(L_short, h) ] ) - A_window.deg90\n",
    "    A_wall_180 = sum( [ L_i * h_i for L_i,h_i in zip(L_long,  h) ] ) - A_window.deg180\n",
    "    A_wall_270 = sum( [ L_i * h_i for L_i,h_i in zip(L_short, h) ] ) - A_window.deg270\n",
    "    return Orientation(A_wall_0, A_wall_90, A_wall_180, A_wall_270)"
   ]
  },
  {
   "cell_type": "markdown",
   "metadata": {},
   "source": [
    "#### 5) 外気床"
   ]
  },
  {
   "cell_type": "markdown",
   "metadata": {},
   "source": [
    "$i=1$の場合(1階の場合)"
   ]
  },
  {
   "cell_type": "markdown",
   "metadata": {},
   "source": [
    "$$\n",
    "A_{exfloor,i} = A_{floor,i} - A_{EF}\n",
    "$$"
   ]
  },
  {
   "cell_type": "markdown",
   "metadata": {},
   "source": [
    "$i \\ne 1$の場合"
   ]
  },
  {
   "cell_type": "markdown",
   "metadata": {},
   "source": [
    "$$\n",
    "A_{exfloor,i} = \\left \\{\n",
    "\\begin{array}{ll}\n",
    "    0 & (A_{floor,i} \\le A_{floor,i-1}) \\\\\n",
    "    A_{floor,i} - A_{floor,i-1} & (A_{floor,i} \\gt A_{floor,i-1}) \\\\\n",
    "\\end{array}\n",
    "\\right.\n",
    "$$"
   ]
  },
  {
   "cell_type": "code",
   "execution_count": 37,
   "metadata": {
    "collapsed": true
   },
   "outputs": [],
   "source": [
    "def get_A_exfloor(A_floor, A_EF):\n",
    "\n",
    "    A_exfloor = []\n",
    "    \n",
    "    for i in range(len(A_floor)):\n",
    "        if i == 0:\n",
    "            A_exfloor.append(A_floor[i] - A_EF)\n",
    "        else:\n",
    "            A_exfloor.append( A_floor[i] - A_floor[i-1] if A_floor[i] > A_floor[i-1] else 0.0 )\n",
    "    \n",
    "    return A_exfloor"
   ]
  },
  {
   "cell_type": "markdown",
   "metadata": {},
   "source": [
    "#### 6) 土間床"
   ]
  },
  {
   "cell_type": "markdown",
   "metadata": {},
   "source": [
    "土間床の面積は床断熱の場合は自立循環型住宅モデルの土間床と外気床の比率をもとに計算する。"
   ]
  },
  {
   "cell_type": "markdown",
   "metadata": {},
   "source": [
    "$$\n",
    "A_{EF} = \\left \\{\n",
    "\\begin{array}{ll}\n",
    "    A_{floor,1} * r_{EF} & (\\text{床断熱}) \\\\\n",
    "    A_{floor,1} & (\\text{基礎断熱})\n",
    "\\end{array}\n",
    "\\right.\n",
    "$$"
   ]
  },
  {
   "cell_type": "markdown",
   "metadata": {},
   "source": [
    "$r_{EF}$：床断熱時の1階床面積(土間床面積と1階の外気床の面積の合計)に対する土間床面積の比"
   ]
  },
  {
   "cell_type": "markdown",
   "metadata": {},
   "source": [
    "土間床面積と1階の外気床の面積は次のとおりとする。"
   ]
  },
  {
   "cell_type": "markdown",
   "metadata": {},
   "source": [
    "| 種類 | 面積(m<sup>2</sup>) | 比 |\n",
    "| :---: | :---: | :---: |\n",
    "| １階床 | 65.42 | 0.963 |\n",
    "| 土間 | 2.48 | 0.037 |\n"
   ]
  },
  {
   "cell_type": "markdown",
   "metadata": {},
   "source": [
    "※「比」は、小数点第三位までで四捨五入した値。"
   ]
  },
  {
   "cell_type": "code",
   "execution_count": 38,
   "metadata": {
    "collapsed": true
   },
   "outputs": [],
   "source": [
    "def get_A_EF(A_floor_1, floor_ins_type):\n",
    "    # floor_ins_type : 'base', 'floor' as string\n",
    "    return {\n",
    "        'base'  : A_floor_1,\n",
    "        'floor' : A_floor_1 * 0.037\n",
    "    }[floor_ins_type]"
   ]
  },
  {
   "cell_type": "markdown",
   "metadata": {},
   "source": [
    "### 3.8 長さ"
   ]
  },
  {
   "cell_type": "markdown",
   "metadata": {},
   "source": [
    "#### 1) 壁幅"
   ]
  },
  {
   "cell_type": "markdown",
   "metadata": {},
   "source": [
    "$i$階の外周長を$L_{p,i}$、$i$階の床面積の合計を$A_{floor,i}$とおき、$i$階の長辺側・短辺側の壁幅をそれぞれ、$L_{long,i}$、$L_{short,i}$とすると次が成り立つ。"
   ]
  },
  {
   "cell_type": "markdown",
   "metadata": {},
   "source": [
    "$$\n",
    "L_{p,i} = ( L_{long,i} + L_{short,i} ) \\times 2\n",
    "$$"
   ]
  },
  {
   "cell_type": "markdown",
   "metadata": {},
   "source": [
    "$$\n",
    "A_{floor,i} = L_{long,i} \\times L_{short,i}\n",
    "$$"
   ]
  },
  {
   "cell_type": "markdown",
   "metadata": {},
   "source": [
    "両式から、$L_{short,i}$を消すと、"
   ]
  },
  {
   "cell_type": "markdown",
   "metadata": {},
   "source": [
    "$$\n",
    "A_{floor,i} = L_{long,i} \\times \\left( \\frac{L_{p,i}}{2} - L_{long,i} \\right)\n",
    "$$"
   ]
  },
  {
   "cell_type": "markdown",
   "metadata": {},
   "source": [
    "$$\n",
    "\\Leftrightarrow L_{long,i}^2 - \\frac{L_{p,i}}{2} \\times L_{long,i} + A_{floor,i} = 0\n",
    "$$"
   ]
  },
  {
   "cell_type": "markdown",
   "metadata": {},
   "source": [
    "となり、"
   ]
  },
  {
   "cell_type": "markdown",
   "metadata": {},
   "source": [
    "$$\n",
    "L_{long,i} = \\frac{ \\frac{L_{p,i}}{2} + \\sqrt{ \\left ( \\frac{L_{p,i}}{2} \\right ) ^2 - 4 \\times A_{floor,i} } }{2}\n",
    "$$"
   ]
  },
  {
   "cell_type": "markdown",
   "metadata": {},
   "source": [
    "$$\n",
    "L_{short,i} = \\frac{A_{floor,i}}{L_{long,i}}\n",
    "$$"
   ]
  },
  {
   "cell_type": "markdown",
   "metadata": {},
   "source": [
    "$L_{long,i}$：i階の長辺側の壁幅(m)  \n",
    "$L_{short,i}$：i階の短辺側の壁幅(m)  \n",
    "$L_{p,i}$：i階の外周長(m)  \n",
    "$A_{floor,i}$：i階の床面積の合計(m<sup>2</sup>)  "
   ]
  },
  {
   "cell_type": "code",
   "execution_count": 39,
   "metadata": {
    "collapsed": true
   },
   "outputs": [],
   "source": [
    "def get_L_long_i(L_p_i,A_floor_i):\n",
    "    return ( L_p_i/2 + math.sqrt( (L_p_i/2)**2 - 4*A_floor_i  ) )/2"
   ]
  },
  {
   "cell_type": "code",
   "execution_count": 40,
   "metadata": {
    "collapsed": true
   },
   "outputs": [],
   "source": [
    "def get_L_short_i(L_p_i,A_floor_i):\n",
    "    return A_floor_i / get_L_long_i(L_p_i,A_floor_i)"
   ]
  },
  {
   "cell_type": "markdown",
   "metadata": {
    "collapsed": true
   },
   "source": [
    "#### 2) 土間床外周部及び基礎等の長さ"
   ]
  },
  {
   "cell_type": "markdown",
   "metadata": {
    "collapsed": true
   },
   "source": [
    "$$\n",
    "L_{F,ex} = \\left \\{\n",
    "\\begin{array}{ll}\n",
    "    \\sqrt{ A_{EF} } \\times 2 & (床断熱) \\\\\n",
    "    L_{p,1} & (基礎断熱)\n",
    "\\end{array}\n",
    "\\right.\n",
    "$$"
   ]
  },
  {
   "cell_type": "markdown",
   "metadata": {},
   "source": [
    "$$\n",
    "L_{F,in} = \\left \\{\n",
    "\\begin{array}{ll}\n",
    "    \\sqrt{A_{EF}} \\times 2 & (床断熱) \\\\\n",
    "    0 & (基礎断熱)\n",
    "\\end{array}\n",
    "\\right.\n",
    "$$"
   ]
  },
  {
   "cell_type": "markdown",
   "metadata": {},
   "source": [
    "$L_{F,ex}$：土間床外周部及び基礎等の外気側の長さ(m)  \n",
    "$L_{F,in}$：土間床外周部及び基礎等の室内側の長さ(m)  \n",
    "$L_{p,1}$：1階の外周長(m)  \n",
    "$A_{EF}$：土間床の面積の合計(m<sup>2</sup>)"
   ]
  },
  {
   "cell_type": "code",
   "execution_count": 41,
   "metadata": {
    "collapsed": true
   },
   "outputs": [],
   "source": [
    "def get_L_F_ex(A_EF, L_p_1, floor_ins_type):\n",
    "    # floor_ins_type : 'base', 'floor' as string\n",
    "    return {\n",
    "        'floor' : math.sqrt(A_EF) * 2,\n",
    "        'base'  : L_p_1\n",
    "    }[floor_ins_type]"
   ]
  },
  {
   "cell_type": "code",
   "execution_count": 42,
   "metadata": {
    "collapsed": true
   },
   "outputs": [],
   "source": [
    "def get_L_F_in(A_EF, floor_ins_type):\n",
    "    # floor_ins_type : 'base', 'floor' as string\n",
    "    return {\n",
    "        'floor' : math.sqrt(A_EF) * 2,\n",
    "        'base'  : 0.0\n",
    "    }[floor_ins_type]"
   ]
  },
  {
   "cell_type": "markdown",
   "metadata": {},
   "source": [
    "#### 3) 高さ"
   ]
  },
  {
   "cell_type": "markdown",
   "metadata": {},
   "source": [
    "最上階でかつ屋根断熱の場合は、屋根勾配がある分だけ階高にプラスして高さを計算することとする。屋根勾配は安全側の数値として、長辺側の壁幅をもとに計算する。屋根形状は両流れ屋根とするため2で割っている。"
   ]
  },
  {
   "cell_type": "markdown",
   "metadata": {},
   "source": [
    "$$\n",
    "h_i = \\left \\{\n",
    "\\begin{array}{ll}\n",
    "h_{story,i} + L_{long,i} \\times \\frac{ D_{pitch,i} }{10} \\times \\frac{1}{2} & (\\text{屋根断熱 & 最上階}(i=N)) \\\\\n",
    "h_{story,i} & (\\text{上記以外})\n",
    "\\end{array}\n",
    "\\right.\n",
    "$$"
   ]
  },
  {
   "cell_type": "code",
   "execution_count": 43,
   "metadata": {
    "collapsed": false
   },
   "outputs": [],
   "source": [
    "def get_h(h_story, L_long, D_pitch, roof_ins_type, nstory):\n",
    "    # roof_ins_type : 'roof' 'ceiling' as string\n",
    "    # nstory : number of story, '1st' '2nd' '3rd' as string\n",
    "    \n",
    "    h = h_story\n",
    "    \n",
    "    i = { '1st' : 0, '2nd' : 1, '3rd' : 2 }\n",
    "    \n",
    "    if roof_ins_type == 'roof':\n",
    "        h[i] = h[i] + L_long[i] * D_pitch[i] / 10 / 2\n",
    "        \n",
    "    return h"
   ]
  },
  {
   "cell_type": "markdown",
   "metadata": {},
   "source": [
    "#### 4) 階高"
   ]
  },
  {
   "cell_type": "markdown",
   "metadata": {},
   "source": [
    "階高を指定しない場合は、1階を2.9m、2階を2.7m、3階を2.7mとする。  \n",
    "階高を指定する場合は、建物高さを階数でわって計算する。"
   ]
  },
  {
   "cell_type": "code",
   "execution_count": 44,
   "metadata": {
    "collapsed": true
   },
   "outputs": [],
   "source": [
    "def get_h_story(nstory, isSpecifyHeight, h):\n",
    "    # nstory : number of story, '1st' '2nd' '3rd' as string\n",
    "    # isSpecifyHeight : 'yes' 'no' as string\n",
    "    # h : total height of building (m)\n",
    "    return {\n",
    "        'yes' : {\n",
    "            '1st' : [h],\n",
    "            '2nd' : [h/2, h/2],\n",
    "            '3rd' : [h/3, h/3, h/3]\n",
    "        }[nstory],\n",
    "        'no'  : {\n",
    "            '1st' : [2.9],\n",
    "            '2nd' : [2.9, 2.7],\n",
    "            '3rd' : [2.9, 2.7, 2.7]\n",
    "        }[nstory],\n",
    "    }[isSpecifyHeight]"
   ]
  },
  {
   "cell_type": "markdown",
   "metadata": {},
   "source": [
    "#### 使用例"
   ]
  },
  {
   "cell_type": "code",
   "execution_count": 45,
   "metadata": {
    "collapsed": false
   },
   "outputs": [
    {
     "data": {
      "text/plain": [
       "[3.0]"
      ]
     },
     "execution_count": 45,
     "metadata": {},
     "output_type": "execute_result"
    }
   ],
   "source": [
    "get_h_story('1st','yes',3.0)"
   ]
  },
  {
   "cell_type": "code",
   "execution_count": 46,
   "metadata": {
    "collapsed": false
   },
   "outputs": [
    {
     "data": {
      "text/plain": [
       "[2.9]"
      ]
     },
     "execution_count": 46,
     "metadata": {},
     "output_type": "execute_result"
    }
   ],
   "source": [
    "get_h_story('1st','no',3.0)"
   ]
  },
  {
   "cell_type": "code",
   "execution_count": 47,
   "metadata": {
    "collapsed": false
   },
   "outputs": [
    {
     "data": {
      "text/plain": [
       "[3.0, 3.0]"
      ]
     },
     "execution_count": 47,
     "metadata": {},
     "output_type": "execute_result"
    }
   ],
   "source": [
    "get_h_story('2nd','yes',6.0)"
   ]
  },
  {
   "cell_type": "code",
   "execution_count": 48,
   "metadata": {
    "collapsed": false
   },
   "outputs": [
    {
     "data": {
      "text/plain": [
       "[2.9, 2.7]"
      ]
     },
     "execution_count": 48,
     "metadata": {},
     "output_type": "execute_result"
    }
   ],
   "source": [
    "get_h_story('2nd','no',6.0)"
   ]
  },
  {
   "cell_type": "code",
   "execution_count": 49,
   "metadata": {
    "collapsed": false
   },
   "outputs": [
    {
     "data": {
      "text/plain": [
       "[3.0, 3.0, 3.0]"
      ]
     },
     "execution_count": 49,
     "metadata": {},
     "output_type": "execute_result"
    }
   ],
   "source": [
    "get_h_story('3rd','yes',9.0)"
   ]
  },
  {
   "cell_type": "code",
   "execution_count": 50,
   "metadata": {
    "collapsed": false
   },
   "outputs": [
    {
     "data": {
      "text/plain": [
       "[2.9, 2.7, 2.7]"
      ]
     },
     "execution_count": 50,
     "metadata": {},
     "output_type": "execute_result"
    }
   ],
   "source": [
    "get_h_story('3rd','no',9.0)"
   ]
  },
  {
   "cell_type": "markdown",
   "metadata": {},
   "source": [
    "## 4. U<sub>A</sub>値・η<sub>A</sub>値の計算"
   ]
  },
  {
   "cell_type": "code",
   "execution_count": 51,
   "metadata": {
    "collapsed": false
   },
   "outputs": [],
   "source": [
    "def get_env_performance(spec, isDEBUG):\n",
    "    region             = spec['region']\n",
    "    roof_ins_type      = spec['roof_ins_type']\n",
    "    floor_ins_type     = spec['floor_ins_type']\n",
    "    nstory             = spec['nstory']\n",
    "    isSpecifyHeight    = spec['isSpecifyHeight']\n",
    "    h_total            = spec['total_height']\n",
    "    main_direction     = spec['main_direction']\n",
    "    A_floor            = spec['floor_area']\n",
    "    L_p                = spec['perimeter_length']\n",
    "    A_window_total     = spec['total_wnd_area']\n",
    "    U_wall             = spec['U_wall']\n",
    "    U_roof             = spec['U_roof']\n",
    "    U_exfloor_C        = spec['U_exfloor_C']\n",
    "    U_exfloor_O        = spec['U_exfloor_O']\n",
    "    psi_base_ex        = spec['psi_fund_ex']\n",
    "    psi_base_in        = spec['psi_fund_in']\n",
    "    U_window_main      = spec['U_wnd_main']\n",
    "    U_window_other     = spec['U_wnd_other']\n",
    "    eta_H_window_main  = spec['eta_H_wnd_main']\n",
    "    eta_H_window_other = spec['eta_H_wnd_other']\n",
    "    eta_C_window_main  = spec['eta_C_wnd_main']\n",
    "    eta_C_window_other = spec['eta_C_wnd_other']\n",
    "    D_pitch            = spec['D_pitch']\n",
    "\n",
    "    h_story = get_h_story(nstory, isSpecifyHeight, h_total)\n",
    "    if isDEBUG: print( '階高(m):' + str(h_story))\n",
    "        \n",
    "    L_long = [ get_L_long_i(l,a) for l,a in zip(L_p, A_floor) ]\n",
    "    if isDEBUG: print( '長辺側の壁幅(m):' + str(L_long))\n",
    "    \n",
    "    L_short = [ get_L_short_i(l,a) for l,a in zip(L_p, A_floor) ]\n",
    "    if isDEBUG: print( '短辺側の壁幅(m):' + str(L_short) )\n",
    "    \n",
    "    h = get_h(h_story, L_long, D_pitch, roof_ins_type, nstory)\n",
    "    if isDEBUG: print( '高さ(m):' + str(h) )\n",
    "    \n",
    "    A_EF = get_A_EF(A_floor[0], floor_ins_type)\n",
    "    if isDEBUG: print( '土間床の面積の合計(m):' + str(A_EF))\n",
    "    \n",
    "    L_base_ex = get_L_F_ex(A_EF, L_p[0], floor_ins_type)\n",
    "    if isDEBUG: print('土間床外周部及び基礎等の外気側の長さ(m):' + str(L_base_ex))\n",
    "        \n",
    "    L_base_in = get_L_F_in(A_EF, floor_ins_type)\n",
    "    if isDEBUG: print('土間床外周部及び基礎等の室内側の長さ(m):' + str(L_base_in))\n",
    "    \n",
    "    A_exfloor = get_A_exfloor(A_floor, A_EF)\n",
    "    if isDEBUG: print('外気床の面積の合計(m2):' + str(A_exfloor))\n",
    "    \n",
    "    A_window = get_A_window(A_window_total)\n",
    "    if isDEBUG: print('窓面積の合計(m2):' + str(A_window))\n",
    "        \n",
    "    A_wall = get_A_wall(L_long, L_short, h, A_window)\n",
    "    if isDEBUG: print('壁面積の合計(m2):' + str(A_wall))\n",
    "        \n",
    "    A_roof = get_A_roof(A_floor, D_pitch, roof_ins_type)\n",
    "    if isDEBUG: print('天井又は外気屋根の面積の合計(m2):' + str(A_roof))\n",
    "\n",
    "    A_env_total = get_A_env_total(A_roof, A_window, A_wall, A_exfloor, A_EF)\n",
    "    if isDEBUG: print('部位の面積の合計(m2):' + str(A_env_total))\n",
    "    \n",
    "    q_roof = get_q_roof(A_roof, U_roof)\n",
    "    if isDEBUG: print('q値(天井又は外気屋根)(W/K):' + str(q_roof))\n",
    "    \n",
    "    q_window = get_q_window(A_window, U_window_main, U_window_other)\n",
    "    if isDEBUG: print('q値(窓)(W/K):' + str(q_window))\n",
    "    \n",
    "    q_wall = get_q_wall(A_wall, U_wall)\n",
    "    if isDEBUG: print('q値(壁)(W/K):' + str(q_wall))\n",
    "    \n",
    "    q_floor = get_q_floor(A_exfloor, U_exfloor_C, U_exfloor_O)\n",
    "    if isDEBUG: print('q値(外気床)(W/K):' + str(q_floor))\n",
    "    \n",
    "    q_base = get_q_base(L_base_ex, L_base_in, psi_base_ex, psi_base_in)\n",
    "    if isDEBUG: print('q値(土間床外周部及び基礎等)(W/K):' + str(q_base))\n",
    "    \n",
    "    q_total = get_q_total(q_roof, q_window, q_wall, q_floor, q_base)\n",
    "    if isDEBUG: print('q値(合計)(W/K):' + str(q_total))\n",
    "    \n",
    "    U_A = get_U_A(q_total, A_env_total)\n",
    "    if isDEBUG: print('UA値(W/m2K):' + str(U_A))\n",
    "    \n",
    "    nu_H_top = get_nu_H_top()\n",
    "    nu_C_top = get_nu_C_top()\n",
    "    if isDEBUG: print('方位係数(上側) 暖房期:' + str(nu_H_top) + ',冷房期:' + str(nu_C_top) )\n",
    "        \n",
    "    nu_H_horizontal = get_nu_H_horizontal(region, main_direction)\n",
    "    nu_C_horizontal = get_nu_C_horizontal(region, main_direction)\n",
    "    if isDEBUG: print('方位係数(水平方向) 暖房期:' + str(nu_H_horizontal) + ',冷房期:' + str(nu_C_horizontal) )\n",
    "\n",
    "    eta_H_roof = get_eta_H_roof(U_roof)\n",
    "    eta_C_roof = get_eta_C_roof(U_roof)\n",
    "    if isDEBUG: print('η値(屋根) 暖房期:' + str(eta_H_roof) + ',冷房期:' + str(eta_C_roof) )\n",
    "\n",
    "    eta_H_wall = get_eta_H_wall(U_wall)\n",
    "    eta_C_wall = get_eta_C_wall(U_wall)\n",
    "    if isDEBUG: print('η値(壁) 暖房期:' + str(eta_H_wall) + ',冷房期:' + str(eta_C_wall) )\n",
    "\n",
    "    m_H_roof = get_m_H_roof(A_roof, eta_H_roof, nu_H_top)\n",
    "    m_C_roof = get_m_C_roof(A_roof, eta_C_roof, nu_C_top)\n",
    "    if isDEBUG: print('m値(屋根) 暖房期:' + str(m_H_roof) + ',冷房期:' + str(m_C_roof) )\n",
    "\n",
    "    m_H_window = get_m_H_window(A_window, eta_H_window_main, eta_H_window_other, nu_H_horizontal)\n",
    "    m_C_window = get_m_C_window(A_window, eta_C_window_main, eta_C_window_other, nu_C_horizontal)\n",
    "    if isDEBUG: print('m値(窓) 暖房期:' + str(m_H_window) + ',冷房期:' + str(m_C_window) )\n",
    "\n",
    "    m_H_wall = get_m_H_wall(A_wall, eta_H_wall, nu_H_horizontal)\n",
    "    m_C_wall = get_m_C_wall(A_wall, eta_C_wall, nu_C_horizontal)\n",
    "    if isDEBUG: print('m値(壁) 暖房期:' + str(m_H_wall) + ',冷房期:' + str(m_C_wall) )\n",
    "\n",
    "    m_H_total = get_m_H_total(m_H_roof, m_H_window, m_H_wall)\n",
    "    m_C_total = get_m_C_total(m_C_roof, m_C_window, m_C_wall)\n",
    "    if isDEBUG: print('m値(合計) 暖房期:' + str(m_H_total) + ',冷房期:' + str(m_C_total) )\n",
    "\n",
    "    eta_A_H = get_eta_A_H(m_H_total, A_env_total)\n",
    "    eta_A_C = get_eta_A_C(m_C_total, A_env_total)\n",
    "    if isDEBUG: print('ηA値 暖房期:' + str(eta_A_H) + ',冷房期:' + str(eta_A_C) )\n",
    "    \n",
    "    return (U_A, eta_A_H, eta_A_C)"
   ]
  },
  {
   "cell_type": "markdown",
   "metadata": {},
   "source": [
    "#### Example"
   ]
  },
  {
   "cell_type": "code",
   "execution_count": 52,
   "metadata": {
    "collapsed": false
   },
   "outputs": [
    {
     "name": "stdout",
     "output_type": "stream",
     "text": [
      "階高(m):[2.8, 2.8]\n",
      "長辺側の壁幅(m):[12.259787466738834, 9.576898018348473]\n",
      "短辺側の壁幅(m):[5.5376163888801155, 5.449572492054177]\n",
      "高さ(m):[2.8, 2.8]\n",
      "土間床の面積の合計(m):2.51193\n",
      "土間床外周部及び基礎等の外気側の長さ(m):3.169813874662044\n",
      "土間床外周部及び基礎等の室内側の長さ(m):3.169813874662044\n",
      "外気床の面積の合計(m2):[65.37807, 0.0]\n",
      "窓面積の合計(m2):Orientation(deg0=19.736685288640597, deg90=3.967374301675978, deg180=4.778882681564245, deg270=3.7970577281191806)\n",
      "壁面積の合計(m2):Orientation(deg0=41.40603406960385, deg90=26.796754564940038, deg180=56.3638366766802, deg270=26.967071138496834)\n",
      "天井又は外気屋根の面積の合計(m2):[15.700000000000003, 52.19]\n",
      "部位の面積の合計(m2):319.5936964497209\n",
      "q値(天井又は外気屋根)(W/K):16.293599999999998\n",
      "q値(窓)(W/K):150.10200000000003\n",
      "q値(壁)(W/K):80.3128591183521\n",
      "q値(外気床)(W/K):21.967031519999995\n",
      "q値(土間床外周部及び基礎等)(W/K):9.699630456465854\n",
      "q値(合計)(W/K):278.375121094818\n",
      "UA値(W/m2K):0.8710281966985307\n",
      "方位係数(上側) 暖房期:1.0,冷房期:1.0\n",
      "方位係数(水平方向) 暖房期:Orientation(deg0=0.936, deg90=0.523, deg180=0.261, deg270=0.579),冷房期:Orientation(deg0=0.434, deg90=0.504, deg180=0.341, deg270=0.512)\n",
      "η値(屋根) 暖房期:0.00816,冷房期:0.00816\n",
      "η値(壁) 暖房期:0.01802,冷房期:0.01802\n",
      "m値(屋根) 暖房期:0.5539824000000001,冷房期:0.5539824000000001\n",
      "m値(窓) 暖房期:9.055433344491622,冷房期:9.730439576916202\n",
      "m値(壁) 暖房期:1.4973835425132573,冷房期:1.1623439125350632\n",
      "m値(合計) 暖房期:11.106799287004879,冷房期:11.446765889451266\n",
      "ηA値 暖房期:3.4752873446464307,冷房期:3.581661971625305\n"
     ]
    },
    {
     "data": {
      "text/plain": [
       "(0.8710281966985307, 3.4752873446464307, 3.581661971625305)"
      ]
     },
     "execution_count": 52,
     "metadata": {},
     "output_type": "execute_result"
    }
   ],
   "source": [
    "spec = {\n",
    "    'region'          : 'region6',\n",
    "    'roof_ins_type'   : 'ceiling',\n",
    "    'floor_ins_type'  : 'floor',\n",
    "    'nstory'          : '2nd',\n",
    "    'isSpecifyHeight' : 'yes',\n",
    "    'total_height'    : 5.6,\n",
    "    'main_direction'  : 'S',\n",
    "    'floor_area'      : [ 67.89, 52.19 ],\n",
    "    'perimeter_length': [ 35.5948077112379, 30.0529410208053 ],\n",
    "    'total_wnd_area'  : 32.28,\n",
    "    'U_wall'          : 0.53,\n",
    "    'U_roof'          : 0.24,\n",
    "    'U_exfloor_C'     : 0.48,\n",
    "    'U_exfloor_O'     : 0.34,\n",
    "    'psi_fund_ex'     : 1.8,\n",
    "    'psi_fund_in'     : 1.8,\n",
    "    'U_wnd_main'      : 4.65,\n",
    "    'U_wnd_other'     : 4.65,\n",
    "    'eta_H_wnd_main'  : 0.74 * 0.51,\n",
    "    'eta_H_wnd_other' : 0.74 * 0.51,\n",
    "    'eta_C_wnd_main'  : 0.74 * 0.93,\n",
    "    'eta_C_wnd_other' : 0.74 * 0.93,\n",
    "    'D_pitch'         : [ 0.0, 0.0]\n",
    "}\n",
    "get_env_performance(spec,True)"
   ]
  },
  {
   "cell_type": "code",
   "execution_count": null,
   "metadata": {
    "collapsed": true
   },
   "outputs": [],
   "source": []
  }
 ],
 "metadata": {
  "kernelspec": {
   "display_name": "Python 3",
   "language": "python",
   "name": "python3"
  },
  "language_info": {
   "codemirror_mode": {
    "name": "ipython",
    "version": 3
   },
   "file_extension": ".py",
   "mimetype": "text/x-python",
   "name": "python",
   "nbconvert_exporter": "python",
   "pygments_lexer": "ipython3",
   "version": "3.6.2"
  }
 },
 "nbformat": 4,
 "nbformat_minor": 2
}
