{
 "cells": [
  {
   "cell_type": "code",
   "execution_count": 1,
   "metadata": {
    "pycharm": {
     "is_executing": false
    }
   },
   "outputs": [],
   "source": [
    "import math\n",
    "import numpy as np\n",
    "from typing import List, Tuple\n",
    "from enum import Enum\n",
    "import xlrd\n",
    "from decimal import Decimal, ROUND_DOWN, ROUND_UP\n",
    "\n",
    "import direction_coefficient as dc\n",
    "import f_value"
   ]
  },
  {
   "cell_type": "markdown",
   "metadata": {},
   "source": [
    "# 変更履歴"
   ]
  },
  {
   "cell_type": "markdown",
   "metadata": {},
   "source": [
    "- 2019.10.15: 浴室の床が断熱、浴室の床が外皮に接しない場合の計算を追加  \n",
    "それにより、外皮の部位の面積の合計が異なることが判明した。（2019.10時点の評価方法においては、床断熱住戸については同じ面積を使用している。）"
   ]
  },
  {
   "cell_type": "markdown",
   "metadata": {},
   "source": [
    "# 四捨五入"
   ]
  },
  {
   "cell_type": "markdown",
   "metadata": {},
   "source": [
    "建研HPで公表する値としては、さらに小数点2桁までにまとめた値とする。  \n",
    "丸める場合に、round関数は、JIS Z 8401 付属書A の方法（0.5の場合は偶数側に丸める）が適用されるため、自前に作成したround2関数で丸めることとする。この場合は、端数が「.5」の場合は、必ず大きい側（切り上げ側）に丸められる。"
   ]
  },
  {
   "cell_type": "code",
   "execution_count": 2,
   "metadata": {
    "pycharm": {
     "is_executing": false
    }
   },
   "outputs": [],
   "source": [
    "def round2(x,d=2):\n",
    "    p=10**d\n",
    "    return (x*p*2+1)//2/p\n",
    "#    return x.quantize(Decimal('0.01'), rounding=ROUND_HALF_UP)"
   ]
  },
  {
   "cell_type": "markdown",
   "metadata": {},
   "source": [
    "# 住宅の種類"
   ]
  },
  {
   "cell_type": "markdown",
   "metadata": {},
   "source": [
    "床・基礎部分の断熱方法"
   ]
  },
  {
   "cell_type": "code",
   "execution_count": 3,
   "metadata": {
    "pycharm": {
     "is_executing": false
    }
   },
   "outputs": [],
   "source": [
    "class FloorIns(Enum):\n",
    "\n",
    "    # 床断熱\n",
    "    FLOOR = 1\n",
    "    \n",
    "    # 基礎断熱\n",
    "    BASE = 2"
   ]
  },
  {
   "cell_type": "markdown",
   "metadata": {},
   "source": [
    "浴室における床・基礎部分の断熱方法"
   ]
  },
  {
   "cell_type": "code",
   "execution_count": 4,
   "metadata": {
    "pycharm": {
     "is_executing": false
    }
   },
   "outputs": [],
   "source": [
    "class BathIns(Enum):\n",
    "\n",
    "    # （浴室が2階にある等）浴室床が外皮に面さない\n",
    "    NOT_EXIST = 1\n",
    "    \n",
    "    # 床断熱\n",
    "    FLOOR = 2\n",
    "    \n",
    "    # 基礎断熱\n",
    "    BASE = 3"
   ]
  },
  {
   "cell_type": "markdown",
   "metadata": {},
   "source": [
    "# 保持するパラメータ"
   ]
  },
  {
   "cell_type": "code",
   "execution_count": 5,
   "metadata": {
    "pycharm": {
     "is_executing": false
    }
   },
   "outputs": [],
   "source": [
    "class House():\n",
    "    \n",
    "    def __init__(self, name, ver, floor_ins, bath_ins):\n",
    "        \n",
    "        # 名前\n",
    "        self.name = name\n",
    "        \n",
    "        # バージョン\n",
    "        self.ver = ver\n",
    "\n",
    "        # 床の断熱種類\n",
    "        self.floor_ins = floor_ins\n",
    "        \n",
    "        # 浴室の断熱種類\n",
    "        self.bath_ins = bath_ins\n",
    "        \n",
    "        # 床面積の合計, m2\n",
    "        self.a_f_total = None\n",
    "        \n",
    "        # 形状係数\n",
    "        self.sf = None\n",
    "        \n",
    "        # 1階の床面積に対する2階の床面積の比\n",
    "        self.r_fa = None\n",
    "        \n",
    "        # 基礎の高さ（一般部分）, m\n",
    "        self.h_base = None\n",
    "        \n",
    "        # 基礎の高さ（玄関）, m\n",
    "        self.h_base_entrance = None\n",
    "        \n",
    "        # 基礎の高さ（浴室）, m\n",
    "        self.h_base_bath = None\n",
    "        \n",
    "        # 高さ, m\n",
    "        self.h = None\n",
    "        \n",
    "        # ドアの面積（玄関）, m2\n",
    "        self.a_door_entrance = None\n",
    "        \n",
    "        # ドアの面積（勝手口）, m2\n",
    "        self.a_door_backentrance = None\n",
    "        \n",
    "        # 玄関の土間床等の周辺部の基礎長さ（主開口方位側）, m\n",
    "        self.l_base_entrance_ms = None\n",
    "        \n",
    "        # 玄関の土間床等の周辺部の基礎長さ（その他方位側）, m\n",
    "        self.l_base_entrance_os = None\n",
    "        \n",
    "        # 浴室の土間床等の周辺部の基礎長さ（主開口方位側）, m\n",
    "        self.l_base_bath_ms = None\n",
    "        \n",
    "        # 浴室の土間床等の周辺部の基礎長さ（その他方位側）, m\n",
    "        self.l_base_bath_os = None\n",
    "        \n",
    "        # 開口部の面積比率\n",
    "        self.r_opn = None\n",
    "        \n",
    "        # 方位別窓面積比率\n",
    "        self.r_wnd = None\n",
    "        \n",
    "        # 床面積（土間床含む）, m2        \n",
    "        self.a_f = None\n",
    "        \n",
    "        # 周長, m\n",
    "        self.l_prm = None\n",
    "\n",
    "        # 長辺の長さ, m\n",
    "        self.l_ls = None\n",
    "        \n",
    "        # 短辺の長さ, m\n",
    "        self.l_ss = None\n",
    "        \n",
    "        # 玄関の土間床等の面積, m2\n",
    "        self.a_ef_entrance = None\n",
    "        \n",
    "        # 浴室の土間床等の面積, m2\n",
    "        self.a_ef_bath = None\n",
    "        \n",
    "        # その他の土間床等の面積, m2\n",
    "        self.a_ef_other = None\n",
    "        \n",
    "        # 浴室の床断熱した床の面積, m2\n",
    "        self.a_if_bath = None\n",
    "        \n",
    "        # その他の床の面積, m2\n",
    "        self.a_if_other = None\n",
    "        \n",
    "        # 屋根又は天井の面積, m2\n",
    "        self.a_roof = None\n",
    "        \n",
    "        # 玄関等の土間床等の外周部の長さ（外気側）, m\n",
    "        self.l_base_entrance_outside = None\n",
    "        \n",
    "        # 玄関等の土間床等の外周部の長さ（床下側）, m\n",
    "        self.l_base_entrance_inside = None\n",
    "        \n",
    "        # 浴室の土間床等の外周部の長さ（外気側）, m\n",
    "        self.l_base_bath_outside = None\n",
    "        \n",
    "        # 浴室の土間床等の外周部の長さ（床下側）, m\n",
    "        self.l_base_bath_outside = None\n",
    "        \n",
    "        # その他の土間床等の外周部の長さ（外気側）, m\n",
    "        self.l_base_other_outside = None\n",
    "        \n",
    "        # その他の土間床等の外周部の長さ（床下側）, m\n",
    "        self.l_base_other_inside = None\n",
    "        \n",
    "        # 土間床周長（外気側）, m\n",
    "        self.l_prm_outside = None\n",
    "        \n",
    "        # 土間床周長（床下側）, m\n",
    "        self.l_prm_inside = None\n",
    "        \n",
    "        # 玄関等の基礎の面積（外気側）, m2\n",
    "        self.a_base_entrance_outside = None\n",
    "        \n",
    "        # 玄関等の基礎の面積（床下側）, m2\n",
    "        self.a_base_entrance_inside = None\n",
    "        \n",
    "        # 浴室の基礎の面積（外気側）, m2\n",
    "        self.a_base_bath_outside = None\n",
    "        \n",
    "        # 浴室の基礎の面積（床下側）, m2\n",
    "        self.a_base_bath_inside = None\n",
    "        \n",
    "        # その他の基礎の面積（外気側）, m2\n",
    "        self.a_base_other_outside = None\n",
    "        \n",
    "        # その他の基礎の面積（床下側）, m2\n",
    "        self.a_base_other_inside = None\n",
    "        \n",
    "        # 基礎の面積の合計\n",
    "        self.a_base_total = None\n",
    "        \n",
    "        # 垂直外皮面積, m2\n",
    "        self.a_srf = None\n",
    "        \n",
    "        # 基礎を除く外皮の部位の面積の合計, m2\n",
    "        self.a_dash_env = None\n",
    "        \n",
    "        # 外皮の部位の面積の合計, m2\n",
    "        self.a_env = None\n",
    "        \n",
    "        # 開口部の面積の合計, m2\n",
    "        self.a_opn = None\n",
    "        \n",
    "        # 窓の面積の合計, m2\n",
    "        self.a_wnd_total = None\n",
    "\n",
    "        # 窓の面積, m2\n",
    "        self.a_wnd = None\n",
    "        \n",
    "        # ドアの面積, m2\n",
    "        self.a_door = None\n",
    "\n",
    "        # 壁の面積, m2\n",
    "        self.a_wall = None"
   ]
  },
  {
   "cell_type": "markdown",
   "metadata": {},
   "source": [
    "# 計算ケース"
   ]
  },
  {
   "cell_type": "markdown",
   "metadata": {},
   "source": [
    "以下のケースについて検討する。\n",
    "- 床断熱住宅（外皮に接する浴室床なし）\n",
    "- 床断熱住宅（浴室床断熱）\n",
    "- 床断熱住宅（浴室基礎断熱）\n",
    "- 基礎断熱住宅"
   ]
  },
  {
   "cell_type": "code",
   "execution_count": 6,
   "metadata": {
    "pycharm": {
     "is_executing": false
    }
   },
   "outputs": [],
   "source": [
    "hs = [\n",
    "    House(name='床断熱住宅（外皮に接する浴室床なし）', ver=1, floor_ins=FloorIns.FLOOR, bath_ins=BathIns.NOT_EXIST),\n",
    "    House(name='床断熱住宅（浴室床断熱）', ver=1, floor_ins=FloorIns.FLOOR, bath_ins=BathIns.FLOOR),\n",
    "    House(name='床断熱住宅（浴室基礎断熱）', ver=1, floor_ins=FloorIns.FLOOR, bath_ins=BathIns.BASE),\n",
    "    House(name='基礎断熱住宅', ver=1, floor_ins=FloorIns.BASE, bath_ins=None)\n",
    "]"
   ]
  },
  {
   "cell_type": "markdown",
   "metadata": {},
   "source": [
    "# 公表資料の値"
   ]
  },
  {
   "cell_type": "code",
   "execution_count": 7,
   "metadata": {
    "pycharm": {
     "is_executing": false
    }
   },
   "outputs": [],
   "source": [
    "docs = [\n",
    "    {},\n",
    "    {},\n",
    "    {},\n",
    "    {}\n",
    "]"
   ]
  },
  {
   "cell_type": "markdown",
   "metadata": {},
   "source": [
    "# 簡易評価式の算出の前提"
   ]
  },
  {
   "cell_type": "markdown",
   "metadata": {},
   "source": [
    "部位の面積及び長さ等を計算するにあたっての前提条件を以下に示す。"
   ]
  },
  {
   "cell_type": "markdown",
   "metadata": {},
   "source": [
    "| 意味 | 記号| 値 | 単位 | 備考 |\n",
    "| --- | :---: | :---: | :---: | --- |\n",
    "| 階数 | - | 2 | - | - |\n",
    "| 床面積の合計 | $A_{F,total}$ | 90.0 | m<sup>2</sup> | - |\n",
    "| 形状係数(1階) | $SF_1$ | 1.08 | - | - |\n",
    "| 形状係数(2階) | $SF_2$ | 1.04 | - | - |\n",
    "| 主開口方位 | - | 南西 | - | - |\n",
    "| 1階の床面積に対する2階の床面積の比 | $r_{FA}$ | 0.77 | - | 自立循環型住宅プランの比を採用した。 |\n",
    "| 基礎の高さ(基礎断熱住宅) | $h_{base}$ | 0.5 | m | 基礎の高さとは土間基礎上端から1階床レベルまでの間を言う。<br>(GLからではない。) |\n",
    "| 基礎の高さ(玄関) | $h_{base,d}$ | 0.18 | m | - |\n",
    "| 基礎の高さ(浴室) | $h_{base,b}$ | 0.5 | m | - |\n",
    "| 高さ(1階) | $h_1$ | 2.9 | m | - |\n",
    "| 高さ(2階) | $h_2$ | 2.7 | m | - |\n",
    "| ドア(玄関) | $A_{door,1}$ | 1.89 | m<sup>2</sup> | 方位：北西 自立循環型住宅プランの面積を採用 |\n",
    "| ドア(勝手口) | $A_{door,2}$ | 1.62 | m<sup>2</sup> | 方位：北東 自立循環型住宅プランの面積を採用 |\n",
    "| 玄関の土間床等の周辺部の基礎長さ(主開口方位側) | $L_{base,d,MS}$ | 1.365 | m | - |\n",
    "| 玄関の土間床等の周辺部の基礎長さ(その他の方位側) | $L_{base,d,OS}$ | 1.82 | m | - |\n",
    "| 浴室の土間床等の周辺部の基礎長さ(主開口方位側) | $L_{base,b,MS}$ | 1.82 | m | - |\n",
    "| 浴室の土間床等の周辺部の基礎長さ(その他の方位側) | $L_{base,b,OS}$ | 1.82 | m | - |\n",
    "| 開口部の面積比率 | $r_{opn}$ | 0.14 | - | 床断熱住宅と基礎断熱住宅とを同じ開口部面積にするために、<br>基礎面積を含めない外皮表面積に対する値とする。 |\n",
    "| 方位別窓面積比率(南西) | $r_{wnd,SW}$ | 0.6862 | - | - |\n",
    "| 方位別窓面積比率(北西) | $r_{wnd,NW}$ | 0.0721 | - | - |\n",
    "| 方位別窓面積比率(北東) | $r_{wnd,NE}$ | 0.1097 | - | - |\n",
    "| 方位別窓面積比率(南東) | $r_{wnd,SE}$ | 0.1320 | - | - |\n"
   ]
  },
  {
   "cell_type": "markdown",
   "metadata": {},
   "source": [
    "※基礎の高さについて  \n",
    "下記を想定すると、根太がけの場合は524～539、根太レスの場合は479～494  \n",
    "・基礎の高さは400mm（参考：長期優良住宅）  \n",
    "・土台は105mm又は10mm  \n",
    "・根太は45mm（根太がけの場合のみ）  \n",
    "・床荒板およびフローリングは24mm（12mm＋12mm）  \n",
    "・GLから土間基礎上端までは50mm  \n",
    "あるいは下記を想定すると、根太がけの場合は489～504、根太レスの場合は444～459  \n",
    "・床下空間高さ（土間基礎上端から大引き下端まで）は330mmを確保（長期優良）  \n",
    "・大引は90又は105mm  \n",
    "・根太は45mm（根太がけの場合のみ）  \n",
    "・床荒板およびフローリングは24mm（12mm＋12mm）  \n",
    "以上を勘案して、500mmと決めた。"
   ]
  },
  {
   "cell_type": "markdown",
   "metadata": {},
   "source": [
    "## 階数"
   ]
  },
  {
   "cell_type": "markdown",
   "metadata": {},
   "source": [
    "階数は2階とする。"
   ]
  },
  {
   "cell_type": "markdown",
   "metadata": {},
   "source": [
    "##  床面積の合計"
   ]
  },
  {
   "cell_type": "markdown",
   "metadata": {},
   "source": [
    "$ A_{F,total} = 90.0 $ (m<sup>2</sup>)"
   ]
  },
  {
   "cell_type": "code",
   "execution_count": 8,
   "metadata": {
    "pycharm": {
     "is_executing": false
    }
   },
   "outputs": [],
   "source": [
    "for h in hs:\n",
    "    h.a_f_total = 90.0"
   ]
  },
  {
   "cell_type": "markdown",
   "metadata": {},
   "source": [
    "## 形状係数"
   ]
  },
  {
   "cell_type": "markdown",
   "metadata": {},
   "source": [
    "1階: $ SF_1 = 1.08 $  \n",
    "2階: $ SF_2 = 1.04 $"
   ]
  },
  {
   "cell_type": "code",
   "execution_count": 9,
   "metadata": {
    "pycharm": {
     "is_executing": false
    }
   },
   "outputs": [],
   "source": [
    "for h in hs:\n",
    "    h.sf = [1.08, 1.04]"
   ]
  },
  {
   "cell_type": "markdown",
   "metadata": {},
   "source": [
    "## 主開口方位"
   ]
  },
  {
   "cell_type": "markdown",
   "metadata": {},
   "source": [
    "南西とする。"
   ]
  },
  {
   "cell_type": "markdown",
   "metadata": {},
   "source": [
    "## 1階の床面積に対する2階の床面積の比"
   ]
  },
  {
   "cell_type": "markdown",
   "metadata": {},
   "source": [
    "自立循環型住宅プランの比を採用する。"
   ]
  },
  {
   "cell_type": "markdown",
   "metadata": {},
   "source": [
    "$ r_{FA} = 0.77 $"
   ]
  },
  {
   "cell_type": "code",
   "execution_count": 10,
   "metadata": {
    "pycharm": {
     "is_executing": false
    }
   },
   "outputs": [],
   "source": [
    "for h in hs:\n",
    "    h.r_fa = 0.77"
   ]
  },
  {
   "cell_type": "markdown",
   "metadata": {},
   "source": [
    "## 基礎の高さ"
   ]
  },
  {
   "cell_type": "markdown",
   "metadata": {},
   "source": [
    "$ h_{base} = 0.5 $ (m) (一般部分)  "
   ]
  },
  {
   "cell_type": "markdown",
   "metadata": {},
   "source": [
    "$ h_{base,entrance} = 0.18 $ (m) (玄関)"
   ]
  },
  {
   "cell_type": "markdown",
   "metadata": {},
   "source": [
    "$ h_{base,bath} = 0.5 $ (m) (浴室)"
   ]
  },
  {
   "cell_type": "code",
   "execution_count": 11,
   "metadata": {
    "pycharm": {
     "is_executing": false
    }
   },
   "outputs": [],
   "source": [
    "for h in hs:\n",
    "    h.h_base = 0.5\n",
    "    h.h_base_entrance = 0.18\n",
    "    h.h_base_bath = 0.5"
   ]
  },
  {
   "cell_type": "markdown",
   "metadata": {},
   "source": [
    "## 高さ"
   ]
  },
  {
   "cell_type": "markdown",
   "metadata": {},
   "source": [
    "$ h_1 = 2.9 $ (1階)  \n",
    "$ h_2 = 2.7 $ (2階)"
   ]
  },
  {
   "cell_type": "code",
   "execution_count": 12,
   "metadata": {
    "pycharm": {
     "is_executing": false
    }
   },
   "outputs": [],
   "source": [
    "for h in hs:\n",
    "    h.h = [2.9, 2.7]"
   ]
  },
  {
   "cell_type": "markdown",
   "metadata": {},
   "source": [
    "## ドアの面積"
   ]
  },
  {
   "cell_type": "markdown",
   "metadata": {},
   "source": [
    "玄関の方位は北西、勝手口の方位は北東とする。自立循環型住宅プランの面積を採用した。"
   ]
  },
  {
   "cell_type": "markdown",
   "metadata": {},
   "source": [
    "$ A_{door,entrance} = 1.89 $ (m<sup>2</sup>) (玄関)  "
   ]
  },
  {
   "cell_type": "markdown",
   "metadata": {},
   "source": [
    "$ A_{door,backentrance} = 1.62 $ (m<sup>2</sup>) (勝手口)"
   ]
  },
  {
   "cell_type": "code",
   "execution_count": 13,
   "metadata": {
    "pycharm": {
     "is_executing": false
    }
   },
   "outputs": [],
   "source": [
    "for h in hs:\n",
    "    h.a_door_entrance = 1.89\n",
    "    h.a_door_backentrance = 1.62"
   ]
  },
  {
   "cell_type": "markdown",
   "metadata": {},
   "source": [
    "## 玄関の土間床等の周辺部の基礎長さ"
   ]
  },
  {
   "cell_type": "markdown",
   "metadata": {},
   "source": [
    "$L_{base,entrance,MS}=1.365$(m)(主開口方位側)"
   ]
  },
  {
   "cell_type": "markdown",
   "metadata": {},
   "source": [
    "$L_{base,entrance,OS}=1.82$(m)(その他方位側)"
   ]
  },
  {
   "cell_type": "code",
   "execution_count": 14,
   "metadata": {
    "pycharm": {
     "is_executing": false
    }
   },
   "outputs": [],
   "source": [
    "for h in hs:\n",
    "    h.l_base_entrance_ms = 1.365\n",
    "    h.l_base_entrance_os = 1.82"
   ]
  },
  {
   "cell_type": "markdown",
   "metadata": {},
   "source": [
    "## 浴室の土間床等の周辺部の基礎長さ"
   ]
  },
  {
   "cell_type": "markdown",
   "metadata": {},
   "source": [
    "$L_{base,bath,MS}=1.82$(m)(主開口方位側)"
   ]
  },
  {
   "cell_type": "markdown",
   "metadata": {},
   "source": [
    "$L_{base,bath,OS}=1.82$(m)(その他方位側)"
   ]
  },
  {
   "cell_type": "code",
   "execution_count": 15,
   "metadata": {
    "pycharm": {
     "is_executing": false
    }
   },
   "outputs": [],
   "source": [
    "for h in hs:\n",
    "    h.l_base_bath_ms = 1.82\n",
    "    h.l_base_bath_os = 1.82"
   ]
  },
  {
   "cell_type": "markdown",
   "metadata": {},
   "source": [
    "## 開口部の面積比率"
   ]
  },
  {
   "cell_type": "markdown",
   "metadata": {},
   "source": [
    "$r_{opn} = 0.12$"
   ]
  },
  {
   "cell_type": "markdown",
   "metadata": {},
   "source": [
    "床断熱住宅と基礎断熱住宅とを同じ開口部面積にするために、基礎面積を含めない外皮表面積に対する値とする。"
   ]
  },
  {
   "cell_type": "code",
   "execution_count": 16,
   "metadata": {
    "pycharm": {
     "is_executing": false
    }
   },
   "outputs": [],
   "source": [
    "for h in hs:\n",
    "    h.r_opn = 0.12"
   ]
  },
  {
   "cell_type": "markdown",
   "metadata": {},
   "source": [
    "## 方位別窓面積比率"
   ]
  },
  {
   "cell_type": "markdown",
   "metadata": {},
   "source": [
    "南西  \n",
    "$r_{wnd,SW}=0.6862$  \n",
    "北西  \n",
    "$r_{wnd,NW}=0.0721$  \n",
    "北東  \n",
    "$r_{wnd,NE}=0.1097$  \n",
    "南東  \n",
    "$r_{wnd,SE}=0.1320$"
   ]
  },
  {
   "cell_type": "code",
   "execution_count": 17,
   "metadata": {
    "pycharm": {
     "is_executing": false
    }
   },
   "outputs": [],
   "source": [
    "for h in hs:\n",
    "    h.r_wnd = [0.6862, 0.0721, 0.1097, 0.1320]"
   ]
  },
  {
   "cell_type": "markdown",
   "metadata": {},
   "source": [
    "# 算出過程"
   ]
  },
  {
   "cell_type": "code",
   "execution_count": 18,
   "metadata": {
    "pycharm": {
     "is_executing": false
    }
   },
   "outputs": [],
   "source": [
    "def show_result(prm):\n",
    "    for h in hs:\n",
    "        print(str(h.name) + ' : ' + str(prm(h)))"
   ]
  },
  {
   "cell_type": "markdown",
   "metadata": {},
   "source": [
    "## 床面積(土間床含む)"
   ]
  },
  {
   "cell_type": "markdown",
   "metadata": {},
   "source": [
    "$ A_{F,1} = \\frac{A_{F,total}}{ ( 1 + r_{FA} )} $  \n",
    "\n",
    "$ A_{F,2} = A_{F,total} - A_{F,1} $\n",
    "\n",
    "$A_{F,total}$: 床面積の合計(m<sup>2</sup>)  \n",
    "$r_{FA}$: 1階の床面積に対する2階の床面積の比  \n",
    "$A_{F,1}$: 1階の床面積(土間床含む)(m<sup>2</sup>)  \n",
    "$A_{F,2}$: 2階の床面積(m<sup>2</sup>)"
   ]
  },
  {
   "cell_type": "code",
   "execution_count": 19,
   "metadata": {
    "pycharm": {
     "is_executing": false
    }
   },
   "outputs": [],
   "source": [
    "for h in hs:\n",
    "    a_f_1 = h.a_f_total / (1.0 + h.r_fa)\n",
    "    a_f_2 = h.a_f_total - a_f_1\n",
    "    h.a_f = [a_f_1, a_f_2]"
   ]
  },
  {
   "cell_type": "code",
   "execution_count": 20,
   "metadata": {
    "pycharm": {
     "is_executing": false
    },
    "scrolled": true
   },
   "outputs": [
    {
     "name": "stdout",
     "output_type": "stream",
     "text": [
      "床断熱住宅（外皮に接する浴室床なし） : [50.847457627118644, 39.152542372881356]\n",
      "床断熱住宅（浴室床断熱） : [50.847457627118644, 39.152542372881356]\n",
      "床断熱住宅（浴室基礎断熱） : [50.847457627118644, 39.152542372881356]\n",
      "基礎断熱住宅 : [50.847457627118644, 39.152542372881356]\n"
     ]
    }
   ],
   "source": [
    "show_result(lambda h: h.a_f)"
   ]
  },
  {
   "cell_type": "markdown",
   "metadata": {},
   "source": [
    "## 周長"
   ]
  },
  {
   "cell_type": "markdown",
   "metadata": {},
   "source": [
    "$ \\begin{align} L_{prm,i} = \\sqrt{A_{F,i}} \\times 4 \\times SF_i \\end{align} $\n",
    "\n",
    "$L_{prm,i}$: $i$階の周長(m)($i=1,2$)  \n",
    "$SF_i$: $i$階の形状係数($i=1,2$)  "
   ]
  },
  {
   "cell_type": "code",
   "execution_count": 21,
   "metadata": {
    "pycharm": {
     "is_executing": false
    }
   },
   "outputs": [],
   "source": [
    "for h in hs:\n",
    "    h.l_prm = [4 * sf_i * np.sqrt(a_f_i) for a_f_i, sf_i in zip(h.a_f, h.sf)]"
   ]
  },
  {
   "cell_type": "code",
   "execution_count": 22,
   "metadata": {
    "pycharm": {
     "is_executing": false
    }
   },
   "outputs": [
    {
     "name": "stdout",
     "output_type": "stream",
     "text": [
      "床断熱住宅（外皮に接する浴室床なし） : [30.80479821749104, 26.029948852968104]\n",
      "床断熱住宅（浴室床断熱） : [30.80479821749104, 26.029948852968104]\n",
      "床断熱住宅（浴室基礎断熱） : [30.80479821749104, 26.029948852968104]\n",
      "基礎断熱住宅 : [30.80479821749104, 26.029948852968104]\n"
     ]
    }
   ],
   "source": [
    "show_result(lambda h: h.l_prm)"
   ]
  },
  {
   "cell_type": "markdown",
   "metadata": {},
   "source": [
    "## 長辺の長さ"
   ]
  },
  {
   "cell_type": "markdown",
   "metadata": {},
   "source": [
    "$ \\displaystyle L_{LS,i} = \\frac{ \\frac{L_{prm,i}}{2} + \\sqrt{ \\left( \\frac{L_{prm,i}}{2} \\right)^2 - 4 \\times A_{F,i} } }{2} $\n",
    "\n",
    "$L_{LS,i}$: $i$階の長辺の長さ($i=1,2$)"
   ]
  },
  {
   "cell_type": "code",
   "execution_count": 23,
   "metadata": {
    "pycharm": {
     "is_executing": false
    }
   },
   "outputs": [],
   "source": [
    "for h in hs:\n",
    "    h.l_ls = [(l_prm_i / 2 + np.sqrt((l_prm_i / 2)**2 - 4 * a_f_i)) / 2\n",
    "              for l_prm_i, a_f_i in zip(h.l_prm, h.a_f)]"
   ]
  },
  {
   "cell_type": "code",
   "execution_count": 24,
   "metadata": {
    "pycharm": {
     "is_executing": false
    }
   },
   "outputs": [
    {
     "name": "stdout",
     "output_type": "stream",
     "text": [
      "床断熱住宅（外皮に接する浴室床なし） : [10.609982280729707, 8.29490083566609]\n",
      "床断熱住宅（浴室床断熱） : [10.609982280729707, 8.29490083566609]\n",
      "床断熱住宅（浴室基礎断熱） : [10.609982280729707, 8.29490083566609]\n",
      "基礎断熱住宅 : [10.609982280729707, 8.29490083566609]\n"
     ]
    }
   ],
   "source": [
    "show_result(lambda h: h.l_ls)"
   ]
  },
  {
   "cell_type": "markdown",
   "metadata": {},
   "source": [
    "## 短辺の長さ"
   ]
  },
  {
   "cell_type": "markdown",
   "metadata": {},
   "source": [
    "$ \\displaystyle L_{SS,i} = \\frac{L_{prm,i}}{2} - L_{LS,i} $"
   ]
  },
  {
   "cell_type": "markdown",
   "metadata": {},
   "source": [
    "$L_{ss,i}$: $i$階の短辺の長さ(m)"
   ]
  },
  {
   "cell_type": "code",
   "execution_count": 25,
   "metadata": {
    "pycharm": {
     "is_executing": false
    }
   },
   "outputs": [],
   "source": [
    "for h in hs:\n",
    "    h.l_ss = [l_prm_i / 2 - l_ls_i for l_prm_i, l_ls_i in zip(h.l_prm, h.l_ls)]"
   ]
  },
  {
   "cell_type": "code",
   "execution_count": 26,
   "metadata": {
    "pycharm": {
     "is_executing": false
    }
   },
   "outputs": [
    {
     "name": "stdout",
     "output_type": "stream",
     "text": [
      "床断熱住宅（外皮に接する浴室床なし） : [4.7924168280158135, 4.720073590817963]\n",
      "床断熱住宅（浴室床断熱） : [4.7924168280158135, 4.720073590817963]\n",
      "床断熱住宅（浴室基礎断熱） : [4.7924168280158135, 4.720073590817963]\n",
      "基礎断熱住宅 : [4.7924168280158135, 4.720073590817963]\n"
     ]
    }
   ],
   "source": [
    "show_result(lambda h: h.l_ss)"
   ]
  },
  {
   "cell_type": "markdown",
   "metadata": {},
   "source": [
    "## 玄関の土間床等の面積"
   ]
  },
  {
   "cell_type": "markdown",
   "metadata": {},
   "source": [
    "$ A_{EF,entrance} = L_{base,entrance,MS} \\times L_{base,entrance,OS} $\n",
    "\n",
    "$A_{EF,entrance}$: 玄関の土間床等の面積(m<sup>2</sup>)  \n",
    "$L_{base,entrance,MS}$: 玄関の土間床等の周辺部の基礎長さ(主開口方位側)(m)  \n",
    "$L_{base,entrance,OS}$: 玄関の土間床等の周辺部の基礎長さ(その他の方位側)(m)  "
   ]
  },
  {
   "cell_type": "code",
   "execution_count": 27,
   "metadata": {
    "pycharm": {
     "is_executing": false
    }
   },
   "outputs": [],
   "source": [
    "for h in hs:\n",
    "    h.a_ef_entrance = h.l_base_entrance_ms * h.l_base_entrance_os"
   ]
  },
  {
   "cell_type": "code",
   "execution_count": 28,
   "metadata": {
    "pycharm": {
     "is_executing": false
    }
   },
   "outputs": [
    {
     "name": "stdout",
     "output_type": "stream",
     "text": [
      "床断熱住宅（外皮に接する浴室床なし） : 2.4843\n",
      "床断熱住宅（浴室床断熱） : 2.4843\n",
      "床断熱住宅（浴室基礎断熱） : 2.4843\n",
      "基礎断熱住宅 : 2.4843\n"
     ]
    }
   ],
   "source": [
    "show_result(lambda h: h.a_ef_entrance)"
   ]
  },
  {
   "cell_type": "markdown",
   "metadata": {},
   "source": [
    "## 浴室の土間床等の面積"
   ]
  },
  {
   "cell_type": "markdown",
   "metadata": {},
   "source": [
    "$ A_{EF,bath} = L_{base,bath,MS} \\times L_{base,bath,OS} $\n",
    "\n",
    "$A_{EF,bath}$: 浴室の土間床等の面積(m<sup>2</sup>)  \n",
    "$L_{base,bath,MS}$: 浴室の土間床等の周辺部の基礎長さ(主開口方位側)(m)  \n",
    "$L_{base,bath,OS}$: 浴室の土間床等の周辺部の基礎長さ(その他の方位側)(m)  \n",
    "\n",
    "ただし、「床断熱住宅（外皮に接する浴室床なし）」及び「床断熱住宅（浴室床断熱）」の場合は、0.0(m<sup>2</sup>)とする。"
   ]
  },
  {
   "cell_type": "code",
   "execution_count": 29,
   "metadata": {
    "pycharm": {
     "is_executing": false
    }
   },
   "outputs": [],
   "source": [
    "for h in hs:\n",
    "    if h.floor_ins == FloorIns.FLOOR:\n",
    "        if h.bath_ins == BathIns.NOT_EXIST:\n",
    "            h.a_ef_bath = 0.0\n",
    "        elif h.bath_ins == BathIns.FLOOR:\n",
    "            h.a_ef_bath = 0.0\n",
    "        elif h.bath_ins == BathIns.BASE:\n",
    "            h.a_ef_bath = h.l_base_bath_ms * h.l_base_bath_os\n",
    "        else:\n",
    "            raise ValueError()\n",
    "    elif h.floor_ins == FloorIns.BASE:\n",
    "        h.a_ef_bath = h.l_base_bath_ms * h.l_base_bath_os\n",
    "    else:\n",
    "        raise ValueError()"
   ]
  },
  {
   "cell_type": "code",
   "execution_count": 30,
   "metadata": {
    "pycharm": {
     "is_executing": false
    }
   },
   "outputs": [
    {
     "name": "stdout",
     "output_type": "stream",
     "text": [
      "床断熱住宅（外皮に接する浴室床なし） : 0.0\n",
      "床断熱住宅（浴室床断熱） : 0.0\n",
      "床断熱住宅（浴室基礎断熱） : 3.3124000000000002\n",
      "基礎断熱住宅 : 3.3124000000000002\n"
     ]
    }
   ],
   "source": [
    "show_result(lambda h: h.a_ef_bath)"
   ]
  },
  {
   "cell_type": "markdown",
   "metadata": {},
   "source": [
    "## その他の土間床等の面積"
   ]
  },
  {
   "cell_type": "markdown",
   "metadata": {},
   "source": [
    "$ A_{EF,other} = A_{F,1} - A_{EF,entrance} - A_{EF,bath} $\n",
    "\n",
    "$ A_{EF,other} $: 土間床等の面積(玄関・浴室除く)(m<sup>2</sup>)  \n",
    "\n",
    "ただし、「床断熱住宅」の場合は、0.0(m<sup>2</sup>)とする。"
   ]
  },
  {
   "cell_type": "code",
   "execution_count": 31,
   "metadata": {
    "pycharm": {
     "is_executing": false
    }
   },
   "outputs": [],
   "source": [
    "for h in hs:\n",
    "    if h.floor_ins == FloorIns.FLOOR:\n",
    "        h.a_ef_other = 0.0\n",
    "    elif h.floor_ins == FloorIns.BASE:\n",
    "        h.a_ef_other = h.a_f[0] - h.a_ef_entrance - h.a_ef_bath\n",
    "    else:\n",
    "        raise ValueError()"
   ]
  },
  {
   "cell_type": "code",
   "execution_count": 32,
   "metadata": {
    "pycharm": {
     "is_executing": false
    }
   },
   "outputs": [
    {
     "name": "stdout",
     "output_type": "stream",
     "text": [
      "床断熱住宅（外皮に接する浴室床なし） : 0.0\n",
      "床断熱住宅（浴室床断熱） : 0.0\n",
      "床断熱住宅（浴室基礎断熱） : 0.0\n",
      "基礎断熱住宅 : 45.05075762711864\n"
     ]
    }
   ],
   "source": [
    "show_result(lambda h: h.a_ef_other)"
   ]
  },
  {
   "cell_type": "markdown",
   "metadata": {},
   "source": [
    "## 浴室の床の面積（2018.4～）"
   ]
  },
  {
   "cell_type": "markdown",
   "metadata": {},
   "source": [
    "2018年4月まで、床断熱住戸において浴室は必ず基礎断熱と想定していたため、2018年4月まではこの項目はなかった。"
   ]
  },
  {
   "cell_type": "markdown",
   "metadata": {},
   "source": [
    "$ A_{IF,bath} = L_{base,bath,MS} \\times L_{base,bath,OS} $\n",
    "\n",
    "$A_{IF,bath}$: 浴室の床断熱した床の面積(m<sup>2</sup>)  \n",
    "$L_{base,bath,MS}$: 浴室の土間床等の周辺部の基礎長さ(主開口方位側)(m)  \n",
    "$L_{base,bath,OS}$: 浴室の土間床等の周辺部の基礎長さ(その他の方位側)(m)  \n",
    "\n",
    "ただし、「床断熱住宅（外皮に接する浴室床なし）」及び「床断熱住宅（浴室床断熱）」の場合のみ。  \n",
    "その他の場合は、0.0(m<sup>2</sup>)とする。"
   ]
  },
  {
   "cell_type": "code",
   "execution_count": 33,
   "metadata": {
    "pycharm": {
     "is_executing": false
    }
   },
   "outputs": [],
   "source": [
    "for h in hs:\n",
    "    if h.floor_ins == FloorIns.FLOOR:\n",
    "        if h.bath_ins == BathIns.NOT_EXIST:\n",
    "            h.a_if_bath = h.l_base_bath_ms * h.l_base_bath_os\n",
    "        elif h.bath_ins == BathIns.FLOOR:\n",
    "            h.a_if_bath = h.l_base_bath_ms * h.l_base_bath_os\n",
    "        elif h.bath_ins == BathIns.BASE:\n",
    "            h.a_if_bath = 0.0\n",
    "        else:\n",
    "            raise ValueError()\n",
    "    elif h.floor_ins == FloorIns.BASE:\n",
    "        h.a_if_bath = 0.0\n",
    "    else:\n",
    "        raise ValueError()"
   ]
  },
  {
   "cell_type": "code",
   "execution_count": 34,
   "metadata": {
    "pycharm": {
     "is_executing": false
    }
   },
   "outputs": [
    {
     "name": "stdout",
     "output_type": "stream",
     "text": [
      "床断熱住宅（外皮に接する浴室床なし） : 3.3124000000000002\n",
      "床断熱住宅（浴室床断熱） : 3.3124000000000002\n",
      "床断熱住宅（浴室基礎断熱） : 0.0\n",
      "基礎断熱住宅 : 0.0\n"
     ]
    }
   ],
   "source": [
    "show_result(lambda h: h.a_if_bath)"
   ]
  },
  {
   "cell_type": "markdown",
   "metadata": {},
   "source": [
    "## その他の床の面積"
   ]
  },
  {
   "cell_type": "markdown",
   "metadata": {},
   "source": [
    "2018年4月までは、「床断熱した床の面積」と呼んでいた。"
   ]
  },
  {
   "cell_type": "markdown",
   "metadata": {},
   "source": [
    "$ A_{IF} = A_{F,1} - A_{EF,entrane} - A_{EF,bath} - A_{EF,other} - A_{IF,bath} $ "
   ]
  },
  {
   "cell_type": "markdown",
   "metadata": {},
   "source": [
    "$A_{IF}$: 床断熱した床の面積(m<sup>2</sup>)"
   ]
  },
  {
   "cell_type": "code",
   "execution_count": 35,
   "metadata": {
    "pycharm": {
     "is_executing": false
    }
   },
   "outputs": [],
   "source": [
    "for h in hs:\n",
    "    h.a_if_other = h.a_f[0] - h.a_ef_entrance - h.a_ef_bath - h.a_ef_other - h.a_if_bath"
   ]
  },
  {
   "cell_type": "code",
   "execution_count": 36,
   "metadata": {
    "pycharm": {
     "is_executing": false
    },
    "scrolled": true
   },
   "outputs": [
    {
     "name": "stdout",
     "output_type": "stream",
     "text": [
      "床断熱住宅（外皮に接する浴室床なし） : 45.05075762711864\n",
      "床断熱住宅（浴室床断熱） : 45.05075762711864\n",
      "床断熱住宅（浴室基礎断熱） : 45.05075762711864\n",
      "基礎断熱住宅 : 0.0\n"
     ]
    }
   ],
   "source": [
    "show_result(lambda h: h.a_if_other)"
   ]
  },
  {
   "cell_type": "markdown",
   "metadata": {},
   "source": [
    "## 屋根又は天井"
   ]
  },
  {
   "cell_type": "markdown",
   "metadata": {},
   "source": [
    "天井・屋根(下屋を含む)の面積は、オーバーハング床を想定しない限り、1階の床面積(土間床含む)と等しい。"
   ]
  },
  {
   "cell_type": "markdown",
   "metadata": {},
   "source": [
    "$ A_{roof} = A_{F,1}  $ "
   ]
  },
  {
   "cell_type": "markdown",
   "metadata": {},
   "source": [
    "$A_{roof}$: 天井・屋根(下屋を含む)の面積 (m<sup>2</sup>)"
   ]
  },
  {
   "cell_type": "code",
   "execution_count": 37,
   "metadata": {
    "pycharm": {
     "is_executing": false
    }
   },
   "outputs": [],
   "source": [
    "for h in hs:\n",
    "    h.a_roof = h.a_f[0]"
   ]
  },
  {
   "cell_type": "code",
   "execution_count": 38,
   "metadata": {
    "pycharm": {
     "is_executing": false
    }
   },
   "outputs": [
    {
     "name": "stdout",
     "output_type": "stream",
     "text": [
      "床断熱住宅（外皮に接する浴室床なし） : 50.847457627118644\n",
      "床断熱住宅（浴室床断熱） : 50.847457627118644\n",
      "床断熱住宅（浴室基礎断熱） : 50.847457627118644\n",
      "基礎断熱住宅 : 50.847457627118644\n"
     ]
    }
   ],
   "source": [
    "show_result(lambda h: h.a_roof)"
   ]
  },
  {
   "cell_type": "markdown",
   "metadata": {},
   "source": [
    "## 玄関等の土間床等の外周部の長さ（2017.7～）"
   ]
  },
  {
   "cell_type": "markdown",
   "metadata": {},
   "source": [
    "2017年7月から。それまでは玄関とその他の基礎の区別がなかった。"
   ]
  },
  {
   "cell_type": "markdown",
   "metadata": {},
   "source": [
    "外気側：  \n",
    "南西: $L_{base,entrance,SW}=0.0$  \n",
    "北西: $L_{base,entrance,NW}=L_{base,entrance,OS}$  \n",
    "北東: $L_{base,entrance,NE}=L_{base,entrance,MS}$  \n",
    "南東: $L_{base,entrance,SE}=0.0$  "
   ]
  },
  {
   "cell_type": "markdown",
   "metadata": {},
   "source": [
    "床下側:  \n",
    "$\n",
    "L_{base,entrance,inside} = \\left \\{\n",
    "\\begin{array}{ll}\n",
    "    L_{base,entrance,MS} + L_{base,entrance,OS} & \\text{ ( floor insulted house ) } \\\\\n",
    "    0.0 & \\text{ ( insulated house ) }\n",
    "\\end{array}\n",
    "\\right.\n",
    "$"
   ]
  },
  {
   "cell_type": "code",
   "execution_count": 39,
   "metadata": {
    "pycharm": {
     "is_executing": false
    }
   },
   "outputs": [],
   "source": [
    "for h in hs:\n",
    "    h.l_base_entrance_outside = (0.0, h.l_base_entrance_os, h.l_base_entrance_ms, 0.0)\n",
    "    h.l_base_entrance_inside = {\n",
    "        FloorIns.FLOOR: h.l_base_entrance_ms + h.l_base_entrance_os,\n",
    "        FloorIns.BASE: 0.0\n",
    "    }[h.floor_ins]"
   ]
  },
  {
   "cell_type": "code",
   "execution_count": 40,
   "metadata": {
    "pycharm": {
     "is_executing": false
    }
   },
   "outputs": [
    {
     "name": "stdout",
     "output_type": "stream",
     "text": [
      "床断熱住宅（外皮に接する浴室床なし） : (0.0, 1.82, 1.365, 0.0)\n",
      "床断熱住宅（浴室床断熱） : (0.0, 1.82, 1.365, 0.0)\n",
      "床断熱住宅（浴室基礎断熱） : (0.0, 1.82, 1.365, 0.0)\n",
      "基礎断熱住宅 : (0.0, 1.82, 1.365, 0.0)\n"
     ]
    }
   ],
   "source": [
    "show_result(lambda h: h.l_base_entrance_outside)"
   ]
  },
  {
   "cell_type": "code",
   "execution_count": 41,
   "metadata": {
    "pycharm": {
     "is_executing": false
    }
   },
   "outputs": [
    {
     "name": "stdout",
     "output_type": "stream",
     "text": [
      "床断熱住宅（外皮に接する浴室床なし） : 3.185\n",
      "床断熱住宅（浴室床断熱） : 3.185\n",
      "床断熱住宅（浴室基礎断熱） : 3.185\n",
      "基礎断熱住宅 : 0.0\n"
     ]
    }
   ],
   "source": [
    "show_result(lambda h: h.l_base_entrance_inside)"
   ]
  },
  {
   "cell_type": "markdown",
   "metadata": {},
   "source": [
    "## 浴室の土間床等の外周部の長さ（2018.4～）"
   ]
  },
  {
   "cell_type": "markdown",
   "metadata": {},
   "source": [
    "外気側：  \n",
    "南西:  $L_{base,bath,SW}=0.0$  \n",
    "北西:  $L_{base,bath,NW}=L_{base,bath,OS}$  \n",
    "北東:  $L_{base,bath,NE}=L_{base,bath,MS}$  \n",
    "南東:  $L_{base,bath,SE}=0.0$\n",
    "\n",
    "ただし、「床断熱住宅（外皮に接する浴室床なし）」、「床断熱住宅（浴室床断熱）」及び「基礎断熱住宅」の場合はいずれの長さも0mとする。"
   ]
  },
  {
   "cell_type": "markdown",
   "metadata": {},
   "source": [
    "室内側:  \n",
    "$ L_{base,bath,inside} = L_{base,bath,MS} + L_{base,bath,OS} $\n",
    "\n",
    "ただし、「床断熱住宅（外皮に接する浴室床なし）」、「床断熱住宅（浴室床断熱）」及び「基礎断熱住宅」の場合はいずれの長さも0mとする。"
   ]
  },
  {
   "cell_type": "code",
   "execution_count": 42,
   "metadata": {
    "pycharm": {
     "is_executing": false
    }
   },
   "outputs": [],
   "source": [
    "for h in hs:\n",
    "    if h.floor_ins == FloorIns.FLOOR:\n",
    "        if h.bath_ins == BathIns.NOT_EXIST or h.bath_ins == BathIns.FLOOR:\n",
    "            h.l_base_bath_outside = 0.0, 0.0, 0.0, 0.0\n",
    "            h.l_base_bath_inside = 0.0\n",
    "        elif h.bath_ins == BathIns.BASE:\n",
    "            h.l_base_bath_outside = 0.0, h.l_base_bath_os, h.l_base_bath_ms, 0.0\n",
    "            h.l_base_bath_inside = h.l_base_bath_ms + h.l_base_bath_os\n",
    "        else:\n",
    "            raise ValueError\n",
    "    elif h.floor_ins == FloorIns.BASE:\n",
    "        h.l_base_bath_outside = 0.0, h.l_base_bath_os, h.l_base_bath_ms, 0.0\n",
    "        h.l_base_bath_inside = 0.0\n",
    "    else:\n",
    "        raise ValueError"
   ]
  },
  {
   "cell_type": "code",
   "execution_count": 43,
   "metadata": {
    "pycharm": {
     "is_executing": false
    }
   },
   "outputs": [
    {
     "name": "stdout",
     "output_type": "stream",
     "text": [
      "床断熱住宅（外皮に接する浴室床なし） : (0.0, 0.0, 0.0, 0.0)\n",
      "床断熱住宅（浴室床断熱） : (0.0, 0.0, 0.0, 0.0)\n",
      "床断熱住宅（浴室基礎断熱） : (0.0, 1.82, 1.82, 0.0)\n",
      "基礎断熱住宅 : (0.0, 1.82, 1.82, 0.0)\n"
     ]
    }
   ],
   "source": [
    "show_result(lambda h: h.l_base_bath_outside)"
   ]
  },
  {
   "cell_type": "code",
   "execution_count": 44,
   "metadata": {
    "pycharm": {
     "is_executing": false
    },
    "scrolled": true
   },
   "outputs": [
    {
     "name": "stdout",
     "output_type": "stream",
     "text": [
      "床断熱住宅（外皮に接する浴室床なし） : 0.0\n",
      "床断熱住宅（浴室床断熱） : 0.0\n",
      "床断熱住宅（浴室基礎断熱） : 3.64\n",
      "基礎断熱住宅 : 0.0\n"
     ]
    }
   ],
   "source": [
    "show_result(lambda h: h.l_base_bath_inside)"
   ]
  },
  {
   "cell_type": "markdown",
   "metadata": {},
   "source": [
    "## その他の土間床等の外周部の長さ（2018.4～）"
   ]
  },
  {
   "cell_type": "markdown",
   "metadata": {},
   "source": [
    "南西: $L_{base,SW} = \\left \\{\n",
    "\\begin{array}{ll}\n",
    "    0.0 & \\text{ ( floor insulated house ) } \\\\\n",
    "    L_{LS,1} - L_{base,entrance,SW} - L_{base,bath,SW} & \\text{ ( base insulated house ) }\n",
    "\\end{array}\n",
    "\\right.\n",
    "$\n",
    "\n",
    "北西: $L_{base,NW} = \\left \\{\n",
    "\\begin{array}{ll}\n",
    "    0.0 & \\text{ ( floor insulated house ) } \\\\\n",
    "    L_{SS,1} - L_{base,entrance,NW} - L_{base,bath,NW} & \\text{ ( base insulated house ) }\n",
    "\\end{array}\n",
    "\\right.\n",
    "$\n",
    "\n",
    "北東: $L_{base,NE} = \\left \\{\n",
    "\\begin{array}{ll}\n",
    "    0.0 & \\text{ ( floor insulated house ) } \\\\\n",
    "    L_{LS,1} - L_{base,entrance,NE} - L_{base,bath,NE} & \\text{ ( base insulated house ) }\n",
    "\\end{array}\n",
    "\\right.\n",
    "$\n",
    "\n",
    "南東: $L_{base,SE} = \\left \\{\n",
    "\\begin{array}{ll}\n",
    "    0.0 & \\text{ ( floor insulated house ) } \\\\\n",
    "    L_{SS,1} - L_{base,entrance,SE} - L_{base,bath,SE} & \\text{ ( base insulated house ) }\n",
    "\\end{array}\n",
    "\\right.\n",
    "$"
   ]
  },
  {
   "cell_type": "markdown",
   "metadata": {},
   "source": [
    "室内側:  \n",
    "$ L_{base,inside} = 0.0 $"
   ]
  },
  {
   "cell_type": "code",
   "execution_count": 45,
   "metadata": {
    "pycharm": {
     "is_executing": false
    }
   },
   "outputs": [],
   "source": [
    "for h in hs:\n",
    "\n",
    "    if h.floor_ins == FloorIns.FLOOR:\n",
    "        h.l_base_other_outside = (0.0, 0.0, 0.0, 0.0)\n",
    "    elif h.floor_ins == FloorIns.BASE:\n",
    "        h.l_base_other_outside = (\n",
    "            h.l_ls[0] - h.l_base_entrance_outside[0] - h.l_base_bath_outside[0],\n",
    "            h.l_ss[0] - h.l_base_entrance_outside[1] - h.l_base_bath_outside[1],\n",
    "            h.l_ls[0] - h.l_base_entrance_outside[2] - h.l_base_bath_outside[2],\n",
    "            h.l_ss[0] - h.l_base_entrance_outside[3] - h.l_base_bath_outside[3]\n",
    "        )\n",
    "    else:\n",
    "        raise ValueError()    \n",
    "    h.l_base_other_inside = 0.0"
   ]
  },
  {
   "cell_type": "code",
   "execution_count": 46,
   "metadata": {
    "pycharm": {
     "is_executing": false
    }
   },
   "outputs": [
    {
     "name": "stdout",
     "output_type": "stream",
     "text": [
      "床断熱住宅（外皮に接する浴室床なし） : (0.0, 0.0, 0.0, 0.0)\n",
      "床断熱住宅（浴室床断熱） : (0.0, 0.0, 0.0, 0.0)\n",
      "床断熱住宅（浴室基礎断熱） : (0.0, 0.0, 0.0, 0.0)\n",
      "基礎断熱住宅 : (10.609982280729707, 1.1524168280158131, 7.424982280729706, 4.7924168280158135)\n"
     ]
    }
   ],
   "source": [
    "show_result(lambda h: h.l_base_other_outside)"
   ]
  },
  {
   "cell_type": "code",
   "execution_count": 47,
   "metadata": {
    "pycharm": {
     "is_executing": false
    }
   },
   "outputs": [
    {
     "name": "stdout",
     "output_type": "stream",
     "text": [
      "床断熱住宅（外皮に接する浴室床なし） : 0.0\n",
      "床断熱住宅（浴室床断熱） : 0.0\n",
      "床断熱住宅（浴室基礎断熱） : 0.0\n",
      "基礎断熱住宅 : 0.0\n"
     ]
    }
   ],
   "source": [
    "show_result(lambda h: h.l_base_other_inside)"
   ]
  },
  {
   "cell_type": "markdown",
   "metadata": {},
   "source": [
    "## 玄関等の基礎の面積（2017.7～）"
   ]
  },
  {
   "cell_type": "markdown",
   "metadata": {},
   "source": [
    "南西:  $ A_{base,entrance,SW} = L_{base,entrance,SW} \\times h_{base,entrance} $  \n",
    "北西:  $ A_{base,entrance,NW} = L_{base,entrance,NW} \\times h_{base,entrance} $  \n",
    "北東:  $ A_{base,entrance,NE} = L_{base,entrance,NE} \\times h_{base,entrance} $  \n",
    "南東:  $ L_{base,entrance,SE} = L_{base,entrance,SE} \\times h_{base,entrance} $  \n",
    "\n",
    "$A_{base,entrance,SW}$: 基礎(玄関)(南西)の面積(m<sup>2</sup>)  \n",
    "$A_{base,entrance,NW}$: 基礎(玄関)(北西)の面積(m<sup>2</sup>)  \n",
    "$A_{base,entrance,NE}$: 基礎(玄関)(北東)の面積(m<sup>2</sup>)  \n",
    "$A_{base,entrance,SE}$: 基礎(玄関)(南東)の面積(m<sup>2</sup>)  "
   ]
  },
  {
   "cell_type": "markdown",
   "metadata": {},
   "source": [
    "室内側:  $ L_{base,entrance,inside} = L_{base,entrance,inside} \\times h_{base,entrance} $\n",
    "\n",
    "$A_{base,entrance,inside}$: 基礎(玄関)(室内側)の面積(m<sup>2</sup>)  "
   ]
  },
  {
   "cell_type": "code",
   "execution_count": 48,
   "metadata": {
    "pycharm": {
     "is_executing": false
    }
   },
   "outputs": [],
   "source": [
    "for h in hs:\n",
    "    h.a_base_entrance_outside = (\n",
    "        h.l_base_entrance_outside[0] * h.h_base_entrance,\n",
    "        h.l_base_entrance_outside[1] * h.h_base_entrance,\n",
    "        h.l_base_entrance_outside[2] * h.h_base_entrance,\n",
    "        h.l_base_entrance_outside[3] * h.h_base_entrance\n",
    "    )    \n",
    "    h.a_base_entrance_inside = h.l_base_entrance_inside * h.h_base_entrance"
   ]
  },
  {
   "cell_type": "code",
   "execution_count": 49,
   "metadata": {
    "pycharm": {
     "is_executing": false
    }
   },
   "outputs": [
    {
     "name": "stdout",
     "output_type": "stream",
     "text": [
      "床断熱住宅（外皮に接する浴室床なし） : (0.0, 0.3276, 0.2457, 0.0)\n",
      "床断熱住宅（浴室床断熱） : (0.0, 0.3276, 0.2457, 0.0)\n",
      "床断熱住宅（浴室基礎断熱） : (0.0, 0.3276, 0.2457, 0.0)\n",
      "基礎断熱住宅 : (0.0, 0.3276, 0.2457, 0.0)\n"
     ]
    }
   ],
   "source": [
    "show_result(lambda h: h.a_base_entrance_outside)"
   ]
  },
  {
   "cell_type": "code",
   "execution_count": 50,
   "metadata": {
    "pycharm": {
     "is_executing": false
    }
   },
   "outputs": [
    {
     "name": "stdout",
     "output_type": "stream",
     "text": [
      "床断熱住宅（外皮に接する浴室床なし） : 0.5733\n",
      "床断熱住宅（浴室床断熱） : 0.5733\n",
      "床断熱住宅（浴室基礎断熱） : 0.5733\n",
      "基礎断熱住宅 : 0.0\n"
     ]
    }
   ],
   "source": [
    "show_result(lambda h: h.a_base_entrance_inside)"
   ]
  },
  {
   "cell_type": "markdown",
   "metadata": {},
   "source": [
    "## 浴室の基礎の面積（2018.4～）"
   ]
  },
  {
   "cell_type": "markdown",
   "metadata": {},
   "source": [
    "南西:  $ A_{base,bath,SW} = L_{base,bath,SW} \\times h_{base,bath} $  \n",
    "北西:  $ A_{base,bath,NW} = L_{base,bath,NW} \\times h_{base,bath} $  \n",
    "北東:  $ A_{base,bath,NE} = L_{base,bath,NE} \\times h_{base,bath} $  \n",
    "南東:  $ L_{base,bath,SE} = L_{base,bath,SE} \\times h_{base,bath} $  \n",
    "\n",
    "$A_{base,bath,SW}$: 基礎(浴室)(南西)の面積(m<sup>2</sup>)  \n",
    "$A_{base,bath,NW}$: 基礎(浴室)(北西)の面積(m<sup>2</sup>)  \n",
    "$A_{base,bath,NE}$: 基礎(浴室)(北東)の面積(m<sup>2</sup>)  \n",
    "$A_{base,bath,SE}$: 基礎(浴室)(南東)の面積(m<sup>2</sup>)  "
   ]
  },
  {
   "cell_type": "markdown",
   "metadata": {},
   "source": [
    "室内側:  $ L_{base,bath,inside} = L_{base,bath,inside} \\times h_{base,bath} $\n",
    "\n",
    "$A_{base,bath,inside}$: 基礎(浴室)(室内側)の面積(m<sup>2</sup>)  "
   ]
  },
  {
   "cell_type": "code",
   "execution_count": 51,
   "metadata": {
    "pycharm": {
     "is_executing": false
    }
   },
   "outputs": [],
   "source": [
    "for h in hs:\n",
    "    h.a_base_bath_outside = (\n",
    "        h.l_base_bath_outside[0] * h.h_base_bath,\n",
    "        h.l_base_bath_outside[1] * h.h_base_bath,\n",
    "        h.l_base_bath_outside[2] * h.h_base_bath,\n",
    "        h.l_base_bath_outside[3] * h.h_base_bath\n",
    "    )\n",
    "    h.a_base_bath_inside = h.l_base_bath_inside * h.h_base_bath"
   ]
  },
  {
   "cell_type": "code",
   "execution_count": 52,
   "metadata": {
    "pycharm": {
     "is_executing": false
    }
   },
   "outputs": [
    {
     "name": "stdout",
     "output_type": "stream",
     "text": [
      "床断熱住宅（外皮に接する浴室床なし） : (0.0, 0.0, 0.0, 0.0)\n",
      "床断熱住宅（浴室床断熱） : (0.0, 0.0, 0.0, 0.0)\n",
      "床断熱住宅（浴室基礎断熱） : (0.0, 0.91, 0.91, 0.0)\n",
      "基礎断熱住宅 : (0.0, 0.91, 0.91, 0.0)\n"
     ]
    }
   ],
   "source": [
    "show_result(lambda h: h.a_base_bath_outside)"
   ]
  },
  {
   "cell_type": "code",
   "execution_count": 53,
   "metadata": {
    "pycharm": {
     "is_executing": false
    }
   },
   "outputs": [
    {
     "name": "stdout",
     "output_type": "stream",
     "text": [
      "床断熱住宅（外皮に接する浴室床なし） : 0.0\n",
      "床断熱住宅（浴室床断熱） : 0.0\n",
      "床断熱住宅（浴室基礎断熱） : 1.82\n",
      "基礎断熱住宅 : 0.0\n"
     ]
    }
   ],
   "source": [
    "show_result(lambda h: h.a_base_bath_inside)"
   ]
  },
  {
   "cell_type": "markdown",
   "metadata": {},
   "source": [
    "## その他の基礎の面積"
   ]
  },
  {
   "cell_type": "markdown",
   "metadata": {},
   "source": [
    "ここで一旦その他の基礎の面積を求めるが、この値を公表値として使用するのではなく、この値を用いて基礎の面積の合計を求め、四捨五入した基礎の面積の合計から、四捨五入した玄関等の基礎の面積、四捨五入した浴室の基礎の面積を減じることで、その他の基礎の面積を求めている。（2020年に改善予定）"
   ]
  },
  {
   "cell_type": "markdown",
   "metadata": {},
   "source": [
    "南西: $ A_{base,other,SW} = L_{base,SW} \\times h_{base} $  \n",
    "北西: $ A_{base,other,NW} = L_{base,NW} \\times h_{base} $  \n",
    "北東: $ A_{base,other,NE} = L_{base,NE} \\times h_{base} $  \n",
    "南東: $ A_{base,other,SE} = L_{base,SE} \\times h_{base} $  \n",
    "\n",
    "$A_{base,other,SW}$: 基礎断熱部分(玄関・浴室除く)(南西)の面積(m<sup>2</sup>)  \n",
    "$A_{base,other,NW}$: 基礎断熱部分(玄関・浴室除く)(北西)の面積(m<sup>2</sup>)  \n",
    "$A_{base,other,NE}$: 基礎断熱部分(玄関・浴室除く)(北東)の面積(m<sup>2</sup>)  \n",
    "$A_{base,other,SE}$: 基礎断熱部分(玄関・浴室除く)(南東)の面積(m<sup>2</sup>)  "
   ]
  },
  {
   "cell_type": "markdown",
   "metadata": {},
   "source": [
    "室内側:  $ A_{base,other,inside} = 0.0 $\n",
    "\n",
    "$A_{base,other,inside}$: 基礎断熱部分(玄関・浴室除く)(室内側)の面積(m<sup>2</sup>)  "
   ]
  },
  {
   "cell_type": "code",
   "execution_count": 54,
   "metadata": {
    "pycharm": {
     "is_executing": false
    }
   },
   "outputs": [],
   "source": [
    "for h in hs:\n",
    "    h.a_base_other_outside = (\n",
    "        h.l_base_other_outside[0] * h.h_base,\n",
    "        h.l_base_other_outside[1] * h.h_base,\n",
    "        h.l_base_other_outside[2] * h.h_base,\n",
    "        h.l_base_other_outside[3] * h.h_base\n",
    "    )\n",
    "    h.a_base_other_inside = 0.0"
   ]
  },
  {
   "cell_type": "code",
   "execution_count": 55,
   "metadata": {
    "pycharm": {
     "is_executing": false
    }
   },
   "outputs": [
    {
     "name": "stdout",
     "output_type": "stream",
     "text": [
      "床断熱住宅（外皮に接する浴室床なし） : (0.0, 0.0, 0.0, 0.0)\n",
      "床断熱住宅（浴室床断熱） : (0.0, 0.0, 0.0, 0.0)\n",
      "床断熱住宅（浴室基礎断熱） : (0.0, 0.0, 0.0, 0.0)\n",
      "基礎断熱住宅 : (5.304991140364853, 0.5762084140079066, 3.712491140364853, 2.3962084140079067)\n"
     ]
    }
   ],
   "source": [
    "show_result(lambda h: h.a_base_other_outside)"
   ]
  },
  {
   "cell_type": "code",
   "execution_count": 56,
   "metadata": {
    "pycharm": {
     "is_executing": false
    },
    "scrolled": true
   },
   "outputs": [
    {
     "name": "stdout",
     "output_type": "stream",
     "text": [
      "床断熱住宅（外皮に接する浴室床なし） : 0.0\n",
      "床断熱住宅（浴室床断熱） : 0.0\n",
      "床断熱住宅（浴室基礎断熱） : 0.0\n",
      "基礎断熱住宅 : 0.0\n"
     ]
    }
   ],
   "source": [
    "show_result(lambda h: h.a_base_other_inside)"
   ]
  },
  {
   "cell_type": "markdown",
   "metadata": {},
   "source": [
    "## 基礎断熱部分の面積の合計"
   ]
  },
  {
   "cell_type": "markdown",
   "metadata": {},
   "source": [
    "$ A_{base,total} = A_{base,other,SW} + A_{base,other,NW} + A_{base,other,NE} + A_{base,other,SE} + A_{base,other,inside}\\\\\n",
    "+ A_{base,entrance,SW} + A_{base,entrance,NW} + A_{base,entrance,NE} + A_{base,entrance,SE} + A_{base,entrance,inside} \\\\\n",
    "+ A_{base,bath,SW} + A_{base,bath,NW} + A_{base,bath,NE} + A_{base,bath,SE} + A_{base,bath,inside} $\n",
    "\n",
    "$A_{base,total}$: 基礎の面積の合計(m<sup>2</sup>)  "
   ]
  },
  {
   "cell_type": "code",
   "execution_count": 57,
   "metadata": {
    "pycharm": {
     "is_executing": false
    }
   },
   "outputs": [],
   "source": [
    "for h in hs:\n",
    "    h.a_base_total = sum(h.a_base_other_outside) + h.a_base_other_inside \\\n",
    "        + sum(h.a_base_entrance_outside) + h.a_base_entrance_inside \\\n",
    "        + sum(h.a_base_bath_outside) + h.a_base_bath_inside"
   ]
  },
  {
   "cell_type": "code",
   "execution_count": 58,
   "metadata": {
    "pycharm": {
     "is_executing": false
    },
    "scrolled": true
   },
   "outputs": [
    {
     "name": "stdout",
     "output_type": "stream",
     "text": [
      "床断熱住宅（外皮に接する浴室床なし） : 1.1466\n",
      "床断熱住宅（浴室床断熱） : 1.1466\n",
      "床断熱住宅（浴室基礎断熱） : 4.7866\n",
      "基礎断熱住宅 : 14.38319910874552\n"
     ]
    }
   ],
   "source": [
    "show_result(lambda h: h.a_base_total)"
   ]
  },
  {
   "cell_type": "markdown",
   "metadata": {},
   "source": [
    "## 壁面積(開口部含む)"
   ]
  },
  {
   "cell_type": "markdown",
   "metadata": {
    "collapsed": true
   },
   "source": [
    "1階:  \n",
    "南西: $ A_{srf,1,SW} = L_{LS,1} \\times h_1 $  \n",
    "北西: $ A_{srf,1,NW} = L_{SS,1} \\times h_1 $  \n",
    "北東: $ A_{srf,1,NE} = L_{LS,1} \\times h_1 $  \n",
    "北西: $ A_{srf,1,SE} = L_{SS,1} \\times h_1 $\n",
    "\n",
    "2階:  \n",
    "南西: $ A_{srf,2,SW} = L_{LS,2} \\times h_2 $  \n",
    "北西: $ A_{srf,2,NW} = L_{SS,2} \\times h_2 $  \n",
    "北東: $ A_{srf,2,NE} = L_{LS,2} \\times h_2 $  \n",
    "北西: $ A_{srf,2,SE} = L_{SS,2} \\times h_2 $"
   ]
  },
  {
   "cell_type": "code",
   "execution_count": 59,
   "metadata": {
    "pycharm": {
     "is_executing": false
    }
   },
   "outputs": [],
   "source": [
    "for h in hs:\n",
    "    h.a_srf = [\n",
    "        (h.l_ls[0] * h.h[0], h.l_ss[0] * h.h[0], h.l_ls[0] * h.h[0], h.l_ss[0] * h.h[0]),\n",
    "        (h.l_ls[1] * h.h[1], h.l_ss[1] * h.h[1], h.l_ls[1] * h.h[1], h.l_ss[1] * h.h[1])\n",
    "    ]"
   ]
  },
  {
   "cell_type": "code",
   "execution_count": 60,
   "metadata": {
    "pycharm": {
     "is_executing": false
    }
   },
   "outputs": [
    {
     "name": "stdout",
     "output_type": "stream",
     "text": [
      "床断熱住宅（外皮に接する浴室床なし） : [(30.768948614116148, 13.898008801245858, 30.768948614116148, 13.898008801245858), (22.396232256298443, 12.7441986952085, 22.396232256298443, 12.7441986952085)]\n",
      "床断熱住宅（浴室床断熱） : [(30.768948614116148, 13.898008801245858, 30.768948614116148, 13.898008801245858), (22.396232256298443, 12.7441986952085, 22.396232256298443, 12.7441986952085)]\n",
      "床断熱住宅（浴室基礎断熱） : [(30.768948614116148, 13.898008801245858, 30.768948614116148, 13.898008801245858), (22.396232256298443, 12.7441986952085, 22.396232256298443, 12.7441986952085)]\n",
      "基礎断熱住宅 : [(30.768948614116148, 13.898008801245858, 30.768948614116148, 13.898008801245858), (22.396232256298443, 12.7441986952085, 22.396232256298443, 12.7441986952085)]\n"
     ]
    }
   ],
   "source": [
    "show_result(lambda h: h.a_srf)"
   ]
  },
  {
   "cell_type": "markdown",
   "metadata": {},
   "source": [
    "## 外皮面積の合計(基礎の面積を除く)"
   ]
  },
  {
   "cell_type": "markdown",
   "metadata": {},
   "source": [
    "$ A'_{env} = A_{F,1} + A_{roof} + A_{srf,1,SW} + A_{srf,1,NW} + A_{srf,1,NE} + A_{srf,1,SE} + A_{srf,2,SW} + A_{srf,2,NW} + A_{srf,2,NE} + A_{srf,2,SE} $"
   ]
  },
  {
   "cell_type": "markdown",
   "metadata": {},
   "source": [
    "$ A'_{env}$: 外皮面積の合計(基礎の面積を除く)(m<sup>2</sup>)"
   ]
  },
  {
   "cell_type": "code",
   "execution_count": 61,
   "metadata": {
    "pycharm": {
     "is_executing": false
    }
   },
   "outputs": [],
   "source": [
    "for h in hs:\n",
    "    h.a_dash_env = h.a_f[0] + h.a_roof + sum(h.a_srf[0]) + sum(h.a_srf[1])"
   ]
  },
  {
   "cell_type": "code",
   "execution_count": 62,
   "metadata": {
    "pycharm": {
     "is_executing": false
    }
   },
   "outputs": [
    {
     "name": "stdout",
     "output_type": "stream",
     "text": [
      "床断熱住宅（外皮に接する浴室床なし） : 261.30969198797516\n",
      "床断熱住宅（浴室床断熱） : 261.30969198797516\n",
      "床断熱住宅（浴室基礎断熱） : 261.30969198797516\n",
      "基礎断熱住宅 : 261.30969198797516\n"
     ]
    }
   ],
   "source": [
    "show_result(lambda h: h.a_dash_env)"
   ]
  },
  {
   "cell_type": "markdown",
   "metadata": {},
   "source": [
    "## 外皮面積の合計(m<sup>2</sup>)"
   ]
  },
  {
   "cell_type": "markdown",
   "metadata": {},
   "source": [
    "$ A_{env} = A'_{env} + A_{base,total} $"
   ]
  },
  {
   "cell_type": "markdown",
   "metadata": {},
   "source": [
    "$ A_{env} $: 外皮面積の合計(m<sup>2</sup>)"
   ]
  },
  {
   "cell_type": "code",
   "execution_count": 63,
   "metadata": {
    "pycharm": {
     "is_executing": false
    }
   },
   "outputs": [],
   "source": [
    "for h in hs:\n",
    "    h.a_env = h.a_dash_env + h.a_base_total"
   ]
  },
  {
   "cell_type": "code",
   "execution_count": 64,
   "metadata": {
    "pycharm": {
     "is_executing": false
    }
   },
   "outputs": [
    {
     "name": "stdout",
     "output_type": "stream",
     "text": [
      "床断熱住宅（外皮に接する浴室床なし） : 262.45629198797513\n",
      "床断熱住宅（浴室床断熱） : 262.45629198797513\n",
      "床断熱住宅（浴室基礎断熱） : 266.0962919879752\n",
      "基礎断熱住宅 : 275.6928910967207\n"
     ]
    }
   ],
   "source": [
    "show_result(lambda h: h.a_env)"
   ]
  },
  {
   "cell_type": "markdown",
   "metadata": {},
   "source": [
    "## 開口部の面積の合計"
   ]
  },
  {
   "cell_type": "markdown",
   "metadata": {},
   "source": [
    "$ A_{opn} = A'_{env} \\times r_{opn} $"
   ]
  },
  {
   "cell_type": "markdown",
   "metadata": {},
   "source": [
    "$A_{opn}$: 開口部の面積の合計(m<sup>2</sup>)"
   ]
  },
  {
   "cell_type": "code",
   "execution_count": 65,
   "metadata": {
    "pycharm": {
     "is_executing": false
    }
   },
   "outputs": [],
   "source": [
    "for h in hs:\n",
    "    h.a_opn = h.a_dash_env * h.r_opn"
   ]
  },
  {
   "cell_type": "code",
   "execution_count": 66,
   "metadata": {
    "pycharm": {
     "is_executing": false
    }
   },
   "outputs": [
    {
     "name": "stdout",
     "output_type": "stream",
     "text": [
      "床断熱住宅（外皮に接する浴室床なし） : 31.35716303855702\n",
      "床断熱住宅（浴室床断熱） : 31.35716303855702\n",
      "床断熱住宅（浴室基礎断熱） : 31.35716303855702\n",
      "基礎断熱住宅 : 31.35716303855702\n"
     ]
    }
   ],
   "source": [
    "show_result(lambda h: h.a_opn)"
   ]
  },
  {
   "cell_type": "markdown",
   "metadata": {},
   "source": [
    "## 窓の面積の合計"
   ]
  },
  {
   "cell_type": "markdown",
   "metadata": {},
   "source": [
    "$ A_{wnd,total} = A_{opn} - A_{door,entrance} - A_{door,backentrance} $"
   ]
  },
  {
   "cell_type": "markdown",
   "metadata": {},
   "source": [
    "$A_{wnd,total}$: 窓の面積(m<sup>2</sup>)"
   ]
  },
  {
   "cell_type": "code",
   "execution_count": 67,
   "metadata": {
    "pycharm": {
     "is_executing": false
    }
   },
   "outputs": [],
   "source": [
    "for h in hs:\n",
    "    h.a_wnd_total = h.a_opn - h.a_door_entrance - h.a_door_backentrance"
   ]
  },
  {
   "cell_type": "code",
   "execution_count": 68,
   "metadata": {
    "pycharm": {
     "is_executing": false
    }
   },
   "outputs": [
    {
     "name": "stdout",
     "output_type": "stream",
     "text": [
      "床断熱住宅（外皮に接する浴室床なし） : 27.847163038557017\n",
      "床断熱住宅（浴室床断熱） : 27.847163038557017\n",
      "床断熱住宅（浴室基礎断熱） : 27.847163038557017\n",
      "基礎断熱住宅 : 27.847163038557017\n"
     ]
    }
   ],
   "source": [
    "show_result(lambda h: h.a_wnd_total)"
   ]
  },
  {
   "cell_type": "markdown",
   "metadata": {},
   "source": [
    "## 窓の面積"
   ]
  },
  {
   "cell_type": "markdown",
   "metadata": {},
   "source": [
    "南西側: $ A_{wnd,SW} = A_{wnd} \\times r_{wnd,SW} $  \n",
    "北西側: $ A_{wnd,NW} = A_{wnd} \\times r_{wnd,NW} $  \n",
    "北東側: $ A_{wnd,NE} = A_{wnd} \\times r_{wnd,NE} $  \n",
    "南東側: $ A_{wnd,SE} = A_{wnd} \\times r_{wnd,SE} $  "
   ]
  },
  {
   "cell_type": "markdown",
   "metadata": {},
   "source": [
    "$ A_{wnd,SW}$: 窓の面積(南西)(m<sup>2</sup>)  \n",
    "$ A_{wnd,NW}$: 窓の面積(北西)(m<sup>2</sup>)  \n",
    "$ A_{wnd,NE}$: 窓の面積(北東)(m<sup>2</sup>)  \n",
    "$ A_{wnd,SE}$: 窓の面積(南東)(m<sup>2</sup>)  "
   ]
  },
  {
   "cell_type": "code",
   "execution_count": 69,
   "metadata": {
    "pycharm": {
     "is_executing": false
    }
   },
   "outputs": [],
   "source": [
    "for h in hs:\n",
    "    h.a_wnd = h.a_wnd_total * h.r_wnd[0], h.a_wnd_total * h.r_wnd[1], h.a_wnd_total * h.r_wnd[2], h.a_wnd_total * h.r_wnd[3]"
   ]
  },
  {
   "cell_type": "code",
   "execution_count": 70,
   "metadata": {
    "pycharm": {
     "is_executing": false
    }
   },
   "outputs": [
    {
     "name": "stdout",
     "output_type": "stream",
     "text": [
      "床断熱住宅（外皮に接する浴室床なし） : (19.108723277057827, 2.0077804550799607, 3.054833785329705, 3.6758255210895263)\n",
      "床断熱住宅（浴室床断熱） : (19.108723277057827, 2.0077804550799607, 3.054833785329705, 3.6758255210895263)\n",
      "床断熱住宅（浴室基礎断熱） : (19.108723277057827, 2.0077804550799607, 3.054833785329705, 3.6758255210895263)\n",
      "基礎断熱住宅 : (19.108723277057827, 2.0077804550799607, 3.054833785329705, 3.6758255210895263)\n"
     ]
    }
   ],
   "source": [
    "show_result(lambda h: h.a_wnd)"
   ]
  },
  {
   "cell_type": "markdown",
   "metadata": {},
   "source": [
    "## ドアの面積"
   ]
  },
  {
   "cell_type": "markdown",
   "metadata": {},
   "source": [
    "南西側: $ A_{door,SW} = 0.0 $  \n",
    "北西側: $ A_{door,NW} = A_{door,entrance} $   \n",
    "北東側: $ A_{door,NE} = A_{door,backentrance} $  \n",
    "南東側: $ A_{door,SE} = 0.0 $  "
   ]
  },
  {
   "cell_type": "markdown",
   "metadata": {},
   "source": [
    "$A_{door}$: ドアの面積(m<sup>2</sup>)"
   ]
  },
  {
   "cell_type": "code",
   "execution_count": 71,
   "metadata": {
    "pycharm": {
     "is_executing": false
    }
   },
   "outputs": [],
   "source": [
    "for h in hs:\n",
    "    h.a_door = 0.0, h.a_door_entrance, h.a_door_backentrance, 0.0"
   ]
  },
  {
   "cell_type": "code",
   "execution_count": 72,
   "metadata": {
    "pycharm": {
     "is_executing": false
    }
   },
   "outputs": [
    {
     "name": "stdout",
     "output_type": "stream",
     "text": [
      "床断熱住宅（外皮に接する浴室床なし） : 1.89\n",
      "床断熱住宅（浴室床断熱） : 1.89\n",
      "床断熱住宅（浴室基礎断熱） : 1.89\n",
      "基礎断熱住宅 : 1.89\n"
     ]
    }
   ],
   "source": [
    "show_result(lambda h: h.a_door_entrance)"
   ]
  },
  {
   "cell_type": "markdown",
   "metadata": {},
   "source": [
    "## 壁の面積"
   ]
  },
  {
   "cell_type": "markdown",
   "metadata": {},
   "source": [
    "南西側: $ A_{wall,SW} = A_{srf,1,SW} + A_{srf,2,SW} - A_{wnd,SW} - A_{door,SW} $  \n",
    "北西側: $ A_{wall,NW} = A_{srf,1,NW} + A_{srf,2,NW} - A_{wnd,NW} - A_{door,NW} $  \n",
    "北東側: $ A_{wall,NE} = A_{srf,1,NE} + A_{srf,2,NE} - A_{wnd,NE} - A_{door,NE} $  \n",
    "南東側: $ A_{wall,SE} = A_{srf,1,SE} + A_{srf,2,SE} - A_{wnd,SE} - A_{door,SE} $  "
   ]
  },
  {
   "cell_type": "markdown",
   "metadata": {},
   "source": [
    "$ A_{wall}$: 壁の面積(m<sup>2</sup>)"
   ]
  },
  {
   "cell_type": "code",
   "execution_count": 73,
   "metadata": {
    "pycharm": {
     "is_executing": false
    }
   },
   "outputs": [],
   "source": [
    "for h in hs:\n",
    "    h.a_wall = (\n",
    "        h.a_srf[0][0] + h.a_srf[1][0] - h.a_wnd[0] - h.a_door[0],\n",
    "        h.a_srf[0][1] + h.a_srf[1][1] - h.a_wnd[1] - h.a_door[1],\n",
    "        h.a_srf[0][2] + h.a_srf[1][2] - h.a_wnd[2] - h.a_door[2],\n",
    "        h.a_srf[0][3] + h.a_srf[1][3] - h.a_wnd[3] - h.a_door[3]\n",
    "    )"
   ]
  },
  {
   "cell_type": "code",
   "execution_count": 74,
   "metadata": {
    "pycharm": {
     "is_executing": false
    },
    "scrolled": false
   },
   "outputs": [
    {
     "name": "stdout",
     "output_type": "stream",
     "text": [
      "床断熱住宅（外皮に接する浴室床なし） : (34.05645759335676, 22.744427041374397, 48.490347085084885, 22.966381975364833)\n",
      "床断熱住宅（浴室床断熱） : (34.05645759335676, 22.744427041374397, 48.490347085084885, 22.966381975364833)\n",
      "床断熱住宅（浴室基礎断熱） : (34.05645759335676, 22.744427041374397, 48.490347085084885, 22.966381975364833)\n",
      "基礎断熱住宅 : (34.05645759335676, 22.744427041374397, 48.490347085084885, 22.966381975364833)\n"
     ]
    }
   ],
   "source": [
    "show_result(lambda h: h.a_wall)"
   ]
  },
  {
   "cell_type": "markdown",
   "metadata": {},
   "source": [
    "## 熱橋（屋根と間仕切り等） T字（室2・外2）"
   ]
  },
  {
   "cell_type": "markdown",
   "metadata": {},
   "source": [
    "長辺方向と短辺方向に十字に梁がはしっていると過程し、長辺方向の長さと短辺方向の長さを足した値とする。"
   ]
  },
  {
   "cell_type": "markdown",
   "metadata": {},
   "source": [
    "$$ L_{HB,roof-iw,top} = L_{SS,1} + L_{LS,1} $$"
   ]
  },
  {
   "cell_type": "code",
   "execution_count": 75,
   "metadata": {
    "pycharm": {
     "is_executing": false
    }
   },
   "outputs": [],
   "source": [
    "for h in hs:\n",
    "    h.l_hb_roof_iw_top = h.l_ss[0] + h.l_ls[0]"
   ]
  },
  {
   "cell_type": "code",
   "execution_count": 76,
   "metadata": {
    "pycharm": {
     "is_executing": false
    }
   },
   "outputs": [
    {
     "name": "stdout",
     "output_type": "stream",
     "text": [
      "床断熱住宅（外皮に接する浴室床なし） : 15.40239910874552\n",
      "床断熱住宅（浴室床断熱） : 15.40239910874552\n",
      "床断熱住宅（浴室基礎断熱） : 15.40239910874552\n",
      "基礎断熱住宅 : 15.40239910874552\n"
     ]
    }
   ],
   "source": [
    "show_result(lambda h: h.l_hb_roof_iw_top)"
   ]
  },
  {
   "cell_type": "markdown",
   "metadata": {},
   "source": [
    "## 熱橋（屋根と外壁） L字（室1・外3）"
   ]
  },
  {
   "cell_type": "markdown",
   "metadata": {},
   "source": [
    "1階は1階の周長とする。ただし、外壁と階床の熱橋長さを引くため、2階の周長の半分を減じる。外壁と階床の熱橋は南西と南東に面するものとする。  \n",
    "2階は2階の周長とする。"
   ]
  },
  {
   "cell_type": "markdown",
   "metadata": {},
   "source": [
    "南西と上に面した熱橋  \n",
    "$$ L_{HB,roof-ew,top-SW} = \\left( L_{LS,1} - L_{LS,2} \\right) + L_{LS,2} $$  \n",
    "北西と上に面した熱橋  \n",
    "$$ L_{HB,roof-ew,top-NW} = L_{SS,1} + L_{SS,2} $$  \n",
    "北東と上に面した熱橋  \n",
    "$$ L_{HB,roof-ew,top-NE} = L_{LS,1} + L_{LS,2} $$  \n",
    "南東と上に面した熱橋  \n",
    "$$ L_{HB,roof-ew,top-SE} = \\left( L_{SS,1} - L_{SS,2} \\right) + L_{ss,2} $$  "
   ]
  },
  {
   "cell_type": "code",
   "execution_count": 77,
   "metadata": {
    "pycharm": {
     "is_executing": false
    }
   },
   "outputs": [],
   "source": [
    "for h in hs:\n",
    "    h.l_hb_roof_ew_top_sw = h.l_ls[0] - h.l_ls[1] + h.l_ls[1]\n",
    "    h.l_hb_roof_ew_top_nw = h.l_ss[0] + h.l_ss[1]\n",
    "    h.l_hb_roof_ew_top_ne = h.l_ls[0] + h.l_ls[1]\n",
    "    h.l_hb_roof_ew_top_se = h.l_ss[0] - h.l_ss[1] + h.l_ss[1]"
   ]
  },
  {
   "cell_type": "code",
   "execution_count": 78,
   "metadata": {
    "pycharm": {
     "is_executing": false
    }
   },
   "outputs": [
    {
     "name": "stdout",
     "output_type": "stream",
     "text": [
      "床断熱住宅（外皮に接する浴室床なし） : (10.609982280729707, 9.512490418833776, 18.904883116395794, 4.7924168280158135)\n",
      "床断熱住宅（浴室床断熱） : (10.609982280729707, 9.512490418833776, 18.904883116395794, 4.7924168280158135)\n",
      "床断熱住宅（浴室基礎断熱） : (10.609982280729707, 9.512490418833776, 18.904883116395794, 4.7924168280158135)\n",
      "基礎断熱住宅 : (10.609982280729707, 9.512490418833776, 18.904883116395794, 4.7924168280158135)\n"
     ]
    }
   ],
   "source": [
    "show_result(lambda h: (h.l_hb_roof_ew_top_sw, h.l_hb_roof_ew_top_nw, h.l_hb_roof_ew_top_ne, h.l_hb_roof_ew_top_se))"
   ]
  },
  {
   "cell_type": "markdown",
   "metadata": {},
   "source": [
    "## 熱橋（屋根と外壁と階床） 十字（室3・外1）"
   ]
  },
  {
   "cell_type": "markdown",
   "metadata": {},
   "source": [
    "2階の周長の半分とする。方位は北西側と北東側とする。"
   ]
  },
  {
   "cell_type": "markdown",
   "metadata": {},
   "source": [
    "南西と上に面した熱橋  \n",
    "$$ L_{HB,roof-ew-if,top-SW} = 0 $$  \n",
    "北西と上に面した熱橋  \n",
    "$$ L_{HB,roof-ew-if,top-NW} = L_{SS,2} $$  \n",
    "北東と上に面した熱橋  \n",
    "$$ L_{HB,roof-ew-if,top-NE} = L_{LS,2} $$  \n",
    "南東と上に面した熱橋  \n",
    "$$ L_{HB,roof-ew-if,top-SE} = 0 $$  "
   ]
  },
  {
   "cell_type": "code",
   "execution_count": 79,
   "metadata": {
    "pycharm": {
     "is_executing": false
    }
   },
   "outputs": [],
   "source": [
    "for h in hs:\n",
    "    h.l_hb_roof_ew_if_top_sw = 0.0\n",
    "    h.l_hb_roof_ew_if_top_nw = h.l_ss[1]\n",
    "    h.l_hb_roof_ew_if_top_ne = h.l_ls[1]\n",
    "    h.l_hb_roof_ew_if_top_se = 0.0"
   ]
  },
  {
   "cell_type": "code",
   "execution_count": 80,
   "metadata": {
    "pycharm": {
     "is_executing": false
    }
   },
   "outputs": [
    {
     "name": "stdout",
     "output_type": "stream",
     "text": [
      "床断熱住宅（外皮に接する浴室床なし） : (0.0, 4.720073590817963, 8.29490083566609, 0.0)\n",
      "床断熱住宅（浴室床断熱） : (0.0, 4.720073590817963, 8.29490083566609, 0.0)\n",
      "床断熱住宅（浴室基礎断熱） : (0.0, 4.720073590817963, 8.29490083566609, 0.0)\n",
      "基礎断熱住宅 : (0.0, 4.720073590817963, 8.29490083566609, 0.0)\n"
     ]
    }
   ],
   "source": [
    "show_result(lambda h: (h.l_hb_roof_ew_if_top_sw, h.l_hb_roof_ew_if_top_nw, h.l_hb_roof_ew_if_top_ne, h.l_hb_roof_ew_if_top_se))"
   ]
  },
  {
   "cell_type": "markdown",
   "metadata": {},
   "source": [
    "## 熱橋（外壁と間仕切り等） T字（室2・外2）"
   ]
  },
  {
   "cell_type": "markdown",
   "metadata": {},
   "source": [
    "外壁は間仕切りと4箇所で接続するため、建物高さの4倍とする。"
   ]
  },
  {
   "cell_type": "markdown",
   "metadata": {},
   "source": [
    "南西に面した熱橋  \n",
    "$$ L_{HB,ew-iw,SW} = h_1 + h_2 $$  \n",
    "南西に面した熱橋  \n",
    "$$ L_{HB,ew-iw,NW} = h_1 + h_2 $$  \n",
    "南西に面した熱橋  \n",
    "$$ L_{HB,ew-iw,NE} = h_1 + h_2 $$  \n",
    "南西に面した熱橋  \n",
    "$$ L_{HB,ew-iw,SE} = h_1 + h_2 $$  "
   ]
  },
  {
   "cell_type": "code",
   "execution_count": 81,
   "metadata": {
    "pycharm": {
     "is_executing": false
    }
   },
   "outputs": [],
   "source": [
    "for h in hs:\n",
    "    h.l_hb_ew_iw_sw = h.h[0] + h.h[1]\n",
    "    h.l_hb_ew_iw_nw = h.h[0] + h.h[1]\n",
    "    h.l_hb_ew_iw_ne = h.h[0] + h.h[1]\n",
    "    h.l_hb_ew_iw_se = h.h[0] + h.h[1]"
   ]
  },
  {
   "cell_type": "code",
   "execution_count": 82,
   "metadata": {
    "pycharm": {
     "is_executing": false
    }
   },
   "outputs": [
    {
     "name": "stdout",
     "output_type": "stream",
     "text": [
      "床断熱住宅（外皮に接する浴室床なし） : (5.6, 5.6, 5.6, 5.6)\n",
      "床断熱住宅（浴室床断熱） : (5.6, 5.6, 5.6, 5.6)\n",
      "床断熱住宅（浴室基礎断熱） : (5.6, 5.6, 5.6, 5.6)\n",
      "基礎断熱住宅 : (5.6, 5.6, 5.6, 5.6)\n"
     ]
    }
   ],
   "source": [
    "show_result(lambda h: (h.l_hb_ew_iw_sw, h.l_hb_ew_iw_nw, h.l_hb_ew_iw_ne, h.l_hb_ew_iw_se))"
   ]
  },
  {
   "cell_type": "markdown",
   "metadata": {},
   "source": [
    "## 熱橋（外壁と階床） T字（室2・外2）"
   ]
  },
  {
   "cell_type": "markdown",
   "metadata": {},
   "source": [
    "2階の周長の半分とし、南西と南東に発生するものとする。"
   ]
  },
  {
   "cell_type": "markdown",
   "metadata": {},
   "source": [
    "南西に面した熱橋  \n",
    "$$ L_{HB,ew-if,SW} = L_{LS,2} $$  \n",
    "北西に面した熱橋  \n",
    "$$ L_{HB,ew-if,NW} = 0 $$  \n",
    "北東に面した熱橋  \n",
    "$$ L_{HB,ew-if,NE} = 0 $$  \n",
    "南東に面した熱橋  \n",
    "$$ L_{HB,ew-if,SE} = L_{SS,2} $$"
   ]
  },
  {
   "cell_type": "code",
   "execution_count": 83,
   "metadata": {
    "pycharm": {
     "is_executing": false
    }
   },
   "outputs": [],
   "source": [
    "for h in hs:\n",
    "    h.l_hb_ew_if_sw = h.l_ls[1]\n",
    "    h.l_hb_ew_if_nw = 0.0\n",
    "    h.l_hb_ew_if_ne = 0.0\n",
    "    h.l_hb_ew_if_se = h.l_ss[1]"
   ]
  },
  {
   "cell_type": "code",
   "execution_count": 84,
   "metadata": {
    "pycharm": {
     "is_executing": false
    }
   },
   "outputs": [
    {
     "name": "stdout",
     "output_type": "stream",
     "text": [
      "床断熱住宅（外皮に接する浴室床なし） : (8.29490083566609, 0.0, 0.0, 4.720073590817963)\n",
      "床断熱住宅（浴室床断熱） : (8.29490083566609, 0.0, 0.0, 4.720073590817963)\n",
      "床断熱住宅（浴室基礎断熱） : (8.29490083566609, 0.0, 0.0, 4.720073590817963)\n",
      "基礎断熱住宅 : (8.29490083566609, 0.0, 0.0, 4.720073590817963)\n"
     ]
    }
   ],
   "source": [
    "show_result(lambda h: (h.l_hb_ew_if_sw, h.l_hb_ew_if_nw, h.l_hb_ew_if_ne, h.l_hb_ew_if_se))"
   ]
  },
  {
   "cell_type": "markdown",
   "metadata": {},
   "source": [
    "## 熱橋（外壁と外壁 出隅） L字（室1・外3）"
   ]
  },
  {
   "cell_type": "markdown",
   "metadata": {},
   "source": [
    "1階部分は4隅と玄関・浴室の2箇所の計6箇所とする。  \n",
    "2階部分は4隅の4箇所とする。"
   ]
  },
  {
   "cell_type": "markdown",
   "metadata": {},
   "source": [
    "南西と北西に面した熱橋  \n",
    "$$ L_{HB,ew-ew,oc,SW-NW} = h_1 + h_2 $$  \n",
    "北西と北東に面した熱橋  \n",
    "$$ L_{HB,ew-ew,oc,NW-NE} = 3 h_1 + h_2 $$  \n",
    "北東と南東に面した熱橋  \n",
    "$$ L_{HB,ew-ew,oc,NE-SE} = h_1 + h_2 $$  \n",
    "南東と南西に面した熱橋  \n",
    "$$ L_{HB,ew-ew,oc,SE-SW} = h_1 + h_2 $$"
   ]
  },
  {
   "cell_type": "code",
   "execution_count": 85,
   "metadata": {
    "pycharm": {
     "is_executing": false
    }
   },
   "outputs": [],
   "source": [
    "for h in hs:\n",
    "    h.l_hb_ew_ew_oc_sw_nw = h.h[0] + h.h[1]\n",
    "    h.l_hb_ew_ew_oc_nw_ne = 3 * h.h[0] + h.h[1]\n",
    "    h.l_hb_ew_ew_oc_ne_se = h.h[0] + h.h[1]\n",
    "    h.l_hb_ew_ew_oc_se_sw = h.h[0] + h.h[1]"
   ]
  },
  {
   "cell_type": "code",
   "execution_count": 86,
   "metadata": {
    "pycharm": {
     "is_executing": false
    }
   },
   "outputs": [
    {
     "name": "stdout",
     "output_type": "stream",
     "text": [
      "床断熱住宅（外皮に接する浴室床なし） : (5.6, 11.399999999999999, 5.6, 5.6)\n",
      "床断熱住宅（浴室床断熱） : (5.6, 11.399999999999999, 5.6, 5.6)\n",
      "床断熱住宅（浴室基礎断熱） : (5.6, 11.399999999999999, 5.6, 5.6)\n",
      "基礎断熱住宅 : (5.6, 11.399999999999999, 5.6, 5.6)\n"
     ]
    }
   ],
   "source": [
    "show_result(lambda h: (h.l_hb_ew_ew_oc_sw_nw, h.l_hb_ew_ew_oc_nw_ne, h.l_hb_ew_ew_oc_ne_se, h.l_hb_ew_ew_oc_se_sw))"
   ]
  },
  {
   "cell_type": "markdown",
   "metadata": {},
   "source": [
    "## 熱橋（外壁と外壁 入隅） L字（室3・外1）"
   ]
  },
  {
   "cell_type": "markdown",
   "metadata": {},
   "source": [
    "1階において玄関と浴室の2箇所とする。北側の熱橋である。"
   ]
  },
  {
   "cell_type": "markdown",
   "metadata": {},
   "source": [
    "南西と北西に面した熱橋  \n",
    "$$ L_{HB,ew-ew,ic,SW-NW} = 0 $$  \n",
    "北西と北東に面した熱橋  \n",
    "$$ L_{HB,ew-ew,ic,NW-NE} = 2 h_1 $$  \n",
    "北東と南東に面した熱橋  \n",
    "$$ L_{HB,ew-ew,ic,NE-SE} = 0 $$  \n",
    "南東と南西に面した熱橋  \n",
    "$$ L_{HB,ew-ew,ic,SE-SW} = 0 $$  "
   ]
  },
  {
   "cell_type": "code",
   "execution_count": 87,
   "metadata": {
    "pycharm": {
     "is_executing": false
    }
   },
   "outputs": [],
   "source": [
    "for h in hs:\n",
    "    h.l_hb_ew_ew_ic_sw_nw = 0.0\n",
    "    h.l_hb_ew_ew_ic_nw_ne = 2 * h.h[0]\n",
    "    h.l_hb_ew_ew_ic_ne_se = 0.0\n",
    "    h.l_hb_ew_ew_ic_se_sw = 0.0"
   ]
  },
  {
   "cell_type": "code",
   "execution_count": 88,
   "metadata": {
    "pycharm": {
     "is_executing": false
    },
    "scrolled": true
   },
   "outputs": [
    {
     "name": "stdout",
     "output_type": "stream",
     "text": [
      "床断熱住宅（外皮に接する浴室床なし） : (0.0, 5.8, 0.0, 0.0)\n",
      "床断熱住宅（浴室床断熱） : (0.0, 5.8, 0.0, 0.0)\n",
      "床断熱住宅（浴室基礎断熱） : (0.0, 5.8, 0.0, 0.0)\n",
      "基礎断熱住宅 : (0.0, 5.8, 0.0, 0.0)\n"
     ]
    }
   ],
   "source": [
    "show_result(lambda h: (h.l_hb_ew_ew_ic_sw_nw, h.l_hb_ew_ew_ic_nw_ne, h.l_hb_ew_ew_ic_ne_se, h.l_hb_ew_ew_ic_se_sw))"
   ]
  },
  {
   "cell_type": "markdown",
   "metadata": {},
   "source": [
    "## 熱橋（床と間仕切り等） 十字（室2・外2）"
   ]
  },
  {
   "cell_type": "markdown",
   "metadata": {},
   "source": [
    "長辺方向と短辺方向に十字に梁がはしっていると過程し、長辺方向の長さと短辺方向の長さを足した値とする。"
   ]
  },
  {
   "cell_type": "markdown",
   "metadata": {},
   "source": [
    "下に面した熱橋  \n",
    "$$ L_{HB,ef-iw,inside} = L_{SS,1} + L_{LS,1} $$"
   ]
  },
  {
   "cell_type": "code",
   "execution_count": 89,
   "metadata": {
    "pycharm": {
     "is_executing": false
    }
   },
   "outputs": [],
   "source": [
    "for h in hs:\n",
    "    h.l_hb_ef_iw_inside = h.l_ss[0] + h.l_ls[0]"
   ]
  },
  {
   "cell_type": "code",
   "execution_count": 90,
   "metadata": {
    "pycharm": {
     "is_executing": false
    }
   },
   "outputs": [
    {
     "name": "stdout",
     "output_type": "stream",
     "text": [
      "床断熱住宅（外皮に接する浴室床なし） : 15.40239910874552\n",
      "床断熱住宅（浴室床断熱） : 15.40239910874552\n",
      "床断熱住宅（浴室基礎断熱） : 15.40239910874552\n",
      "基礎断熱住宅 : 15.40239910874552\n"
     ]
    }
   ],
   "source": [
    "show_result(lambda h: h.l_hb_ef_iw_inside)"
   ]
  },
  {
   "cell_type": "markdown",
   "metadata": {},
   "source": [
    "## 熱橋（床と外壁と基礎） T字（床断熱時：室1・外3）（基礎断熱時：室2・外2）"
   ]
  },
  {
   "cell_type": "markdown",
   "metadata": {},
   "source": [
    "1階の周長とする。ただし、玄関の外周部長さを減じる。  \n",
    "浴室については、住宅の断熱境界にかかわらず何らかの熱橋が生じるものとし、減じない。"
   ]
  },
  {
   "cell_type": "markdown",
   "metadata": {},
   "source": [
    "南西と床下に面した熱橋  \n",
    "$$ L_{HB,ef-ew-base,SW-bottom} = L_{LS,1} - L_{base,entrance,SW} $$  \n",
    "北西と床下に面した熱橋  \n",
    "$$ L_{HB,ef-ew-base,NW-bottom} = L_{SS,1} - L_{base,entrance,NW} $$  \n",
    "北東と床下に面した熱橋  \n",
    "$$ L_{HB,ef-ew-base,NE-bottom} = L_{LS,1} - L_{base,entrance,NE} $$  \n",
    "南東と床下に面した熱橋  \n",
    "$$ L_{HB,ef-ew-base,SE-bottom} = L_{SS,1} - L_{base,entrance,SE} $$  "
   ]
  },
  {
   "cell_type": "code",
   "execution_count": 91,
   "metadata": {
    "pycharm": {
     "is_executing": false
    }
   },
   "outputs": [],
   "source": [
    "for h in hs:\n",
    "    h.l_hb_ef_ew_base_sw_bottom = h.l_ls[0] - h.l_base_entrance_outside[0]\n",
    "    h.l_hb_ef_ew_base_nw_bottom = h.l_ss[0] - h.l_base_entrance_outside[1]\n",
    "    h.l_hb_ef_ew_base_ne_bottom = h.l_ls[0] - h.l_base_entrance_outside[2]\n",
    "    h.l_hb_ef_ew_base_se_bottom = h.l_ss[0] - h.l_base_entrance_outside[3]"
   ]
  },
  {
   "cell_type": "code",
   "execution_count": 92,
   "metadata": {
    "pycharm": {
     "is_executing": false
    },
    "scrolled": true
   },
   "outputs": [
    {
     "name": "stdout",
     "output_type": "stream",
     "text": [
      "床断熱住宅（外皮に接する浴室床なし） : (10.609982280729707, 2.972416828015813, 9.244982280729706, 4.7924168280158135)\n",
      "床断熱住宅（浴室床断熱） : (10.609982280729707, 2.972416828015813, 9.244982280729706, 4.7924168280158135)\n",
      "床断熱住宅（浴室基礎断熱） : (10.609982280729707, 2.972416828015813, 9.244982280729706, 4.7924168280158135)\n",
      "基礎断熱住宅 : (10.609982280729707, 2.972416828015813, 9.244982280729706, 4.7924168280158135)\n"
     ]
    }
   ],
   "source": [
    "show_result(lambda h: (h.l_hb_ef_ew_base_sw_bottom, h.l_hb_ef_ew_base_nw_bottom, h.l_hb_ef_ew_base_ne_bottom, h.l_hb_ef_ew_base_se_bottom))"
   ]
  },
  {
   "cell_type": "markdown",
   "metadata": {},
   "source": [
    "## 熱橋（床と基礎） 玄関"
   ]
  },
  {
   "cell_type": "markdown",
   "metadata": {},
   "source": [
    "玄関の基礎は無断熱を想定するため、玄関における熱橋（床と基礎）は存在しないとして扱う。"
   ]
  },
  {
   "cell_type": "markdown",
   "metadata": {},
   "source": [
    "## 熱橋（床と基礎）浴室 L字又はT字（床断熱（浴室基礎断熱）時：室3・外1）（床断熱（浴室床断熱 or 浴室の床が外皮に接しない）時：室2・外2）"
   ]
  },
  {
   "cell_type": "markdown",
   "metadata": {},
   "source": [
    "基礎断熱住宅は発生しないものとする。  "
   ]
  },
  {
   "cell_type": "markdown",
   "metadata": {},
   "source": [
    "外気に面さない熱橋  \n",
    "$$ L_{HB,ef-base,inside} = L_{base,bath,MS} + L_{base,bath,OS} $$  "
   ]
  },
  {
   "cell_type": "code",
   "execution_count": 93,
   "metadata": {
    "pycharm": {
     "is_executing": false
    }
   },
   "outputs": [],
   "source": [
    "for h in hs:\n",
    "    if h.floor_ins == FloorIns.FLOOR:\n",
    "        h.l_hb_ef_base_inside = h.l_base_bath_ms + h.l_base_bath_os\n",
    "    elif h.floor_ins == FloorIns.BASE:\n",
    "        h.l_hb_ef_base_inside = 0.0\n",
    "    else:\n",
    "        raise ValueError"
   ]
  },
  {
   "cell_type": "code",
   "execution_count": 94,
   "metadata": {
    "pycharm": {
     "is_executing": false
    },
    "scrolled": false
   },
   "outputs": [
    {
     "name": "stdout",
     "output_type": "stream",
     "text": [
      "床断熱住宅（外皮に接する浴室床なし） : 3.64\n",
      "床断熱住宅（浴室床断熱） : 3.64\n",
      "床断熱住宅（浴室基礎断熱） : 3.64\n",
      "基礎断熱住宅 : 0.0\n"
     ]
    }
   ],
   "source": [
    "show_result(lambda h: h.l_hb_ef_base_inside)"
   ]
  },
  {
   "cell_type": "markdown",
   "metadata": {},
   "source": [
    "## 熱橋（床と基礎）その他"
   ]
  },
  {
   "cell_type": "markdown",
   "metadata": {},
   "source": [
    "間仕切り以外でも、床と基礎のT字部分で床の下側で断熱している場合は構造熱橋が発生するが、簡易法ではその部分の熱橋は扱わないことにする。"
   ]
  },
  {
   "cell_type": "markdown",
   "metadata": {},
   "source": [
    "## グルーピングされた熱橋（屋根又は天井）"
   ]
  },
  {
   "cell_type": "markdown",
   "metadata": {},
   "source": [
    "$$ L_{groupedHB,roof,top} = L_{HB,roof-iw,top} $$"
   ]
  },
  {
   "cell_type": "code",
   "execution_count": 95,
   "metadata": {
    "pycharm": {
     "is_executing": false
    }
   },
   "outputs": [],
   "source": [
    "for h in hs:\n",
    "    h.l_groupedhb_roof_top = h.l_hb_roof_iw_top"
   ]
  },
  {
   "cell_type": "code",
   "execution_count": 96,
   "metadata": {
    "pycharm": {
     "is_executing": false
    },
    "scrolled": true
   },
   "outputs": [
    {
     "name": "stdout",
     "output_type": "stream",
     "text": [
      "床断熱住宅（外皮に接する浴室床なし） : 15.40239910874552\n",
      "床断熱住宅（浴室床断熱） : 15.40239910874552\n",
      "床断熱住宅（浴室基礎断熱） : 15.40239910874552\n",
      "基礎断熱住宅 : 15.40239910874552\n"
     ]
    }
   ],
   "source": [
    "show_result(lambda h: h.l_groupedhb_roof_top)"
   ]
  },
  {
   "cell_type": "markdown",
   "metadata": {},
   "source": [
    "## グルーピングされた熱橋（壁）"
   ]
  },
  {
   "cell_type": "markdown",
   "metadata": {},
   "source": [
    "$$ L_{groupedHB,wall,SW} = L_{HB,ew-iw,SW} + L_{HB,ew-if,SW} $$  \n",
    "$$ L_{groupedHB,wall,NW} = L_{HB,ew-iw,NW} + L_{HB,ew-if,NW} $$  \n",
    "$$ L_{groupedHB,wall,NE} = L_{HB,ew-iw,NE} + L_{HB,ew-if,NE} $$  \n",
    "$$ L_{groupedHB,wall,SE} = L_{HB,ew-iw,SE} + L_{HB,ew-if,SE} $$  "
   ]
  },
  {
   "cell_type": "code",
   "execution_count": 97,
   "metadata": {
    "pycharm": {
     "is_executing": false
    }
   },
   "outputs": [],
   "source": [
    "for h in hs:\n",
    "    h.l_groupedhb_wall_sw = h.l_hb_ew_iw_sw + h.l_hb_ew_if_sw\n",
    "    h.l_groupedhb_wall_nw = h.l_hb_ew_iw_nw + h.l_hb_ew_if_nw\n",
    "    h.l_groupedhb_wall_ne = h.l_hb_ew_iw_ne + h.l_hb_ew_if_ne\n",
    "    h.l_groupedhb_wall_se = h.l_hb_ew_iw_se + h.l_hb_ew_if_se"
   ]
  },
  {
   "cell_type": "code",
   "execution_count": 98,
   "metadata": {
    "pycharm": {
     "is_executing": false
    }
   },
   "outputs": [
    {
     "name": "stdout",
     "output_type": "stream",
     "text": [
      "床断熱住宅（外皮に接する浴室床なし） : (13.894900835666089, 5.6, 5.6, 10.320073590817962)\n",
      "床断熱住宅（浴室床断熱） : (13.894900835666089, 5.6, 5.6, 10.320073590817962)\n",
      "床断熱住宅（浴室基礎断熱） : (13.894900835666089, 5.6, 5.6, 10.320073590817962)\n",
      "基礎断熱住宅 : (13.894900835666089, 5.6, 5.6, 10.320073590817962)\n"
     ]
    }
   ],
   "source": [
    "show_result(lambda h: (h.l_groupedhb_wall_sw, h.l_groupedhb_wall_nw, h.l_groupedhb_wall_ne, h.l_groupedhb_wall_se))"
   ]
  },
  {
   "cell_type": "markdown",
   "metadata": {},
   "source": [
    "## グルーピングされた熱橋（床）"
   ]
  },
  {
   "cell_type": "markdown",
   "metadata": {},
   "source": [
    "$$ L_{groupedHB,floor,inside} = L_{HB,ef-iw,inside} + L_{HB,ef-base,inside} $$"
   ]
  },
  {
   "cell_type": "code",
   "execution_count": 99,
   "metadata": {
    "pycharm": {
     "is_executing": false
    }
   },
   "outputs": [],
   "source": [
    "for h in hs:\n",
    "    h.l_groupedhb_floor_inside = h.l_hb_ef_iw_inside + h.l_hb_ef_base_inside"
   ]
  },
  {
   "cell_type": "code",
   "execution_count": 100,
   "metadata": {
    "pycharm": {
     "is_executing": false
    }
   },
   "outputs": [
    {
     "name": "stdout",
     "output_type": "stream",
     "text": [
      "床断熱住宅（外皮に接する浴室床なし） : 19.04239910874552\n",
      "床断熱住宅（浴室床断熱） : 19.04239910874552\n",
      "床断熱住宅（浴室基礎断熱） : 19.04239910874552\n",
      "基礎断熱住宅 : 15.40239910874552\n"
     ]
    }
   ],
   "source": [
    "show_result(lambda h: h.l_groupedhb_floor_inside)"
   ]
  },
  {
   "cell_type": "markdown",
   "metadata": {},
   "source": [
    "## グルーピングされた熱橋（屋根又は天井と壁）"
   ]
  },
  {
   "cell_type": "markdown",
   "metadata": {},
   "source": [
    "$$ L_{groupedHB,roof-wall,top-SW} = L_{HB,roof-ew,top-SW} + L_{HB,roof-ew-if,top-SW} $$  \n",
    "$$ L_{groupedHB,roof-wall,top-NW} = L_{HB,roof-ew,top-NW} + L_{HB,roof-ew-if,top-NW} $$  \n",
    "$$ L_{groupedHB,roof-wall,top-NE} = L_{HB,roof-ew,top-NE} + L_{HB,roof-ew-if,top-NE} $$  \n",
    "$$ L_{groupedHB,roof-wall,top-SE} = L_{HB,roof-ew,top-SE} + L_{HB,roof-ew-if,top-SE} $$  "
   ]
  },
  {
   "cell_type": "code",
   "execution_count": 101,
   "metadata": {
    "pycharm": {
     "is_executing": false
    }
   },
   "outputs": [],
   "source": [
    "for h in hs:\n",
    "    h.l_groupedhb_roof_wall_top_sw = h.l_hb_roof_ew_top_sw + h.l_hb_roof_ew_if_top_sw\n",
    "    h.l_groupedhb_roof_wall_top_nw = h.l_hb_roof_ew_top_nw + h.l_hb_roof_ew_if_top_nw\n",
    "    h.l_groupedhb_roof_wall_top_ne = h.l_hb_roof_ew_top_ne + h.l_hb_roof_ew_if_top_ne\n",
    "    h.l_groupedhb_roof_wall_top_se = h.l_hb_roof_ew_top_se + h.l_hb_roof_ew_if_top_se"
   ]
  },
  {
   "cell_type": "code",
   "execution_count": 102,
   "metadata": {
    "pycharm": {
     "is_executing": false
    }
   },
   "outputs": [
    {
     "name": "stdout",
     "output_type": "stream",
     "text": [
      "床断熱住宅（外皮に接する浴室床なし） : (10.609982280729707, 14.232564009651739, 27.199783952061885, 4.7924168280158135)\n",
      "床断熱住宅（浴室床断熱） : (10.609982280729707, 14.232564009651739, 27.199783952061885, 4.7924168280158135)\n",
      "床断熱住宅（浴室基礎断熱） : (10.609982280729707, 14.232564009651739, 27.199783952061885, 4.7924168280158135)\n",
      "基礎断熱住宅 : (10.609982280729707, 14.232564009651739, 27.199783952061885, 4.7924168280158135)\n"
     ]
    }
   ],
   "source": [
    "show_result(lambda h: (h.l_groupedhb_roof_wall_top_sw, h.l_groupedhb_roof_wall_top_nw, h.l_groupedhb_roof_wall_top_ne, h.l_groupedhb_roof_wall_top_se))"
   ]
  },
  {
   "cell_type": "markdown",
   "metadata": {},
   "source": [
    "## グルーピングされた熱橋（壁と壁）"
   ]
  },
  {
   "cell_type": "markdown",
   "metadata": {},
   "source": [
    "$$ L_{groupedHB,wall-wall,SW-NW} = L_{HB,ew-ew,oc,SW-NW} + L_{HB,ew-ew,ic,SW-NW} $$  \n",
    "$$ L_{groupedHB,wall-wall,NW-NE} = L_{HB,ew-ew,oc,NW-NE} + L_{HB,ew-ew,ic,NW-NE} $$  \n",
    "$$ L_{groupedHB,wall-wall,NE-SE} = L_{HB,ew-ew,oc,NE-SE} + L_{HB,ew-ew,ic,NE-SE} $$  \n",
    "$$ L_{groupedHB,wall-wall,SE-SW} = L_{HB,ew-ew,oc,SE-SW} + L_{HB,ew-ew,ic,SE-SW} $$  "
   ]
  },
  {
   "cell_type": "code",
   "execution_count": 103,
   "metadata": {
    "pycharm": {
     "is_executing": false
    }
   },
   "outputs": [],
   "source": [
    "for h in hs:\n",
    "    h.l_groupedhb_wall_wall_sw_nw = h.l_hb_ew_ew_oc_sw_nw + h.l_hb_ew_ew_ic_sw_nw\n",
    "    h.l_groupedhb_wall_wall_nw_ne = h.l_hb_ew_ew_oc_nw_ne + h.l_hb_ew_ew_ic_nw_ne\n",
    "    h.l_groupedhb_wall_wall_ne_se = h.l_hb_ew_ew_oc_ne_se + h.l_hb_ew_ew_ic_ne_se\n",
    "    h.l_groupedhb_wall_wall_se_sw = h.l_hb_ew_ew_oc_se_sw + h.l_hb_ew_ew_ic_se_sw"
   ]
  },
  {
   "cell_type": "code",
   "execution_count": 104,
   "metadata": {
    "pycharm": {
     "is_executing": false
    }
   },
   "outputs": [
    {
     "name": "stdout",
     "output_type": "stream",
     "text": [
      "床断熱住宅（外皮に接する浴室床なし） : (5.6, 17.2, 5.6, 5.6)\n",
      "床断熱住宅（浴室床断熱） : (5.6, 17.2, 5.6, 5.6)\n",
      "床断熱住宅（浴室基礎断熱） : (5.6, 17.2, 5.6, 5.6)\n",
      "基礎断熱住宅 : (5.6, 17.2, 5.6, 5.6)\n"
     ]
    }
   ],
   "source": [
    "show_result(lambda h: (h.l_groupedhb_wall_wall_sw_nw, h.l_groupedhb_wall_wall_nw_ne, h.l_groupedhb_wall_wall_ne_se, h.l_groupedhb_wall_wall_se_sw))"
   ]
  },
  {
   "cell_type": "markdown",
   "metadata": {},
   "source": [
    "## グルーピングされた熱橋（壁と床）"
   ]
  },
  {
   "cell_type": "markdown",
   "metadata": {},
   "source": [
    "$$ L_{groupedHB,wall-floor,SW-bottom} = L_{HB,ef-ew-base,SW-bottom} $$  \n",
    "$$ L_{groupedHB,wall-floor,NW-bottom} = L_{HB,ef-ew-base,NW-bottom} $$  \n",
    "$$ L_{groupedHB,wall-floor,NE-bottom} = L_{HB,ef-ew-base,NE-bottom} $$  \n",
    "$$ L_{groupedHB,wall-floor,SE-bottom} = L_{HB,ef-ew-base,SE-bottom} $$  "
   ]
  },
  {
   "cell_type": "code",
   "execution_count": 105,
   "metadata": {
    "pycharm": {
     "is_executing": false
    }
   },
   "outputs": [],
   "source": [
    "for h in hs:\n",
    "    h.l_groupedhb_wall_floor_sw_bottom = h.l_hb_ef_ew_base_sw_bottom\n",
    "    h.l_groupedhb_wall_floor_nw_bottom = h.l_hb_ef_ew_base_nw_bottom\n",
    "    h.l_groupedhb_wall_floor_ne_bottom = h.l_hb_ef_ew_base_ne_bottom\n",
    "    h.l_groupedhb_wall_floor_se_bottom = h.l_hb_ef_ew_base_se_bottom"
   ]
  },
  {
   "cell_type": "code",
   "execution_count": 106,
   "metadata": {
    "pycharm": {
     "is_executing": false
    }
   },
   "outputs": [
    {
     "name": "stdout",
     "output_type": "stream",
     "text": [
      "床断熱住宅（外皮に接する浴室床なし） : (10.609982280729707, 2.972416828015813, 9.244982280729706, 4.7924168280158135)\n",
      "床断熱住宅（浴室床断熱） : (10.609982280729707, 2.972416828015813, 9.244982280729706, 4.7924168280158135)\n",
      "床断熱住宅（浴室基礎断熱） : (10.609982280729707, 2.972416828015813, 9.244982280729706, 4.7924168280158135)\n",
      "基礎断熱住宅 : (10.609982280729707, 2.972416828015813, 9.244982280729706, 4.7924168280158135)\n"
     ]
    }
   ],
   "source": [
    "show_result(lambda h: (h.l_groupedhb_wall_floor_sw_bottom, h.l_groupedhb_wall_floor_nw_bottom, h.l_groupedhb_wall_floor_ne_bottom, h.l_groupedhb_wall_floor_se_bottom))"
   ]
  },
  {
   "cell_type": "markdown",
   "metadata": {},
   "source": [
    "# 数字の丸め"
   ]
  },
  {
   "cell_type": "markdown",
   "metadata": {},
   "source": [
    "## 外皮の部位の面積の合計"
   ]
  },
  {
   "cell_type": "code",
   "execution_count": 107,
   "metadata": {
    "pycharm": {
     "is_executing": false
    }
   },
   "outputs": [],
   "source": [
    "for h, doc in zip(hs, docs):\n",
    "    doc['外皮の部位の面積の合計'] = round2(h.a_env)"
   ]
  },
  {
   "cell_type": "markdown",
   "metadata": {},
   "source": [
    "## 床面積の合計"
   ]
  },
  {
   "cell_type": "code",
   "execution_count": 108,
   "metadata": {
    "pycharm": {
     "is_executing": false
    }
   },
   "outputs": [],
   "source": [
    "for h, doc in zip(hs, docs):\n",
    "    doc['床面積の合計'] = round2(h.a_f_total)"
   ]
  },
  {
   "cell_type": "markdown",
   "metadata": {},
   "source": [
    "## 屋根又は天井の面積"
   ]
  },
  {
   "cell_type": "code",
   "execution_count": 109,
   "metadata": {
    "pycharm": {
     "is_executing": false
    }
   },
   "outputs": [],
   "source": [
    "for h, doc in zip(hs, docs):\n",
    "    doc['屋根又は天井の面積'] = round2(h.a_roof)"
   ]
  },
  {
   "cell_type": "markdown",
   "metadata": {},
   "source": [
    "## 壁の面積 "
   ]
  },
  {
   "cell_type": "code",
   "execution_count": 110,
   "metadata": {
    "pycharm": {
     "is_executing": false
    }
   },
   "outputs": [],
   "source": [
    "for h, doc in zip(hs, docs):\n",
    "    doc['南西に面した壁の面積'] = round2(h.a_wall[0])\n",
    "    doc['北西に面した壁の面積'] = round2(h.a_wall[1])\n",
    "    doc['北東に面した壁の面積'] = round2(h.a_wall[2])\n",
    "    doc['南東に面した壁の面積'] = round2(h.a_wall[3])"
   ]
  },
  {
   "cell_type": "markdown",
   "metadata": {},
   "source": [
    "## ドアの面積"
   ]
  },
  {
   "cell_type": "code",
   "execution_count": 111,
   "metadata": {
    "pycharm": {
     "is_executing": false
    }
   },
   "outputs": [],
   "source": [
    "for h, doc in zip(hs, docs):\n",
    "    doc['南西に面したドアの面積'] = round2(h.a_door[0])\n",
    "    doc['北西に面したドアの面積'] = round2(h.a_door[1])\n",
    "    doc['北東に面したドアの面積'] = round2(h.a_door[2])\n",
    "    doc['南東に面したドアの面積'] = round2(h.a_door[3])"
   ]
  },
  {
   "cell_type": "markdown",
   "metadata": {},
   "source": [
    "## 窓の面積"
   ]
  },
  {
   "cell_type": "code",
   "execution_count": 112,
   "metadata": {
    "pycharm": {
     "is_executing": false
    }
   },
   "outputs": [],
   "source": [
    "for h, doc in zip(hs, docs):\n",
    "    doc['南西に面した窓の面積'] = round2(h.a_wnd[0])\n",
    "    doc['北西に面した窓の面積'] = round2(h.a_wnd[1])\n",
    "    doc['北東に面した窓の面積'] = round2(h.a_wnd[2])\n",
    "    doc['南東に面した窓の面積'] = round2(h.a_wnd[3])"
   ]
  },
  {
   "cell_type": "markdown",
   "metadata": {},
   "source": [
    "## 浴室の床の面積"
   ]
  },
  {
   "cell_type": "code",
   "execution_count": 113,
   "metadata": {
    "pycharm": {
     "is_executing": false
    }
   },
   "outputs": [],
   "source": [
    "for h, doc in zip(hs, docs):\n",
    "    doc['浴室の床の面積'] = round2(h.a_if_bath)"
   ]
  },
  {
   "cell_type": "markdown",
   "metadata": {},
   "source": [
    "## その他の床の面積"
   ]
  },
  {
   "cell_type": "code",
   "execution_count": 114,
   "metadata": {
    "pycharm": {
     "is_executing": false
    }
   },
   "outputs": [],
   "source": [
    "for h, doc in zip(hs, docs):\n",
    "    doc['その他の床の面積'] = round2(h.a_if_other)"
   ]
  },
  {
   "cell_type": "markdown",
   "metadata": {},
   "source": [
    "## 玄関等の基礎の面積"
   ]
  },
  {
   "cell_type": "code",
   "execution_count": 115,
   "metadata": {
    "pycharm": {
     "is_executing": false
    }
   },
   "outputs": [],
   "source": [
    "for h, doc in zip(hs, docs):\n",
    "    doc['南西に面した玄関等の基礎の面積'] = round2(h.a_base_entrance_outside[0])\n",
    "    doc['北西に面した玄関等の基礎の面積'] = round2(h.a_base_entrance_outside[1])\n",
    "    doc['北東に面した玄関等の基礎の面積'] = round2(h.a_base_entrance_outside[2])\n",
    "    doc['南東に面した玄関等の基礎の面積'] = round2(h.a_base_entrance_outside[3])\n",
    "    doc['床下に面した玄関等の基礎の面積'] = round2(h.a_base_entrance_inside)"
   ]
  },
  {
   "cell_type": "markdown",
   "metadata": {},
   "source": [
    "## 浴室の基礎の面積"
   ]
  },
  {
   "cell_type": "code",
   "execution_count": 116,
   "metadata": {
    "pycharm": {
     "is_executing": false
    }
   },
   "outputs": [],
   "source": [
    "for h, doc in zip(hs, docs):\n",
    "    doc['南西に面した浴室の基礎の面積'] = round2(h.a_base_bath_outside[0])\n",
    "    doc['北西に面した浴室の基礎の面積'] = round2(h.a_base_bath_outside[1])\n",
    "    doc['北東に面した浴室の基礎の面積'] = round2(h.a_base_bath_outside[2])\n",
    "    doc['南東に面した浴室の基礎の面積'] = round2(h.a_base_bath_outside[3])\n",
    "    doc['床下に面した浴室の基礎の面積'] = round2(h.a_base_bath_inside)"
   ]
  },
  {
   "cell_type": "markdown",
   "metadata": {},
   "source": [
    "## その他の基礎の面積"
   ]
  },
  {
   "cell_type": "code",
   "execution_count": 117,
   "metadata": {
    "pycharm": {
     "is_executing": false
    }
   },
   "outputs": [],
   "source": [
    "for h, doc in zip(hs, docs):\n",
    "    doc['南西に面したその他の基礎の面積'] = round2(h.a_base_other_outside[0])\n",
    "    doc['北西に面したその他の基礎の面積'] = round2(h.a_base_other_outside[1])\n",
    "    doc['北東に面したその他の基礎の面積'] = round2(h.a_base_other_outside[2])\n",
    "    doc['南東に面したその他の基礎の面積'] = round2(h.a_base_other_outside[3])\n",
    "    doc['床下に面したその他の基礎の面積'] = round2(h.a_base_other_inside)"
   ]
  },
  {
   "cell_type": "markdown",
   "metadata": {},
   "source": [
    "## 玄関等の土間床等の外周部の長さ"
   ]
  },
  {
   "cell_type": "code",
   "execution_count": 118,
   "metadata": {
    "pycharm": {
     "is_executing": false
    }
   },
   "outputs": [],
   "source": [
    "for h, doc in zip(hs, docs):\n",
    "    doc['南西に面した玄関等の土間床等の外周部の長さ'] = round2(h.l_base_entrance_outside[0])\n",
    "    doc['北西に面した玄関等の土間床等の外周部の長さ'] = round2(h.l_base_entrance_outside[1])\n",
    "    doc['北東に面した玄関等の土間床等の外周部の長さ'] = round2(h.l_base_entrance_outside[2])\n",
    "    doc['南東に面した玄関等の土間床等の外周部の長さ'] = round2(h.l_base_entrance_outside[3])\n",
    "    doc['床下に面した玄関等の土間床等の外周部の長さ'] = round2(h.l_base_entrance_inside)"
   ]
  },
  {
   "cell_type": "markdown",
   "metadata": {},
   "source": [
    "## 浴室の土間床等の外周部の長さ"
   ]
  },
  {
   "cell_type": "code",
   "execution_count": 119,
   "metadata": {
    "pycharm": {
     "is_executing": false
    }
   },
   "outputs": [],
   "source": [
    "for h, doc in zip(hs, docs):\n",
    "    doc['南西に面した浴室の土間床等の外周部の長さ'] = round2(h.l_base_bath_outside[0])\n",
    "    doc['北西に面した浴室の土間床等の外周部の長さ'] = round2(h.l_base_bath_outside[1])\n",
    "    doc['北東に面した浴室の土間床等の外周部の長さ'] = round2(h.l_base_bath_outside[2])\n",
    "    doc['南東に面した浴室の土間床等の外周部の長さ'] = round2(h.l_base_bath_outside[3])\n",
    "    doc['床下に面した浴室の土間床等の外周部の長さ'] = round2(h.l_base_bath_inside)"
   ]
  },
  {
   "cell_type": "markdown",
   "metadata": {},
   "source": [
    "## その他の土間床等の外周部の長さ"
   ]
  },
  {
   "cell_type": "code",
   "execution_count": 120,
   "metadata": {
    "pycharm": {
     "is_executing": false
    }
   },
   "outputs": [],
   "source": [
    "for h, doc in zip(hs, docs):\n",
    "    doc['南西に面したその他の土間床等の外周部の長さ'] = round2(h.l_base_other_outside[0])\n",
    "    doc['北西に面したその他の土間床等の外周部の長さ'] = round2(h.l_base_other_outside[1])\n",
    "    doc['北東に面したその他の土間床等の外周部の長さ'] = round2(h.l_base_other_outside[2])\n",
    "    doc['南東に面したその他の土間床等の外周部の長さ'] = round2(h.l_base_other_outside[3])\n",
    "    doc['床下に面したその他の土間床等の外周部の長さ'] = round2(h.l_base_other_inside)"
   ]
  },
  {
   "cell_type": "markdown",
   "metadata": {},
   "source": [
    "## 屋根又は天井の熱橋"
   ]
  },
  {
   "cell_type": "code",
   "execution_count": 121,
   "metadata": {
    "pycharm": {
     "is_executing": false
    }
   },
   "outputs": [],
   "source": [
    "for h, doc in zip(hs, docs):\n",
    "    doc['上面に面した屋根又は天井の熱橋'] = round2(h.l_groupedhb_roof_top)"
   ]
  },
  {
   "cell_type": "markdown",
   "metadata": {},
   "source": [
    "## 壁の熱橋"
   ]
  },
  {
   "cell_type": "code",
   "execution_count": 122,
   "metadata": {
    "pycharm": {
     "is_executing": false
    }
   },
   "outputs": [],
   "source": [
    "for h, doc in zip(hs, docs):\n",
    "    doc['南西に面した壁の熱橋'] = round2(h.l_groupedhb_wall_sw)\n",
    "    doc['北西に面した壁の熱橋'] = round2(h.l_groupedhb_wall_nw)\n",
    "    doc['北東に面した壁の熱橋'] = round2(h.l_groupedhb_wall_ne)\n",
    "    doc['南東に面した壁の熱橋'] = round2(h.l_groupedhb_wall_se)"
   ]
  },
  {
   "cell_type": "markdown",
   "metadata": {},
   "source": [
    "## 床の熱橋"
   ]
  },
  {
   "cell_type": "code",
   "execution_count": 123,
   "metadata": {
    "pycharm": {
     "is_executing": false
    }
   },
   "outputs": [],
   "source": [
    "for h, doc in zip(hs, docs):\n",
    "    doc['床下に面した床の熱橋'] = round2(h.l_groupedhb_floor_inside)"
   ]
  },
  {
   "cell_type": "markdown",
   "metadata": {},
   "source": [
    "## 屋根又は天井と壁の熱橋"
   ]
  },
  {
   "cell_type": "code",
   "execution_count": 124,
   "metadata": {
    "pycharm": {
     "is_executing": false
    }
   },
   "outputs": [],
   "source": [
    "for h, doc in zip(hs, docs):\n",
    "    doc['上面と南西に面した屋根又は天井と壁の熱橋'] = round2(h.l_groupedhb_roof_wall_top_sw)\n",
    "    doc['上面と北西に面した屋根又は天井と壁の熱橋'] = round2(h.l_groupedhb_roof_wall_top_nw)\n",
    "    doc['上面と北東に面した屋根又は天井と壁の熱橋'] = round2(h.l_groupedhb_roof_wall_top_ne)\n",
    "    doc['上面と南東に面した屋根又は天井と壁の熱橋'] = round2(h.l_groupedhb_roof_wall_top_se)"
   ]
  },
  {
   "cell_type": "markdown",
   "metadata": {},
   "source": [
    "## 壁と壁の熱橋"
   ]
  },
  {
   "cell_type": "code",
   "execution_count": 125,
   "metadata": {
    "pycharm": {
     "is_executing": false
    }
   },
   "outputs": [],
   "source": [
    "for h, doc in zip(hs, docs):\n",
    "    doc['南西と北西に面した壁と壁の熱橋'] = round2(h.l_groupedhb_wall_wall_sw_nw)\n",
    "    doc['北西と北東に面した壁と壁の熱橋'] = round2(h.l_groupedhb_wall_wall_nw_ne)\n",
    "    doc['北東と南東に面した壁と壁の熱橋'] = round2(h.l_groupedhb_wall_wall_ne_se)\n",
    "    doc['南東と南西に面した壁と壁の熱橋'] = round2(h.l_groupedhb_wall_wall_se_sw)"
   ]
  },
  {
   "cell_type": "markdown",
   "metadata": {},
   "source": [
    "## 壁と床の熱橋"
   ]
  },
  {
   "cell_type": "code",
   "execution_count": 126,
   "metadata": {
    "pycharm": {
     "is_executing": false
    }
   },
   "outputs": [],
   "source": [
    "for h, doc in zip(hs, docs):\n",
    "    doc['南西と床下に面した壁と床の熱橋'] = round2(h.l_groupedhb_wall_floor_sw_bottom)\n",
    "    doc['北西と床下に面した壁と床の熱橋'] = round2(h.l_groupedhb_wall_floor_nw_bottom)\n",
    "    doc['北東と床下に面した壁と床の熱橋'] = round2(h.l_groupedhb_wall_floor_ne_bottom)\n",
    "    doc['南東と床下に面した壁と床の熱橋'] = round2(h.l_groupedhb_wall_floor_se_bottom)"
   ]
  },
  {
   "cell_type": "markdown",
   "metadata": {},
   "source": [
    "# 簡易法の係数"
   ]
  },
  {
   "cell_type": "code",
   "execution_count": 127,
   "metadata": {
    "pycharm": {
     "is_executing": false
    }
   },
   "outputs": [],
   "source": [
    "def roundup(v: float, d: int) -> float:\n",
    "    TWOPLACES = Decimal(10) ** -d\n",
    "    output = Decimal(str(v)).quantize(TWOPLACES, rounding=ROUND_UP)\n",
    "    return float(output)"
   ]
  },
  {
   "cell_type": "code",
   "execution_count": 128,
   "metadata": {
    "pycharm": {
     "is_executing": false
    }
   },
   "outputs": [],
   "source": [
    "def rounddown(v: float, d: int) -> float:\n",
    "    TWOPLACES = Decimal(10) ** -d\n",
    "    output = Decimal(str(v)).quantize(TWOPLACES, rounding=ROUND_DOWN)\n",
    "    return float(output)"
   ]
  },
  {
   "cell_type": "markdown",
   "metadata": {},
   "source": [
    "## UA値を求める係数"
   ]
  },
  {
   "cell_type": "markdown",
   "metadata": {},
   "source": [
    "$$ C_{UA,roof} = \\frac{A_{roof}}{A_{env}} $$\n",
    "\n",
    "$$ C_{UA,wall} = \\frac{A_{wall,SW}+A_{wall,NW}+A_{wall,NE}+A_{wall,SE}}{A_{env}} $$\n",
    "\n",
    "$$ C_{UA,door} = \\frac{A_{door,SW}+A_{door,NW}+A_{door,NE}+A_{door,SE}}{A_{env}} $$\n",
    "\n",
    "$$ C_{UA,wnd} = \\frac{A_{wnd,SW}+A_{wnd,NW}+A_{wnd,NE}+A_{wnd,SE}}{A_{env}} $$\n",
    "\n",
    "$$ C_{UA,if,bath} = \\frac{A_{if,bath}}{A_{env}} \\times 0.7 $$\n",
    "\n",
    "$$ C_{UA,if,other} = \\frac{A_{if,other}}{A_{env}} \\times 0.7 $$\n",
    "\n",
    "$$ C_{UA,base,entrance} = \\frac{A_{base,entrance,SW}+A_{base,entrance,NW}+A_{base,entrance,NE}+A_{base,entrance,SE}+A_{base,entrance,inside} \\times 0.7}{A_{env}} $$\n",
    "\n",
    "$$ C_{UA,base,bath} = \\frac{A_{base,bath,SW}+A_{base,bath,NW}+A_{base,bath,NE}+A_{base,bath,SE}+A_{base,bath,inside} \\times 0.7}{A_{env}} $$\n",
    "\n",
    "$$ C_{UA,base,other} = \\frac{A_{base,other,SW}+A_{base,other,NW}+A_{base,other,NE}+A_{base,other,SE}+A_{base,other,inside} \\times 0.7}{A_{env}} $$\n",
    "\n",
    "$$ C_{UA,ef,entrance} = \\frac{l_{base,entrance,SW}+l_{base,entrance,NW}+l_{base,entrance,NE}+l_{base,entrance,SE}+l_{base,entrance,inside} \\times 0.7}{A_{env}} $$\n",
    "\n",
    "$$ C_{UA,ef,bath} = \\frac{l_{base,bath,SW}+l_{base,bath,NW}+l_{base,bath,NE}+l_{base,bath,SE}+l_{base,bath,inside} \\times 0.7}{A_{env}} $$\n",
    "\n",
    "$$ C_{UA,ef,other} = \\frac{l_{base,other,SW}+l_{base,other,NW}+l_{base,other,NE}+l_{base,other,SE}+l_{base,other,inside} \\times 0.7}{A_{env}} $$\n"
   ]
  },
  {
   "cell_type": "code",
   "execution_count": 129,
   "metadata": {
    "pycharm": {
     "is_executing": false
    }
   },
   "outputs": [],
   "source": [
    "for h, doc in zip(hs, docs):\n",
    "    doc['UA係数 屋根・天井'] = roundup(doc['屋根又は天井の面積'] / doc['外皮の部位の面積の合計'], 3)\n",
    "    doc['UA係数 壁'] = roundup((\n",
    "        doc['南西に面した壁の面積'] + doc['北西に面した壁の面積'] + doc['北東に面した壁の面積'] + doc['南東に面した壁の面積']\n",
    "    ) / doc['外皮の部位の面積の合計'], 3)\n",
    "    doc['UA係数 ドア'] = roundup((\n",
    "        doc['南西に面したドアの面積'] + doc['北西に面したドアの面積'] + doc['北東に面したドアの面積'] + doc['南東に面したドアの面積']\n",
    "    ) / doc['外皮の部位の面積の合計'], 3)\n",
    "    doc['UA係数 窓'] = roundup((\n",
    "        doc['南西に面した窓の面積'] + doc['北西に面した窓の面積'] + doc['北東に面した窓の面積'] + doc['南東に面した窓の面積']\n",
    "    ) / doc['外皮の部位の面積の合計'], 3)\n",
    "    doc['UA係数 床（浴室）'] = roundup(doc['浴室の床の面積'] / doc['外皮の部位の面積の合計'] * 0.7, 3)\n",
    "    doc['UA係数 床（その他）'] = roundup(doc['その他の床の面積'] / doc['外皮の部位の面積の合計'] * 0.7, 3)\n",
    "    doc['UA係数 基礎（玄関）'] = roundup((\n",
    "        doc['南西に面した玄関等の基礎の面積'] + doc['北西に面した玄関等の基礎の面積']\n",
    "        + doc['北東に面した玄関等の基礎の面積'] + doc['南東に面した玄関等の基礎の面積']\n",
    "        + doc['床下に面した玄関等の基礎の面積'] * 0.7) / doc['外皮の部位の面積の合計'], 3)\n",
    "    doc['UA係数 基礎（浴室その他）'] = roundup((\n",
    "        doc['南西に面した浴室の基礎の面積'] + doc['北西に面した浴室の基礎の面積']\n",
    "        + doc['北東に面した浴室の基礎の面積'] + doc['南東に面した浴室の基礎の面積']\n",
    "        + doc['床下に面した浴室の基礎の面積'] * 0.7\n",
    "        + doc['南西に面したその他の基礎の面積'] + doc['北西に面したその他の基礎の面積']\n",
    "        + doc['北東に面したその他の基礎の面積'] + doc['南東に面したその他の基礎の面積']\n",
    "        + doc['床下に面したその他の基礎の面積'] * 0.7) / doc['外皮の部位の面積の合計'], 3)\n",
    "    doc['UA係数 土間（玄関）'] = roundup((\n",
    "        doc['南西に面した玄関等の土間床等の外周部の長さ'] + doc['北西に面した玄関等の土間床等の外周部の長さ']\n",
    "        + doc['北東に面した玄関等の土間床等の外周部の長さ'] + doc['南東に面した玄関等の土間床等の外周部の長さ']\n",
    "        + doc['床下に面した玄関等の土間床等の外周部の長さ'] * 0.7) / doc['外皮の部位の面積の合計'], 3)\n",
    "    doc['UA係数 土間（浴室その他）'] = roundup((\n",
    "        doc['南西に面した浴室の土間床等の外周部の長さ'] + doc['北西に面した浴室の土間床等の外周部の長さ']\n",
    "        + doc['北東に面した浴室の土間床等の外周部の長さ'] + doc['南東に面した浴室の土間床等の外周部の長さ']\n",
    "        + doc['床下に面した浴室の土間床等の外周部の長さ'] * 0.7\n",
    "        + doc['南西に面したその他の土間床等の外周部の長さ'] + doc['北西に面したその他の土間床等の外周部の長さ']\n",
    "        + doc['北東に面したその他の土間床等の外周部の長さ'] + doc['南東に面したその他の土間床等の外周部の長さ']\n",
    "        + doc['床下に面したその他の土間床等の外周部の長さ'] * 0.7) / doc['外皮の部位の面積の合計'], 3)"
   ]
  },
  {
   "cell_type": "markdown",
   "metadata": {},
   "source": [
    "## ηA値を求める係数"
   ]
  },
  {
   "cell_type": "code",
   "execution_count": 130,
   "metadata": {
    "pycharm": {
     "is_executing": false
    }
   },
   "outputs": [],
   "source": [
    "f = f_value.f1f2Value()"
   ]
  },
  {
   "cell_type": "markdown",
   "metadata": {},
   "source": [
    "$$ C_{UA,roof} = \\frac{A_{roof}}{A_{env}} $$\n",
    "\n",
    "$$ C_{UA,wall} = \\frac{A_{wall,SW}+A_{wall,NW}+A_{wall,NE}+A_{wall,SE}}{A_{env}} $$\n",
    "\n",
    "$$ C_{UA,door} = \\frac{A_{door,SW}+A_{door,NW}+A_{door,NE}+A_{door,SE}}{A_{env}} $$\n",
    "\n",
    "$$ C_{UA,wnd} = \\frac{A_{wnd,SW}+A_{wnd,NW}+A_{wnd,NE}+A_{wnd,SE}}{A_{env}} $$\n",
    "\n",
    "$$ C_{UA,if,bath} = \\frac{A_{if,bath}}{A_{env}} \\times 0.7 $$\n",
    "\n",
    "$$ C_{UA,if,other} = \\frac{A_{if,other}}{A_{env}} \\times 0.7 $$\n",
    "\n",
    "$$ C_{UA,base,entrance} = \\frac{A_{base,entrance,SW}+A_{base,entrance,NW}+A_{base,entrance,NE}+A_{base,entrance,SE}+A_{base,entrance,inside} \\times 0.7}{A_{env}} $$\n",
    "\n",
    "$$ C_{UA,base,bath} = \\frac{A_{base,bath,SW}+A_{base,bath,NW}+A_{base,bath,NE}+A_{base,bath,SE}+A_{base,bath,inside} \\times 0.7}{A_{env}} $$\n",
    "\n",
    "$$ C_{UA,base,other} = \\frac{A_{base,other,SW}+A_{base,other,NW}+A_{base,other,NE}+A_{base,other,SE}+A_{base,other,inside} \\times 0.7}{A_{env}} $$\n",
    "\n",
    "$$ C_{UA,ef,entrance} = \\frac{l_{base,entrance,SW}+l_{base,entrance,NW}+l_{base,entrance,NE}+l_{base,entrance,SE}+l_{base,entrance,inside} \\times 0.7}{A_{env}} $$\n",
    "\n",
    "$$ C_{UA,ef,bath} = \\frac{l_{base,bath,SW}+l_{base,bath,NW}+l_{base,bath,NE}+l_{base,bath,SE}+l_{base,bath,inside} \\times 0.7}{A_{env}} $$\n",
    "\n",
    "$$ C_{UA,ef,other} = \\frac{l_{base,other,SW}+l_{base,other,NW}+l_{base,other,NE}+l_{base,other,SE}+l_{base,other,inside} \\times 0.7}{A_{env}} $$\n"
   ]
  },
  {
   "cell_type": "code",
   "execution_count": 131,
   "metadata": {
    "pycharm": {
     "is_executing": false
    }
   },
   "outputs": [],
   "source": [
    "for h, doc in zip(hs, docs):\n",
    "    for region in [1,2,3,4,5,6,7,8]:\n",
    "        doc['ηAC係数 屋根・天井 ' + str(region) + '地域'] = roundup(\n",
    "            doc['屋根又は天井の面積'] * dc.get_nu_c(region=region, direction='top') * 0.034 * 100 / doc['外皮の部位の面積の合計'], 3)\n",
    "        doc['ηAC係数 壁 ' + str(region) + '地域'] = roundup((\n",
    "            doc['南西に面した壁の面積'] * dc.get_nu_c(region=region, direction='sw') * 0.034\n",
    "            + doc['北西に面した壁の面積'] * dc.get_nu_c(region=region, direction='nw') * 0.034\n",
    "            + doc['北東に面した壁の面積'] * dc.get_nu_c(region=region, direction='ne') * 0.034\n",
    "            + doc['南東に面した壁の面積'] * dc.get_nu_c(region=region, direction='se') * 0.034\n",
    "        ) / doc['外皮の部位の面積の合計'] * 100, 3)\n",
    "        doc['ηAC係数 ドア ' + str(region) + '地域'] = roundup((\n",
    "            doc['南西に面したドアの面積'] * dc.get_nu_c(region=region, direction='sw') * 0.034\n",
    "            + doc['北西に面したドアの面積'] * dc.get_nu_c(region=region, direction='nw') * 0.034\n",
    "            + doc['北東に面したドアの面積'] * dc.get_nu_c(region=region, direction='ne') * 0.034\n",
    "            + doc['南東に面したドアの面積'] * dc.get_nu_c(region=region, direction='se') * 0.034\n",
    "        ) / doc['外皮の部位の面積の合計'] * 100, 3)\n",
    "        doc['ηAC係数 窓 ' + str(region) + '地域'] = roundup((\n",
    "            doc['南西に面した窓の面積'] * dc.get_nu_c(region=region, direction='sw')\n",
    "                * f.getValue(glassType='Type1', season='Cooling', region='region'+str(region), direction='SW', lValue=20.0)\n",
    "            + doc['北西に面した窓の面積'] * dc.get_nu_c(region=region, direction='nw')\n",
    "                * f.getValue(glassType='Type1', season='Cooling', region='region'+str(region), direction='NW', lValue=20.0)\n",
    "            + doc['北東に面した窓の面積'] * dc.get_nu_c(region=region, direction='ne')\n",
    "                * f.getValue(glassType='Type1', season='Cooling', region='region'+str(region), direction='NE', lValue=20.0)\n",
    "            + doc['南東に面した窓の面積'] * dc.get_nu_c(region=region, direction='se')\n",
    "                * f.getValue(glassType='Type1', season='Cooling', region='region'+str(region), direction='SE', lValue=20.0)\n",
    "        ) / doc['外皮の部位の面積の合計'] * 100, 3)\n",
    "        doc['ηAC係数 玄関等の基礎 ' + str(region) + '地域'] = roundup((\n",
    "            doc['南西に面した玄関等の基礎の面積'] * dc.get_nu_c(region=region, direction='sw') * 0.034\n",
    "            + doc['北西に面した玄関等の基礎の面積'] * dc.get_nu_c(region=region, direction='nw') * 0.034\n",
    "            + doc['北東に面した玄関等の基礎の面積'] * dc.get_nu_c(region=region, direction='ne') * 0.034\n",
    "            + doc['南東に面した玄関等の基礎の面積'] * dc.get_nu_c(region=region, direction='se') * 0.034\n",
    "        ) / doc['外皮の部位の面積の合計'] * 100, 3)\n",
    "        doc['ηAC係数 浴室その他の基礎 ' + str(region) + '地域'] = roundup((\n",
    "            doc['南西に面した浴室の基礎の面積'] * dc.get_nu_c(region=region, direction='sw') * 0.034\n",
    "            + doc['北西に面した浴室の基礎の面積'] * dc.get_nu_c(region=region, direction='nw') * 0.034\n",
    "            + doc['北東に面した浴室の基礎の面積'] * dc.get_nu_c(region=region, direction='ne') * 0.034\n",
    "            + doc['南東に面した浴室の基礎の面積'] * dc.get_nu_c(region=region, direction='se') * 0.034\n",
    "            + doc['南西に面したその他の基礎の面積'] * dc.get_nu_c(region=region, direction='sw') * 0.034\n",
    "            + doc['北西に面したその他の基礎の面積'] * dc.get_nu_c(region=region, direction='nw') * 0.034\n",
    "            + doc['北東に面したその他の基礎の面積'] * dc.get_nu_c(region=region, direction='ne') * 0.034\n",
    "            + doc['南東に面したその他の基礎の面積'] * dc.get_nu_c(region=region, direction='se') * 0.034\n",
    "        ) / doc['外皮の部位の面積の合計'] * 100, 3)\n",
    "    for region in [1,2,3,4,5,6,7]:\n",
    "        doc['ηAH係数 屋根・天井 ' + str(region) + '地域'] = rounddown(\n",
    "            doc['屋根又は天井の面積'] * dc.get_nu_h(region=region, direction='top') * 0.034 * 100 / doc['外皮の部位の面積の合計'], 3)\n",
    "        doc['ηAH係数 壁 ' + str(region) + '地域'] = rounddown((\n",
    "            doc['南西に面した壁の面積'] * dc.get_nu_h(region=region, direction='sw') * 0.034 * 100\n",
    "            + doc['北西に面した壁の面積'] * dc.get_nu_h(region=region, direction='nw') * 0.034 * 100\n",
    "            + doc['北東に面した壁の面積'] * dc.get_nu_h(region=region, direction='ne') * 0.034 * 100\n",
    "            + doc['南東に面した壁の面積'] * dc.get_nu_h(region=region, direction='se') * 0.034 * 100\n",
    "        ) / doc['外皮の部位の面積の合計'], 3)\n",
    "        doc['ηAH係数 ドア ' + str(region) + '地域'] = rounddown((\n",
    "            doc['南西に面したドアの面積'] * dc.get_nu_h(region=region, direction='sw') * 0.034 * 100\n",
    "            + doc['北西に面したドアの面積'] * dc.get_nu_h(region=region, direction='nw') * 0.034 * 100\n",
    "            + doc['北東に面したドアの面積'] * dc.get_nu_h(region=region, direction='ne') * 0.034 * 100\n",
    "            + doc['南東に面したドアの面積'] * dc.get_nu_h(region=region, direction='se') * 0.034 * 100\n",
    "        ) / doc['外皮の部位の面積の合計'], 3)\n",
    "        doc['ηAH係数 窓 ' + str(region) + '地域'] = rounddown((\n",
    "            doc['南西に面した窓の面積'] * dc.get_nu_h(region=region, direction='sw') * 100\n",
    "                * f.getValue(glassType='Type7', season='Heating', region='region'+str(region), direction='SW', lValue=1/0.3)\n",
    "            + doc['北西に面した窓の面積'] * dc.get_nu_h(region=region, direction='nw') * 100\n",
    "                * f.getValue(glassType='Type7', season='Heating', region='region'+str(region), direction='NW', lValue=1/0.3)\n",
    "            + doc['北東に面した窓の面積'] * dc.get_nu_h(region=region, direction='ne') * 100\n",
    "                * f.getValue(glassType='Type7', season='Heating', region='region'+str(region), direction='NE', lValue=1/0.3)\n",
    "            + doc['南東に面した窓の面積'] * dc.get_nu_h(region=region, direction='se') * 100\n",
    "                * f.getValue(glassType='Type7', season='Heating', region='region'+str(region), direction='SE', lValue=1/0.3)\n",
    "        ) / doc['外皮の部位の面積の合計'], 3)\n",
    "        doc['ηAH係数 玄関等の基礎 ' + str(region) + '地域'] = rounddown((\n",
    "            doc['南西に面した玄関等の基礎の面積'] * dc.get_nu_h(region=region, direction='sw') * 0.034 * 100\n",
    "            + doc['北西に面した玄関等の基礎の面積'] * dc.get_nu_h(region=region, direction='nw') * 0.034 * 100\n",
    "            + doc['北東に面した玄関等の基礎の面積'] * dc.get_nu_h(region=region, direction='ne') * 0.034 * 100\n",
    "            + doc['南東に面した玄関等の基礎の面積'] * dc.get_nu_h(region=region, direction='se') * 0.034 * 100\n",
    "        ) / doc['外皮の部位の面積の合計'], 3)\n",
    "        doc['ηAH係数 浴室その他の基礎 ' + str(region) + '地域'] = rounddown((\n",
    "            doc['南西に面した浴室の基礎の面積'] * dc.get_nu_h(region=region, direction='sw') * 0.034 * 100\n",
    "            + doc['北西に面した浴室の基礎の面積'] * dc.get_nu_h(region=region, direction='nw') * 0.034 * 100\n",
    "            + doc['北東に面した浴室の基礎の面積'] * dc.get_nu_h(region=region, direction='ne') * 0.034 * 100\n",
    "            + doc['南東に面した浴室の基礎の面積'] * dc.get_nu_h(region=region, direction='se') * 0.034 * 100\n",
    "            + doc['南西に面したその他の基礎の面積'] * dc.get_nu_h(region=region, direction='sw') * 0.034 * 100\n",
    "            + doc['北西に面したその他の基礎の面積'] * dc.get_nu_h(region=region, direction='nw') * 0.034 * 100\n",
    "            + doc['北東に面したその他の基礎の面積'] * dc.get_nu_h(region=region, direction='ne') * 0.034 * 100\n",
    "            + doc['南東に面したその他の基礎の面積'] * dc.get_nu_h(region=region, direction='se') * 0.034 * 100\n",
    "        ) / doc['外皮の部位の面積の合計'], 3)"
   ]
  },
  {
   "cell_type": "markdown",
   "metadata": {},
   "source": [
    "# テスト"
   ]
  },
  {
   "cell_type": "code",
   "execution_count": 132,
   "metadata": {
    "pycharm": {
     "is_executing": false
    }
   },
   "outputs": [],
   "source": [
    "wb = xlrd.open_workbook('publicated_value.xlsx')\n",
    "sheet = wb.sheet_by_name('test2020')\n",
    "values = [sheet.row_values(row) for row in range(sheet.nrows)]"
   ]
  },
  {
   "cell_type": "code",
   "execution_count": 133,
   "metadata": {
    "pycharm": {
     "is_executing": false
    },
    "scrolled": true
   },
   "outputs": [
    {
     "name": "stdout",
     "output_type": "stream",
     "text": [
      "テスト数: 165\n",
      "テスト通過数: 165\n"
     ]
    }
   ],
   "source": [
    "n_OK = 0\n",
    "n = 0\n",
    "for i, value in enumerate(values):\n",
    "    if i != 0:\n",
    "        is_ok = True\n",
    "        for j, doc in enumerate(docs):\n",
    "            real = doc[value[0]]\n",
    "            expected = value[j+1]\n",
    "            if abs(real - expected) > 0.000001:\n",
    "                print(str(value[0]) + ': house ' + str(j) + ' error: real = ' + str(real) + ' expected = ' + str(expected) )\n",
    "                is_ok = False\n",
    "        if is_ok:\n",
    "            n_OK = n_OK + 1\n",
    "        n = n+1        \n",
    "\n",
    "print('テスト数: ' + str(n))\n",
    "print('テスト通過数: ' + str(n_OK))"
   ]
  },
  {
   "cell_type": "code",
   "execution_count": null,
   "metadata": {
    "pycharm": {
     "is_executing": false
    }
   },
   "outputs": [],
   "source": []
  }
 ],
 "metadata": {
  "file_extension": ".py",
  "kernelspec": {
   "display_name": "Python 3",
   "language": "python",
   "name": "python3"
  },
  "language_info": {
   "codemirror_mode": {
    "name": "ipython",
    "version": 3
   },
   "file_extension": ".py",
   "mimetype": "text/x-python",
   "name": "python",
   "nbconvert_exporter": "python",
   "pygments_lexer": "ipython3",
   "version": "3.6.4"
  },
  "mimetype": "text/x-python",
  "name": "python",
  "npconvert_exporter": "python",
  "pycharm": {
   "stem_cell": {
    "cell_type": "raw",
    "metadata": {
     "collapsed": false
    },
    "source": []
   }
  },
  "pygments_lexer": "ipython3",
  "toc": {
   "base_numbering": 1,
   "nav_menu": {},
   "number_sections": true,
   "sideBar": true,
   "skip_h1_title": false,
   "title_cell": "Table of Contents",
   "title_sidebar": "Contents",
   "toc_cell": false,
   "toc_position": {
    "height": "calc(100% - 180px)",
    "left": "10px",
    "top": "150px",
    "width": "392px"
   },
   "toc_section_display": true,
   "toc_window_display": true
  },
  "version": 3
 },
 "nbformat": 4,
 "nbformat_minor": 2
}
