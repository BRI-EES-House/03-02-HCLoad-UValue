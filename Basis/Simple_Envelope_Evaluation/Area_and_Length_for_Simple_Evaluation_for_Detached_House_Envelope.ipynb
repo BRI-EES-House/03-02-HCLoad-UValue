{
 "cells": [
  {
   "cell_type": "code",
   "execution_count": 1,
   "metadata": {
    "collapsed": true
   },
   "outputs": [],
   "source": [
    "import math\n",
    "import numpy as np\n",
    "from collections import namedtuple\n",
    "from decimal import *"
   ]
  },
  {
   "cell_type": "code",
   "execution_count": 2,
   "metadata": {
    "collapsed": true
   },
   "outputs": [],
   "source": [
    "Direction = namedtuple('Direction', ('SW', 'NW', 'NE', 'SE'))\n",
    "Direction.__add__ = lambda a, b : Direction(a.SW + b.SW, a.NW + b.NW, a.NE + b.NE, a.SE + b.SE )\n",
    "Direction.__sub__ = lambda a, b : Direction(a.SW - b.SW, a.NW - b.NW, a.NE - b.NE, a.SE - b.SE )"
   ]
  },
  {
   "cell_type": "code",
   "execution_count": 3,
   "metadata": {
    "collapsed": true
   },
   "outputs": [],
   "source": [
    "DirectionPlus = namedtuple('DirectionPlus', ('SW', 'NW', 'NE', 'SE', 'IS'))\n",
    "DirectionPlus.__add__ = lambda a, b : DirectionPlus(a.SW + b.SW, a.NW + b.NW, a.NE + b.NE, a.SE + b.SE, a.IS + b.IS )\n",
    "DirectionPlus.__sub__ = lambda a, b : DirectionPlus(a.SW - b.SW, a.NW - b.NW, a.NE - b.NE, a.SE - b.SE, a.IS - b.IS )"
   ]
  },
  {
   "cell_type": "markdown",
   "metadata": {},
   "source": [
    "# 簡易評価式の算出根拠"
   ]
  },
  {
   "cell_type": "markdown",
   "metadata": {},
   "source": [
    "## 1. 算出の前提"
   ]
  },
  {
   "cell_type": "markdown",
   "metadata": {},
   "source": [
    "### 1) まとめ"
   ]
  },
  {
   "cell_type": "markdown",
   "metadata": {},
   "source": [
    "部位の面積及び長さ等を計算するにあたっての前提条件を以下に示す。"
   ]
  },
  {
   "cell_type": "markdown",
   "metadata": {},
   "source": [
    "| 意味 | 記号| 床断熱<br>住宅 | 基礎断熱<br>住宅 | 単位 | 備考 |\n",
    "| --- | :---: | :---: | :---: | :---: | --- |\n",
    "| 階数 | - | 2 | 2 | - | - |\n",
    "| 床面積の合計 | $A_{F,total}$ | 90.0 | 90.0 | m<sup>2</sup> | - |\n",
    "| 形状係数(1階) | $SF_1$ | 1.08 | 1.08 | - | - |\n",
    "| 形状係数(2階) | $SF_2$ | 1.04 | 1.04 | - | - |\n",
    "| 主開口方位 | - | 南西 | 南西 | - | - |\n",
    "| 1階の床面積に対する2階の床面積の比 | $r_{FA}$ | 0.77 | 0.77 | - | 自立循環型住宅プランの比を採用した。 |\n",
    "| 1階の床面積(玄関・浴室除く)に対する<br>土間床面積(玄関・浴室除く)の比 | $r_{EFA}$ | 0.0 | 1.0 | - | - |\n",
    "| 基礎の高さ(基礎断熱住宅) | $h_{base}$ | 0.0 | 0.5 | m | 基礎の高さとは土間基礎上端から1階床レベルまでの間を言う。<br>(GLからではない。) |\n",
    "| 基礎の高さ(玄関) | $h_{base,d}$ | 0.18 | 0.0 | m | - |\n",
    "| 基礎の高さ(浴室) | $h_{base,b}$ | 0.5 | 0.0 | m | - |\n",
    "| 高さ(1階) | $h_1$ | 2.9 | 2.9 | m | - |\n",
    "| 高さ(2階) | $h_2$ | 2.7 | 2.7 | m | - |\n",
    "| ドア(玄関) | $A_{door,1}$ | 1.89 | 1.89 | m<sup>2</sup> | 方位：北西 自立循環型住宅プランの面積を採用 |\n",
    "| ドア(勝手口) | $A_{door,2}$ | 1.62 | 1.62 | m<sup>2</sup> | 方位：北東 自立循環型住宅プランの面積を採用 |\n",
    "| 玄関の土間床等の周辺部の基礎長さ(主開口方位側) | $L_{base,d,MS}$ | 1.365 | 0.0 | m | - |\n",
    "| 玄関の土間床等の周辺部の基礎長さ(その他の方位側) | $L_{base,d,OS}$ | 1.82 | 0.0 | m | - |\n",
    "| 浴室の土間床等の周辺部の基礎長さ(主開口方位側) | $L_{base,b,MS}$ | 1.82 | 0.0 | m | - |\n",
    "| 浴室の土間床等の周辺部の基礎長さ(その他の方位側) | $L_{base,b,OS}$ | 1.82 | 0.0 | m | - |\n",
    "| 開口部の面積比率 | $r_{opn}$ | 0.14 | 0.14 | - | 床断熱住宅と基礎断熱住宅とを同じ開口部面積にするために、<br>基礎面積を含めない外皮表面積に対する値とする。 |\n",
    "| 方位別窓面積比率(南西) | $r_{wnd,SW}$ | 0.6862 | 0.6862 | - | - |\n",
    "| 方位別窓面積比率(北西) | $r_{wnd,NW}$ | 0.0721 | 0.0721 | - | - |\n",
    "| 方位別窓面積比率(北東) | $r_{wnd,NE}$ | 0.1097 | 0.1097 | - | - |\n",
    "| 方位別窓面積比率(南東) | $r_{wnd,SE}$ | 0.1097 | 0.1097 | - | - |\n"
   ]
  },
  {
   "cell_type": "markdown",
   "metadata": {},
   "source": [
    "※基礎の高さについて  \n",
    "下記を想定すると、根太がけの場合は524～539、根太レスの場合は479～494  \n",
    "・基礎の高さは400mm（参考：長期優良住宅）  \n",
    "・土台は105mm又は10mm  \n",
    "・根太は45mm（根太がけの場合のみ）  \n",
    "・床荒板およびフローリングは24mm（12mm＋12mm）  \n",
    "・GLから土間基礎上端までは50mm  \n",
    "あるいは下記を想定すると、根太がけの場合は489～504、根太レスの場合は444～459  \n",
    "・床下空間高さ（土間基礎上端から大引き下端まで）は330mmを確保（長期優良）  \n",
    "・大引は90又は105mm  \n",
    "・根太は45mm（根太がけの場合のみ）  \n",
    "・床荒板およびフローリングは24mm（12mm＋12mm）  \n",
    "以上を勘案して、500mmと決めた。"
   ]
  },
  {
   "cell_type": "markdown",
   "metadata": {},
   "source": [
    "### 2) 辞書型変数への代入"
   ]
  },
  {
   "cell_type": "markdown",
   "metadata": {},
   "source": [
    "床断熱住宅については変数( FIH( = floor_ins_house ) )に、基礎断熱住宅については変数( BIH( = base_ins_house ) )に設定する。"
   ]
  },
  {
   "cell_type": "code",
   "execution_count": 4,
   "metadata": {
    "collapsed": true
   },
   "outputs": [],
   "source": [
    "FIH = {}\n",
    "BIH = {}"
   ]
  },
  {
   "cell_type": "code",
   "execution_count": 5,
   "metadata": {
    "collapsed": true
   },
   "outputs": [],
   "source": [
    "FIH['type'] = 'floor_ins'\n",
    "BIH['type'] = 'base_ins'"
   ]
  },
  {
   "cell_type": "markdown",
   "metadata": {},
   "source": [
    "#### a) 階数"
   ]
  },
  {
   "cell_type": "markdown",
   "metadata": {},
   "source": [
    "階数は2階とする。"
   ]
  },
  {
   "cell_type": "markdown",
   "metadata": {},
   "source": [
    "####  b) 床面積の合計"
   ]
  },
  {
   "cell_type": "markdown",
   "metadata": {},
   "source": [
    "$ A_{F,total} = 90.0 $ (m<sup>2</sup>)"
   ]
  },
  {
   "cell_type": "code",
   "execution_count": 6,
   "metadata": {
    "collapsed": true
   },
   "outputs": [],
   "source": [
    "FIH['床面積の合計'] = Decimal('90.0')\n",
    "BIH['床面積の合計'] = Decimal('90.0')"
   ]
  },
  {
   "cell_type": "markdown",
   "metadata": {},
   "source": [
    "#### c) 形状係数"
   ]
  },
  {
   "cell_type": "markdown",
   "metadata": {},
   "source": [
    "1階: $ SF_1 = 1.08 $  \n",
    "2階: $ SF_2 = 1.04 $"
   ]
  },
  {
   "cell_type": "code",
   "execution_count": 7,
   "metadata": {
    "collapsed": true
   },
   "outputs": [],
   "source": [
    "FIH['形状係数'] = [ Decimal('1.08'), Decimal('1.04') ]\n",
    "BIH['形状係数'] = [ Decimal('1.08'), Decimal('1.04') ]"
   ]
  },
  {
   "cell_type": "markdown",
   "metadata": {},
   "source": [
    "#### d) 主開口方位"
   ]
  },
  {
   "cell_type": "markdown",
   "metadata": {},
   "source": [
    "南西とする。"
   ]
  },
  {
   "cell_type": "markdown",
   "metadata": {},
   "source": [
    "#### e) 1階の床面積に対する2階の床面積の比"
   ]
  },
  {
   "cell_type": "markdown",
   "metadata": {},
   "source": [
    "自立循環型住宅プランの比を採用する。"
   ]
  },
  {
   "cell_type": "markdown",
   "metadata": {},
   "source": [
    "$ r_{FA} = 0.77 $"
   ]
  },
  {
   "cell_type": "code",
   "execution_count": 8,
   "metadata": {
    "collapsed": true
   },
   "outputs": [],
   "source": [
    "FIH['1階の床面積に対する2階の床面積の比'] = Decimal('0.77')\n",
    "BIH['1階の床面積に対する2階の床面積の比'] = Decimal('0.77')"
   ]
  },
  {
   "cell_type": "markdown",
   "metadata": {},
   "source": [
    "#### f) 玄関と浴室を除く1階の床面積に対する土間床面積の比"
   ]
  },
  {
   "cell_type": "markdown",
   "metadata": {},
   "source": [
    "$ r_{EFA} = \\left \\{\n",
    "\\begin{array}{ll}\n",
    "    0.0 & ( \\text{floor insulated house} ) \\\\\n",
    "    1.0 & ( \\text{base insulted house} )\n",
    "\\end{array}\n",
    "\\right.\n",
    "$"
   ]
  },
  {
   "cell_type": "code",
   "execution_count": 9,
   "metadata": {
    "collapsed": true
   },
   "outputs": [],
   "source": [
    "FIH['玄関と浴室を除く1階の床面積に対する土間床面積の比'] = Decimal('0.0')\n",
    "BIH['玄関と浴室を除く1階の床面積に対する土間床面積の比'] = Decimal('1.0')"
   ]
  },
  {
   "cell_type": "markdown",
   "metadata": {},
   "source": [
    "#### g) 基礎の高さ"
   ]
  },
  {
   "cell_type": "markdown",
   "metadata": {},
   "source": [
    "$ h_{base} = 0.5 $ (m) (一般部分)  "
   ]
  },
  {
   "cell_type": "code",
   "execution_count": 10,
   "metadata": {
    "collapsed": true
   },
   "outputs": [],
   "source": [
    "FIH['基礎の高さ'] = Decimal('0.5')\n",
    "BIH['基礎の高さ'] = Decimal('0.5')"
   ]
  },
  {
   "cell_type": "markdown",
   "metadata": {},
   "source": [
    "$ h_{base,entrance} = 0.18 $ (m) (玄関)"
   ]
  },
  {
   "cell_type": "code",
   "execution_count": 11,
   "metadata": {
    "collapsed": true
   },
   "outputs": [],
   "source": [
    "FIH['玄関の基礎の高さ'] = Decimal('0.18')\n",
    "BIH['玄関の基礎の高さ'] = Decimal('0.18')"
   ]
  },
  {
   "cell_type": "markdown",
   "metadata": {},
   "source": [
    "$ h_{base,bath} = 0.5 $ (m) (浴室)"
   ]
  },
  {
   "cell_type": "code",
   "execution_count": 12,
   "metadata": {
    "collapsed": false
   },
   "outputs": [],
   "source": [
    "FIH['浴室の基礎の高さ'] = Decimal('0.5')\n",
    "BIH['浴室の基礎の高さ'] = Decimal('0.5')"
   ]
  },
  {
   "cell_type": "markdown",
   "metadata": {},
   "source": [
    "#### h) 高さ"
   ]
  },
  {
   "cell_type": "markdown",
   "metadata": {},
   "source": [
    "$ h_1 = 2.9 $ (1階)  \n",
    "$ h_2 = 2.7 $ (2階)"
   ]
  },
  {
   "cell_type": "code",
   "execution_count": 13,
   "metadata": {
    "collapsed": true
   },
   "outputs": [],
   "source": [
    "FIH['高さ'] = [ Decimal('2.9'), Decimal('2.7') ]\n",
    "BIH['高さ'] = [ Decimal('2.9'), Decimal('2.7') ]"
   ]
  },
  {
   "cell_type": "markdown",
   "metadata": {},
   "source": [
    "#### i) ドアの面積"
   ]
  },
  {
   "cell_type": "markdown",
   "metadata": {},
   "source": [
    "玄関の方位は北西、勝手口の方位は北東とする。自立循環型住宅プランの面積を採用した。"
   ]
  },
  {
   "cell_type": "markdown",
   "metadata": {},
   "source": [
    "$ A_{door,entrance} = 1.89 $ (m<sup>2</sup>) (玄関)  "
   ]
  },
  {
   "cell_type": "code",
   "execution_count": 14,
   "metadata": {
    "collapsed": true
   },
   "outputs": [],
   "source": [
    "FIH['玄関ドアの面積'] = Decimal('1.89')\n",
    "BIH['玄関ドアの面積'] = Decimal('1.89')"
   ]
  },
  {
   "cell_type": "markdown",
   "metadata": {},
   "source": [
    "$ A_{door,backentrance} = 1.62 $ (m<sup>2</sup>) (勝手口)"
   ]
  },
  {
   "cell_type": "code",
   "execution_count": 15,
   "metadata": {
    "collapsed": true
   },
   "outputs": [],
   "source": [
    "FIH['勝手口ドアの面積'] = Decimal('1.62')\n",
    "BIH['勝手口ドアの面積'] = Decimal('1.62')"
   ]
  },
  {
   "cell_type": "markdown",
   "metadata": {},
   "source": [
    "#### j) 玄関の土間床等の周辺部の基礎長さ"
   ]
  },
  {
   "cell_type": "markdown",
   "metadata": {},
   "source": [
    "$L_{base,entrance,MS}=1.365$(m)(主開口方位側)"
   ]
  },
  {
   "cell_type": "code",
   "execution_count": 16,
   "metadata": {
    "collapsed": true
   },
   "outputs": [],
   "source": [
    "FIH['主開口方位側の玄関の土間床等の周辺部の基礎長さ'] = Decimal('1.365')\n",
    "BIH['主開口方位側の玄関の土間床等の周辺部の基礎長さ'] = Decimal('1.365')"
   ]
  },
  {
   "cell_type": "markdown",
   "metadata": {},
   "source": [
    "$L_{base,entrance,OS}=1.82$(m)(その他方位側)"
   ]
  },
  {
   "cell_type": "code",
   "execution_count": 17,
   "metadata": {
    "collapsed": true
   },
   "outputs": [],
   "source": [
    "FIH['その他方位側の玄関の土間床等の周辺部の基礎長さ'] = Decimal('1.82')\n",
    "BIH['その他方位側の玄関の土間床等の周辺部の基礎長さ'] = Decimal('1.82')"
   ]
  },
  {
   "cell_type": "markdown",
   "metadata": {},
   "source": [
    "#### k) 浴室の土間床等の周辺部の基礎長さ"
   ]
  },
  {
   "cell_type": "markdown",
   "metadata": {},
   "source": [
    "$L_{base,bath,MS}=1.82$(m)(主開口方位側)"
   ]
  },
  {
   "cell_type": "code",
   "execution_count": 18,
   "metadata": {
    "collapsed": true
   },
   "outputs": [],
   "source": [
    "FIH['主開口方位側の浴室の土間床等の周辺部の基礎長さ'] = Decimal('1.82')\n",
    "BIH['主開口方位側の浴室の土間床等の周辺部の基礎長さ'] = Decimal('1.82')"
   ]
  },
  {
   "cell_type": "markdown",
   "metadata": {},
   "source": [
    "$L_{base,bath,OS}=1.82$(m)(その他方位側)"
   ]
  },
  {
   "cell_type": "code",
   "execution_count": 19,
   "metadata": {
    "collapsed": true
   },
   "outputs": [],
   "source": [
    "FIH['その他方位側の浴室の土間床等の周辺部の基礎長さ'] = Decimal('1.82')\n",
    "BIH['その他方位側の浴室の土間床等の周辺部の基礎長さ'] = Decimal('1.82')"
   ]
  },
  {
   "cell_type": "markdown",
   "metadata": {},
   "source": [
    "#### l) 開口部の面積比率"
   ]
  },
  {
   "cell_type": "markdown",
   "metadata": {},
   "source": [
    "$r_{opn} = 0.14$"
   ]
  },
  {
   "cell_type": "markdown",
   "metadata": {},
   "source": [
    "床断熱住宅と基礎断熱住宅とを同じ開口部面積にするために、基礎面積を含めない外皮表面積に対する値とする。"
   ]
  },
  {
   "cell_type": "code",
   "execution_count": 20,
   "metadata": {
    "collapsed": true
   },
   "outputs": [],
   "source": [
    "FIH['開口部の面積比率'] = Decimal('0.14')\n",
    "BIH['開口部の面積比率'] = Decimal('0.14')"
   ]
  },
  {
   "cell_type": "markdown",
   "metadata": {},
   "source": [
    "#### m) 方位別窓面積比率"
   ]
  },
  {
   "cell_type": "markdown",
   "metadata": {},
   "source": [
    "南西  \n",
    "$r_{wnd,SW}=0.6862$  \n",
    "北西  \n",
    "$r_{wnd,NW}=0.0721$  \n",
    "北東  \n",
    "$r_{wnd,NE}=0.1097$  \n",
    "南東  \n",
    "$r_{wnd,SE}=0.1320$"
   ]
  },
  {
   "cell_type": "code",
   "execution_count": 21,
   "metadata": {
    "collapsed": true
   },
   "outputs": [],
   "source": [
    "FIH['方位別窓面積比率'] = Direction( Decimal('0.6862'), Decimal('0.0721'), Decimal('0.1097'), Decimal('0.1320') ) \n",
    "BIH['方位別窓面積比率'] = Direction( Decimal('0.6862'), Decimal('0.0721'), Decimal('0.1097'), Decimal('0.1320') )"
   ]
  },
  {
   "cell_type": "markdown",
   "metadata": {},
   "source": [
    "#### n) まとめ"
   ]
  },
  {
   "cell_type": "code",
   "execution_count": 22,
   "metadata": {
    "collapsed": false
   },
   "outputs": [
    {
     "data": {
      "text/plain": [
       "{'1階の床面積に対する2階の床面積の比': Decimal('0.77'),\n",
       " 'type': 'floor_ins',\n",
       " 'その他方位側の浴室の土間床等の周辺部の基礎長さ': Decimal('1.82'),\n",
       " 'その他方位側の玄関の土間床等の周辺部の基礎長さ': Decimal('1.82'),\n",
       " '主開口方位側の浴室の土間床等の周辺部の基礎長さ': Decimal('1.82'),\n",
       " '主開口方位側の玄関の土間床等の周辺部の基礎長さ': Decimal('1.365'),\n",
       " '勝手口ドアの面積': Decimal('1.62'),\n",
       " '基礎の高さ': Decimal('0.5'),\n",
       " '床面積の合計': Decimal('90.0'),\n",
       " '形状係数': [Decimal('1.08'), Decimal('1.04')],\n",
       " '方位別窓面積比率': Direction(SW=Decimal('0.6862'), NW=Decimal('0.0721'), NE=Decimal('0.1097'), SE=Decimal('0.1320')),\n",
       " '浴室の基礎の高さ': Decimal('0.5'),\n",
       " '玄関と浴室を除く1階の床面積に対する土間床面積の比': Decimal('0.0'),\n",
       " '玄関の基礎の高さ': Decimal('0.18'),\n",
       " '玄関ドアの面積': Decimal('1.89'),\n",
       " '開口部の面積比率': Decimal('0.14'),\n",
       " '高さ': [Decimal('2.9'), Decimal('2.7')]}"
      ]
     },
     "execution_count": 22,
     "metadata": {},
     "output_type": "execute_result"
    }
   ],
   "source": [
    "FIH"
   ]
  },
  {
   "cell_type": "code",
   "execution_count": 23,
   "metadata": {
    "collapsed": false
   },
   "outputs": [
    {
     "data": {
      "text/plain": [
       "{'1階の床面積に対する2階の床面積の比': Decimal('0.77'),\n",
       " 'type': 'base_ins',\n",
       " 'その他方位側の浴室の土間床等の周辺部の基礎長さ': Decimal('1.82'),\n",
       " 'その他方位側の玄関の土間床等の周辺部の基礎長さ': Decimal('1.82'),\n",
       " '主開口方位側の浴室の土間床等の周辺部の基礎長さ': Decimal('1.82'),\n",
       " '主開口方位側の玄関の土間床等の周辺部の基礎長さ': Decimal('1.365'),\n",
       " '勝手口ドアの面積': Decimal('1.62'),\n",
       " '基礎の高さ': Decimal('0.5'),\n",
       " '床面積の合計': Decimal('90.0'),\n",
       " '形状係数': [Decimal('1.08'), Decimal('1.04')],\n",
       " '方位別窓面積比率': Direction(SW=Decimal('0.6862'), NW=Decimal('0.0721'), NE=Decimal('0.1097'), SE=Decimal('0.1320')),\n",
       " '浴室の基礎の高さ': Decimal('0.5'),\n",
       " '玄関と浴室を除く1階の床面積に対する土間床面積の比': Decimal('1.0'),\n",
       " '玄関の基礎の高さ': Decimal('0.18'),\n",
       " '玄関ドアの面積': Decimal('1.89'),\n",
       " '開口部の面積比率': Decimal('0.14'),\n",
       " '高さ': [Decimal('2.9'), Decimal('2.7')]}"
      ]
     },
     "execution_count": 23,
     "metadata": {},
     "output_type": "execute_result"
    }
   ],
   "source": [
    "BIH"
   ]
  },
  {
   "cell_type": "markdown",
   "metadata": {},
   "source": [
    "## 2. 算出過程"
   ]
  },
  {
   "cell_type": "markdown",
   "metadata": {},
   "source": [
    "途中結果プリント用関数"
   ]
  },
  {
   "cell_type": "code",
   "execution_count": 24,
   "metadata": {
    "collapsed": true
   },
   "outputs": [],
   "source": [
    "def printresult(floor_ins_result,base_ins_result):\n",
    "    print('床断熱住宅: '+ floor_ins_result )\n",
    "    print('基礎断熱住宅: ' + base_ins_result )"
   ]
  },
  {
   "cell_type": "code",
   "execution_count": 25,
   "metadata": {
    "collapsed": false
   },
   "outputs": [],
   "source": [
    "def printresult2(item_name):\n",
    "    printresult(str(FIH[item_name]),str(BIH[item_name]))"
   ]
  },
  {
   "cell_type": "markdown",
   "metadata": {},
   "source": [
    "### 1) 床面積(土間床含む)"
   ]
  },
  {
   "cell_type": "markdown",
   "metadata": {},
   "source": [
    "$ \\begin{align} A_{F,1} = \\frac{A_{F,total}}{ ( 1 + r_{FA} )} \\end{align} $"
   ]
  },
  {
   "cell_type": "markdown",
   "metadata": {},
   "source": [
    "$ \\begin{align} A_{F,2} = A_{F,total} - A_{F,1} \\end{align} $"
   ]
  },
  {
   "cell_type": "markdown",
   "metadata": {},
   "source": [
    "$A_{F,total}$: 床面積の合計(m<sup>2</sup>)  \n",
    "$r_{FA}$: 1階の床面積に対する2階の床面積の比  \n",
    "$A_{F,1}$: 1階の床面積(土間床含む)(m<sup>2</sup>)  \n",
    "$A_{F,2}$: 2階の床面積(m<sup>2</sup>)"
   ]
  },
  {
   "cell_type": "code",
   "execution_count": 26,
   "metadata": {
    "collapsed": false
   },
   "outputs": [],
   "source": [
    "def get_A_F(A_F_total, r_FA):\n",
    "    A_F_1 = A_F_total / (Decimal('1.0') + r_FA)\n",
    "    A_F_2 = A_F_total - A_F_1\n",
    "    return [ A_F_1, A_F_2 ]"
   ]
  },
  {
   "cell_type": "code",
   "execution_count": 27,
   "metadata": {
    "collapsed": false
   },
   "outputs": [],
   "source": [
    "FIH['床面積'] = get_A_F(FIH['床面積の合計'], FIH['1階の床面積に対する2階の床面積の比'])\n",
    "BIH['床面積'] = get_A_F(BIH['床面積の合計'], BIH['1階の床面積に対する2階の床面積の比'])"
   ]
  },
  {
   "cell_type": "code",
   "execution_count": 28,
   "metadata": {
    "collapsed": false
   },
   "outputs": [
    {
     "name": "stdout",
     "output_type": "stream",
     "text": [
      "床断熱住宅: [Decimal('50.84745762711864406779661017'), Decimal('39.15254237288135593220338983')]\n",
      "基礎断熱住宅: [Decimal('50.84745762711864406779661017'), Decimal('39.15254237288135593220338983')]\n"
     ]
    }
   ],
   "source": [
    "printresult2('床面積')"
   ]
  },
  {
   "cell_type": "markdown",
   "metadata": {},
   "source": [
    "### 2) 周長"
   ]
  },
  {
   "cell_type": "markdown",
   "metadata": {},
   "source": [
    "$ \\begin{align} L_{prm,i} = \\sqrt{A_{F,i}} \\times 4 \\times SF_i \\end{align} $"
   ]
  },
  {
   "cell_type": "markdown",
   "metadata": {},
   "source": [
    "$L_{prm,i}$: $i$階の周長(m)($i=1,2$)  \n",
    "$SF_i$: $i$階の形状係数($i=1,2$)  "
   ]
  },
  {
   "cell_type": "code",
   "execution_count": 29,
   "metadata": {
    "collapsed": true
   },
   "outputs": [],
   "source": [
    "def get_L_prm(A_F, SF):\n",
    "    return [ 4 * SF_i * np.sqrt(A_F_i) for A_F_i, SF_i in zip(A_F, SF) ]"
   ]
  },
  {
   "cell_type": "code",
   "execution_count": 30,
   "metadata": {
    "collapsed": false
   },
   "outputs": [],
   "source": [
    "FIH['周長'] = get_L_prm(FIH['床面積'], FIH['形状係数'])\n",
    "BIH['周長'] = get_L_prm(BIH['床面積'], BIH['形状係数'])"
   ]
  },
  {
   "cell_type": "code",
   "execution_count": 31,
   "metadata": {
    "collapsed": false
   },
   "outputs": [
    {
     "name": "stdout",
     "output_type": "stream",
     "text": [
      "床断熱住宅: [Decimal('30.80479821749103720382286217'), Decimal('26.02994885296810553877691029')]\n",
      "基礎断熱住宅: [Decimal('30.80479821749103720382286217'), Decimal('26.02994885296810553877691029')]\n"
     ]
    }
   ],
   "source": [
    "printresult2('周長')"
   ]
  },
  {
   "cell_type": "markdown",
   "metadata": {},
   "source": [
    "### 3) 長辺の長さ"
   ]
  },
  {
   "cell_type": "markdown",
   "metadata": {},
   "source": [
    "$ \\displaystyle L_{LS,i} = \\frac{ \\frac{L_{prm,i}}{2} + \\sqrt{ \\left( \\frac{L_{prm,i}}{2} \\right)^2 - 4 \\times A_{F,i} } }{2} $"
   ]
  },
  {
   "cell_type": "markdown",
   "metadata": {},
   "source": [
    "$L_{LS,i}$: $i$階の長辺の長さ($i=1,2$)"
   ]
  },
  {
   "cell_type": "code",
   "execution_count": 32,
   "metadata": {
    "collapsed": true
   },
   "outputs": [],
   "source": [
    "def get_L_LS(L_prm, A_F):\n",
    "    return [ ( L_prm_i / 2 + np.sqrt( ( L_prm_i / 2 )**2 - 4 * A_F_i ) ) / 2 for L_prm_i, A_F_i in zip(L_prm, A_F) ]"
   ]
  },
  {
   "cell_type": "code",
   "execution_count": 33,
   "metadata": {
    "collapsed": false
   },
   "outputs": [],
   "source": [
    "FIH['長辺の長さ'] = get_L_LS(FIH['周長'], FIH['床面積'])\n",
    "BIH['長辺の長さ'] = get_L_LS(BIH['周長'], BIH['床面積'])"
   ]
  },
  {
   "cell_type": "code",
   "execution_count": 34,
   "metadata": {
    "collapsed": false
   },
   "outputs": [
    {
     "name": "stdout",
     "output_type": "stream",
     "text": [
      "床断熱住宅: [Decimal('10.60998228072970436910962105'), Decimal('8.294900835666091565027726595')]\n",
      "基礎断熱住宅: [Decimal('10.60998228072970436910962105'), Decimal('8.294900835666091565027726595')]\n"
     ]
    }
   ],
   "source": [
    "printresult2('長辺の長さ')"
   ]
  },
  {
   "cell_type": "markdown",
   "metadata": {},
   "source": [
    "### 4) 短辺の長さ:"
   ]
  },
  {
   "cell_type": "markdown",
   "metadata": {},
   "source": [
    "$ \\displaystyle L_{SS,i} = \\frac{L_{prm,i}}{2} - L_{LS,i} $"
   ]
  },
  {
   "cell_type": "markdown",
   "metadata": {},
   "source": [
    "$L_{ss,i}$: $i$階の短辺の長さ(m)"
   ]
  },
  {
   "cell_type": "code",
   "execution_count": 35,
   "metadata": {
    "collapsed": true
   },
   "outputs": [],
   "source": [
    "def get_L_SS(L_prm, L_LS):\n",
    "    return [ L_prm_i / 2 - L_LS_i for L_prm_i, L_LS_i in zip(L_prm, L_LS) ]"
   ]
  },
  {
   "cell_type": "code",
   "execution_count": 36,
   "metadata": {
    "collapsed": false
   },
   "outputs": [],
   "source": [
    "FIH['短辺の長さ'] = get_L_SS(FIH['周長'], FIH['長辺の長さ'])\n",
    "BIH['短辺の長さ'] = get_L_SS(BIH['周長'], BIH['長辺の長さ'])"
   ]
  },
  {
   "cell_type": "code",
   "execution_count": 37,
   "metadata": {
    "collapsed": false
   },
   "outputs": [
    {
     "name": "stdout",
     "output_type": "stream",
     "text": [
      "床断熱住宅: [Decimal('4.79241682801581423280181003'), Decimal('4.720073590817961204360728545')]\n",
      "基礎断熱住宅: [Decimal('4.79241682801581423280181003'), Decimal('4.720073590817961204360728545')]\n"
     ]
    }
   ],
   "source": [
    "printresult2('短辺の長さ')"
   ]
  },
  {
   "cell_type": "markdown",
   "metadata": {},
   "source": [
    "### 5) 玄関の土間床等の面積"
   ]
  },
  {
   "cell_type": "markdown",
   "metadata": {},
   "source": [
    "$ A_{EF,entrance} = L_{base,entrance,MS} \\times L_{base,entrance,OS} $"
   ]
  },
  {
   "cell_type": "markdown",
   "metadata": {},
   "source": [
    "$A_{EF,entrance}$: 玄関の土間床等の面積(m<sup>2</sup>)  \n",
    "$L_{base,entrance,MS}$: 玄関の土間床等の周辺部の基礎長さ(主開口方位側)(m)  \n",
    "$L_{base,entrance,OS}$: 玄関の土間床等の周辺部の基礎長さ(その他の方位側)(m)  "
   ]
  },
  {
   "cell_type": "code",
   "execution_count": 38,
   "metadata": {
    "collapsed": true
   },
   "outputs": [],
   "source": [
    "def get_A_EF_entrance(L_base_entrance_MS, L_base_entrance_OS):\n",
    "    return L_base_entrance_MS * L_base_entrance_OS"
   ]
  },
  {
   "cell_type": "code",
   "execution_count": 39,
   "metadata": {
    "collapsed": false
   },
   "outputs": [],
   "source": [
    "FIH['玄関の土間床等の面積'] = get_A_EF_entrance(FIH['主開口方位側の玄関の土間床等の周辺部の基礎長さ'], FIH['その他方位側の玄関の土間床等の周辺部の基礎長さ'])\n",
    "BIH['玄関の土間床等の面積'] = get_A_EF_entrance(BIH['主開口方位側の玄関の土間床等の周辺部の基礎長さ'], BIH['その他方位側の玄関の土間床等の周辺部の基礎長さ'])"
   ]
  },
  {
   "cell_type": "code",
   "execution_count": 40,
   "metadata": {
    "collapsed": false
   },
   "outputs": [
    {
     "name": "stdout",
     "output_type": "stream",
     "text": [
      "床断熱住宅: 2.48430\n",
      "基礎断熱住宅: 2.48430\n"
     ]
    }
   ],
   "source": [
    "printresult2('玄関の土間床等の面積')"
   ]
  },
  {
   "cell_type": "markdown",
   "metadata": {},
   "source": [
    "### 6) 浴室の土間床等の面積"
   ]
  },
  {
   "cell_type": "markdown",
   "metadata": {},
   "source": [
    "$ A_{EF,bath} = L_{base,bath,MS} \\times L_{base,bath,OS} $"
   ]
  },
  {
   "cell_type": "markdown",
   "metadata": {},
   "source": [
    "$A_{EF,bath}$: 浴室の土間床等の面積(m<sup>2</sup>)  \n",
    "$L_{base,bath,MS}$: 浴室の土間床等の周辺部の基礎長さ(主開口方位側)(m)  \n",
    "$L_{base,bath,OS}$: 浴室の土間床等の周辺部の基礎長さ(その他の方位側)(m)  "
   ]
  },
  {
   "cell_type": "code",
   "execution_count": 41,
   "metadata": {
    "collapsed": true
   },
   "outputs": [],
   "source": [
    "def get_A_EF_bath(L_base_bath_MS, L_base_bath_OS):\n",
    "    return L_base_bath_MS * L_base_bath_OS"
   ]
  },
  {
   "cell_type": "code",
   "execution_count": 42,
   "metadata": {
    "collapsed": false
   },
   "outputs": [],
   "source": [
    "FIH['浴室の土間床等の面積'] = get_A_EF_bath(FIH['主開口方位側の浴室の土間床等の周辺部の基礎長さ'], FIH['その他方位側の浴室の土間床等の周辺部の基礎長さ'])\n",
    "BIH['浴室の土間床等の面積'] = get_A_EF_bath(BIH['主開口方位側の浴室の土間床等の周辺部の基礎長さ'], BIH['その他方位側の浴室の土間床等の周辺部の基礎長さ'])"
   ]
  },
  {
   "cell_type": "code",
   "execution_count": 43,
   "metadata": {
    "collapsed": false
   },
   "outputs": [
    {
     "name": "stdout",
     "output_type": "stream",
     "text": [
      "床断熱住宅: 3.3124\n",
      "基礎断熱住宅: 3.3124\n"
     ]
    }
   ],
   "source": [
    "printresult2('浴室の土間床等の面積')"
   ]
  },
  {
   "cell_type": "markdown",
   "metadata": {},
   "source": [
    "### 7) 玄関・浴室除くその他の土間床等の面積"
   ]
  },
  {
   "cell_type": "markdown",
   "metadata": {},
   "source": [
    "$ A_{EF,other} = ( A_{F,1} - A_{EF,entrance} - A_{EF,bath} ) \\times r_{EFA} $"
   ]
  },
  {
   "cell_type": "markdown",
   "metadata": {},
   "source": [
    "$ A_{EF,other} $: 土間床等の面積(玄関・浴室除く)(m<sup>2</sup>)  \n",
    "$ r_{EFA} $: 1階の床面積(玄関・浴室除く)に対する土間床面積(玄関・浴室除く)の比"
   ]
  },
  {
   "cell_type": "code",
   "execution_count": 44,
   "metadata": {
    "collapsed": true
   },
   "outputs": [],
   "source": [
    "def get_A_EF_other(A_F, A_EF_entrance, A_EF_bath, r_EFA):\n",
    "    return ( A_F[0] - A_EF_entrance - A_EF_bath ) * r_EFA"
   ]
  },
  {
   "cell_type": "code",
   "execution_count": 45,
   "metadata": {
    "collapsed": false
   },
   "outputs": [],
   "source": [
    "FIH['その他の土間床等の面積'] = get_A_EF_other(FIH['床面積'], FIH['玄関の土間床等の面積'], FIH['浴室の土間床等の面積'], FIH['玄関と浴室を除く1階の床面積に対する土間床面積の比'])\n",
    "BIH['その他の土間床等の面積'] = get_A_EF_other(BIH['床面積'], BIH['玄関の土間床等の面積'], BIH['浴室の土間床等の面積'], BIH['玄関と浴室を除く1階の床面積に対する土間床面積の比'])"
   ]
  },
  {
   "cell_type": "code",
   "execution_count": 46,
   "metadata": {
    "collapsed": false
   },
   "outputs": [
    {
     "name": "stdout",
     "output_type": "stream",
     "text": [
      "床断熱住宅: 0E-27\n",
      "基礎断熱住宅: 45.05075762711864406779661017\n"
     ]
    }
   ],
   "source": [
    "printresult2('その他の土間床等の面積')"
   ]
  },
  {
   "cell_type": "markdown",
   "metadata": {},
   "source": [
    "### 8) 土間床等の面積の合計"
   ]
  },
  {
   "cell_type": "markdown",
   "metadata": {},
   "source": [
    "$ A_{EF,total} = A_{EF,entrane} + A_{EF,bath} + A_{EF,other} $"
   ]
  },
  {
   "cell_type": "markdown",
   "metadata": {},
   "source": [
    "$A_{EF,total}$ : 土間床等の面積の合計(m<sup>2</sup>)"
   ]
  },
  {
   "cell_type": "code",
   "execution_count": 47,
   "metadata": {
    "collapsed": true
   },
   "outputs": [],
   "source": [
    "def get_A_EF_total(A_EF_entrance, A_EF_bath, A_EF_other):\n",
    "    return A_EF_entrance + A_EF_bath + A_EF_other"
   ]
  },
  {
   "cell_type": "code",
   "execution_count": 48,
   "metadata": {
    "collapsed": false
   },
   "outputs": [],
   "source": [
    "FIH['土間床等の面積の合計'] = get_A_EF_total(FIH['玄関の土間床等の面積'], FIH['浴室の土間床等の面積'], FIH['その他の土間床等の面積'])\n",
    "BIH['土間床等の面積の合計'] = get_A_EF_total(BIH['玄関の土間床等の面積'], BIH['浴室の土間床等の面積'], BIH['その他の土間床等の面積'])"
   ]
  },
  {
   "cell_type": "code",
   "execution_count": 49,
   "metadata": {
    "collapsed": false
   },
   "outputs": [
    {
     "name": "stdout",
     "output_type": "stream",
     "text": [
      "床断熱住宅: 5.796700000000000000000000000\n",
      "基礎断熱住宅: 50.84745762711864406779661017\n"
     ]
    }
   ],
   "source": [
    "printresult2('土間床等の面積の合計')"
   ]
  },
  {
   "cell_type": "markdown",
   "metadata": {},
   "source": [
    "### 9) 玄関等の土間床等の外周部の長さ"
   ]
  },
  {
   "cell_type": "markdown",
   "metadata": {},
   "source": [
    "南西: $L_{base,bath,SW}=0.0$  \n",
    "北西: $L_{base,bath,NW}=L_{base,bath,OS}$  \n",
    "北東: $L_{base,bath,NE}=L_{base,bath,MS}$  \n",
    "南東: $L_{base,bath,SE}=0.0$  \n",
    "\n",
    "室内側: \n",
    "$\n",
    "L_{base,bath,IS} = \\left \\{\n",
    "\\begin{array}{ll}\n",
    "    L_{base,bath,MS} + L_{base,bath,OS} & ( \\text{床断熱住宅} ) \\\\\n",
    "    0.0 & ( \\text{基礎断熱住宅} )\n",
    "\\end{array}\n",
    "\\right.\n",
    "$"
   ]
  },
  {
   "cell_type": "code",
   "execution_count": 50,
   "metadata": {
    "collapsed": true
   },
   "outputs": [],
   "source": [
    "def get_L_base_bath(L_base_bath_MS, L_base_bath_OS, ins_type):\n",
    "    return DirectionPlus( Decimal('0.0'),\n",
    "                          L_base_bath_OS,\n",
    "                          L_base_bath_MS,\n",
    "                          Decimal('0.0'),\n",
    "                          { 'floor_ins' : L_base_bath_MS + L_base_bath_OS, 'base_ins'  : Decimal('0.0') }[ins_type] )"
   ]
  },
  {
   "cell_type": "code",
   "execution_count": 51,
   "metadata": {
    "collapsed": false
   },
   "outputs": [],
   "source": [
    "FIH['玄関等の土間床等の外周部の長さ'] = get_L_base_bath(FIH['主開口方位側の玄関の土間床等の周辺部の基礎長さ'], FIH['その他方位側の玄関の土間床等の周辺部の基礎長さ'], FIH['type'])\n",
    "BIH['玄関等の土間床等の外周部の長さ'] = get_L_base_bath(BIH['主開口方位側の玄関の土間床等の周辺部の基礎長さ'], BIH['その他方位側の玄関の土間床等の周辺部の基礎長さ'], BIH['type'] )"
   ]
  },
  {
   "cell_type": "code",
   "execution_count": 52,
   "metadata": {
    "collapsed": false
   },
   "outputs": [
    {
     "name": "stdout",
     "output_type": "stream",
     "text": [
      "床断熱住宅: DirectionPlus(SW=Decimal('0.0'), NW=Decimal('1.82'), NE=Decimal('1.365'), SE=Decimal('0.0'), IS=Decimal('3.185'))\n",
      "基礎断熱住宅: DirectionPlus(SW=Decimal('0.0'), NW=Decimal('1.82'), NE=Decimal('1.365'), SE=Decimal('0.0'), IS=Decimal('0.0'))\n"
     ]
    }
   ],
   "source": [
    "printresult2('玄関等の土間床等の外周部の長さ')"
   ]
  },
  {
   "cell_type": "markdown",
   "metadata": {},
   "source": [
    "### 10) 浴室の土間床等の外周部の長さ"
   ]
  },
  {
   "cell_type": "markdown",
   "metadata": {},
   "source": [
    "南西:  $L_{base,bath,SW}=0.0$  \n",
    "北西:  $L_{base,bath,NW}=L_{base,bath,OS}$  \n",
    "北東:  $L_{base,bath,NE}=L_{base,bath,MS}$  \n",
    "南東:  $L_{base,bath,SE}=0.0$\n",
    "\n",
    "室内側: \n",
    "$\n",
    "L_{base,bath,IS} = \\left \\{\n",
    "\\begin{array}{ll}\n",
    "    L_{base,bath,MS} + L_{base,bath,OS} & ( \\text{床断熱住宅} ) \\\\\n",
    "    0.0 & ( \\text{基礎断熱住宅} )\n",
    "\\end{array}\n",
    "\\right.\n",
    "$"
   ]
  },
  {
   "cell_type": "code",
   "execution_count": 53,
   "metadata": {
    "collapsed": true
   },
   "outputs": [],
   "source": [
    "def get_L_base_bath(L_base_bath_MS, L_base_bath_OS, ins_type):\n",
    "    return DirectionPlus( Decimal('0.0'),\n",
    "                          L_base_bath_OS,\n",
    "                          L_base_bath_MS,\n",
    "                          Decimal('0.0'),\n",
    "                          { 'floor_ins' : L_base_bath_MS + L_base_bath_OS, 'base_ins'  : Decimal('0.0') }[ins_type] )"
   ]
  },
  {
   "cell_type": "code",
   "execution_count": 54,
   "metadata": {
    "collapsed": false
   },
   "outputs": [],
   "source": [
    "FIH['浴室の土間床等の外周部の長さ'] = get_L_base_bath(FIH['主開口方位側の浴室の土間床等の周辺部の基礎長さ'], FIH['その他方位側の浴室の土間床等の周辺部の基礎長さ'], FIH['type'])\n",
    "BIH['浴室の土間床等の外周部の長さ'] = get_L_base_bath(BIH['主開口方位側の浴室の土間床等の周辺部の基礎長さ'], BIH['その他方位側の浴室の土間床等の周辺部の基礎長さ'], BIH['type'])"
   ]
  },
  {
   "cell_type": "code",
   "execution_count": 55,
   "metadata": {
    "collapsed": false
   },
   "outputs": [
    {
     "name": "stdout",
     "output_type": "stream",
     "text": [
      "床断熱住宅: DirectionPlus(SW=Decimal('0.0'), NW=Decimal('1.82'), NE=Decimal('1.82'), SE=Decimal('0.0'), IS=Decimal('3.64'))\n",
      "基礎断熱住宅: DirectionPlus(SW=Decimal('0.0'), NW=Decimal('1.82'), NE=Decimal('1.82'), SE=Decimal('0.0'), IS=Decimal('0.0'))\n"
     ]
    }
   ],
   "source": [
    "printresult2('浴室の土間床等の外周部の長さ')"
   ]
  },
  {
   "cell_type": "markdown",
   "metadata": {},
   "source": [
    "### 11) 玄関・浴室除くその他の土間床等の外周部の長さ"
   ]
  },
  {
   "cell_type": "markdown",
   "metadata": {},
   "source": [
    "南西: $L_{base,SW} = \\left \\{\n",
    "\\begin{array}{ll}\n",
    "    0.0 & \\text{(床断熱住宅)}\\\\\n",
    "    L_{LS,1} - L_{base,entrance,SW} - L_{base,bath,SW} & \\text{(基礎断熱住宅)}\n",
    "\\end{array}\n",
    "\\right.\n",
    "$\n",
    "\n",
    "北西: $L_{base,NW} = \\left \\{\n",
    "\\begin{array}{ll}\n",
    "    0.0 & \\text{(床断熱住宅)}\\\\\n",
    "    L_{SS,1} - L_{base,entrance,NW} - L_{base,bath,NW} & \\text{(基礎断熱住宅)}\n",
    "\\end{array}\n",
    "\\right.\n",
    "$\n",
    "\n",
    "北東: $L_{base,NE} = \\left \\{\n",
    "\\begin{array}{ll}\n",
    "    0.0 & \\text{(床断熱住宅)}\\\\\n",
    "    L_{LS,1} - L_{base,entrance,NE} - L_{base,bath,NE} & \\text{(基礎断熱住宅)}\n",
    "\\end{array}\n",
    "\\right.\n",
    "$\n",
    "\n",
    "南東: $L_{base,SE} = \\left \\{\n",
    "\\begin{array}{ll}\n",
    "    0.0 & \\text{(床断熱住宅)}\\\\\n",
    "    L_{SS,1} - L_{base,entrance,SE} - L_{base,bath,SE} & \\text{(基礎断熱住宅)}\n",
    "\\end{array}\n",
    "\\right.\n",
    "$\n",
    "\n",
    "室内側: $ L_{base,IS} = 0.0 $"
   ]
  },
  {
   "cell_type": "code",
   "execution_count": 56,
   "metadata": {
    "collapsed": true
   },
   "outputs": [],
   "source": [
    "def get_L_base_other(L_LS, L_SS, L_base_entrance, L_base_bath,ins_type):\n",
    "    return {\n",
    "        'floor_ins' : DirectionPlus( Decimal('0.0'), Decimal('0.0'), Decimal('0.0'), Decimal('0.0'), Decimal('0.0') ),\n",
    "        'base_ins'  : DirectionPlus( L_LS[0] - L_base_entrance.SW - L_base_bath.SW,\n",
    "                                     L_SS[0] - L_base_entrance.NW - L_base_bath.NW,\n",
    "                                     L_LS[0] - L_base_entrance.NE - L_base_bath.NE,\n",
    "                                     L_SS[0] - L_base_entrance.SE - L_base_bath.SE,\n",
    "                                     Decimal('0.0') )\n",
    "    }[ins_type]"
   ]
  },
  {
   "cell_type": "code",
   "execution_count": 57,
   "metadata": {
    "collapsed": false
   },
   "outputs": [],
   "source": [
    "FIH['その他の土間床等の外周部の長さ'] = get_L_base_other(FIH['長辺の長さ'], FIH['短辺の長さ'], FIH['玄関等の土間床等の外周部の長さ'], FIH['浴室の土間床等の外周部の長さ'], FIH['type'] )\n",
    "BIH['その他の土間床等の外周部の長さ'] = get_L_base_other(BIH['長辺の長さ'], BIH['短辺の長さ'], BIH['玄関等の土間床等の外周部の長さ'], BIH['浴室の土間床等の外周部の長さ'], BIH['type'] ) "
   ]
  },
  {
   "cell_type": "code",
   "execution_count": 58,
   "metadata": {
    "collapsed": false
   },
   "outputs": [
    {
     "name": "stdout",
     "output_type": "stream",
     "text": [
      "床断熱住宅: DirectionPlus(SW=Decimal('0.0'), NW=Decimal('0.0'), NE=Decimal('0.0'), SE=Decimal('0.0'), IS=Decimal('0.0'))\n",
      "基礎断熱住宅: DirectionPlus(SW=Decimal('10.60998228072970436910962105'), NW=Decimal('1.15241682801581423280181003'), NE=Decimal('7.42498228072970436910962105'), SE=Decimal('4.79241682801581423280181003'), IS=Decimal('0.0'))\n"
     ]
    }
   ],
   "source": [
    "printresult2('その他の土間床等の外周部の長さ')"
   ]
  },
  {
   "cell_type": "markdown",
   "metadata": {},
   "source": [
    "### 12) 土間床周長(合計)"
   ]
  },
  {
   "cell_type": "markdown",
   "metadata": {},
   "source": [
    "南西:   $ L_{prm,SW} = L_{base,SW} + L_{base,entrance,SW} + L_{base,bath,SW} $  \n",
    "北西:   $ L_{prm,NW} = L_{base,NW} + L_{base,entrance,NW} + L_{base,bath,NW} $  \n",
    "北東:   $ L_{prm,NE} = L_{base,NE} + L_{base,entrance,NE} + L_{base,bath,NE} $  \n",
    "南東:   $ L_{prm,SE} = L_{base,SE} + L_{base,entrance,SE} + L_{base,bath,SE} $  \n",
    "室内側: $ L_{prm,IS} = L_{base,IS} + L_{base,entrance,IS} + L_{base,bath,IS} $"
   ]
  },
  {
   "cell_type": "code",
   "execution_count": 59,
   "metadata": {
    "collapsed": true
   },
   "outputs": [],
   "source": [
    "def get_L_prm(L_base, L_base_d,L_base_b):\n",
    "    return DirectionPlus( L_base.SW + L_base_d.SW + L_base_b.SW,\n",
    "                          L_base.NW + L_base_d.NW + L_base_b.NW,\n",
    "                          L_base.NE + L_base_d.NE + L_base_b.NE,\n",
    "                          L_base.SE + L_base_d.SE + L_base_b.SE,\n",
    "                          L_base.IS + L_base_d.IS + L_base_b.IS )"
   ]
  },
  {
   "cell_type": "code",
   "execution_count": 60,
   "metadata": {
    "collapsed": false
   },
   "outputs": [],
   "source": [
    "FIH['土間床周長'] = get_L_prm( FIH['その他の土間床等の外周部の長さ'], FIH['玄関等の土間床等の外周部の長さ'], FIH['浴室の土間床等の外周部の長さ'] )\n",
    "BIH['土間床周長'] = get_L_prm( BIH['その他の土間床等の外周部の長さ'], BIH['玄関等の土間床等の外周部の長さ'], BIH['浴室の土間床等の外周部の長さ'] )"
   ]
  },
  {
   "cell_type": "code",
   "execution_count": 61,
   "metadata": {
    "collapsed": false
   },
   "outputs": [
    {
     "name": "stdout",
     "output_type": "stream",
     "text": [
      "床断熱住宅: DirectionPlus(SW=Decimal('0.0'), NW=Decimal('3.64'), NE=Decimal('3.185'), SE=Decimal('0.0'), IS=Decimal('6.825'))\n",
      "基礎断熱住宅: DirectionPlus(SW=Decimal('10.60998228072970436910962105'), NW=Decimal('4.79241682801581423280181003'), NE=Decimal('10.60998228072970436910962105'), SE=Decimal('4.79241682801581423280181003'), IS=Decimal('0.0'))\n"
     ]
    }
   ],
   "source": [
    "printresult2('土間床周長')"
   ]
  },
  {
   "cell_type": "markdown",
   "metadata": {},
   "source": [
    "### 13) 床断熱した床の面積"
   ]
  },
  {
   "cell_type": "markdown",
   "metadata": {},
   "source": [
    "$ A_{IF} = A_{F,1} - A_{EF,total} $ "
   ]
  },
  {
   "cell_type": "markdown",
   "metadata": {},
   "source": [
    "$A_{IF}$: 床断熱した床の面積(m<sup>2</sup>)"
   ]
  },
  {
   "cell_type": "code",
   "execution_count": 62,
   "metadata": {
    "collapsed": true
   },
   "outputs": [],
   "source": [
    "def get_A_IF(A_F, A_EF_total):\n",
    "    return A_F[0] - A_EF_total"
   ]
  },
  {
   "cell_type": "code",
   "execution_count": 63,
   "metadata": {
    "collapsed": true
   },
   "outputs": [],
   "source": [
    "FIH['床断熱した床の面積'] = get_A_IF(FIH['床面積'], FIH['土間床等の面積の合計'])\n",
    "BIH['床断熱した床の面積'] = get_A_IF(BIH['床面積'], BIH['土間床等の面積の合計'])"
   ]
  },
  {
   "cell_type": "code",
   "execution_count": 64,
   "metadata": {
    "collapsed": false
   },
   "outputs": [
    {
     "name": "stdout",
     "output_type": "stream",
     "text": [
      "床断熱住宅: 45.05075762711864406779661017\n",
      "基礎断熱住宅: 0E-26\n"
     ]
    }
   ],
   "source": [
    "printresult2('床断熱した床の面積')"
   ]
  },
  {
   "cell_type": "markdown",
   "metadata": {},
   "source": [
    "### 14) 天井・屋根(下屋を含む)"
   ]
  },
  {
   "cell_type": "markdown",
   "metadata": {},
   "source": [
    "天井・屋根(下屋を含む)の面積は、オーバーハング床を想定しない限り、1階の床面積(土間床含む)と等しい。\n",
    "\n",
    "$ \\begin{align} A_{roof} = A_{F,1} \\end{align} $ "
   ]
  },
  {
   "cell_type": "markdown",
   "metadata": {},
   "source": [
    "$A_{roof}$: 天井・屋根(下屋を含む)の面積 (m<sup>2</sup>)"
   ]
  },
  {
   "cell_type": "code",
   "execution_count": 65,
   "metadata": {
    "collapsed": true
   },
   "outputs": [],
   "source": [
    "def get_A_roof(A_F):\n",
    "    return A_F[0]"
   ]
  },
  {
   "cell_type": "code",
   "execution_count": 66,
   "metadata": {
    "collapsed": true
   },
   "outputs": [],
   "source": [
    "FIH['屋根又は天井の面積'] = get_A_roof(FIH['床面積'])\n",
    "BIH['屋根又は天井の面積'] = get_A_roof(BIH['床面積'])"
   ]
  },
  {
   "cell_type": "code",
   "execution_count": 67,
   "metadata": {
    "collapsed": false
   },
   "outputs": [
    {
     "name": "stdout",
     "output_type": "stream",
     "text": [
      "床断熱住宅: 50.84745762711864406779661017\n",
      "基礎断熱住宅: 50.84745762711864406779661017\n"
     ]
    }
   ],
   "source": [
    "printresult2('屋根又は天井の面積')"
   ]
  },
  {
   "cell_type": "markdown",
   "metadata": {},
   "source": [
    "### 15) 基礎(玄関)の面積"
   ]
  },
  {
   "cell_type": "markdown",
   "metadata": {},
   "source": [
    "南西:  $ A_{base,entrance,SW} = L_{base,entrance,SW} \\times h_{base,entrance} $  \n",
    "北西:  $ A_{base,entrance,NW} = L_{base,entrance,NW} \\times h_{base,entrance} $  \n",
    "北東:  $ A_{base,entrance,NE} = L_{base,entrance,NE} \\times h_{base,entrance} $  \n",
    "南東:  $ L_{base,entrance,SE} = L_{base,entrance,SE} \\times h_{base,entrance} $  \n",
    "室内側:  $ L_{base,entrance,IS} = L_{base,entrance,IS} \\times h_{base,entrance} $"
   ]
  },
  {
   "cell_type": "markdown",
   "metadata": {},
   "source": [
    "$A_{base,entrance,SW}$: 基礎(玄関)(南西)の面積(m<sup>2</sup>)  \n",
    "$A_{base,entrance,NW}$: 基礎(玄関)(北西)の面積(m<sup>2</sup>)  \n",
    "$A_{base,entrance,NE}$: 基礎(玄関)(北東)の面積(m<sup>2</sup>)  \n",
    "$A_{base,entrance,SE}$: 基礎(玄関)(南東)の面積(m<sup>2</sup>)  \n",
    "$A_{base,entrance,IS}$: 基礎(玄関)(室内側)の面積(m<sup>2</sup>)  "
   ]
  },
  {
   "cell_type": "code",
   "execution_count": 68,
   "metadata": {
    "collapsed": true
   },
   "outputs": [],
   "source": [
    "def get_A_base_entrance(L_base_entrance, h_base_entrance):\n",
    "    return DirectionPlus( L_base_entrance.SW * h_base_entrance,\n",
    "                          L_base_entrance.NW * h_base_entrance,\n",
    "                          L_base_entrance.NE * h_base_entrance,\n",
    "                          L_base_entrance.SE * h_base_entrance,\n",
    "                          L_base_entrance.IS * h_base_entrance )"
   ]
  },
  {
   "cell_type": "code",
   "execution_count": 69,
   "metadata": {
    "collapsed": false
   },
   "outputs": [],
   "source": [
    "FIH['玄関等の基礎の面積'] = get_A_base_entrance(FIH['玄関等の土間床等の外周部の長さ'], FIH['玄関の基礎の高さ'] )\n",
    "BIH['玄関等の基礎の面積'] = get_A_base_entrance(BIH['玄関等の土間床等の外周部の長さ'], BIH['玄関の基礎の高さ']  )"
   ]
  },
  {
   "cell_type": "code",
   "execution_count": 70,
   "metadata": {
    "collapsed": false
   },
   "outputs": [
    {
     "name": "stdout",
     "output_type": "stream",
     "text": [
      "床断熱住宅: DirectionPlus(SW=Decimal('0.000'), NW=Decimal('0.3276'), NE=Decimal('0.24570'), SE=Decimal('0.000'), IS=Decimal('0.57330'))\n",
      "基礎断熱住宅: DirectionPlus(SW=Decimal('0.000'), NW=Decimal('0.3276'), NE=Decimal('0.24570'), SE=Decimal('0.000'), IS=Decimal('0.000'))\n"
     ]
    }
   ],
   "source": [
    "printresult2('玄関等の基礎の面積')"
   ]
  },
  {
   "cell_type": "markdown",
   "metadata": {},
   "source": [
    "### 16) 基礎(浴室)の面積"
   ]
  },
  {
   "cell_type": "markdown",
   "metadata": {},
   "source": [
    "南西:  $ A_{base,bath,SW} = L_{base,bath,SW} \\times h_{base,bath} $  \n",
    "北西:  $ A_{base,bath,NW} = L_{base,bath,NW} \\times h_{base,bath} $  \n",
    "北東:  $ A_{base,bath,NE} = L_{base,bath,NE} \\times h_{base,bath} $  \n",
    "南東:  $ L_{base,bath,SE} = L_{base,bath,SE} \\times h_{base,bath} $  \n",
    "室内側:  $ L_{base,bath,IS} = L_{base,bath,IS} \\times h_{base,bath} $"
   ]
  },
  {
   "cell_type": "markdown",
   "metadata": {},
   "source": [
    "$A_{base,bath,SW}$: 基礎(浴室)(南西)の面積(m<sup>2</sup>)  \n",
    "$A_{base,bath,NW}$: 基礎(浴室)(北西)の面積(m<sup>2</sup>)  \n",
    "$A_{base,bath,NE}$: 基礎(浴室)(北東)の面積(m<sup>2</sup>)  \n",
    "$A_{base,bath,SE}$: 基礎(浴室)(南東)の面積(m<sup>2</sup>)  \n",
    "$A_{base,bath,IS}$: 基礎(浴室)(室内側)の面積(m<sup>2</sup>)  "
   ]
  },
  {
   "cell_type": "code",
   "execution_count": 71,
   "metadata": {
    "collapsed": true
   },
   "outputs": [],
   "source": [
    "def get_A_base_bath(L_base_bath, h_base_bath):\n",
    "    return DirectionPlus( L_base_bath.SW * h_base_bath,\n",
    "                          L_base_bath.NW * h_base_bath,\n",
    "                          L_base_bath.NE * h_base_bath,\n",
    "                          L_base_bath.SE * h_base_bath,\n",
    "                          L_base_bath.IS * h_base_bath )"
   ]
  },
  {
   "cell_type": "code",
   "execution_count": 72,
   "metadata": {
    "collapsed": false
   },
   "outputs": [],
   "source": [
    "FIH['浴室の基礎の面積'] = get_A_base_bath(FIH['浴室の土間床等の外周部の長さ'], FIH['浴室の基礎の高さ'] )\n",
    "BIH['浴室の基礎の面積'] = get_A_base_bath(BIH['浴室の土間床等の外周部の長さ'], BIH['浴室の基礎の高さ'] )"
   ]
  },
  {
   "cell_type": "code",
   "execution_count": 73,
   "metadata": {
    "collapsed": false
   },
   "outputs": [
    {
     "name": "stdout",
     "output_type": "stream",
     "text": [
      "床断熱住宅: DirectionPlus(SW=Decimal('0.00'), NW=Decimal('0.910'), NE=Decimal('0.910'), SE=Decimal('0.00'), IS=Decimal('1.820'))\n",
      "基礎断熱住宅: DirectionPlus(SW=Decimal('0.00'), NW=Decimal('0.910'), NE=Decimal('0.910'), SE=Decimal('0.00'), IS=Decimal('0.00'))\n"
     ]
    }
   ],
   "source": [
    "printresult2('浴室の基礎の面積')"
   ]
  },
  {
   "cell_type": "markdown",
   "metadata": {},
   "source": [
    "### 17) 基礎断熱部分(玄関・浴室除く)の面積"
   ]
  },
  {
   "cell_type": "markdown",
   "metadata": {},
   "source": [
    "南西: $ A_{base,SW} = L_{base,SW} \\times h_{base} $  \n",
    "北西:  $ A_{base,NW} = L_{base,NW} \\times h_{base} $  \n",
    "北東:  $ A_{base,NE} = L_{base,NE} \\times h_{base} $  \n",
    "南東:  $ A_{base,SE} = L_{base,SE} \\times h_{base} $  \n",
    "室内側:  $ A_{base,IS} = 0.0 $"
   ]
  },
  {
   "cell_type": "markdown",
   "metadata": {},
   "source": [
    "$A_{base,SW}$: 基礎断熱部分(玄関・浴室除く)(南西)の面積(m<sup>2</sup>)  \n",
    "$A_{base,NW}$: 基礎断熱部分(玄関・浴室除く)(北西)の面積(m<sup>2</sup>)  \n",
    "$A_{base,NE}$: 基礎断熱部分(玄関・浴室除く)(北東)の面積(m<sup>2</sup>)  \n",
    "$A_{base,SE}$: 基礎断熱部分(玄関・浴室除く)(南東)の面積(m<sup>2</sup>)  \n",
    "$A_{base,IS}$: 基礎断熱部分(玄関・浴室除く)(室内側)の面積(m<sup>2</sup>)  "
   ]
  },
  {
   "cell_type": "code",
   "execution_count": 74,
   "metadata": {
    "collapsed": true
   },
   "outputs": [],
   "source": [
    "def get_A_base_other(L_base, h_base):\n",
    "    return DirectionPlus( L_base.SW * h_base,\n",
    "                          L_base.NW * h_base,\n",
    "                          L_base.NE * h_base,\n",
    "                          L_base.SE * h_base,\n",
    "                          Decimal('0.0') )"
   ]
  },
  {
   "cell_type": "code",
   "execution_count": 75,
   "metadata": {
    "collapsed": false
   },
   "outputs": [],
   "source": [
    "FIH['その他の基礎の面積'] = get_A_base_other(FIH['その他の土間床等の外周部の長さ'], FIH['基礎の高さ'] )\n",
    "BIH['その他の基礎の面積'] = get_A_base_other(BIH['その他の土間床等の外周部の長さ'], BIH['基礎の高さ'] )"
   ]
  },
  {
   "cell_type": "code",
   "execution_count": 76,
   "metadata": {
    "collapsed": false
   },
   "outputs": [
    {
     "name": "stdout",
     "output_type": "stream",
     "text": [
      "床断熱住宅: DirectionPlus(SW=Decimal('0.00'), NW=Decimal('0.00'), NE=Decimal('0.00'), SE=Decimal('0.00'), IS=Decimal('0.0'))\n",
      "基礎断熱住宅: DirectionPlus(SW=Decimal('5.304991140364852184554810525'), NW=Decimal('0.576208414007907116400905015'), NE=Decimal('3.712491140364852184554810525'), SE=Decimal('2.396208414007907116400905015'), IS=Decimal('0.0'))\n"
     ]
    }
   ],
   "source": [
    "printresult2('その他の基礎の面積')"
   ]
  },
  {
   "cell_type": "markdown",
   "metadata": {},
   "source": [
    "### 18) 基礎断熱部分の面積の合計"
   ]
  },
  {
   "cell_type": "markdown",
   "metadata": {},
   "source": [
    "南西:  $ A_{prm,SW} = A_{base,SW} + A_{base,entrance,SW} + A_{base,b,SW} $  \n",
    "北西:  $ A_{prm,NW} = A_{base,NW} + A_{base,entrance,NW} + A_{base,b,NW} $  \n",
    "北東:  $ A_{prm,NE} = A_{base,NE} + A_{base,entrance,NE} + A_{base,b,NE} $  \n",
    "南東:  $ A_{prm,SE} = A_{base,SE} + A_{base,entrance,SE} + A_{base,b,SE} $  \n",
    "室内側:  $ A_{prm,IS} = A_{base,IS} + A_{base,entrance,IS} + A_{base,b,IS} $"
   ]
  },
  {
   "cell_type": "markdown",
   "metadata": {},
   "source": [
    "$A_{prm,SW}$: 基礎断熱部分(南西)の面積の合計(m<sup>2</sup>)  \n",
    "$A_{prm,NW}$: 基礎断熱部分(北西)の面積の合計(m<sup>2</sup>)  \n",
    "$A_{prm,NE}$: 基礎断熱部分(北東)の面積の合計(m<sup>2</sup>)  \n",
    "$A_{prm,SE}$: 基礎断熱部分(南東)の面積の合計(m<sup>2</sup>)  \n",
    "$A_{prm,IS}$: 基礎断熱部分(室内側)の面積の合計(m<sup>2</sup>)  "
   ]
  },
  {
   "cell_type": "code",
   "execution_count": 77,
   "metadata": {
    "collapsed": true
   },
   "outputs": [],
   "source": [
    "def get_A_base_total(A_base, A_base_entrance, A_base_bath):\n",
    "    # A_base, A_base_entrance and A_base_bath are DirectionPlus namedtuple\n",
    "    return A_base + A_base_entrance + A_base_bath"
   ]
  },
  {
   "cell_type": "code",
   "execution_count": 78,
   "metadata": {
    "collapsed": false
   },
   "outputs": [],
   "source": [
    "FIH['基礎の面積の合計'] = get_A_base_total(FIH['その他の基礎の面積'], FIH['玄関等の基礎の面積'], FIH['浴室の基礎の面積'] )\n",
    "BIH['基礎の面積の合計'] = get_A_base_total(BIH['その他の基礎の面積'], BIH['玄関等の基礎の面積'], BIH['浴室の基礎の面積'] )"
   ]
  },
  {
   "cell_type": "code",
   "execution_count": 79,
   "metadata": {
    "collapsed": false
   },
   "outputs": [
    {
     "name": "stdout",
     "output_type": "stream",
     "text": [
      "床断熱住宅: DirectionPlus(SW=Decimal('0.000'), NW=Decimal('1.2376'), NE=Decimal('1.15570'), SE=Decimal('0.000'), IS=Decimal('2.39330'))\n",
      "基礎断熱住宅: DirectionPlus(SW=Decimal('5.304991140364852184554810525'), NW=Decimal('1.813808414007907116400905015'), NE=Decimal('4.868191140364852184554810525'), SE=Decimal('2.396208414007907116400905015'), IS=Decimal('0.000'))\n"
     ]
    }
   ],
   "source": [
    "printresult2('基礎の面積の合計')"
   ]
  },
  {
   "cell_type": "markdown",
   "metadata": {},
   "source": [
    "### 19) 壁面積(開口部含む)"
   ]
  },
  {
   "cell_type": "markdown",
   "metadata": {
    "collapsed": true
   },
   "source": [
    "1階:  \n",
    "南西: $ A_{srf,1,SW} = L_{LS,1} \\times h_1 $  \n",
    "北西: $ A_{srf,1,NW} = L_{SS,1} \\times h_1 $  \n",
    "北東: $ A_{srf,1,NE} = L_{LS,1} \\times h_1 $  \n",
    "北西: $ A_{srf,1,SE} = L_{SS,1} \\times h_1 $\n",
    "\n",
    "2階:  \n",
    "南西: $ A_{srf,2,SW} = L_{LS,2} \\times h_2 $  \n",
    "北西: $ A_{srf,2,NW} = L_{SS,2} \\times h_2 $  \n",
    "北東: $ A_{srf,2,NE} = L_{LS,2} \\times h_2 $  \n",
    "北西: $ A_{srf,2,SE} = L_{SS,2} \\times h_2 $"
   ]
  },
  {
   "cell_type": "code",
   "execution_count": 80,
   "metadata": {
    "collapsed": true
   },
   "outputs": [],
   "source": [
    "def get_A_srf(L_LS, L_SS, h):\n",
    "    return [\n",
    "        Direction( L_LS[0] * h[0], L_SS[0] * h[0], L_LS[0] * h[0], L_SS[0] * h[0] ),\n",
    "        Direction( L_LS[1] * h[1], L_SS[1] * h[1], L_LS[1] * h[1], L_SS[1] * h[1] )\n",
    "    ]"
   ]
  },
  {
   "cell_type": "code",
   "execution_count": 81,
   "metadata": {
    "collapsed": false
   },
   "outputs": [],
   "source": [
    "FIH['垂直外皮面積'] = get_A_srf( FIH['長辺の長さ'], FIH['短辺の長さ'], FIH['高さ'] )\n",
    "BIH['垂直外皮面積'] = get_A_srf( BIH['長辺の長さ'], BIH['短辺の長さ'], BIH['高さ'] )"
   ]
  },
  {
   "cell_type": "code",
   "execution_count": 82,
   "metadata": {
    "collapsed": false
   },
   "outputs": [
    {
     "name": "stdout",
     "output_type": "stream",
     "text": [
      "床断熱住宅: [Direction(SW=Decimal('30.76894861411614267041790104'), NW=Decimal('13.89800880124586127512524909'), NE=Decimal('30.76894861411614267041790104'), SE=Decimal('13.89800880124586127512524909')), Direction(SW=Decimal('22.39623225629844722557486181'), NW=Decimal('12.74419869520849525177396707'), NE=Decimal('22.39623225629844722557486181'), SE=Decimal('12.74419869520849525177396707'))]\n",
      "基礎断熱住宅: [Direction(SW=Decimal('30.76894861411614267041790104'), NW=Decimal('13.89800880124586127512524909'), NE=Decimal('30.76894861411614267041790104'), SE=Decimal('13.89800880124586127512524909')), Direction(SW=Decimal('22.39623225629844722557486181'), NW=Decimal('12.74419869520849525177396707'), NE=Decimal('22.39623225629844722557486181'), SE=Decimal('12.74419869520849525177396707'))]\n"
     ]
    }
   ],
   "source": [
    "printresult2('垂直外皮面積')"
   ]
  },
  {
   "cell_type": "markdown",
   "metadata": {},
   "source": [
    "### 20) 外皮面積の合計(基礎の面積を除く)"
   ]
  },
  {
   "cell_type": "markdown",
   "metadata": {},
   "source": [
    "$ A'_{env} = A_{IF} + A_{EF,total} + A_{roof}\n",
    "+ A_{srf,1,SW} + A_{srf,1,NW} + A_{srf,1,NE} + A_{srf,1,SE}\n",
    "+ A_{srf,2,SW} + A_{srf,2,NW} + A_{srf,2,NE} + A_{srf,2,SE} $"
   ]
  },
  {
   "cell_type": "markdown",
   "metadata": {},
   "source": [
    "$ A'_{env}$: 外皮面積の合計(基礎の面積を除く)(m<sup>2</sup>)"
   ]
  },
  {
   "cell_type": "code",
   "execution_count": 83,
   "metadata": {
    "collapsed": true
   },
   "outputs": [],
   "source": [
    "def get_A_dash_env(A_IF, A_EF_total, A_roof, A_srf):\n",
    "    return A_IF + A_EF_total + A_roof + sum(A_srf[0]) + sum(A_srf[1])  "
   ]
  },
  {
   "cell_type": "code",
   "execution_count": 84,
   "metadata": {
    "collapsed": false
   },
   "outputs": [],
   "source": [
    "FIH['基礎を除く外皮の部位の面積の合計'] = get_A_dash_env( FIH['床断熱した床の面積'], FIH['土間床等の面積の合計'], FIH['屋根又は天井の面積'], FIH['垂直外皮面積'] )\n",
    "BIH['基礎を除く外皮の部位の面積の合計'] = get_A_dash_env( BIH['床断熱した床の面積'], BIH['土間床等の面積の合計'], BIH['屋根又は天井の面積'], BIH['垂直外皮面積'] )"
   ]
  },
  {
   "cell_type": "code",
   "execution_count": 85,
   "metadata": {
    "collapsed": false
   },
   "outputs": [
    {
     "name": "stdout",
     "output_type": "stream",
     "text": [
      "床断熱住宅: 261.3096919879751809813771784\n",
      "基礎断熱住宅: 261.3096919879751809813771784\n"
     ]
    }
   ],
   "source": [
    "printresult2('基礎を除く外皮の部位の面積の合計')"
   ]
  },
  {
   "cell_type": "markdown",
   "metadata": {},
   "source": [
    "### 21) 外皮面積の合計(m<sup>2</sup>)"
   ]
  },
  {
   "cell_type": "markdown",
   "metadata": {},
   "source": [
    "$ A_{env} = A'_{env} + A_{prm,SW} + A_{prm,NW} + A_{prm,NE} + A_{prm,SE} + A_{prm,IS} $"
   ]
  },
  {
   "cell_type": "markdown",
   "metadata": {},
   "source": [
    "$ A_{env} $: 外皮面積の合計(m<sup>2</sup>)"
   ]
  },
  {
   "cell_type": "code",
   "execution_count": 86,
   "metadata": {
    "collapsed": true
   },
   "outputs": [],
   "source": [
    "def get_A_env(A_dash_env, A_prm):\n",
    "    return A_dash_env + sum(A_prm)"
   ]
  },
  {
   "cell_type": "code",
   "execution_count": 87,
   "metadata": {
    "collapsed": false
   },
   "outputs": [],
   "source": [
    "FIH['外皮の部位の面積の合計'] = get_A_env(FIH['基礎を除く外皮の部位の面積の合計'], FIH['基礎の面積の合計'] )\n",
    "BIH['外皮の部位の面積の合計'] = get_A_env(BIH['基礎を除く外皮の部位の面積の合計'], BIH['基礎の面積の合計'] )"
   ]
  },
  {
   "cell_type": "code",
   "execution_count": 88,
   "metadata": {
    "collapsed": false
   },
   "outputs": [
    {
     "name": "stdout",
     "output_type": "stream",
     "text": [
      "床断熱住宅: 266.0962919879751809813771784\n",
      "基礎断熱住宅: 275.6928910967206995832886095\n"
     ]
    }
   ],
   "source": [
    "printresult2('外皮の部位の面積の合計')"
   ]
  },
  {
   "cell_type": "markdown",
   "metadata": {},
   "source": [
    "### 22) 開口部の面積の合計"
   ]
  },
  {
   "cell_type": "markdown",
   "metadata": {},
   "source": [
    "$ A_{opn} = A'_{env} \\times r_{opn} $"
   ]
  },
  {
   "cell_type": "markdown",
   "metadata": {},
   "source": [
    "$A_{opn}$: 開口部の面積の合計(m<sup>2</sup>)"
   ]
  },
  {
   "cell_type": "code",
   "execution_count": 89,
   "metadata": {
    "collapsed": true
   },
   "outputs": [],
   "source": [
    "def get_A_opn(A_dash_env, r_opn):\n",
    "    return A_dash_env *  r_opn"
   ]
  },
  {
   "cell_type": "code",
   "execution_count": 90,
   "metadata": {
    "collapsed": false
   },
   "outputs": [],
   "source": [
    "FIH['開口部の面積の合計'] = get_A_opn( FIH['基礎を除く外皮の部位の面積の合計'], FIH['開口部の面積比率'] )\n",
    "BIH['開口部の面積の合計'] = get_A_opn( BIH['基礎を除く外皮の部位の面積の合計'], BIH['開口部の面積比率'] )"
   ]
  },
  {
   "cell_type": "code",
   "execution_count": 91,
   "metadata": {
    "collapsed": false
   },
   "outputs": [
    {
     "name": "stdout",
     "output_type": "stream",
     "text": [
      "床断熱住宅: 36.58335687831652533739280498\n",
      "基礎断熱住宅: 36.58335687831652533739280498\n"
     ]
    }
   ],
   "source": [
    "printresult2('開口部の面積の合計')"
   ]
  },
  {
   "cell_type": "markdown",
   "metadata": {},
   "source": [
    "### 23) 窓の面積の合計"
   ]
  },
  {
   "cell_type": "markdown",
   "metadata": {},
   "source": [
    "$ A_{wnd,total} = A_{opn} - A_{door,entrance} - A_{door,backentrance} $"
   ]
  },
  {
   "cell_type": "markdown",
   "metadata": {},
   "source": [
    "$A_{wnd,total}$: 窓の面積(m<sup>2</sup>)"
   ]
  },
  {
   "cell_type": "code",
   "execution_count": 92,
   "metadata": {
    "collapsed": true
   },
   "outputs": [],
   "source": [
    "def get_A_wnd_total(A_opn, A_door_entrance, A_door_backentrance):\n",
    "    return A_opn - A_door_entrance - A_door_backentrance"
   ]
  },
  {
   "cell_type": "code",
   "execution_count": 93,
   "metadata": {
    "collapsed": false
   },
   "outputs": [],
   "source": [
    "FIH['窓の面積の合計'] = get_A_wnd_total( FIH['開口部の面積の合計'], FIH['玄関ドアの面積'], FIH['勝手口ドアの面積'] )\n",
    "BIH['窓の面積の合計'] = get_A_wnd_total( BIH['開口部の面積の合計'], BIH['玄関ドアの面積'], BIH['勝手口ドアの面積'] )"
   ]
  },
  {
   "cell_type": "code",
   "execution_count": 94,
   "metadata": {
    "collapsed": false
   },
   "outputs": [
    {
     "name": "stdout",
     "output_type": "stream",
     "text": [
      "床断熱住宅: 33.07335687831652533739280498\n",
      "基礎断熱住宅: 33.07335687831652533739280498\n"
     ]
    }
   ],
   "source": [
    "printresult2('窓の面積の合計')"
   ]
  },
  {
   "cell_type": "markdown",
   "metadata": {},
   "source": [
    "### 24) 窓の面積"
   ]
  },
  {
   "cell_type": "markdown",
   "metadata": {},
   "source": [
    "南西側: $ A_{wnd,SW} = A_{wnd} \\times r_{wnd,SW} $  \n",
    "北西側: $ A_{wnd,NW} = A_{wnd} \\times r_{wnd,NW} $  \n",
    "北東側: $ A_{wnd,NE} = A_{wnd} \\times r_{wnd,NE} $  \n",
    "南東側: $ A_{wnd,SE} = A_{wnd} \\times r_{wnd,SE} $  "
   ]
  },
  {
   "cell_type": "markdown",
   "metadata": {},
   "source": [
    "$ A_{wnd,SW}$: 窓の面積(南西)(m<sup>2</sup>)  \n",
    "$ A_{wnd,NW}$: 窓の面積(北西)(m<sup>2</sup>)  \n",
    "$ A_{wnd,NE}$: 窓の面積(北東)(m<sup>2</sup>)  \n",
    "$ A_{wnd,SE}$: 窓の面積(南東)(m<sup>2</sup>)  "
   ]
  },
  {
   "cell_type": "code",
   "execution_count": 95,
   "metadata": {
    "collapsed": true
   },
   "outputs": [],
   "source": [
    "def get_A_wnd(A_wnd_total, r_wnd):\n",
    "    return Direction(A_wnd_total * r_wnd.SW,\n",
    "                     A_wnd_total * r_wnd.NW,\n",
    "                     A_wnd_total * r_wnd.NE,\n",
    "                     A_wnd_total * r_wnd.SE )"
   ]
  },
  {
   "cell_type": "code",
   "execution_count": 96,
   "metadata": {
    "collapsed": false
   },
   "outputs": [],
   "source": [
    "FIH['窓の面積'] = get_A_wnd( FIH['窓の面積の合計'], FIH['方位別窓面積比率'] )\n",
    "BIH['窓の面積'] = get_A_wnd( BIH['窓の面積の合計'], BIH['方位別窓面積比率'] )"
   ]
  },
  {
   "cell_type": "code",
   "execution_count": 97,
   "metadata": {
    "collapsed": false
   },
   "outputs": [
    {
     "name": "stdout",
     "output_type": "stream",
     "text": [
      "床断熱住宅: Direction(SW=Decimal('22.69493748990079968651894278'), NW=Decimal('2.384589030926621476826021239'), NE=Decimal('3.628147249551322829511990706'), SE=Decimal('4.365683107937781344535850257'))\n",
      "基礎断熱住宅: Direction(SW=Decimal('22.69493748990079968651894278'), NW=Decimal('2.384589030926621476826021239'), NE=Decimal('3.628147249551322829511990706'), SE=Decimal('4.365683107937781344535850257'))\n"
     ]
    }
   ],
   "source": [
    "printresult2('窓の面積')"
   ]
  },
  {
   "cell_type": "markdown",
   "metadata": {},
   "source": [
    "### 25) ドアの面積"
   ]
  },
  {
   "cell_type": "markdown",
   "metadata": {},
   "source": [
    "南西側: $ A_{door,SW} = 0.0 $  \n",
    "北西側: $ A_{door,NW} = A_{door,entrance} $   \n",
    "北東側: $ A_{door,NE} = A_{door,backentrance} $  \n",
    "南東側: $ A_{door,SE} = 0.0 $  "
   ]
  },
  {
   "cell_type": "markdown",
   "metadata": {},
   "source": [
    "$A_{door}$: ドアの面積(m<sup>2</sup>)"
   ]
  },
  {
   "cell_type": "code",
   "execution_count": 98,
   "metadata": {
    "collapsed": true
   },
   "outputs": [],
   "source": [
    "def get_A_door(A_door_entrance, A_door_backentrance):\n",
    "    return Direction(Decimal('0.0'), A_door_entrance, A_door_backentrance, Decimal('0.0'))"
   ]
  },
  {
   "cell_type": "code",
   "execution_count": 99,
   "metadata": {
    "collapsed": false
   },
   "outputs": [],
   "source": [
    "FIH['ドアの面積'] = get_A_door( FIH['玄関ドアの面積'], FIH['勝手口ドアの面積'] )\n",
    "BIH['ドアの面積'] = get_A_door( BIH['玄関ドアの面積'], BIH['勝手口ドアの面積'] )"
   ]
  },
  {
   "cell_type": "code",
   "execution_count": 100,
   "metadata": {
    "collapsed": false
   },
   "outputs": [
    {
     "name": "stdout",
     "output_type": "stream",
     "text": [
      "床断熱住宅: Direction(SW=Decimal('0.0'), NW=Decimal('1.89'), NE=Decimal('1.62'), SE=Decimal('0.0'))\n",
      "基礎断熱住宅: Direction(SW=Decimal('0.0'), NW=Decimal('1.89'), NE=Decimal('1.62'), SE=Decimal('0.0'))\n"
     ]
    }
   ],
   "source": [
    "printresult2('ドアの面積')"
   ]
  },
  {
   "cell_type": "markdown",
   "metadata": {},
   "source": [
    "### 26) 壁の面積"
   ]
  },
  {
   "cell_type": "markdown",
   "metadata": {},
   "source": [
    "南西側: $ A_{wall,SW} = A_{srf,1,SW} + A_{srf,2,SW} - A_{wnd,SW} - A_{door,SW} $  \n",
    "北西側: $ A_{wall,NW} = A_{srf,1,NW} + A_{srf,2,NW} - A_{wnd,NW} - A_{door,NW} $  \n",
    "北東側: $ A_{wall,NE} = A_{srf,1,NE} + A_{srf,2,NE} - A_{wnd,NE} - A_{door,NE} $  \n",
    "南東側: $ A_{wall,SE} = A_{srf,1,SE} + A_{srf,2,SE} - A_{wnd,SE} - A_{door,SE} $  "
   ]
  },
  {
   "cell_type": "markdown",
   "metadata": {},
   "source": [
    "$ A_{wall}$: 壁の面積(m<sup>2</sup>)"
   ]
  },
  {
   "cell_type": "code",
   "execution_count": 101,
   "metadata": {
    "collapsed": true
   },
   "outputs": [],
   "source": [
    "def get_A_wall(A_srf, A_wnd, A_door):\n",
    "    # A_srf, A_wnd and A_door are Direction named tuple\n",
    "    return A_srf[0] + A_srf[1] - A_wnd - A_door"
   ]
  },
  {
   "cell_type": "code",
   "execution_count": 102,
   "metadata": {
    "collapsed": false
   },
   "outputs": [],
   "source": [
    "FIH['壁の面積'] = get_A_wall(FIH['垂直外皮面積'], FIH['窓の面積'], FIH['ドアの面積'])\n",
    "BIH['壁の面積'] = get_A_wall(BIH['垂直外皮面積'], BIH['窓の面積'], BIH['ドアの面積'])"
   ]
  },
  {
   "cell_type": "code",
   "execution_count": 103,
   "metadata": {
    "collapsed": false
   },
   "outputs": [
    {
     "name": "stdout",
     "output_type": "stream",
     "text": [
      "床断熱住宅: Direction(SW=Decimal('30.47024338051379020947382007'), NW=Decimal('22.36761846552773505007319492'), NE=Decimal('47.91703362086326706648077214'), SE=Decimal('22.27652438851657518236336590'))\n",
      "基礎断熱住宅: Direction(SW=Decimal('30.47024338051379020947382007'), NW=Decimal('22.36761846552773505007319492'), NE=Decimal('47.91703362086326706648077214'), SE=Decimal('22.27652438851657518236336590'))\n"
     ]
    }
   ],
   "source": [
    "printresult2('壁の面積')"
   ]
  },
  {
   "cell_type": "markdown",
   "metadata": {},
   "source": [
    "## 3. 結果"
   ]
  },
  {
   "cell_type": "markdown",
   "metadata": {},
   "source": [
    "### 四捨五入"
   ]
  },
  {
   "cell_type": "markdown",
   "metadata": {},
   "source": [
    "建研HPで公表する値としては、さらに小数点2桁までにまとめた値とする。  \n",
    "丸める場合に、round関数は、JIS Z 8401 付属書A の方法（0.5の場合は偶数側に丸める）が適用されるため、自前に作成したround2関数で丸めることとする。この場合は、端数が「.5」の場合は、必ず大きい側（切り上げ側）に丸められる。"
   ]
  },
  {
   "cell_type": "code",
   "execution_count": 104,
   "metadata": {
    "collapsed": true
   },
   "outputs": [],
   "source": [
    "def round2(x,d=0):\n",
    "#    p=10**d\n",
    "#    return (x*p*2+1)//2/p\n",
    "    return x.quantize(Decimal('0.01'), rounding=ROUND_HALF_UP)"
   ]
  },
  {
   "cell_type": "code",
   "execution_count": 105,
   "metadata": {
    "collapsed": true
   },
   "outputs": [],
   "source": [
    "def round2_Direction(x, d=0):\n",
    "    return Direction( round2( x.SW, 2 ),\n",
    "                      round2( x.NW, 2 ),\n",
    "                      round2( x.NE, 2 ),\n",
    "                      round2( x.SE, 2 ) )"
   ]
  },
  {
   "cell_type": "code",
   "execution_count": 106,
   "metadata": {
    "collapsed": true
   },
   "outputs": [],
   "source": [
    "def round2_DirectionPlus(x, d=0):\n",
    "    return DirectionPlus( round2( x.SW, 2 ),\n",
    "                      round2( x.NW, 2 ),\n",
    "                      round2( x.NE, 2 ),\n",
    "                      round2( x.SE, 2 ),\n",
    "                      round2( x.IS, 2 ) )"
   ]
  },
  {
   "cell_type": "markdown",
   "metadata": {},
   "source": [
    "### 1) 床面積の合計(m<sup>2</sup>)"
   ]
  },
  {
   "cell_type": "code",
   "execution_count": 107,
   "metadata": {
    "collapsed": false
   },
   "outputs": [
    {
     "name": "stdout",
     "output_type": "stream",
     "text": [
      "床断熱住宅: 90.00\n",
      "基礎断熱住宅: 90.00\n"
     ]
    }
   ],
   "source": [
    "FIH['rnd_床面積の合計'] = round2( FIH['床面積の合計'], 2 )\n",
    "BIH['rnd_床面積の合計'] = round2( BIH['床面積の合計'], 2 )\n",
    "printresult2('rnd_床面積の合計')"
   ]
  },
  {
   "cell_type": "markdown",
   "metadata": {},
   "source": [
    "### 2) 外皮の部位の面積の合計(m<sup>2</sup>)"
   ]
  },
  {
   "cell_type": "code",
   "execution_count": 108,
   "metadata": {
    "collapsed": false
   },
   "outputs": [
    {
     "name": "stdout",
     "output_type": "stream",
     "text": [
      "床断熱住宅: 266.10\n",
      "基礎断熱住宅: 275.69\n"
     ]
    }
   ],
   "source": [
    "FIH['rnd_外皮の部位の面積の合計'] = round2( FIH['外皮の部位の面積の合計'], 2 )\n",
    "BIH['rnd_外皮の部位の面積の合計'] = round2( BIH['外皮の部位の面積の合計'], 2 )\n",
    "printresult2('rnd_外皮の部位の面積の合計')"
   ]
  },
  {
   "cell_type": "markdown",
   "metadata": {},
   "source": [
    "### 3) 屋根又は天井(下屋を含む)の面積(m<sup>2</sup>)"
   ]
  },
  {
   "cell_type": "code",
   "execution_count": 109,
   "metadata": {
    "collapsed": false
   },
   "outputs": [
    {
     "name": "stdout",
     "output_type": "stream",
     "text": [
      "床断熱住宅: 50.85\n",
      "基礎断熱住宅: 50.85\n"
     ]
    }
   ],
   "source": [
    "FIH['rnd_屋根又は天井の面積'] = round2( FIH['屋根又は天井の面積'], 2 )\n",
    "BIH['rnd_屋根又は天井の面積'] = round2( BIH['屋根又は天井の面積'], 2 )\n",
    "printresult2('rnd_屋根又は天井の面積')"
   ]
  },
  {
   "cell_type": "markdown",
   "metadata": {},
   "source": [
    "### 4) 壁の面積(m<sup>2</sup>) "
   ]
  },
  {
   "cell_type": "code",
   "execution_count": 110,
   "metadata": {
    "collapsed": false
   },
   "outputs": [
    {
     "name": "stdout",
     "output_type": "stream",
     "text": [
      "床断熱住宅: Direction(SW=Decimal('30.47'), NW=Decimal('22.37'), NE=Decimal('47.92'), SE=Decimal('22.28'))\n",
      "基礎断熱住宅: Direction(SW=Decimal('30.47'), NW=Decimal('22.37'), NE=Decimal('47.92'), SE=Decimal('22.28'))\n"
     ]
    }
   ],
   "source": [
    "FIH['rnd_壁の面積'] = round2_Direction( FIH['壁の面積'], 2 )\n",
    "BIH['rnd_壁の面積'] = round2_Direction( BIH['壁の面積'], 2 )\n",
    "printresult2('rnd_壁の面積')"
   ]
  },
  {
   "cell_type": "markdown",
   "metadata": {},
   "source": [
    "### 5) 窓の面積(m<sup>2</sup>) "
   ]
  },
  {
   "cell_type": "code",
   "execution_count": 111,
   "metadata": {
    "collapsed": false
   },
   "outputs": [
    {
     "name": "stdout",
     "output_type": "stream",
     "text": [
      "床断熱住宅: Direction(SW=Decimal('22.69'), NW=Decimal('2.38'), NE=Decimal('3.63'), SE=Decimal('4.37'))\n",
      "基礎断熱住宅: Direction(SW=Decimal('22.69'), NW=Decimal('2.38'), NE=Decimal('3.63'), SE=Decimal('4.37'))\n"
     ]
    }
   ],
   "source": [
    "FIH['rnd_窓の面積'] = round2_Direction( FIH['窓の面積'], 2 )\n",
    "BIH['rnd_窓の面積'] = round2_Direction( BIH['窓の面積'], 2 )\n",
    "printresult2('rnd_窓の面積')"
   ]
  },
  {
   "cell_type": "markdown",
   "metadata": {},
   "source": [
    "### 6) ドアの面積(m<sup>2</sup>)"
   ]
  },
  {
   "cell_type": "code",
   "execution_count": 112,
   "metadata": {
    "collapsed": false
   },
   "outputs": [
    {
     "name": "stdout",
     "output_type": "stream",
     "text": [
      "床断熱住宅: Direction(SW=Decimal('0.00'), NW=Decimal('1.89'), NE=Decimal('1.62'), SE=Decimal('0.00'))\n",
      "基礎断熱住宅: Direction(SW=Decimal('0.00'), NW=Decimal('1.89'), NE=Decimal('1.62'), SE=Decimal('0.00'))\n"
     ]
    }
   ],
   "source": [
    "FIH['rnd_ドアの面積'] = round2_Direction( FIH['ドアの面積'], 2 )\n",
    "BIH['rnd_ドアの面積'] = round2_Direction( BIH['ドアの面積'], 2 )\n",
    "printresult2('rnd_ドアの面積')"
   ]
  },
  {
   "cell_type": "markdown",
   "metadata": {},
   "source": [
    "### 7) 床断熱した床の面積(m<sup>2</sup>)  "
   ]
  },
  {
   "cell_type": "code",
   "execution_count": 113,
   "metadata": {
    "collapsed": false
   },
   "outputs": [
    {
     "name": "stdout",
     "output_type": "stream",
     "text": [
      "床断熱住宅: 45.05\n",
      "基礎断熱住宅: 0.00\n"
     ]
    }
   ],
   "source": [
    "FIH['rnd_床断熱した床の面積'] = round2( FIH['床断熱した床の面積'], 2 )\n",
    "BIH['rnd_床断熱した床の面積'] = round2( BIH['床断熱した床の面積'], 2 )\n",
    "printresult2('rnd_床断熱した床の面積')"
   ]
  },
  {
   "cell_type": "markdown",
   "metadata": {},
   "source": [
    "### 8) 土間床等の面積の合計(m<sup>2</sup>)  "
   ]
  },
  {
   "cell_type": "markdown",
   "metadata": {},
   "source": [
    "参考値。"
   ]
  },
  {
   "cell_type": "code",
   "execution_count": 114,
   "metadata": {
    "collapsed": false
   },
   "outputs": [
    {
     "name": "stdout",
     "output_type": "stream",
     "text": [
      "床断熱住宅: 5.80\n",
      "基礎断熱住宅: 50.85\n"
     ]
    }
   ],
   "source": [
    "FIH['rnd_土間床等の面積の合計'] = round2( FIH['土間床等の面積の合計'], 2 )\n",
    "BIH['rnd_土間床等の面積の合計'] = round2( BIH['土間床等の面積の合計'], 2 )\n",
    "printresult2('rnd_土間床等の面積の合計')"
   ]
  },
  {
   "cell_type": "markdown",
   "metadata": {},
   "source": [
    "### 9) 玄関の土間床等の面積(m<sup>2</sup>)"
   ]
  },
  {
   "cell_type": "markdown",
   "metadata": {},
   "source": [
    "参考値。"
   ]
  },
  {
   "cell_type": "code",
   "execution_count": 115,
   "metadata": {
    "collapsed": false,
    "scrolled": true
   },
   "outputs": [
    {
     "name": "stdout",
     "output_type": "stream",
     "text": [
      "床断熱住宅: 2.48\n",
      "基礎断熱住宅: 2.48\n"
     ]
    }
   ],
   "source": [
    "FIH['rnd_玄関の土間床等の面積'] = round2( FIH['玄関の土間床等の面積'], 2 )\n",
    "BIH['rnd_玄関の土間床等の面積'] = round2( BIH['玄関の土間床等の面積'], 2 )\n",
    "printresult2('rnd_玄関の土間床等の面積')"
   ]
  },
  {
   "cell_type": "markdown",
   "metadata": {},
   "source": [
    "### 10) 浴室の土間床等の面積(m<sup>2</sup>)"
   ]
  },
  {
   "cell_type": "code",
   "execution_count": 116,
   "metadata": {
    "collapsed": false
   },
   "outputs": [
    {
     "name": "stdout",
     "output_type": "stream",
     "text": [
      "床断熱住宅: 3.31\n",
      "基礎断熱住宅: 3.31\n"
     ]
    }
   ],
   "source": [
    "FIH['rnd_浴室の土間床等の面積'] = round2( FIH['浴室の土間床等の面積'], 2 )\n",
    "BIH['rnd_浴室の土間床等の面積'] = round2( BIH['浴室の土間床等の面積'], 2 )\n",
    "printresult2('rnd_浴室の土間床等の面積')"
   ]
  },
  {
   "cell_type": "markdown",
   "metadata": {},
   "source": [
    "### 11) 基礎の面積の合計(m<sup>2</sup>)  "
   ]
  },
  {
   "cell_type": "markdown",
   "metadata": {},
   "source": [
    "従来はこの値を表示していたが、2017.07から、玄関とそれ以外に分離させる。  \n",
    "現在ではこの値は表示していない。"
   ]
  },
  {
   "cell_type": "code",
   "execution_count": 117,
   "metadata": {
    "collapsed": false
   },
   "outputs": [
    {
     "name": "stdout",
     "output_type": "stream",
     "text": [
      "床断熱住宅: DirectionPlus(SW=Decimal('0.00'), NW=Decimal('1.24'), NE=Decimal('1.16'), SE=Decimal('0.00'), IS=Decimal('2.39'))\n",
      "基礎断熱住宅: DirectionPlus(SW=Decimal('5.30'), NW=Decimal('1.81'), NE=Decimal('4.87'), SE=Decimal('2.40'), IS=Decimal('0.00'))\n"
     ]
    }
   ],
   "source": [
    "FIH['rnd_基礎の面積の合計'] = round2_DirectionPlus( FIH['基礎の面積の合計'], 2 )\n",
    "BIH['rnd_基礎の面積の合計'] = round2_DirectionPlus( BIH['基礎の面積の合計'], 2 )\n",
    "printresult2('rnd_基礎の面積の合計')"
   ]
  },
  {
   "cell_type": "markdown",
   "metadata": {},
   "source": [
    "### 12) 玄関等の基礎の面積(m<sup>2</sup>)  "
   ]
  },
  {
   "cell_type": "code",
   "execution_count": 118,
   "metadata": {
    "collapsed": false
   },
   "outputs": [
    {
     "name": "stdout",
     "output_type": "stream",
     "text": [
      "床断熱住宅: DirectionPlus(SW=Decimal('0.00'), NW=Decimal('0.33'), NE=Decimal('0.25'), SE=Decimal('0.00'), IS=Decimal('0.57'))\n",
      "基礎断熱住宅: DirectionPlus(SW=Decimal('0.00'), NW=Decimal('0.33'), NE=Decimal('0.25'), SE=Decimal('0.00'), IS=Decimal('0.00'))\n"
     ]
    }
   ],
   "source": [
    "FIH['rnd_玄関等の基礎の面積'] = round2_DirectionPlus( FIH['玄関等の基礎の面積'], 2 )\n",
    "BIH['rnd_玄関等の基礎の面積'] = round2_DirectionPlus( BIH['玄関等の基礎の面積'], 2 )\n",
    "printresult2('rnd_玄関等の基礎の面積')"
   ]
  },
  {
   "cell_type": "markdown",
   "metadata": {},
   "source": [
    "### 13) 浴室の基礎の面積(m<sup>2</sup>)  "
   ]
  },
  {
   "cell_type": "code",
   "execution_count": 119,
   "metadata": {
    "collapsed": false
   },
   "outputs": [
    {
     "name": "stdout",
     "output_type": "stream",
     "text": [
      "床断熱住宅: DirectionPlus(SW=Decimal('0.00'), NW=Decimal('0.91'), NE=Decimal('0.91'), SE=Decimal('0.00'), IS=Decimal('1.82'))\n",
      "基礎断熱住宅: DirectionPlus(SW=Decimal('0.00'), NW=Decimal('0.91'), NE=Decimal('0.91'), SE=Decimal('0.00'), IS=Decimal('0.00'))\n"
     ]
    }
   ],
   "source": [
    "FIH['rnd_浴室の基礎の面積'] = round2_DirectionPlus( FIH['浴室の基礎の面積'], 2 )\n",
    "BIH['rnd_浴室の基礎の面積'] = round2_DirectionPlus( BIH['浴室の基礎の面積'], 2 )\n",
    "printresult2('rnd_浴室の基礎の面積')"
   ]
  },
  {
   "cell_type": "markdown",
   "metadata": {},
   "source": [
    "### 14) 玄関等を除く基礎の面積(m<sup>2</sup>)  "
   ]
  },
  {
   "cell_type": "markdown",
   "metadata": {},
   "source": [
    "2017.07まで「基礎の面積の合計」のみを表示していたが、2017.07より、「基礎の面積(玄関)」と「基礎の面積(玄関除く)」に分けて記載することになった。  \n",
    "簡易法の表記上、基礎の面積は、「玄関」と「（玄関以外の）その他」としてまとめる。  \n",
    "本来であれば、「基礎の面積(玄関除く)」は、「基礎の面積(その他)」と「基礎の面積(浴室)」の合計とすべきところである。しかし、「基礎の面積(玄関)」と「基礎の面積(浴室)」、「基礎の面積(その他)」をそれぞれ小数点第二位まで四捨五入して合計した値は、「基礎の面積の合計」を小数点第二位まで四捨五入した値に一致しない。そこで、「基礎の面積の合計」を小数点第二位まで四捨五入した値から、「基礎の面積(玄関)」を小数点第二位まで四捨五入した値を減じることにより、従来評価に変更がでないように対処する。"
   ]
  },
  {
   "cell_type": "code",
   "execution_count": 120,
   "metadata": {
    "collapsed": false
   },
   "outputs": [
    {
     "name": "stdout",
     "output_type": "stream",
     "text": [
      "床断熱住宅: DirectionPlus(SW=Decimal('0.00'), NW=Decimal('0.91'), NE=Decimal('0.91'), SE=Decimal('0.00'), IS=Decimal('1.82'))\n",
      "基礎断熱住宅: DirectionPlus(SW=Decimal('5.30'), NW=Decimal('1.48'), NE=Decimal('4.62'), SE=Decimal('2.40'), IS=Decimal('0.00'))\n"
     ]
    }
   ],
   "source": [
    "FIH['rnd_玄関等を除く基礎の面積'] = FIH['rnd_基礎の面積の合計'] - FIH['rnd_玄関等の基礎の面積'] # variant type is namedtuple 'DirectionPlus'\n",
    "BIH['rnd_玄関等を除く基礎の面積'] = BIH['rnd_基礎の面積の合計'] - BIH['rnd_玄関等の基礎の面積'] # variant type is namedtuple 'DirectionPlus'\n",
    "printresult2('rnd_玄関等を除く基礎の面積')"
   ]
  },
  {
   "cell_type": "markdown",
   "metadata": {},
   "source": [
    "### 15) その他の基礎の面積(m<sup>2</sup>)"
   ]
  },
  {
   "cell_type": "code",
   "execution_count": 121,
   "metadata": {
    "collapsed": false
   },
   "outputs": [
    {
     "name": "stdout",
     "output_type": "stream",
     "text": [
      "床断熱住宅: DirectionPlus(SW=Decimal('0.00'), NW=Decimal('0.00'), NE=Decimal('0.00'), SE=Decimal('0.00'), IS=Decimal('0.00'))\n",
      "基礎断熱住宅: DirectionPlus(SW=Decimal('5.30'), NW=Decimal('0.57'), NE=Decimal('3.71'), SE=Decimal('2.40'), IS=Decimal('0.00'))\n"
     ]
    }
   ],
   "source": [
    "FIH['rnd_その他の基礎の面積'] = FIH['rnd_基礎の面積の合計'] - FIH['rnd_玄関等の基礎の面積'] - FIH['rnd_浴室の基礎の面積']\n",
    "    # variant type is namedtuple 'DirectionPlus'\n",
    "BIH['rnd_その他の基礎の面積'] = BIH['rnd_基礎の面積の合計'] - BIH['rnd_玄関等の基礎の面積'] - BIH['rnd_浴室の基礎の面積']\n",
    "    # variant type is namedtuple 'DirectionPlus'\n",
    "printresult2('rnd_その他の基礎の面積')"
   ]
  },
  {
   "cell_type": "markdown",
   "metadata": {
    "collapsed": true
   },
   "source": [
    "### 16) 土間床周長の合計(m)"
   ]
  },
  {
   "cell_type": "markdown",
   "metadata": {},
   "source": [
    "従来はこの値を表示していたが、2017.07から、玄関とそれ以外に分離させる。  \n",
    "現在ではこの値は表示していない。"
   ]
  },
  {
   "cell_type": "code",
   "execution_count": 122,
   "metadata": {
    "collapsed": false
   },
   "outputs": [
    {
     "name": "stdout",
     "output_type": "stream",
     "text": [
      "床断熱住宅: DirectionPlus(SW=Decimal('0.00'), NW=Decimal('3.64'), NE=Decimal('3.19'), SE=Decimal('0.00'), IS=Decimal('6.83'))\n",
      "基礎断熱住宅: DirectionPlus(SW=Decimal('10.61'), NW=Decimal('4.79'), NE=Decimal('10.61'), SE=Decimal('4.79'), IS=Decimal('0.00'))\n"
     ]
    }
   ],
   "source": [
    "FIH['rnd_土間床周長'] = round2_DirectionPlus( FIH['土間床周長'], 2 )\n",
    "BIH['rnd_土間床周長'] = round2_DirectionPlus( BIH['土間床周長'], 2 )\n",
    "printresult2('rnd_土間床周長')"
   ]
  },
  {
   "cell_type": "markdown",
   "metadata": {},
   "source": [
    "### 17) 玄関等の土間床等の外周部の長さ(m)"
   ]
  },
  {
   "cell_type": "code",
   "execution_count": 123,
   "metadata": {
    "collapsed": false,
    "scrolled": true
   },
   "outputs": [
    {
     "name": "stdout",
     "output_type": "stream",
     "text": [
      "床断熱住宅: DirectionPlus(SW=Decimal('0.00'), NW=Decimal('1.82'), NE=Decimal('1.37'), SE=Decimal('0.00'), IS=Decimal('3.19'))\n",
      "基礎断熱住宅: DirectionPlus(SW=Decimal('0.00'), NW=Decimal('1.82'), NE=Decimal('1.37'), SE=Decimal('0.00'), IS=Decimal('0.00'))\n"
     ]
    }
   ],
   "source": [
    "FIH['rnd_玄関等の土間床等の外周部の長さ'] = round2_DirectionPlus( FIH['玄関等の土間床等の外周部の長さ'], 2 )\n",
    "BIH['rnd_玄関等の土間床等の外周部の長さ'] = round2_DirectionPlus( BIH['玄関等の土間床等の外周部の長さ'], 2 )\n",
    "printresult2('rnd_玄関等の土間床等の外周部の長さ')"
   ]
  },
  {
   "cell_type": "markdown",
   "metadata": {},
   "source": [
    "### 18) 浴室の土間床等の外周部の長さ"
   ]
  },
  {
   "cell_type": "code",
   "execution_count": 124,
   "metadata": {
    "collapsed": false
   },
   "outputs": [
    {
     "name": "stdout",
     "output_type": "stream",
     "text": [
      "床断熱住宅: DirectionPlus(SW=Decimal('0.00'), NW=Decimal('1.82'), NE=Decimal('1.82'), SE=Decimal('0.00'), IS=Decimal('3.64'))\n",
      "基礎断熱住宅: DirectionPlus(SW=Decimal('0.00'), NW=Decimal('1.82'), NE=Decimal('1.82'), SE=Decimal('0.00'), IS=Decimal('0.00'))\n"
     ]
    }
   ],
   "source": [
    "FIH['rnd_浴室の土間床等の外周部の長さ'] = round2_DirectionPlus( FIH['浴室の土間床等の外周部の長さ'], 2 )\n",
    "BIH['rnd_浴室の土間床等の外周部の長さ'] = round2_DirectionPlus( BIH['浴室の土間床等の外周部の長さ'], 2 )\n",
    "printresult2('rnd_浴室の土間床等の外周部の長さ')"
   ]
  },
  {
   "cell_type": "markdown",
   "metadata": {},
   "source": [
    "### 19) 玄関等を除く土間床等の外周部の長さ(m)"
   ]
  },
  {
   "cell_type": "markdown",
   "metadata": {},
   "source": [
    "2017.07まで「土間床周長の合計」のみを表示していたが、2017.07より、「土間床周長(玄関)」と「土間床周長(玄関除く)」に分けて記載することになった。  \n",
    "簡易法の表記上、基礎の面積は、「玄関」と「（玄関以外の）その他」としてまとめる。  \n",
    "本来であれば、「土間床周長(玄関除く)」は、「土間床周長(その他)」と「土間床周長(浴室)」の合計とすべきところである。しかし、「土間床周長(玄関)」と「土間床周長(浴室)」、「土間床周長(その他)」をそれぞれ小数点第二位まで四捨五入して合計した値は、「土間床周長の合計」を小数点第二位まで四捨五入した値に一致しない。そこで、「土間床周長の合計」を小数点第二位まで四捨五入した値から、「土間床周長(玄関)」を小数点第二位まで四捨五入した値を減じることにより、従来評価に変更がでないように対処する。"
   ]
  },
  {
   "cell_type": "code",
   "execution_count": 125,
   "metadata": {
    "collapsed": false
   },
   "outputs": [
    {
     "name": "stdout",
     "output_type": "stream",
     "text": [
      "床断熱住宅: DirectionPlus(SW=Decimal('0.00'), NW=Decimal('1.82'), NE=Decimal('1.82'), SE=Decimal('0.00'), IS=Decimal('3.64'))\n",
      "基礎断熱住宅: DirectionPlus(SW=Decimal('10.61'), NW=Decimal('2.97'), NE=Decimal('9.24'), SE=Decimal('4.79'), IS=Decimal('0.00'))\n"
     ]
    }
   ],
   "source": [
    "FIH['rnd_玄関等を除く土間床等の外周部の長さ'] = FIH['rnd_土間床周長'] - FIH['rnd_玄関等の土間床等の外周部の長さ']\n",
    "    # variant type is namedtuple 'DirectionPlus'\n",
    "BIH['rnd_玄関等を除く土間床等の外周部の長さ'] = BIH['rnd_土間床周長'] - BIH['rnd_玄関等の土間床等の外周部の長さ']\n",
    "    # variant type is namedtuple 'DirectionPlus'\n",
    "printresult2('rnd_玄関等を除く土間床等の外周部の長さ')"
   ]
  },
  {
   "cell_type": "markdown",
   "metadata": {},
   "source": [
    "### 20) その他の土間床等の外周部の長さ(m<sup>2</sup>)"
   ]
  },
  {
   "cell_type": "code",
   "execution_count": 126,
   "metadata": {
    "collapsed": false
   },
   "outputs": [
    {
     "name": "stdout",
     "output_type": "stream",
     "text": [
      "床断熱住宅: DirectionPlus(SW=Decimal('0.00'), NW=Decimal('0.00'), NE=Decimal('0.00'), SE=Decimal('0.00'), IS=Decimal('0.00'))\n",
      "基礎断熱住宅: DirectionPlus(SW=Decimal('10.61'), NW=Decimal('1.15'), NE=Decimal('7.42'), SE=Decimal('4.79'), IS=Decimal('0.00'))\n"
     ]
    }
   ],
   "source": [
    "FIH['rnd_その他の土間床等の外周部の長さ'] = FIH['rnd_土間床周長'] - FIH['rnd_玄関等の土間床等の外周部の長さ'] - FIH['rnd_浴室の土間床等の外周部の長さ']\n",
    "    # variant type is namedtuple 'DirectionPlus'\n",
    "BIH['rnd_その他の土間床等の外周部の長さ'] = BIH['rnd_土間床周長'] - BIH['rnd_玄関等の土間床等の外周部の長さ'] - BIH['rnd_浴室の土間床等の外周部の長さ']\n",
    "    # variant type is namedtuple 'DirectionPlus'\n",
    "printresult2('rnd_その他の土間床等の外周部の長さ')"
   ]
  },
  {
   "cell_type": "markdown",
   "metadata": {},
   "source": [
    "## 4. テスト"
   ]
  },
  {
   "cell_type": "code",
   "execution_count": 127,
   "metadata": {
    "collapsed": true
   },
   "outputs": [],
   "source": [
    "testcase = [ [ '外皮の部位の面積の合計', '266.10', '275.69', '' ],\n",
    "             [ '床面積の合計',            '90.00',  '90.00', '' ],\n",
    "             [ '屋根又は天井の面積',      '50.85',  '50.85', '' ],\n",
    "             [ '床断熱した床の面積',      '45.05',   '0.00', '' ],\n",
    "             [ '土間床等の面積の合計',     '5.80',  '50.85', '(参考)' ],\n",
    "             [ '玄関の土間床等の面積',     '2.48',   '2.48', '(参考)' ],\n",
    "             [ '浴室の土間床等の面積',     '3.31',   '3.31', '(2018.04から使用。)' ],\n",
    "             [ '壁の面積',   Direction( '30.47', '22.37', '47.92', '22.28' ), Direction( '30.47', '22.37', '47.92', '22.28' ), '' ],\n",
    "             [ 'ドアの面積', Direction(  '0.00',  '1.89',  '1.62',  '0.00' ), Direction(  '0.00',  '1.89',  '1.62',  '0.00' ), '' ],\n",
    "             [ '窓の面積',   Direction( '22.69',  '2.38',  '3.63',  '4.37' ), Direction( '22.69',  '2.38',  '3.63',  '4.37' ), '' ],\n",
    "             [ '基礎の面積の合計',                   DirectionPlus( '0.00', '1.24', '1.16', '0.00', '2.39' ), DirectionPlus(  '5.30', '1.81',  '4.87', '2.40', '0.00' ), '(2017.07まで使用。現在は使用していない。)' ],\n",
    "             [ '玄関等の基礎の面積',                 DirectionPlus( '0.00', '0.33', '0.25', '0.00', '0.57' ), DirectionPlus(  '0.00', '0.33',  '0.25', '0.00', '0.00' ), '(2017.07より使用。)' ],\n",
    "             [ '浴室の基礎の面積',                   DirectionPlus( '0.00', '0.91', '0.91', '0.00', '1.82' ), DirectionPlus(  '0.00', '0.91',  '0.91', '0.00', '0.00' ), '(参考値。)' ],\n",
    "             [ '玄関等を除く基礎の面積',             DirectionPlus( '0.00', '0.91', '0.91', '0.00', '1.82' ), DirectionPlus(  '5.30', '1.48',  '4.62', '2.40', '0.00' ), '(2017.07より使用。)' ],\n",
    "             [ 'その他の基礎の面積',                 DirectionPlus( '0.00', '0.00', '0.00', '0.00', '0.00' ), DirectionPlus(  '5.30', '0.57',  '3.71', '2.40', '0.00' ), '(参考値。)' ],\n",
    "             [ '土間床周長',                         DirectionPlus( '0.00', '3.64', '3.19', '0.00', '6.83' ), DirectionPlus( '10.61', '4.79', '10.61', '4.79', '0.00' ), '(2017.07まで使用。現在は使用していない。)' ],\n",
    "             [ '玄関等の土間床等の外周部の長さ',     DirectionPlus( '0.00', '1.82', '1.37', '0.00', '3.19' ), DirectionPlus(  '0.00', '1.82',  '1.37', '0.00', '0.00' ), '(2017.07より使用。)' ],\n",
    "             [ '浴室の土間床等の外周部の長さ',       DirectionPlus( '0.00', '1.82', '1.82', '0.00', '3.64' ), DirectionPlus(  '0.00', '1.82',  '1.82', '0.00', '0.00' ), '(参考値。)' ],\n",
    "             [ '玄関等を除く土間床等の外周部の長さ', DirectionPlus( '0.00', '1.82', '1.82', '0.00', '3.64' ), DirectionPlus( '10.61', '2.97',  '9.24', '4.79', '0.00' ), '(2017.07より使用。)' ],\n",
    "             [ 'その他の土間床等の外周部の長さ',     DirectionPlus( '0.00', '0.00', '0.00', '0.00', '0.00' ), DirectionPlus( '10.61', '1.15',  '7.42', '4.79', '0.00' ), '(参考値。)' ],\n",
    "           ]"
   ]
  },
  {
   "cell_type": "code",
   "execution_count": 128,
   "metadata": {
    "collapsed": false
   },
   "outputs": [
    {
     "name": "stdout",
     "output_type": "stream",
     "text": [
      "外皮の部位の面積の合計\n",
      "  床断熱  : EXPECTED = 266.10 / RESULT = 266.10 / .....OK\n",
      "  基礎断熱: EXPECTED = 275.69 / RESULT = 275.69 / .....OK\n",
      "床面積の合計\n",
      "  床断熱  : EXPECTED = 90.00 / RESULT = 90.00 / .....OK\n",
      "  基礎断熱: EXPECTED = 90.00 / RESULT = 90.00 / .....OK\n",
      "屋根又は天井の面積\n",
      "  床断熱  : EXPECTED = 50.85 / RESULT = 50.85 / .....OK\n",
      "  基礎断熱: EXPECTED = 50.85 / RESULT = 50.85 / .....OK\n",
      "床断熱した床の面積\n",
      "  床断熱  : EXPECTED = 45.05 / RESULT = 45.05 / .....OK\n",
      "  基礎断熱: EXPECTED = 0.00 / RESULT = 0.00 / .....OK\n",
      "土間床等の面積の合計(参考)\n",
      "  床断熱  : EXPECTED = 5.80 / RESULT = 5.80 / .....OK\n",
      "  基礎断熱: EXPECTED = 50.85 / RESULT = 50.85 / .....OK\n",
      "玄関の土間床等の面積(参考)\n",
      "  床断熱  : EXPECTED = 2.48 / RESULT = 2.48 / .....OK\n",
      "  基礎断熱: EXPECTED = 2.48 / RESULT = 2.48 / .....OK\n",
      "浴室の土間床等の面積(2018.04から使用。)\n",
      "  床断熱  : EXPECTED = 3.31 / RESULT = 3.31 / .....OK\n",
      "  基礎断熱: EXPECTED = 3.31 / RESULT = 3.31 / .....OK\n",
      "壁の面積\n",
      "  床断熱  (南西): EXPECTED = 30.47 / RESULT = 30.47 / .....OK\n",
      "  床断熱  (北西): EXPECTED = 22.37 / RESULT = 22.37 / .....OK\n",
      "  床断熱  (北東): EXPECTED = 47.92 / RESULT = 47.92 / .....OK\n",
      "  床断熱  (南東): EXPECTED = 22.28 / RESULT = 22.28 / .....OK\n",
      "  基礎断熱(南西): EXPECTED = 30.47 / RESULT = 30.47 / .....OK\n",
      "  基礎断熱(北西): EXPECTED = 22.37 / RESULT = 22.37 / .....OK\n",
      "  基礎断熱(北東): EXPECTED = 47.92 / RESULT = 47.92 / .....OK\n",
      "  基礎断熱(南東): EXPECTED = 22.28 / RESULT = 22.28 / .....OK\n",
      "ドアの面積\n",
      "  床断熱  (南西): EXPECTED = 0.00 / RESULT = 0.00 / .....OK\n",
      "  床断熱  (北西): EXPECTED = 1.89 / RESULT = 1.89 / .....OK\n",
      "  床断熱  (北東): EXPECTED = 1.62 / RESULT = 1.62 / .....OK\n",
      "  床断熱  (南東): EXPECTED = 0.00 / RESULT = 0.00 / .....OK\n",
      "  基礎断熱(南西): EXPECTED = 0.00 / RESULT = 0.00 / .....OK\n",
      "  基礎断熱(北西): EXPECTED = 1.89 / RESULT = 1.89 / .....OK\n",
      "  基礎断熱(北東): EXPECTED = 1.62 / RESULT = 1.62 / .....OK\n",
      "  基礎断熱(南東): EXPECTED = 0.00 / RESULT = 0.00 / .....OK\n",
      "窓の面積\n",
      "  床断熱  (南西): EXPECTED = 22.69 / RESULT = 22.69 / .....OK\n",
      "  床断熱  (北西): EXPECTED = 2.38 / RESULT = 2.38 / .....OK\n",
      "  床断熱  (北東): EXPECTED = 3.63 / RESULT = 3.63 / .....OK\n",
      "  床断熱  (南東): EXPECTED = 4.37 / RESULT = 4.37 / .....OK\n",
      "  基礎断熱(南西): EXPECTED = 22.69 / RESULT = 22.69 / .....OK\n",
      "  基礎断熱(北西): EXPECTED = 2.38 / RESULT = 2.38 / .....OK\n",
      "  基礎断熱(北東): EXPECTED = 3.63 / RESULT = 3.63 / .....OK\n",
      "  基礎断熱(南東): EXPECTED = 4.37 / RESULT = 4.37 / .....OK\n",
      "基礎の面積の合計(2017.07まで使用。現在は使用していない。)\n",
      "  床断熱  (南西): EXPECTED = 0.00 / RESULT = 0.00 / .....OK\n",
      "  床断熱  (北西): EXPECTED = 1.24 / RESULT = 1.24 / .....OK\n",
      "  床断熱  (北東): EXPECTED = 1.16 / RESULT = 1.16 / .....OK\n",
      "  床断熱  (南東): EXPECTED = 0.00 / RESULT = 0.00 / .....OK\n",
      "  床断熱  (室内): EXPECTED = 2.39 / RESULT = 2.39 / .....OK\n",
      "  基礎断熱(南西): EXPECTED = 5.30 / RESULT = 5.30 / .....OK\n",
      "  基礎断熱(北西): EXPECTED = 1.81 / RESULT = 1.81 / .....OK\n",
      "  基礎断熱(北東): EXPECTED = 4.87 / RESULT = 4.87 / .....OK\n",
      "  基礎断熱(南東): EXPECTED = 2.40 / RESULT = 2.40 / .....OK\n",
      "  基礎断熱(室内): EXPECTED = 0.00 / RESULT = 0.00 / .....OK\n",
      "玄関等の基礎の面積(2017.07より使用。)\n",
      "  床断熱  (南西): EXPECTED = 0.00 / RESULT = 0.00 / .....OK\n",
      "  床断熱  (北西): EXPECTED = 0.33 / RESULT = 0.33 / .....OK\n",
      "  床断熱  (北東): EXPECTED = 0.25 / RESULT = 0.25 / .....OK\n",
      "  床断熱  (南東): EXPECTED = 0.00 / RESULT = 0.00 / .....OK\n",
      "  床断熱  (室内): EXPECTED = 0.57 / RESULT = 0.57 / .....OK\n",
      "  基礎断熱(南西): EXPECTED = 0.00 / RESULT = 0.00 / .....OK\n",
      "  基礎断熱(北西): EXPECTED = 0.33 / RESULT = 0.33 / .....OK\n",
      "  基礎断熱(北東): EXPECTED = 0.25 / RESULT = 0.25 / .....OK\n",
      "  基礎断熱(南東): EXPECTED = 0.00 / RESULT = 0.00 / .....OK\n",
      "  基礎断熱(室内): EXPECTED = 0.00 / RESULT = 0.00 / .....OK\n",
      "浴室の基礎の面積(参考値。)\n",
      "  床断熱  (南西): EXPECTED = 0.00 / RESULT = 0.00 / .....OK\n",
      "  床断熱  (北西): EXPECTED = 0.91 / RESULT = 0.91 / .....OK\n",
      "  床断熱  (北東): EXPECTED = 0.91 / RESULT = 0.91 / .....OK\n",
      "  床断熱  (南東): EXPECTED = 0.00 / RESULT = 0.00 / .....OK\n",
      "  床断熱  (室内): EXPECTED = 1.82 / RESULT = 1.82 / .....OK\n",
      "  基礎断熱(南西): EXPECTED = 0.00 / RESULT = 0.00 / .....OK\n",
      "  基礎断熱(北西): EXPECTED = 0.91 / RESULT = 0.91 / .....OK\n",
      "  基礎断熱(北東): EXPECTED = 0.91 / RESULT = 0.91 / .....OK\n",
      "  基礎断熱(南東): EXPECTED = 0.00 / RESULT = 0.00 / .....OK\n",
      "  基礎断熱(室内): EXPECTED = 0.00 / RESULT = 0.00 / .....OK\n",
      "玄関等を除く基礎の面積(2017.07より使用。)\n",
      "  床断熱  (南西): EXPECTED = 0.00 / RESULT = 0.00 / .....OK\n",
      "  床断熱  (北西): EXPECTED = 0.91 / RESULT = 0.91 / .....OK\n",
      "  床断熱  (北東): EXPECTED = 0.91 / RESULT = 0.91 / .....OK\n",
      "  床断熱  (南東): EXPECTED = 0.00 / RESULT = 0.00 / .....OK\n",
      "  床断熱  (室内): EXPECTED = 1.82 / RESULT = 1.82 / .....OK\n",
      "  基礎断熱(南西): EXPECTED = 5.30 / RESULT = 5.30 / .....OK\n",
      "  基礎断熱(北西): EXPECTED = 1.48 / RESULT = 1.48 / .....OK\n",
      "  基礎断熱(北東): EXPECTED = 4.62 / RESULT = 4.62 / .....OK\n",
      "  基礎断熱(南東): EXPECTED = 2.40 / RESULT = 2.40 / .....OK\n",
      "  基礎断熱(室内): EXPECTED = 0.00 / RESULT = 0.00 / .....OK\n",
      "その他の基礎の面積(参考値。)\n",
      "  床断熱  (南西): EXPECTED = 0.00 / RESULT = 0.00 / .....OK\n",
      "  床断熱  (北西): EXPECTED = 0.00 / RESULT = 0.00 / .....OK\n",
      "  床断熱  (北東): EXPECTED = 0.00 / RESULT = 0.00 / .....OK\n",
      "  床断熱  (南東): EXPECTED = 0.00 / RESULT = 0.00 / .....OK\n",
      "  床断熱  (室内): EXPECTED = 0.00 / RESULT = 0.00 / .....OK\n",
      "  基礎断熱(南西): EXPECTED = 5.30 / RESULT = 5.30 / .....OK\n",
      "  基礎断熱(北西): EXPECTED = 0.57 / RESULT = 0.57 / .....OK\n",
      "  基礎断熱(北東): EXPECTED = 3.71 / RESULT = 3.71 / .....OK\n",
      "  基礎断熱(南東): EXPECTED = 2.40 / RESULT = 2.40 / .....OK\n",
      "  基礎断熱(室内): EXPECTED = 0.00 / RESULT = 0.00 / .....OK\n",
      "土間床周長(2017.07まで使用。現在は使用していない。)\n",
      "  床断熱  (南西): EXPECTED = 0.00 / RESULT = 0.00 / .....OK\n",
      "  床断熱  (北西): EXPECTED = 3.64 / RESULT = 3.64 / .....OK\n",
      "  床断熱  (北東): EXPECTED = 3.19 / RESULT = 3.19 / .....OK\n",
      "  床断熱  (南東): EXPECTED = 0.00 / RESULT = 0.00 / .....OK\n",
      "  床断熱  (室内): EXPECTED = 6.83 / RESULT = 6.83 / .....OK\n",
      "  基礎断熱(南西): EXPECTED = 10.61 / RESULT = 10.61 / .....OK\n",
      "  基礎断熱(北西): EXPECTED = 4.79 / RESULT = 4.79 / .....OK\n",
      "  基礎断熱(北東): EXPECTED = 10.61 / RESULT = 10.61 / .....OK\n",
      "  基礎断熱(南東): EXPECTED = 4.79 / RESULT = 4.79 / .....OK\n",
      "  基礎断熱(室内): EXPECTED = 0.00 / RESULT = 0.00 / .....OK\n",
      "玄関等の土間床等の外周部の長さ(2017.07より使用。)\n",
      "  床断熱  (南西): EXPECTED = 0.00 / RESULT = 0.00 / .....OK\n",
      "  床断熱  (北西): EXPECTED = 1.82 / RESULT = 1.82 / .....OK\n",
      "  床断熱  (北東): EXPECTED = 1.37 / RESULT = 1.37 / .....OK\n",
      "  床断熱  (南東): EXPECTED = 0.00 / RESULT = 0.00 / .....OK\n",
      "  床断熱  (室内): EXPECTED = 3.19 / RESULT = 3.19 / .....OK\n",
      "  基礎断熱(南西): EXPECTED = 0.00 / RESULT = 0.00 / .....OK\n",
      "  基礎断熱(北西): EXPECTED = 1.82 / RESULT = 1.82 / .....OK\n",
      "  基礎断熱(北東): EXPECTED = 1.37 / RESULT = 1.37 / .....OK\n",
      "  基礎断熱(南東): EXPECTED = 0.00 / RESULT = 0.00 / .....OK\n",
      "  基礎断熱(室内): EXPECTED = 0.00 / RESULT = 0.00 / .....OK\n",
      "浴室の土間床等の外周部の長さ(参考値。)\n",
      "  床断熱  (南西): EXPECTED = 0.00 / RESULT = 0.00 / .....OK\n",
      "  床断熱  (北西): EXPECTED = 1.82 / RESULT = 1.82 / .....OK\n",
      "  床断熱  (北東): EXPECTED = 1.82 / RESULT = 1.82 / .....OK\n",
      "  床断熱  (南東): EXPECTED = 0.00 / RESULT = 0.00 / .....OK\n",
      "  床断熱  (室内): EXPECTED = 3.64 / RESULT = 3.64 / .....OK\n",
      "  基礎断熱(南西): EXPECTED = 0.00 / RESULT = 0.00 / .....OK\n",
      "  基礎断熱(北西): EXPECTED = 1.82 / RESULT = 1.82 / .....OK\n",
      "  基礎断熱(北東): EXPECTED = 1.82 / RESULT = 1.82 / .....OK\n",
      "  基礎断熱(南東): EXPECTED = 0.00 / RESULT = 0.00 / .....OK\n",
      "  基礎断熱(室内): EXPECTED = 0.00 / RESULT = 0.00 / .....OK\n",
      "玄関等を除く土間床等の外周部の長さ(2017.07より使用。)\n",
      "  床断熱  (南西): EXPECTED = 0.00 / RESULT = 0.00 / .....OK\n",
      "  床断熱  (北西): EXPECTED = 1.82 / RESULT = 1.82 / .....OK\n",
      "  床断熱  (北東): EXPECTED = 1.82 / RESULT = 1.82 / .....OK\n",
      "  床断熱  (南東): EXPECTED = 0.00 / RESULT = 0.00 / .....OK\n",
      "  床断熱  (室内): EXPECTED = 3.64 / RESULT = 3.64 / .....OK\n",
      "  基礎断熱(南西): EXPECTED = 10.61 / RESULT = 10.61 / .....OK\n",
      "  基礎断熱(北西): EXPECTED = 2.97 / RESULT = 2.97 / .....OK\n",
      "  基礎断熱(北東): EXPECTED = 9.24 / RESULT = 9.24 / .....OK\n",
      "  基礎断熱(南東): EXPECTED = 4.79 / RESULT = 4.79 / .....OK\n",
      "  基礎断熱(室内): EXPECTED = 0.00 / RESULT = 0.00 / .....OK\n",
      "その他の土間床等の外周部の長さ(参考値。)\n",
      "  床断熱  (南西): EXPECTED = 0.00 / RESULT = 0.00 / .....OK\n",
      "  床断熱  (北西): EXPECTED = 0.00 / RESULT = 0.00 / .....OK\n",
      "  床断熱  (北東): EXPECTED = 0.00 / RESULT = 0.00 / .....OK\n",
      "  床断熱  (南東): EXPECTED = 0.00 / RESULT = 0.00 / .....OK\n",
      "  床断熱  (室内): EXPECTED = 0.00 / RESULT = 0.00 / .....OK\n",
      "  基礎断熱(南西): EXPECTED = 10.61 / RESULT = 10.61 / .....OK\n",
      "  基礎断熱(北西): EXPECTED = 1.15 / RESULT = 1.15 / .....OK\n",
      "  基礎断熱(北東): EXPECTED = 7.42 / RESULT = 7.42 / .....OK\n",
      "  基礎断熱(南東): EXPECTED = 4.79 / RESULT = 4.79 / .....OK\n",
      "  基礎断熱(室内): EXPECTED = 0.00 / RESULT = 0.00 / .....OK\n"
     ]
    }
   ],
   "source": [
    "def show_result(e,r):\n",
    "    return 'EXPECTED = ' + str(e) + ' / RESULT = ' +  str(r) + ' / ' + ('.....OK' if abs( e - r ) < Decimal(0.000001) else '.....NG' )\n",
    "\n",
    "for index, row in enumerate(testcase):\n",
    "    print(row[0] + row[3])\n",
    "    if type(row[1]) == str:\n",
    "        print ( '  床断熱  : ' + show_result( Decimal(row[1]), FIH['rnd_'+row[0]] ) )\n",
    "        print ( '  基礎断熱: ' + show_result( Decimal(row[2]), BIH['rnd_'+row[0]] ) )\n",
    "    elif type(row[1]) == Direction:\n",
    "        print ( '  床断熱  (南西): ' + show_result( Decimal(row[1].SW), FIH['rnd_'+row[0]].SW ) )\n",
    "        print ( '  床断熱  (北西): ' + show_result( Decimal(row[1].NW), FIH['rnd_'+row[0]].NW ) )\n",
    "        print ( '  床断熱  (北東): ' + show_result( Decimal(row[1].NE), FIH['rnd_'+row[0]].NE ) )\n",
    "        print ( '  床断熱  (南東): ' + show_result( Decimal(row[1].SE), FIH['rnd_'+row[0]].SE ) )\n",
    "        print ( '  基礎断熱(南西): ' + show_result( Decimal(row[2].SW), BIH['rnd_'+row[0]].SW ) )\n",
    "        print ( '  基礎断熱(北西): ' + show_result( Decimal(row[2].NW), BIH['rnd_'+row[0]].NW ) )\n",
    "        print ( '  基礎断熱(北東): ' + show_result( Decimal(row[2].NE), BIH['rnd_'+row[0]].NE ) )\n",
    "        print ( '  基礎断熱(南東): ' + show_result( Decimal(row[2].SE), BIH['rnd_'+row[0]].SE ) )\n",
    "    elif type(row[1]) == DirectionPlus:\n",
    "        print ( '  床断熱  (南西): ' + show_result( Decimal(row[1].SW), FIH['rnd_'+row[0]].SW ) )\n",
    "        print ( '  床断熱  (北西): ' + show_result( Decimal(row[1].NW), FIH['rnd_'+row[0]].NW ) )\n",
    "        print ( '  床断熱  (北東): ' + show_result( Decimal(row[1].NE), FIH['rnd_'+row[0]].NE ) )\n",
    "        print ( '  床断熱  (南東): ' + show_result( Decimal(row[1].SE), FIH['rnd_'+row[0]].SE ) )\n",
    "        print ( '  床断熱  (室内): ' + show_result( Decimal(row[1].IS), FIH['rnd_'+row[0]].IS ) )\n",
    "        print ( '  基礎断熱(南西): ' + show_result( Decimal(row[2].SW), BIH['rnd_'+row[0]].SW ) )\n",
    "        print ( '  基礎断熱(北西): ' + show_result( Decimal(row[2].NW), BIH['rnd_'+row[0]].NW ) )\n",
    "        print ( '  基礎断熱(北東): ' + show_result( Decimal(row[2].NE), BIH['rnd_'+row[0]].NE ) )\n",
    "        print ( '  基礎断熱(南東): ' + show_result( Decimal(row[2].SE), BIH['rnd_'+row[0]].SE ) )\n",
    "        print ( '  基礎断熱(室内): ' + show_result( Decimal(row[2].IS), BIH['rnd_'+row[0]].IS ) )\n",
    "    else:\n",
    "        print ( '  Format Error' )"
   ]
  }
 ],
 "metadata": {
  "kernelspec": {
   "display_name": "Python 3",
   "language": "python",
   "name": "python3"
  },
  "language_info": {
   "codemirror_mode": {
    "name": "ipython",
    "version": 3
   },
   "file_extension": ".py",
   "mimetype": "text/x-python",
   "name": "python",
   "nbconvert_exporter": "python",
   "pygments_lexer": "ipython3",
   "version": "3.6.2"
  }
 },
 "nbformat": 4,
 "nbformat_minor": 2
}
