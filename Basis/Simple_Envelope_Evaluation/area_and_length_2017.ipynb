{
 "cells": [
  {
   "cell_type": "code",
   "execution_count": 1,
   "metadata": {},
   "outputs": [],
   "source": [
    "import math\n",
    "import numpy as np\n",
    "from collections import namedtuple\n",
    "from decimal import *\n",
    "\n",
    "from typing import List, Tuple\n",
    "from enum import Enum\n",
    "\n",
    "import xlrd"
   ]
  },
  {
   "cell_type": "markdown",
   "metadata": {},
   "source": [
    "# 変更履歴"
   ]
  },
  {
   "cell_type": "markdown",
   "metadata": {},
   "source": [
    "- 2017.7: 玄関の土間床を追加"
   ]
  },
  {
   "cell_type": "markdown",
   "metadata": {},
   "source": [
    "# 四捨五入"
   ]
  },
  {
   "cell_type": "markdown",
   "metadata": {},
   "source": [
    "建研HPで公表する値としては、さらに小数点2桁までにまとめた値とする。  \n",
    "丸める場合に、round関数は、JIS Z 8401 付属書A の方法（0.5の場合は偶数側に丸める）が適用されるため、自前に作成したround2関数で丸めることとする。この場合は、端数が「.5」の場合は、必ず大きい側（切り上げ側）に丸められる。"
   ]
  },
  {
   "cell_type": "code",
   "execution_count": 2,
   "metadata": {},
   "outputs": [],
   "source": [
    "def round2(x,d=2):\n",
    "    p=10**d\n",
    "    return (x*p*2+1)//2/p\n",
    "#    return x.quantize(Decimal('0.01'), rounding=ROUND_HALF_UP)"
   ]
  },
  {
   "cell_type": "markdown",
   "metadata": {},
   "source": [
    "# 住宅の種類"
   ]
  },
  {
   "cell_type": "markdown",
   "metadata": {},
   "source": [
    "床・基礎部分の断熱方法"
   ]
  },
  {
   "cell_type": "code",
   "execution_count": 3,
   "metadata": {},
   "outputs": [],
   "source": [
    "class FloorIns(Enum):\n",
    "\n",
    "    # 床断熱\n",
    "    FLOOR = 1\n",
    "    \n",
    "    # 基礎断熱\n",
    "    BASE = 2"
   ]
  },
  {
   "cell_type": "markdown",
   "metadata": {},
   "source": [
    "# 保持するパラメータ"
   ]
  },
  {
   "cell_type": "code",
   "execution_count": 4,
   "metadata": {},
   "outputs": [],
   "source": [
    "class House():\n",
    "    \n",
    "    def __init__(self, name, ver, floor_ins):\n",
    "        \n",
    "        # 名前\n",
    "        self.name = name\n",
    "        \n",
    "        # バージョン\n",
    "        self.ver = ver\n",
    "\n",
    "        # 床の断熱種類\n",
    "        self.floor_ins = floor_ins\n",
    "        \n",
    "        # 床面積の合計, m2\n",
    "        self.a_f_total = None\n",
    "        \n",
    "        # 形状係数\n",
    "        self.sf = None\n",
    "        \n",
    "        # 1階の床面積に対する2階の床面積の比\n",
    "        self.r_fa = None\n",
    "        \n",
    "        # 基礎の高さ（一般部分）, m\n",
    "        self.h_base = None\n",
    "        \n",
    "        # 基礎の高さ（玄関）, m\n",
    "        self.h_base_entrance = None\n",
    "        \n",
    "        # 基礎の高さ（浴室）, m\n",
    "        self.h_base_bath = None\n",
    "        \n",
    "        # 高さ, m\n",
    "        self.h = None\n",
    "        \n",
    "        # ドアの面積（玄関）, m2\n",
    "        self.a_door_entrance = None\n",
    "        \n",
    "        # ドアの面積（勝手口）, m2\n",
    "        self.a_door_backentrance = None\n",
    "        \n",
    "        # 玄関の土間床等の周辺部の基礎長さ（主開口方位側）, m\n",
    "        self.l_base_entrance_ms = None\n",
    "        \n",
    "        # 玄関の土間床等の周辺部の基礎長さ（その他方位側）, m\n",
    "        self.l_base_entrance_os = None\n",
    "        \n",
    "        # 浴室の土間床等の周辺部の基礎長さ（主開口方位側）, m\n",
    "        self.l_base_bath_ms = None\n",
    "        \n",
    "        # 浴室の土間床等の周辺部の基礎長さ（その他方位側）, m\n",
    "        self.l_base_bath_os = None\n",
    "        \n",
    "        # 開口部の面積比率\n",
    "        self.r_opn = None\n",
    "        \n",
    "        # 方位別窓面積比率\n",
    "        self.r_wnd = None\n",
    "        \n",
    "        # 床面積（土間床含む）, m2        \n",
    "        self.a_f = None\n",
    "        \n",
    "        # 周長, m\n",
    "        self.l_prm = None\n",
    "\n",
    "        # 長辺の長さ, m\n",
    "        self.l_ls = None\n",
    "        \n",
    "        # 短辺の長さ, m\n",
    "        self.l_ss = None\n",
    "        \n",
    "        # 玄関の土間床等の面積, m2\n",
    "        self.a_ef_entrance = None\n",
    "        \n",
    "        # 浴室の土間床等の面積, m2\n",
    "        self.a_ef_bath = None\n",
    "        \n",
    "        # その他の土間床等の面積, m2\n",
    "        self.a_ef_other = None\n",
    "        \n",
    "        # 床断熱した床の面積, m2\n",
    "        self.a_if = None\n",
    "        \n",
    "        # 屋根又は天井の面積, m2\n",
    "        self.a_roof = None\n",
    "        \n",
    "        # 玄関等の土間床等の外周部の長さ（外気側）, m\n",
    "        self.l_base_entrance_outside = None\n",
    "        \n",
    "        # 玄関等の土間床等の外周部の長さ（床下側）, m\n",
    "        self.l_base_entrance_inside = None\n",
    "        \n",
    "        # 浴室の土間床等の外周部の長さ（外気側）, m\n",
    "        self.l_base_bath_outside = None\n",
    "        \n",
    "        # 浴室の土間床等の外周部の長さ（床下側）, m\n",
    "        self.l_base_bath_outside = None\n",
    "        \n",
    "        # その他の土間床等の外周部の長さ（外気側）, m\n",
    "        self.l_base_other_outside = None\n",
    "        \n",
    "        # その他の土間床等の外周部の長さ（床下側）, m\n",
    "        self.l_base_other_inside = None\n",
    "        \n",
    "        # 土間床周長（外気側）, m\n",
    "        self.l_prm_outside = None\n",
    "        \n",
    "        # 土間床周長（床下側）, m\n",
    "        self.l_prm_inside = None\n",
    "        \n",
    "        # 玄関等の基礎の面積（外気側）, m2\n",
    "        self.a_base_entrance_outside = None\n",
    "        \n",
    "        # 玄関等の基礎の面積（床下側）, m2\n",
    "        self.a_base_entrance_inside = None\n",
    "        \n",
    "        # 浴室の基礎の面積（外気側）, m2\n",
    "        self.a_base_bath_outside = None\n",
    "        \n",
    "        # 浴室の基礎の面積（床下側）, m2\n",
    "        self.a_base_bath_inside = None\n",
    "        \n",
    "        # その他の基礎の面積（外気側）, m2\n",
    "        self.a_base_other_outside = None\n",
    "        \n",
    "        # その他の基礎の面積（床下側）, m2\n",
    "        self.a_base_other_inside = None\n",
    "        \n",
    "        # 基礎の面積の合計（外気側）, m2\n",
    "        self.a_base_total_outside = None\n",
    "        \n",
    "        # 基礎の面積の合計（床下側）, m2\n",
    "        self.a_base_total_inside = None\n",
    "        \n",
    "        # 垂直外皮面積, m2\n",
    "        self.a_srf = None\n",
    "        \n",
    "        # 基礎を除く外皮の部位の面積の合計, m2\n",
    "        self.a_dash_env = None\n",
    "        \n",
    "        # 外皮の部位の面積の合計, m2\n",
    "        self.a_env = None\n",
    "        \n",
    "        # 開口部の面積の合計, m2\n",
    "        self.a_opn = None\n",
    "        \n",
    "        # 窓の面積の合計, m2\n",
    "        self.a_wnd_total = None\n",
    "\n",
    "        # 窓の面積, m2\n",
    "        self.a_wnd = None\n",
    "        \n",
    "        # ドアの面積, m2\n",
    "        self.a_door = None\n",
    "\n",
    "        # 壁の面積, m2\n",
    "        self.a_wall = None"
   ]
  },
  {
   "cell_type": "markdown",
   "metadata": {},
   "source": [
    "# 計算ケース"
   ]
  },
  {
   "cell_type": "markdown",
   "metadata": {},
   "source": [
    "以下のケースについて検討する。\n",
    "- 床断熱住宅（外皮に接する浴室床なし）\n",
    "- 床断熱住宅（浴室床断熱）\n",
    "- 床断熱住宅（浴室基礎断熱）\n",
    "- 基礎断熱住宅"
   ]
  },
  {
   "cell_type": "code",
   "execution_count": 5,
   "metadata": {},
   "outputs": [],
   "source": [
    "hs = [\n",
    "    House(name='床断熱住宅', ver=1, floor_ins=FloorIns.FLOOR),\n",
    "    House(name='基礎断熱住宅', ver=1, floor_ins=FloorIns.BASE)\n",
    "]"
   ]
  },
  {
   "cell_type": "markdown",
   "metadata": {},
   "source": [
    "# 公表資料の値"
   ]
  },
  {
   "cell_type": "code",
   "execution_count": 6,
   "metadata": {},
   "outputs": [],
   "source": [
    "docs = [\n",
    "    {},\n",
    "    {}\n",
    "]"
   ]
  },
  {
   "cell_type": "markdown",
   "metadata": {},
   "source": [
    "# 簡易評価式の算出の前提"
   ]
  },
  {
   "cell_type": "markdown",
   "metadata": {},
   "source": [
    "部位の面積及び長さ等を計算するにあたっての前提条件を以下に示す。"
   ]
  },
  {
   "cell_type": "markdown",
   "metadata": {},
   "source": [
    "| 意味 | 記号| 値 | 単位 | 備考 |\n",
    "| --- | :---: | :---: | :---: | --- |\n",
    "| 階数 | - | 2 | - | - |\n",
    "| 床面積の合計 | $A_{F,total}$ | 90.0 | m<sup>2</sup> | - |\n",
    "| 形状係数(1階) | $SF_1$ | 1.08 | - | - |\n",
    "| 形状係数(2階) | $SF_2$ | 1.04 | - | - |\n",
    "| 主開口方位 | - | 南西 | - | - |\n",
    "| 1階の床面積に対する2階の床面積の比 | $r_{FA}$ | 0.77 | - | 自立循環型住宅プランの比を採用した。 |\n",
    "| 基礎の高さ(基礎断熱住宅) | $h_{base}$ | 0.5 | m | 基礎の高さとは土間基礎上端から1階床レベルまでの間を言う。<br>(GLからではない。) |\n",
    "| 基礎の高さ(玄関) | $h_{base,d}$ | 0.18 | m | - |\n",
    "| 基礎の高さ(浴室) | $h_{base,b}$ | 0.5 | m | - |\n",
    "| 高さ(1階) | $h_1$ | 2.9 | m | - |\n",
    "| 高さ(2階) | $h_2$ | 2.7 | m | - |\n",
    "| ドア(玄関) | $A_{door,1}$ | 1.89 | m<sup>2</sup> | 方位：北西 自立循環型住宅プランの面積を採用 |\n",
    "| ドア(勝手口) | $A_{door,2}$ | 1.62 | m<sup>2</sup> | 方位：北東 自立循環型住宅プランの面積を採用 |\n",
    "| 玄関の土間床等の周辺部の基礎長さ(主開口方位側) | $L_{base,d,MS}$ | 1.365 | m | - |\n",
    "| 玄関の土間床等の周辺部の基礎長さ(その他の方位側) | $L_{base,d,OS}$ | 1.82 | m | - |\n",
    "| 浴室の土間床等の周辺部の基礎長さ(主開口方位側) | $L_{base,b,MS}$ | 1.82 | m | - |\n",
    "| 浴室の土間床等の周辺部の基礎長さ(その他の方位側) | $L_{base,b,OS}$ | 1.82 | m | - |\n",
    "| 開口部の面積比率 | $r_{opn}$ | 0.14 | - | 床断熱住宅と基礎断熱住宅とを同じ開口部面積にするために、<br>基礎面積を含めない外皮表面積に対する値とする。 |\n",
    "| 方位別窓面積比率(南西) | $r_{wnd,SW}$ | 0.6862 | - | - |\n",
    "| 方位別窓面積比率(北西) | $r_{wnd,NW}$ | 0.0721 | - | - |\n",
    "| 方位別窓面積比率(北東) | $r_{wnd,NE}$ | 0.1097 | - | - |\n",
    "| 方位別窓面積比率(南東) | $r_{wnd,SE}$ | 0.1320 | - | - |\n"
   ]
  },
  {
   "cell_type": "markdown",
   "metadata": {},
   "source": [
    "※基礎の高さについて  \n",
    "下記を想定すると、根太がけの場合は524～539、根太レスの場合は479～494  \n",
    "・基礎の高さは400mm（参考：長期優良住宅）  \n",
    "・土台は105mm又は10mm  \n",
    "・根太は45mm（根太がけの場合のみ）  \n",
    "・床荒板およびフローリングは24mm（12mm＋12mm）  \n",
    "・GLから土間基礎上端までは50mm  \n",
    "あるいは下記を想定すると、根太がけの場合は489～504、根太レスの場合は444～459  \n",
    "・床下空間高さ（土間基礎上端から大引き下端まで）は330mmを確保（長期優良）  \n",
    "・大引は90又は105mm  \n",
    "・根太は45mm（根太がけの場合のみ）  \n",
    "・床荒板およびフローリングは24mm（12mm＋12mm）  \n",
    "以上を勘案して、500mmと決めた。"
   ]
  },
  {
   "cell_type": "markdown",
   "metadata": {},
   "source": [
    "## 階数"
   ]
  },
  {
   "cell_type": "markdown",
   "metadata": {},
   "source": [
    "階数は2階とする。"
   ]
  },
  {
   "cell_type": "markdown",
   "metadata": {},
   "source": [
    "##  床面積の合計"
   ]
  },
  {
   "cell_type": "markdown",
   "metadata": {},
   "source": [
    "$ A_{F,total} = 90.0 $ (m<sup>2</sup>)"
   ]
  },
  {
   "cell_type": "code",
   "execution_count": 7,
   "metadata": {},
   "outputs": [],
   "source": [
    "for h in hs:\n",
    "    h.a_f_total = 90.0"
   ]
  },
  {
   "cell_type": "markdown",
   "metadata": {},
   "source": [
    "## 形状係数"
   ]
  },
  {
   "cell_type": "markdown",
   "metadata": {},
   "source": [
    "1階: $ SF_1 = 1.08 $  \n",
    "2階: $ SF_2 = 1.04 $"
   ]
  },
  {
   "cell_type": "code",
   "execution_count": 8,
   "metadata": {},
   "outputs": [],
   "source": [
    "for h in hs:\n",
    "    h.sf = [1.08, 1.04]"
   ]
  },
  {
   "cell_type": "markdown",
   "metadata": {},
   "source": [
    "## 主開口方位"
   ]
  },
  {
   "cell_type": "markdown",
   "metadata": {},
   "source": [
    "南西とする。"
   ]
  },
  {
   "cell_type": "markdown",
   "metadata": {},
   "source": [
    "## 1階の床面積に対する2階の床面積の比"
   ]
  },
  {
   "cell_type": "markdown",
   "metadata": {},
   "source": [
    "自立循環型住宅プランの比を採用する。"
   ]
  },
  {
   "cell_type": "markdown",
   "metadata": {},
   "source": [
    "$ r_{FA} = 0.77 $"
   ]
  },
  {
   "cell_type": "code",
   "execution_count": 9,
   "metadata": {},
   "outputs": [],
   "source": [
    "for h in hs:\n",
    "    h.r_fa = 0.77"
   ]
  },
  {
   "cell_type": "markdown",
   "metadata": {},
   "source": [
    "## 基礎の高さ"
   ]
  },
  {
   "cell_type": "markdown",
   "metadata": {},
   "source": [
    "$ h_{base} = 0.5 $ (m) (一般部分)  "
   ]
  },
  {
   "cell_type": "markdown",
   "metadata": {},
   "source": [
    "$ h_{base,entrance} = 0.18 $ (m) (玄関)"
   ]
  },
  {
   "cell_type": "markdown",
   "metadata": {},
   "source": [
    "$ h_{base,bath} = 0.5 $ (m) (浴室)"
   ]
  },
  {
   "cell_type": "code",
   "execution_count": 10,
   "metadata": {},
   "outputs": [],
   "source": [
    "for h in hs:\n",
    "    h.h_base = 0.5\n",
    "    h.h_base_entrance = 0.18\n",
    "    h.h_base_bath = 0.5"
   ]
  },
  {
   "cell_type": "markdown",
   "metadata": {},
   "source": [
    "## 高さ"
   ]
  },
  {
   "cell_type": "markdown",
   "metadata": {},
   "source": [
    "$ h_1 = 2.9 $ (1階)  \n",
    "$ h_2 = 2.7 $ (2階)"
   ]
  },
  {
   "cell_type": "code",
   "execution_count": 11,
   "metadata": {},
   "outputs": [],
   "source": [
    "for h in hs:\n",
    "    h.h = [2.9, 2.7]"
   ]
  },
  {
   "cell_type": "markdown",
   "metadata": {},
   "source": [
    "## ドアの面積"
   ]
  },
  {
   "cell_type": "markdown",
   "metadata": {},
   "source": [
    "玄関の方位は北西、勝手口の方位は北東とする。自立循環型住宅プランの面積を採用した。"
   ]
  },
  {
   "cell_type": "markdown",
   "metadata": {},
   "source": [
    "$ A_{door,entrance} = 1.89 $ (m<sup>2</sup>) (玄関)  "
   ]
  },
  {
   "cell_type": "markdown",
   "metadata": {},
   "source": [
    "$ A_{door,backentrance} = 1.62 $ (m<sup>2</sup>) (勝手口)"
   ]
  },
  {
   "cell_type": "code",
   "execution_count": 12,
   "metadata": {},
   "outputs": [],
   "source": [
    "for h in hs:\n",
    "    h.a_door_entrance = 1.89\n",
    "    h.a_door_backentrance = 1.62"
   ]
  },
  {
   "cell_type": "markdown",
   "metadata": {},
   "source": [
    "## 玄関の土間床等の周辺部の基礎長さ"
   ]
  },
  {
   "cell_type": "markdown",
   "metadata": {},
   "source": [
    "$L_{base,entrance,MS}=1.365$(m)(主開口方位側)"
   ]
  },
  {
   "cell_type": "markdown",
   "metadata": {},
   "source": [
    "$L_{base,entrance,OS}=1.82$(m)(その他方位側)"
   ]
  },
  {
   "cell_type": "code",
   "execution_count": 13,
   "metadata": {},
   "outputs": [],
   "source": [
    "for h in hs:\n",
    "    h.l_base_entrance_ms = 1.365\n",
    "    h.l_base_entrance_os = 1.82"
   ]
  },
  {
   "cell_type": "markdown",
   "metadata": {},
   "source": [
    "## 浴室の土間床等の周辺部の基礎長さ"
   ]
  },
  {
   "cell_type": "markdown",
   "metadata": {},
   "source": [
    "$L_{base,bath,MS}=1.82$(m)(主開口方位側)"
   ]
  },
  {
   "cell_type": "markdown",
   "metadata": {},
   "source": [
    "$L_{base,bath,OS}=1.82$(m)(その他方位側)"
   ]
  },
  {
   "cell_type": "code",
   "execution_count": 14,
   "metadata": {},
   "outputs": [],
   "source": [
    "for h in hs:\n",
    "    h.l_base_bath_ms = 1.82\n",
    "    h.l_base_bath_os = 1.82"
   ]
  },
  {
   "cell_type": "markdown",
   "metadata": {},
   "source": [
    "## 開口部の面積比率"
   ]
  },
  {
   "cell_type": "markdown",
   "metadata": {},
   "source": [
    "$r_{opn} = 0.12$"
   ]
  },
  {
   "cell_type": "markdown",
   "metadata": {},
   "source": [
    "床断熱住宅と基礎断熱住宅とを同じ開口部面積にするために、基礎面積を含めない外皮表面積に対する値とする。"
   ]
  },
  {
   "cell_type": "code",
   "execution_count": 15,
   "metadata": {},
   "outputs": [],
   "source": [
    "for h in hs:\n",
    "    h.r_opn = 0.14"
   ]
  },
  {
   "cell_type": "markdown",
   "metadata": {},
   "source": [
    "## 方位別窓面積比率"
   ]
  },
  {
   "cell_type": "markdown",
   "metadata": {},
   "source": [
    "南西  \n",
    "$r_{wnd,SW}=0.6862$  \n",
    "北西  \n",
    "$r_{wnd,NW}=0.0721$  \n",
    "北東  \n",
    "$r_{wnd,NE}=0.1097$  \n",
    "南東  \n",
    "$r_{wnd,SE}=0.1320$"
   ]
  },
  {
   "cell_type": "code",
   "execution_count": 16,
   "metadata": {},
   "outputs": [],
   "source": [
    "for h in hs:\n",
    "    h.r_wnd = [0.6862, 0.0721, 0.1097, 0.1320]"
   ]
  },
  {
   "cell_type": "markdown",
   "metadata": {},
   "source": [
    "# 算出過程"
   ]
  },
  {
   "cell_type": "code",
   "execution_count": 17,
   "metadata": {},
   "outputs": [],
   "source": [
    "def show_result(prm):\n",
    "    for h in hs:\n",
    "        print(str(h.name) + ' : ' + str(prm(h)))"
   ]
  },
  {
   "cell_type": "markdown",
   "metadata": {},
   "source": [
    "## 床面積(土間床含む)"
   ]
  },
  {
   "cell_type": "markdown",
   "metadata": {},
   "source": [
    "$ A_{F,1} = \\frac{A_{F,total}}{ ( 1 + r_{FA} )} $  \n",
    "\n",
    "$ A_{F,2} = A_{F,total} - A_{F,1} $\n",
    "\n",
    "$A_{F,total}$: 床面積の合計(m<sup>2</sup>)  \n",
    "$r_{FA}$: 1階の床面積に対する2階の床面積の比  \n",
    "$A_{F,1}$: 1階の床面積(土間床含む)(m<sup>2</sup>)  \n",
    "$A_{F,2}$: 2階の床面積(m<sup>2</sup>)"
   ]
  },
  {
   "cell_type": "code",
   "execution_count": 18,
   "metadata": {},
   "outputs": [],
   "source": [
    "for h in hs:\n",
    "    a_f_1 = h.a_f_total / (1.0 + h.r_fa)\n",
    "    a_f_2 = h.a_f_total - a_f_1\n",
    "    h.a_f = [a_f_1, a_f_2]"
   ]
  },
  {
   "cell_type": "code",
   "execution_count": 19,
   "metadata": {},
   "outputs": [
    {
     "name": "stdout",
     "output_type": "stream",
     "text": [
      "床断熱住宅 : [50.847457627118644, 39.152542372881356]\n",
      "基礎断熱住宅 : [50.847457627118644, 39.152542372881356]\n"
     ]
    }
   ],
   "source": [
    "show_result(lambda h: h.a_f)"
   ]
  },
  {
   "cell_type": "markdown",
   "metadata": {},
   "source": [
    "## 周長"
   ]
  },
  {
   "cell_type": "markdown",
   "metadata": {},
   "source": [
    "$ \\begin{align} L_{prm,i} = \\sqrt{A_{F,i}} \\times 4 \\times SF_i \\end{align} $\n",
    "\n",
    "$L_{prm,i}$: $i$階の周長(m)($i=1,2$)  \n",
    "$SF_i$: $i$階の形状係数($i=1,2$)  "
   ]
  },
  {
   "cell_type": "code",
   "execution_count": 20,
   "metadata": {},
   "outputs": [],
   "source": [
    "for h in hs:\n",
    "    h.l_prm = [4 * sf_i * np.sqrt(a_f_i) for a_f_i, sf_i in zip(h.a_f, h.sf)]"
   ]
  },
  {
   "cell_type": "code",
   "execution_count": 21,
   "metadata": {},
   "outputs": [
    {
     "name": "stdout",
     "output_type": "stream",
     "text": [
      "床断熱住宅 : [30.80479821749104, 26.029948852968104]\n",
      "基礎断熱住宅 : [30.80479821749104, 26.029948852968104]\n"
     ]
    }
   ],
   "source": [
    "show_result(lambda h: h.l_prm)"
   ]
  },
  {
   "cell_type": "markdown",
   "metadata": {},
   "source": [
    "## 長辺の長さ"
   ]
  },
  {
   "cell_type": "markdown",
   "metadata": {},
   "source": [
    "$ \\displaystyle L_{LS,i} = \\frac{ \\frac{L_{prm,i}}{2} + \\sqrt{ \\left( \\frac{L_{prm,i}}{2} \\right)^2 - 4 \\times A_{F,i} } }{2} $\n",
    "\n",
    "$L_{LS,i}$: $i$階の長辺の長さ($i=1,2$)"
   ]
  },
  {
   "cell_type": "code",
   "execution_count": 22,
   "metadata": {},
   "outputs": [],
   "source": [
    "for h in hs:\n",
    "    h.l_ls = [(l_prm_i / 2 + np.sqrt((l_prm_i / 2)**2 - 4 * a_f_i)) / 2\n",
    "              for l_prm_i, a_f_i in zip(h.l_prm, h.a_f)]"
   ]
  },
  {
   "cell_type": "code",
   "execution_count": 23,
   "metadata": {},
   "outputs": [
    {
     "name": "stdout",
     "output_type": "stream",
     "text": [
      "床断熱住宅 : [10.609982280729707, 8.29490083566609]\n",
      "基礎断熱住宅 : [10.609982280729707, 8.29490083566609]\n"
     ]
    }
   ],
   "source": [
    "show_result(lambda h: h.l_ls)"
   ]
  },
  {
   "cell_type": "markdown",
   "metadata": {},
   "source": [
    "## 短辺の長さ"
   ]
  },
  {
   "cell_type": "markdown",
   "metadata": {},
   "source": [
    "$ \\displaystyle L_{SS,i} = \\frac{L_{prm,i}}{2} - L_{LS,i} $"
   ]
  },
  {
   "cell_type": "markdown",
   "metadata": {},
   "source": [
    "$L_{ss,i}$: $i$階の短辺の長さ(m)"
   ]
  },
  {
   "cell_type": "code",
   "execution_count": 24,
   "metadata": {},
   "outputs": [],
   "source": [
    "for h in hs:\n",
    "    h.l_ss = [l_prm_i / 2 - l_ls_i for l_prm_i, l_ls_i in zip(h.l_prm, h.l_ls)]"
   ]
  },
  {
   "cell_type": "code",
   "execution_count": 25,
   "metadata": {},
   "outputs": [
    {
     "name": "stdout",
     "output_type": "stream",
     "text": [
      "床断熱住宅 : [4.7924168280158135, 4.720073590817963]\n",
      "基礎断熱住宅 : [4.7924168280158135, 4.720073590817963]\n"
     ]
    }
   ],
   "source": [
    "show_result(lambda h: h.l_ss)"
   ]
  },
  {
   "cell_type": "markdown",
   "metadata": {},
   "source": [
    "## 玄関の土間床等の面積"
   ]
  },
  {
   "cell_type": "markdown",
   "metadata": {},
   "source": [
    "$ A_{EF,entrance} = L_{base,entrance,MS} \\times L_{base,entrance,OS} $\n",
    "\n",
    "$A_{EF,entrance}$: 玄関の土間床等の面積(m<sup>2</sup>)  \n",
    "$L_{base,entrance,MS}$: 玄関の土間床等の周辺部の基礎長さ(主開口方位側)(m)  \n",
    "$L_{base,entrance,OS}$: 玄関の土間床等の周辺部の基礎長さ(その他の方位側)(m)  "
   ]
  },
  {
   "cell_type": "code",
   "execution_count": 26,
   "metadata": {},
   "outputs": [],
   "source": [
    "for h in hs:\n",
    "    h.a_ef_entrance = h.l_base_entrance_ms * h.l_base_entrance_os"
   ]
  },
  {
   "cell_type": "code",
   "execution_count": 27,
   "metadata": {},
   "outputs": [
    {
     "name": "stdout",
     "output_type": "stream",
     "text": [
      "床断熱住宅 : 2.4843\n",
      "基礎断熱住宅 : 2.4843\n"
     ]
    }
   ],
   "source": [
    "show_result(lambda h: h.a_ef_entrance)"
   ]
  },
  {
   "cell_type": "markdown",
   "metadata": {},
   "source": [
    "## 浴室の土間床等の面積"
   ]
  },
  {
   "cell_type": "markdown",
   "metadata": {},
   "source": [
    "$ A_{EF,bath} = L_{base,bath,MS} \\times L_{base,bath,OS} $\n",
    "\n",
    "$A_{EF,bath}$: 浴室の土間床等の面積(m<sup>2</sup>)  \n",
    "$L_{base,bath,MS}$: 浴室の土間床等の周辺部の基礎長さ(主開口方位側)(m)  \n",
    "$L_{base,bath,OS}$: 浴室の土間床等の周辺部の基礎長さ(その他の方位側)(m)  "
   ]
  },
  {
   "cell_type": "code",
   "execution_count": 28,
   "metadata": {},
   "outputs": [],
   "source": [
    "for h in hs:\n",
    "    h.a_ef_bath = h.l_base_bath_ms * h.l_base_bath_os"
   ]
  },
  {
   "cell_type": "code",
   "execution_count": 29,
   "metadata": {},
   "outputs": [
    {
     "name": "stdout",
     "output_type": "stream",
     "text": [
      "床断熱住宅 : 3.3124000000000002\n",
      "基礎断熱住宅 : 3.3124000000000002\n"
     ]
    }
   ],
   "source": [
    "show_result(lambda h: h.a_ef_bath)"
   ]
  },
  {
   "cell_type": "markdown",
   "metadata": {},
   "source": [
    "## その他の土間床等の面積"
   ]
  },
  {
   "cell_type": "markdown",
   "metadata": {},
   "source": [
    "$ A_{EF,other} = A_{F,1} - A_{EF,entrance} - A_{EF,bath} $\n",
    "\n",
    "$ A_{EF,other} $: 土間床等の面積(玄関・浴室除く)(m<sup>2</sup>)  \n",
    "\n",
    "ただし、「床断熱住宅」の場合は、0.0(m<sup>2</sup>)とする。"
   ]
  },
  {
   "cell_type": "code",
   "execution_count": 30,
   "metadata": {},
   "outputs": [],
   "source": [
    "for h in hs:\n",
    "    if h.floor_ins == FloorIns.FLOOR:\n",
    "        h.a_ef_other = 0.0\n",
    "    elif h.floor_ins == FloorIns.BASE:\n",
    "        h.a_ef_other = h.a_f[0] - h.a_ef_entrance - h.a_ef_bath\n",
    "    else:\n",
    "        raise ValueError()"
   ]
  },
  {
   "cell_type": "code",
   "execution_count": 31,
   "metadata": {},
   "outputs": [
    {
     "name": "stdout",
     "output_type": "stream",
     "text": [
      "床断熱住宅 : 0.0\n",
      "基礎断熱住宅 : 45.05075762711864\n"
     ]
    }
   ],
   "source": [
    "show_result(lambda h: h.a_ef_other)"
   ]
  },
  {
   "cell_type": "markdown",
   "metadata": {},
   "source": [
    "## 床断熱した床の面積"
   ]
  },
  {
   "cell_type": "markdown",
   "metadata": {},
   "source": [
    "$ A_{IF} = A_{F,1} - A_{EF,entrane} - A_{EF,bath} - A_{EF,other} - A_{IF,bath} $ "
   ]
  },
  {
   "cell_type": "markdown",
   "metadata": {},
   "source": [
    "$A_{IF}$: 床断熱した床の面積(m<sup>2</sup>)"
   ]
  },
  {
   "cell_type": "code",
   "execution_count": 32,
   "metadata": {},
   "outputs": [],
   "source": [
    "for h in hs:\n",
    "    h.a_if = h.a_f[0] - h.a_ef_entrance - h.a_ef_bath - h.a_ef_other"
   ]
  },
  {
   "cell_type": "code",
   "execution_count": 33,
   "metadata": {
    "scrolled": true
   },
   "outputs": [
    {
     "name": "stdout",
     "output_type": "stream",
     "text": [
      "床断熱住宅 : 45.05075762711864\n",
      "基礎断熱住宅 : 0.0\n"
     ]
    }
   ],
   "source": [
    "show_result(lambda h: h.a_if)"
   ]
  },
  {
   "cell_type": "markdown",
   "metadata": {},
   "source": [
    "## 屋根又は天井"
   ]
  },
  {
   "cell_type": "markdown",
   "metadata": {},
   "source": [
    "天井・屋根(下屋を含む)の面積は、オーバーハング床を想定しない限り、1階の床面積(土間床含む)と等しい。"
   ]
  },
  {
   "cell_type": "markdown",
   "metadata": {},
   "source": [
    "$ A_{roof} = A_{F,1}  $ "
   ]
  },
  {
   "cell_type": "markdown",
   "metadata": {},
   "source": [
    "$A_{roof}$: 天井・屋根(下屋を含む)の面積 (m<sup>2</sup>)"
   ]
  },
  {
   "cell_type": "code",
   "execution_count": 34,
   "metadata": {},
   "outputs": [],
   "source": [
    "for h in hs:\n",
    "    h.a_roof = h.a_f[0]"
   ]
  },
  {
   "cell_type": "code",
   "execution_count": 35,
   "metadata": {},
   "outputs": [
    {
     "name": "stdout",
     "output_type": "stream",
     "text": [
      "床断熱住宅 : 50.847457627118644\n",
      "基礎断熱住宅 : 50.847457627118644\n"
     ]
    }
   ],
   "source": [
    "show_result(lambda h: h.a_roof)"
   ]
  },
  {
   "cell_type": "markdown",
   "metadata": {},
   "source": [
    "## 玄関等の土間床等の外周部の長さ（2017.7～）"
   ]
  },
  {
   "cell_type": "markdown",
   "metadata": {},
   "source": [
    "2017年7月から。それまでは玄関とその他の基礎の区別がなかった。"
   ]
  },
  {
   "cell_type": "markdown",
   "metadata": {},
   "source": [
    "外気側：  \n",
    "南西: $L_{base,entrance,SW}=0.0$  \n",
    "北西: $L_{base,entrance,NW}=L_{base,entrance,OS}$  \n",
    "北東: $L_{base,entrance,NE}=L_{base,entrance,MS}$  \n",
    "南東: $L_{base,entrance,SE}=0.0$  "
   ]
  },
  {
   "cell_type": "markdown",
   "metadata": {},
   "source": [
    "床下側:  \n",
    "$\n",
    "L_{base,entrance,inside} = \\left \\{\n",
    "\\begin{array}{ll}\n",
    "    L_{base,entrance,MS} + L_{base,entrance,OS} & \\text{ ( floor insulted house ) } \\\\\n",
    "    0.0 & \\text{ ( insulated house ) }\n",
    "\\end{array}\n",
    "\\right.\n",
    "$"
   ]
  },
  {
   "cell_type": "code",
   "execution_count": 36,
   "metadata": {},
   "outputs": [],
   "source": [
    "for h in hs:\n",
    "    h.l_base_entrance_outside = (0.0, h.l_base_entrance_os, h.l_base_entrance_ms, 0.0)\n",
    "    h.l_base_entrance_inside = {\n",
    "        FloorIns.FLOOR: h.l_base_entrance_ms + h.l_base_entrance_os,\n",
    "        FloorIns.BASE: 0.0\n",
    "    }[h.floor_ins]"
   ]
  },
  {
   "cell_type": "code",
   "execution_count": 37,
   "metadata": {},
   "outputs": [
    {
     "name": "stdout",
     "output_type": "stream",
     "text": [
      "床断熱住宅 : (0.0, 1.82, 1.365, 0.0)\n",
      "基礎断熱住宅 : (0.0, 1.82, 1.365, 0.0)\n"
     ]
    }
   ],
   "source": [
    "show_result(lambda h: h.l_base_entrance_outside)"
   ]
  },
  {
   "cell_type": "code",
   "execution_count": 38,
   "metadata": {},
   "outputs": [
    {
     "name": "stdout",
     "output_type": "stream",
     "text": [
      "床断熱住宅 : 3.185\n",
      "基礎断熱住宅 : 0.0\n"
     ]
    }
   ],
   "source": [
    "show_result(lambda h: h.l_base_entrance_inside)"
   ]
  },
  {
   "cell_type": "markdown",
   "metadata": {},
   "source": [
    "## 浴室の土間床等の外周部の長さ"
   ]
  },
  {
   "cell_type": "markdown",
   "metadata": {},
   "source": [
    "外気側：  \n",
    "南西:  $L_{base,bath,SW}=0.0$  \n",
    "北西:  $L_{base,bath,NW}=L_{base,bath,OS}$  \n",
    "北東:  $L_{base,bath,NE}=L_{base,bath,MS}$  \n",
    "南東:  $L_{base,bath,SE}=0.0$"
   ]
  },
  {
   "cell_type": "markdown",
   "metadata": {},
   "source": [
    "室内側:  \n",
    "$ L_{base,bath,inside} = L_{base,bath,MS} + L_{base,bath,OS} $\n",
    "\n",
    "ただし、「床断熱住宅（外皮に接する浴室床なし）」、「床断熱住宅（浴室床断熱）」及び「基礎断熱住宅」の場合はいずれの長さも0mとする。"
   ]
  },
  {
   "cell_type": "code",
   "execution_count": 39,
   "metadata": {},
   "outputs": [],
   "source": [
    "for h in hs:\n",
    "    h.l_base_bath_outside = 0.0, h.l_base_bath_os, h.l_base_bath_ms, 0.0\n",
    "    if h.floor_ins == FloorIns.FLOOR:\n",
    "        h.l_base_bath_inside =  h.l_base_bath_ms + h.l_base_bath_os\n",
    "    elif h.floor_ins == FloorIns.BASE:\n",
    "        h.l_base_bath_inside =  0.0\n",
    "    else:\n",
    "        raise ValueError"
   ]
  },
  {
   "cell_type": "code",
   "execution_count": 40,
   "metadata": {},
   "outputs": [
    {
     "name": "stdout",
     "output_type": "stream",
     "text": [
      "床断熱住宅 : (0.0, 1.82, 1.82, 0.0)\n",
      "基礎断熱住宅 : (0.0, 1.82, 1.82, 0.0)\n"
     ]
    }
   ],
   "source": [
    "show_result(lambda h: h.l_base_bath_outside)"
   ]
  },
  {
   "cell_type": "code",
   "execution_count": 41,
   "metadata": {
    "scrolled": true
   },
   "outputs": [
    {
     "name": "stdout",
     "output_type": "stream",
     "text": [
      "床断熱住宅 : 3.64\n",
      "基礎断熱住宅 : 0.0\n"
     ]
    }
   ],
   "source": [
    "show_result(lambda h: h.l_base_bath_inside)"
   ]
  },
  {
   "cell_type": "markdown",
   "metadata": {},
   "source": [
    "## その他の土間床等の外周部の長さ（2018.4～）"
   ]
  },
  {
   "cell_type": "markdown",
   "metadata": {},
   "source": [
    "南西: $L_{base,SW} = \\left \\{\n",
    "\\begin{array}{ll}\n",
    "    0.0 & \\text{ ( floor insulated house ) } \\\\\n",
    "    L_{LS,1} - L_{base,entrance,SW} - L_{base,bath,SW} & \\text{ ( base insulated house ) }\n",
    "\\end{array}\n",
    "\\right.\n",
    "$\n",
    "\n",
    "北西: $L_{base,NW} = \\left \\{\n",
    "\\begin{array}{ll}\n",
    "    0.0 & \\text{ ( floor insulated house ) } \\\\\n",
    "    L_{SS,1} - L_{base,entrance,NW} - L_{base,bath,NW} & \\text{ ( base insulated house ) }\n",
    "\\end{array}\n",
    "\\right.\n",
    "$\n",
    "\n",
    "北東: $L_{base,NE} = \\left \\{\n",
    "\\begin{array}{ll}\n",
    "    0.0 & \\text{ ( floor insulated house ) } \\\\\n",
    "    L_{LS,1} - L_{base,entrance,NE} - L_{base,bath,NE} & \\text{ ( base insulated house ) }\n",
    "\\end{array}\n",
    "\\right.\n",
    "$\n",
    "\n",
    "南東: $L_{base,SE} = \\left \\{\n",
    "\\begin{array}{ll}\n",
    "    0.0 & \\text{ ( floor insulated house ) } \\\\\n",
    "    L_{SS,1} - L_{base,entrance,SE} - L_{base,bath,SE} & \\text{ ( base insulated house ) }\n",
    "\\end{array}\n",
    "\\right.\n",
    "$"
   ]
  },
  {
   "cell_type": "markdown",
   "metadata": {},
   "source": [
    "室内側:  \n",
    "$ L_{base,inside} = 0.0 $"
   ]
  },
  {
   "cell_type": "code",
   "execution_count": 42,
   "metadata": {},
   "outputs": [],
   "source": [
    "for h in hs:\n",
    "\n",
    "    if h.floor_ins == FloorIns.FLOOR:\n",
    "        h.l_base_other_outside = (0.0, 0.0, 0.0, 0.0)\n",
    "    elif h.floor_ins == FloorIns.BASE:\n",
    "        h.l_base_other_outside = (\n",
    "            h.l_ls[0] - h.l_base_entrance_outside[0] - h.l_base_bath_outside[0],\n",
    "            h.l_ss[0] - h.l_base_entrance_outside[1] - h.l_base_bath_outside[1],\n",
    "            h.l_ls[0] - h.l_base_entrance_outside[2] - h.l_base_bath_outside[2],\n",
    "            h.l_ss[0] - h.l_base_entrance_outside[3] - h.l_base_bath_outside[3]\n",
    "        )\n",
    "    else:\n",
    "        raise ValueError()    \n",
    "    h.l_base_other_inside = 0.0"
   ]
  },
  {
   "cell_type": "code",
   "execution_count": 43,
   "metadata": {},
   "outputs": [
    {
     "name": "stdout",
     "output_type": "stream",
     "text": [
      "床断熱住宅 : (0.0, 0.0, 0.0, 0.0)\n",
      "基礎断熱住宅 : (10.609982280729707, 1.1524168280158131, 7.424982280729706, 4.7924168280158135)\n"
     ]
    }
   ],
   "source": [
    "show_result(lambda h: h.l_base_other_outside)"
   ]
  },
  {
   "cell_type": "code",
   "execution_count": 44,
   "metadata": {},
   "outputs": [
    {
     "name": "stdout",
     "output_type": "stream",
     "text": [
      "床断熱住宅 : 0.0\n",
      "基礎断熱住宅 : 0.0\n"
     ]
    }
   ],
   "source": [
    "show_result(lambda h: h.l_base_other_inside)"
   ]
  },
  {
   "cell_type": "markdown",
   "metadata": {},
   "source": [
    "## 土間床周長(合計)"
   ]
  },
  {
   "cell_type": "markdown",
   "metadata": {},
   "source": [
    "南西:   $ L_{prm,SW} = L_{base,SW} + L_{base,entrance,SW} + L_{base,bath,SW} $  \n",
    "北西:   $ L_{prm,NW} = L_{base,NW} + L_{base,entrance,NW} + L_{base,bath,NW} $  \n",
    "北東:   $ L_{prm,NE} = L_{base,NE} + L_{base,entrance,NE} + L_{base,bath,NE} $  \n",
    "南東:   $ L_{prm,SE} = L_{base,SE} + L_{base,entrance,SE} + L_{base,bath,SE} $  "
   ]
  },
  {
   "cell_type": "markdown",
   "metadata": {},
   "source": [
    "室内側: $ L_{prm,inside} = L_{base,inside} + L_{base,entrance,inside} + L_{base,bath,inside} $"
   ]
  },
  {
   "cell_type": "code",
   "execution_count": 45,
   "metadata": {},
   "outputs": [],
   "source": [
    "for h in hs:\n",
    "    h.l_prm_outside = (\n",
    "        h.l_base_other_outside[0] + h.l_base_entrance_outside[0] + h.l_base_bath_outside[0],\n",
    "        h.l_base_other_outside[1] + h.l_base_entrance_outside[1] + h.l_base_bath_outside[1],\n",
    "        h.l_base_other_outside[2] + h.l_base_entrance_outside[2] + h.l_base_bath_outside[2],\n",
    "        h.l_base_other_outside[3] + h.l_base_entrance_outside[3] + h.l_base_bath_outside[3]\n",
    "    )\n",
    "    h.l_prm_inside = h.l_base_other_inside + h.l_base_entrance_inside + h.l_base_bath_inside"
   ]
  },
  {
   "cell_type": "code",
   "execution_count": 46,
   "metadata": {
    "scrolled": true
   },
   "outputs": [
    {
     "name": "stdout",
     "output_type": "stream",
     "text": [
      "床断熱住宅 : (0.0, 3.64, 3.185, 0.0)\n",
      "基礎断熱住宅 : (10.609982280729707, 4.7924168280158135, 10.609982280729707, 4.7924168280158135)\n"
     ]
    }
   ],
   "source": [
    "show_result(lambda h: h.l_prm_outside)"
   ]
  },
  {
   "cell_type": "code",
   "execution_count": 47,
   "metadata": {
    "scrolled": false
   },
   "outputs": [
    {
     "name": "stdout",
     "output_type": "stream",
     "text": [
      "床断熱住宅 : 6.825\n",
      "基礎断熱住宅 : 0.0\n"
     ]
    }
   ],
   "source": [
    "show_result(lambda h: h.l_prm_inside)"
   ]
  },
  {
   "cell_type": "markdown",
   "metadata": {},
   "source": [
    "## 玄関等を除く土間床等の外周部の長さ(m)（2017.7～2018.4）"
   ]
  },
  {
   "cell_type": "markdown",
   "metadata": {},
   "source": [
    "2017.07まで「土間床周長の合計」のみを表示していたが、2017.07より、「土間床周長(玄関)」と「土間床周長(玄関除く)」に分けて記載することになった。  \n",
    "簡易法の表記上、基礎の面積は、「玄関」と「（玄関以外の）その他」としてまとめる。  \n",
    "本来であれば、「土間床周長(玄関除く)」は、「土間床周長(その他)」と「土間床周長(浴室)」の合計とすべきところである。しかし、「土間床周長(玄関)」と「土間床周長(浴室)」、「土間床周長(その他)」をそれぞれ小数点第二位まで四捨五入して合計した値は、「土間床周長の合計」を小数点第二位まで四捨五入した値に一致しない。そこで、「土間床周長の合計」を小数点第二位まで四捨五入した値から、「土間床周長(玄関)」を小数点第二位まで四捨五入した値を減じることにより、従来評価に変更がでないように対処する。"
   ]
  },
  {
   "cell_type": "markdown",
   "metadata": {},
   "source": [
    "## 玄関等の基礎の面積"
   ]
  },
  {
   "cell_type": "markdown",
   "metadata": {},
   "source": [
    "南西:  $ A_{base,entrance,SW} = L_{base,entrance,SW} \\times h_{base,entrance} $  \n",
    "北西:  $ A_{base,entrance,NW} = L_{base,entrance,NW} \\times h_{base,entrance} $  \n",
    "北東:  $ A_{base,entrance,NE} = L_{base,entrance,NE} \\times h_{base,entrance} $  \n",
    "南東:  $ L_{base,entrance,SE} = L_{base,entrance,SE} \\times h_{base,entrance} $  \n",
    "\n",
    "$A_{base,entrance,SW}$: 基礎(玄関)(南西)の面積(m<sup>2</sup>)  \n",
    "$A_{base,entrance,NW}$: 基礎(玄関)(北西)の面積(m<sup>2</sup>)  \n",
    "$A_{base,entrance,NE}$: 基礎(玄関)(北東)の面積(m<sup>2</sup>)  \n",
    "$A_{base,entrance,SE}$: 基礎(玄関)(南東)の面積(m<sup>2</sup>)  "
   ]
  },
  {
   "cell_type": "markdown",
   "metadata": {},
   "source": [
    "室内側:  $ L_{base,entrance,inside} = L_{base,entrance,inside} \\times h_{base,entrance} $\n",
    "\n",
    "$A_{base,entrance,inside}$: 基礎(玄関)(室内側)の面積(m<sup>2</sup>)  "
   ]
  },
  {
   "cell_type": "code",
   "execution_count": 48,
   "metadata": {},
   "outputs": [],
   "source": [
    "for h in hs:\n",
    "    h.a_base_entrance_outside = (\n",
    "        h.l_base_entrance_outside[0] * h.h_base_entrance,\n",
    "        h.l_base_entrance_outside[1] * h.h_base_entrance,\n",
    "        h.l_base_entrance_outside[2] * h.h_base_entrance,\n",
    "        h.l_base_entrance_outside[3] * h.h_base_entrance\n",
    "    )    \n",
    "    h.a_base_entrance_inside = h.l_base_entrance_inside * h.h_base_entrance"
   ]
  },
  {
   "cell_type": "code",
   "execution_count": 49,
   "metadata": {},
   "outputs": [
    {
     "name": "stdout",
     "output_type": "stream",
     "text": [
      "床断熱住宅 : (0.0, 0.3276, 0.2457, 0.0)\n",
      "基礎断熱住宅 : (0.0, 0.3276, 0.2457, 0.0)\n"
     ]
    }
   ],
   "source": [
    "show_result(lambda h: h.a_base_entrance_outside)"
   ]
  },
  {
   "cell_type": "code",
   "execution_count": 50,
   "metadata": {},
   "outputs": [
    {
     "name": "stdout",
     "output_type": "stream",
     "text": [
      "床断熱住宅 : 0.5733\n",
      "基礎断熱住宅 : 0.0\n"
     ]
    }
   ],
   "source": [
    "show_result(lambda h: h.a_base_entrance_inside)"
   ]
  },
  {
   "cell_type": "markdown",
   "metadata": {},
   "source": [
    "## 浴室の基礎の面積"
   ]
  },
  {
   "cell_type": "markdown",
   "metadata": {},
   "source": [
    "南西:  $ A_{base,bath,SW} = L_{base,bath,SW} \\times h_{base,bath} $  \n",
    "北西:  $ A_{base,bath,NW} = L_{base,bath,NW} \\times h_{base,bath} $  \n",
    "北東:  $ A_{base,bath,NE} = L_{base,bath,NE} \\times h_{base,bath} $  \n",
    "南東:  $ L_{base,bath,SE} = L_{base,bath,SE} \\times h_{base,bath} $  \n",
    "\n",
    "$A_{base,bath,SW}$: 基礎(浴室)(南西)の面積(m<sup>2</sup>)  \n",
    "$A_{base,bath,NW}$: 基礎(浴室)(北西)の面積(m<sup>2</sup>)  \n",
    "$A_{base,bath,NE}$: 基礎(浴室)(北東)の面積(m<sup>2</sup>)  \n",
    "$A_{base,bath,SE}$: 基礎(浴室)(南東)の面積(m<sup>2</sup>)  "
   ]
  },
  {
   "cell_type": "markdown",
   "metadata": {},
   "source": [
    "室内側:  $ L_{base,bath,inside} = L_{base,bath,inside} \\times h_{base,bath} $\n",
    "\n",
    "$A_{base,bath,inside}$: 基礎(浴室)(室内側)の面積(m<sup>2</sup>)  "
   ]
  },
  {
   "cell_type": "code",
   "execution_count": 51,
   "metadata": {},
   "outputs": [],
   "source": [
    "for h in hs:\n",
    "    h.a_base_bath_outside = (\n",
    "        h.l_base_bath_outside[0] * h.h_base_bath,\n",
    "        h.l_base_bath_outside[1] * h.h_base_bath,\n",
    "        h.l_base_bath_outside[2] * h.h_base_bath,\n",
    "        h.l_base_bath_outside[3] * h.h_base_bath\n",
    "    )\n",
    "    h.a_base_bath_inside = h.l_base_bath_inside * h.h_base_bath"
   ]
  },
  {
   "cell_type": "code",
   "execution_count": 52,
   "metadata": {},
   "outputs": [
    {
     "name": "stdout",
     "output_type": "stream",
     "text": [
      "床断熱住宅 : (0.0, 0.91, 0.91, 0.0)\n",
      "基礎断熱住宅 : (0.0, 0.91, 0.91, 0.0)\n"
     ]
    }
   ],
   "source": [
    "show_result(lambda h: h.a_base_bath_outside)"
   ]
  },
  {
   "cell_type": "code",
   "execution_count": 53,
   "metadata": {},
   "outputs": [
    {
     "name": "stdout",
     "output_type": "stream",
     "text": [
      "床断熱住宅 : 1.82\n",
      "基礎断熱住宅 : 0.0\n"
     ]
    }
   ],
   "source": [
    "show_result(lambda h: h.a_base_bath_inside)"
   ]
  },
  {
   "cell_type": "markdown",
   "metadata": {},
   "source": [
    "## その他の基礎の面積"
   ]
  },
  {
   "cell_type": "markdown",
   "metadata": {},
   "source": [
    "南西: $ A_{base,other,SW} = L_{base,SW} \\times h_{base} $  \n",
    "北西: $ A_{base,other,NW} = L_{base,NW} \\times h_{base} $  \n",
    "北東: $ A_{base,other,NE} = L_{base,NE} \\times h_{base} $  \n",
    "南東: $ A_{base,other,SE} = L_{base,SE} \\times h_{base} $  \n",
    "\n",
    "$A_{base,other,SW}$: 基礎断熱部分(玄関・浴室除く)(南西)の面積(m<sup>2</sup>)  \n",
    "$A_{base,other,NW}$: 基礎断熱部分(玄関・浴室除く)(北西)の面積(m<sup>2</sup>)  \n",
    "$A_{base,other,NE}$: 基礎断熱部分(玄関・浴室除く)(北東)の面積(m<sup>2</sup>)  \n",
    "$A_{base,other,SE}$: 基礎断熱部分(玄関・浴室除く)(南東)の面積(m<sup>2</sup>)  "
   ]
  },
  {
   "cell_type": "markdown",
   "metadata": {},
   "source": [
    "室内側:  $ A_{base,other,inside} = 0.0 $\n",
    "\n",
    "$A_{base,other,inside}$: 基礎断熱部分(玄関・浴室除く)(室内側)の面積(m<sup>2</sup>)  "
   ]
  },
  {
   "cell_type": "code",
   "execution_count": 54,
   "metadata": {},
   "outputs": [],
   "source": [
    "for h in hs:\n",
    "    h.a_base_other_outside = (\n",
    "        h.l_base_other_outside[0] * h.h_base,\n",
    "        h.l_base_other_outside[1] * h.h_base,\n",
    "        h.l_base_other_outside[2] * h.h_base,\n",
    "        h.l_base_other_outside[3] * h.h_base\n",
    "    )\n",
    "    h.a_base_other_inside = 0.0"
   ]
  },
  {
   "cell_type": "code",
   "execution_count": 55,
   "metadata": {},
   "outputs": [
    {
     "name": "stdout",
     "output_type": "stream",
     "text": [
      "床断熱住宅 : (0.0, 0.0, 0.0, 0.0)\n",
      "基礎断熱住宅 : (5.304991140364853, 0.5762084140079066, 3.712491140364853, 2.3962084140079067)\n"
     ]
    }
   ],
   "source": [
    "show_result(lambda h: h.a_base_other_outside)"
   ]
  },
  {
   "cell_type": "code",
   "execution_count": 56,
   "metadata": {
    "scrolled": true
   },
   "outputs": [
    {
     "name": "stdout",
     "output_type": "stream",
     "text": [
      "床断熱住宅 : 0.0\n",
      "基礎断熱住宅 : 0.0\n"
     ]
    }
   ],
   "source": [
    "show_result(lambda h: h.a_base_other_inside)"
   ]
  },
  {
   "cell_type": "markdown",
   "metadata": {},
   "source": [
    "## 基礎断熱部分の面積の合計"
   ]
  },
  {
   "cell_type": "markdown",
   "metadata": {},
   "source": [
    "南西:  $ A_{prm,SW} = A_{base,SW} + A_{base,entrance,SW} + A_{base,b,SW} $  \n",
    "北西:  $ A_{prm,NW} = A_{base,NW} + A_{base,entrance,NW} + A_{base,b,NW} $  \n",
    "北東:  $ A_{prm,NE} = A_{base,NE} + A_{base,entrance,NE} + A_{base,b,NE} $  \n",
    "南東:  $ A_{prm,SE} = A_{base,SE} + A_{base,entrance,SE} + A_{base,b,SE} $  \n",
    "\n",
    "$A_{prm,SW}$: 基礎断熱部分(南西)の面積の合計(m<sup>2</sup>)  \n",
    "$A_{prm,NW}$: 基礎断熱部分(北西)の面積の合計(m<sup>2</sup>)  \n",
    "$A_{prm,NE}$: 基礎断熱部分(北東)の面積の合計(m<sup>2</sup>)  \n",
    "$A_{prm,SE}$: 基礎断熱部分(南東)の面積の合計(m<sup>2</sup>)  "
   ]
  },
  {
   "cell_type": "markdown",
   "metadata": {},
   "source": [
    "室内側:  $ A_{prm,IS} = A_{base,IS} + A_{base,entrance,IS} + A_{base,b,IS} $\n",
    "\n",
    "$A_{prm,IS}$: 基礎断熱部分(室内側)の面積の合計(m<sup>2</sup>)  "
   ]
  },
  {
   "cell_type": "code",
   "execution_count": 57,
   "metadata": {},
   "outputs": [],
   "source": [
    "for h in hs:\n",
    "    h.a_base_total_outside = (\n",
    "        h.a_base_other_outside[0] + h.a_base_entrance_outside[0] + h.a_base_bath_outside[0],\n",
    "        h.a_base_other_outside[1] + h.a_base_entrance_outside[1] + h.a_base_bath_outside[1],\n",
    "        h.a_base_other_outside[2] + h.a_base_entrance_outside[2] + h.a_base_bath_outside[2],\n",
    "        h.a_base_other_outside[3] + h.a_base_entrance_outside[3] + h.a_base_bath_outside[3]\n",
    "    )\n",
    "    h.a_base_total_inside = h.a_base_other_inside + h.a_base_entrance_inside + h.a_base_bath_inside"
   ]
  },
  {
   "cell_type": "code",
   "execution_count": 58,
   "metadata": {
    "scrolled": true
   },
   "outputs": [
    {
     "name": "stdout",
     "output_type": "stream",
     "text": [
      "床断熱住宅 : (0.0, 1.2376, 1.1557, 0.0)\n",
      "基礎断熱住宅 : (5.304991140364853, 1.8138084140079065, 4.868191140364853, 2.3962084140079067)\n"
     ]
    }
   ],
   "source": [
    "show_result(lambda h: h.a_base_total_outside)"
   ]
  },
  {
   "cell_type": "code",
   "execution_count": 59,
   "metadata": {},
   "outputs": [
    {
     "name": "stdout",
     "output_type": "stream",
     "text": [
      "床断熱住宅 : 2.3933\n",
      "基礎断熱住宅 : 0.0\n"
     ]
    }
   ],
   "source": [
    "show_result(lambda h: h.a_base_total_inside)"
   ]
  },
  {
   "cell_type": "markdown",
   "metadata": {},
   "source": [
    "## 玄関等を除く土間床等の外周部の長さ(m)（2017.7～2018.4）"
   ]
  },
  {
   "cell_type": "markdown",
   "metadata": {},
   "source": [
    "2017.07まで「土間床周長の合計」のみを表示していたが、2017.07より、「土間床周長(玄関)」と「土間床周長(玄関除く)」に分けて記載することになった。  \n",
    "簡易法の表記上、基礎の面積は、「玄関」と「（玄関以外の）その他」としてまとめる。  \n",
    "本来であれば、「土間床周長(玄関除く)」は、「土間床周長(その他)」と「土間床周長(浴室)」の合計とすべきところである。しかし、「土間床周長(玄関)」と「土間床周長(浴室)」、「土間床周長(その他)」をそれぞれ小数点第二位まで四捨五入して合計した値は、「土間床周長の合計」を小数点第二位まで四捨五入した値に一致しない。そこで、「土間床周長の合計」を小数点第二位まで四捨五入した値から、「土間床周長(玄関)」を小数点第二位まで四捨五入した値を減じることにより、従来評価に変更がでないように対処する。"
   ]
  },
  {
   "cell_type": "markdown",
   "metadata": {},
   "source": [
    "## 壁面積(開口部含む)"
   ]
  },
  {
   "cell_type": "markdown",
   "metadata": {
    "collapsed": true
   },
   "source": [
    "1階:  \n",
    "南西: $ A_{srf,1,SW} = L_{LS,1} \\times h_1 $  \n",
    "北西: $ A_{srf,1,NW} = L_{SS,1} \\times h_1 $  \n",
    "北東: $ A_{srf,1,NE} = L_{LS,1} \\times h_1 $  \n",
    "北西: $ A_{srf,1,SE} = L_{SS,1} \\times h_1 $\n",
    "\n",
    "2階:  \n",
    "南西: $ A_{srf,2,SW} = L_{LS,2} \\times h_2 $  \n",
    "北西: $ A_{srf,2,NW} = L_{SS,2} \\times h_2 $  \n",
    "北東: $ A_{srf,2,NE} = L_{LS,2} \\times h_2 $  \n",
    "北西: $ A_{srf,2,SE} = L_{SS,2} \\times h_2 $"
   ]
  },
  {
   "cell_type": "code",
   "execution_count": 60,
   "metadata": {},
   "outputs": [],
   "source": [
    "for h in hs:\n",
    "    h.a_srf = [\n",
    "        (h.l_ls[0] * h.h[0], h.l_ss[0] * h.h[0], h.l_ls[0] * h.h[0], h.l_ss[0] * h.h[0]),\n",
    "        (h.l_ls[1] * h.h[1], h.l_ss[1] * h.h[1], h.l_ls[1] * h.h[1], h.l_ss[1] * h.h[1])\n",
    "    ]"
   ]
  },
  {
   "cell_type": "code",
   "execution_count": 61,
   "metadata": {},
   "outputs": [
    {
     "name": "stdout",
     "output_type": "stream",
     "text": [
      "床断熱住宅 : [(30.768948614116148, 13.898008801245858, 30.768948614116148, 13.898008801245858), (22.396232256298443, 12.7441986952085, 22.396232256298443, 12.7441986952085)]\n",
      "基礎断熱住宅 : [(30.768948614116148, 13.898008801245858, 30.768948614116148, 13.898008801245858), (22.396232256298443, 12.7441986952085, 22.396232256298443, 12.7441986952085)]\n"
     ]
    }
   ],
   "source": [
    "show_result(lambda h: h.a_srf)"
   ]
  },
  {
   "cell_type": "markdown",
   "metadata": {},
   "source": [
    "## 外皮面積の合計(基礎の面積を除く)"
   ]
  },
  {
   "cell_type": "markdown",
   "metadata": {},
   "source": [
    "$ A'_{env} = A_{F,1} + A_{roof} + A_{srf,1,SW} + A_{srf,1,NW} + A_{srf,1,NE} + A_{srf,1,SE} + A_{srf,2,SW} + A_{srf,2,NW} + A_{srf,2,NE} + A_{srf,2,SE} $"
   ]
  },
  {
   "cell_type": "markdown",
   "metadata": {},
   "source": [
    "$ A'_{env}$: 外皮面積の合計(基礎の面積を除く)(m<sup>2</sup>)"
   ]
  },
  {
   "cell_type": "code",
   "execution_count": 62,
   "metadata": {},
   "outputs": [],
   "source": [
    "for h in hs:\n",
    "    h.a_dash_env = h.a_f[0] + h.a_roof + sum(h.a_srf[0]) + sum(h.a_srf[1])"
   ]
  },
  {
   "cell_type": "code",
   "execution_count": 63,
   "metadata": {},
   "outputs": [
    {
     "name": "stdout",
     "output_type": "stream",
     "text": [
      "床断熱住宅 : 261.30969198797516\n",
      "基礎断熱住宅 : 261.30969198797516\n"
     ]
    }
   ],
   "source": [
    "show_result(lambda h: h.a_dash_env)"
   ]
  },
  {
   "cell_type": "markdown",
   "metadata": {},
   "source": [
    "## 外皮面積の合計(m<sup>2</sup>)"
   ]
  },
  {
   "cell_type": "markdown",
   "metadata": {},
   "source": [
    "$ A_{env} = A'_{env} + A_{prm,SW} + A_{prm,NW} + A_{prm,NE} + A_{prm,SE} + A_{prm,IS} $"
   ]
  },
  {
   "cell_type": "markdown",
   "metadata": {},
   "source": [
    "$ A_{env} $: 外皮面積の合計(m<sup>2</sup>)"
   ]
  },
  {
   "cell_type": "code",
   "execution_count": 64,
   "metadata": {},
   "outputs": [],
   "source": [
    "for h in hs:\n",
    "    h.a_env = h.a_dash_env + sum(h.a_base_total_outside) + h.a_base_total_inside"
   ]
  },
  {
   "cell_type": "code",
   "execution_count": 65,
   "metadata": {},
   "outputs": [
    {
     "name": "stdout",
     "output_type": "stream",
     "text": [
      "床断熱住宅 : 266.0962919879752\n",
      "基礎断熱住宅 : 275.6928910967207\n"
     ]
    }
   ],
   "source": [
    "show_result(lambda h: h.a_env)"
   ]
  },
  {
   "cell_type": "markdown",
   "metadata": {},
   "source": [
    "## 開口部の面積の合計"
   ]
  },
  {
   "cell_type": "markdown",
   "metadata": {},
   "source": [
    "$ A_{opn} = A'_{env} \\times r_{opn} $"
   ]
  },
  {
   "cell_type": "markdown",
   "metadata": {},
   "source": [
    "$A_{opn}$: 開口部の面積の合計(m<sup>2</sup>)"
   ]
  },
  {
   "cell_type": "code",
   "execution_count": 66,
   "metadata": {},
   "outputs": [],
   "source": [
    "for h in hs:\n",
    "    h.a_opn = h.a_dash_env * h.r_opn"
   ]
  },
  {
   "cell_type": "code",
   "execution_count": 67,
   "metadata": {},
   "outputs": [
    {
     "name": "stdout",
     "output_type": "stream",
     "text": [
      "床断熱住宅 : 36.58335687831652\n",
      "基礎断熱住宅 : 36.58335687831652\n"
     ]
    }
   ],
   "source": [
    "show_result(lambda h: h.a_opn)"
   ]
  },
  {
   "cell_type": "markdown",
   "metadata": {},
   "source": [
    "## 窓の面積の合計"
   ]
  },
  {
   "cell_type": "markdown",
   "metadata": {},
   "source": [
    "$ A_{wnd,total} = A_{opn} - A_{door,entrance} - A_{door,backentrance} $"
   ]
  },
  {
   "cell_type": "markdown",
   "metadata": {},
   "source": [
    "$A_{wnd,total}$: 窓の面積(m<sup>2</sup>)"
   ]
  },
  {
   "cell_type": "code",
   "execution_count": 68,
   "metadata": {},
   "outputs": [],
   "source": [
    "for h in hs:\n",
    "    h.a_wnd_total = h.a_opn - h.a_door_entrance - h.a_door_backentrance"
   ]
  },
  {
   "cell_type": "code",
   "execution_count": 69,
   "metadata": {},
   "outputs": [
    {
     "name": "stdout",
     "output_type": "stream",
     "text": [
      "床断熱住宅 : 33.073356878316524\n",
      "基礎断熱住宅 : 33.073356878316524\n"
     ]
    }
   ],
   "source": [
    "show_result(lambda h: h.a_wnd_total)"
   ]
  },
  {
   "cell_type": "markdown",
   "metadata": {},
   "source": [
    "## 窓の面積"
   ]
  },
  {
   "cell_type": "markdown",
   "metadata": {},
   "source": [
    "南西側: $ A_{wnd,SW} = A_{wnd} \\times r_{wnd,SW} $  \n",
    "北西側: $ A_{wnd,NW} = A_{wnd} \\times r_{wnd,NW} $  \n",
    "北東側: $ A_{wnd,NE} = A_{wnd} \\times r_{wnd,NE} $  \n",
    "南東側: $ A_{wnd,SE} = A_{wnd} \\times r_{wnd,SE} $  "
   ]
  },
  {
   "cell_type": "markdown",
   "metadata": {},
   "source": [
    "$ A_{wnd,SW}$: 窓の面積(南西)(m<sup>2</sup>)  \n",
    "$ A_{wnd,NW}$: 窓の面積(北西)(m<sup>2</sup>)  \n",
    "$ A_{wnd,NE}$: 窓の面積(北東)(m<sup>2</sup>)  \n",
    "$ A_{wnd,SE}$: 窓の面積(南東)(m<sup>2</sup>)  "
   ]
  },
  {
   "cell_type": "code",
   "execution_count": 70,
   "metadata": {},
   "outputs": [],
   "source": [
    "for h in hs:\n",
    "    h.a_wnd = h.a_wnd_total * h.r_wnd[0], h.a_wnd_total * h.r_wnd[1], h.a_wnd_total * h.r_wnd[2], h.a_wnd_total * h.r_wnd[3]"
   ]
  },
  {
   "cell_type": "code",
   "execution_count": 71,
   "metadata": {},
   "outputs": [
    {
     "name": "stdout",
     "output_type": "stream",
     "text": [
      "床断熱住宅 : (22.6949374899008, 2.3845890309266213, 3.628147249551323, 4.365683107937781)\n",
      "基礎断熱住宅 : (22.6949374899008, 2.3845890309266213, 3.628147249551323, 4.365683107937781)\n"
     ]
    }
   ],
   "source": [
    "show_result(lambda h: h.a_wnd)"
   ]
  },
  {
   "cell_type": "markdown",
   "metadata": {},
   "source": [
    "## ドアの面積"
   ]
  },
  {
   "cell_type": "markdown",
   "metadata": {},
   "source": [
    "南西側: $ A_{door,SW} = 0.0 $  \n",
    "北西側: $ A_{door,NW} = A_{door,entrance} $   \n",
    "北東側: $ A_{door,NE} = A_{door,backentrance} $  \n",
    "南東側: $ A_{door,SE} = 0.0 $  "
   ]
  },
  {
   "cell_type": "markdown",
   "metadata": {},
   "source": [
    "$A_{door}$: ドアの面積(m<sup>2</sup>)"
   ]
  },
  {
   "cell_type": "code",
   "execution_count": 72,
   "metadata": {},
   "outputs": [],
   "source": [
    "for h in hs:\n",
    "    h.a_door = 0.0, h.a_door_entrance, h.a_door_backentrance, 0.0"
   ]
  },
  {
   "cell_type": "code",
   "execution_count": 73,
   "metadata": {},
   "outputs": [
    {
     "name": "stdout",
     "output_type": "stream",
     "text": [
      "床断熱住宅 : 1.89\n",
      "基礎断熱住宅 : 1.89\n"
     ]
    }
   ],
   "source": [
    "show_result(lambda h: h.a_door_entrance)"
   ]
  },
  {
   "cell_type": "markdown",
   "metadata": {},
   "source": [
    "## 壁の面積"
   ]
  },
  {
   "cell_type": "markdown",
   "metadata": {},
   "source": [
    "南西側: $ A_{wall,SW} = A_{srf,1,SW} + A_{srf,2,SW} - A_{wnd,SW} - A_{door,SW} $  \n",
    "北西側: $ A_{wall,NW} = A_{srf,1,NW} + A_{srf,2,NW} - A_{wnd,NW} - A_{door,NW} $  \n",
    "北東側: $ A_{wall,NE} = A_{srf,1,NE} + A_{srf,2,NE} - A_{wnd,NE} - A_{door,NE} $  \n",
    "南東側: $ A_{wall,SE} = A_{srf,1,SE} + A_{srf,2,SE} - A_{wnd,SE} - A_{door,SE} $  "
   ]
  },
  {
   "cell_type": "markdown",
   "metadata": {},
   "source": [
    "$ A_{wall}$: 壁の面積(m<sup>2</sup>)"
   ]
  },
  {
   "cell_type": "code",
   "execution_count": 74,
   "metadata": {},
   "outputs": [],
   "source": [
    "for h in hs:\n",
    "    h.a_wall = (\n",
    "        h.a_srf[0][0] + h.a_srf[1][0] - h.a_wnd[0] - h.a_door[0],\n",
    "        h.a_srf[0][1] + h.a_srf[1][1] - h.a_wnd[1] - h.a_door[1],\n",
    "        h.a_srf[0][2] + h.a_srf[1][2] - h.a_wnd[2] - h.a_door[2],\n",
    "        h.a_srf[0][3] + h.a_srf[1][3] - h.a_wnd[3] - h.a_door[3]\n",
    "    )"
   ]
  },
  {
   "cell_type": "code",
   "execution_count": 75,
   "metadata": {
    "scrolled": true
   },
   "outputs": [
    {
     "name": "stdout",
     "output_type": "stream",
     "text": [
      "床断熱住宅 : (30.47024338051379, 22.367618465527734, 47.917033620863265, 22.276524388516577)\n",
      "基礎断熱住宅 : (30.47024338051379, 22.367618465527734, 47.917033620863265, 22.276524388516577)\n"
     ]
    }
   ],
   "source": [
    "show_result(lambda h: h.a_wall)"
   ]
  },
  {
   "cell_type": "markdown",
   "metadata": {},
   "source": [
    "# 数字の丸め"
   ]
  },
  {
   "cell_type": "markdown",
   "metadata": {},
   "source": [
    "## 外皮の部位の面積の合計"
   ]
  },
  {
   "cell_type": "code",
   "execution_count": 76,
   "metadata": {},
   "outputs": [],
   "source": [
    "for h, doc in zip(hs, docs):\n",
    "    doc['外皮の部位の面積の合計'] = round2(h.a_env)"
   ]
  },
  {
   "cell_type": "markdown",
   "metadata": {},
   "source": [
    "## 床面積の合計"
   ]
  },
  {
   "cell_type": "code",
   "execution_count": 77,
   "metadata": {},
   "outputs": [],
   "source": [
    "for h, doc in zip(hs, docs):\n",
    "    doc['床面積の合計'] = round2(h.a_f_total)"
   ]
  },
  {
   "cell_type": "markdown",
   "metadata": {},
   "source": [
    "## 屋根又は天井の面積"
   ]
  },
  {
   "cell_type": "code",
   "execution_count": 78,
   "metadata": {},
   "outputs": [],
   "source": [
    "for h, doc in zip(hs, docs):\n",
    "    doc['屋根又は天井の面積'] = round2(h.a_roof)"
   ]
  },
  {
   "cell_type": "markdown",
   "metadata": {},
   "source": [
    "## 壁の面積 "
   ]
  },
  {
   "cell_type": "code",
   "execution_count": 79,
   "metadata": {},
   "outputs": [],
   "source": [
    "for h, doc in zip(hs, docs):\n",
    "    doc['南西に面した壁の面積'] = round2(h.a_wall[0])\n",
    "    doc['北西に面した壁の面積'] = round2(h.a_wall[1])\n",
    "    doc['北東に面した壁の面積'] = round2(h.a_wall[2])\n",
    "    doc['南東に面した壁の面積'] = round2(h.a_wall[3])"
   ]
  },
  {
   "cell_type": "markdown",
   "metadata": {},
   "source": [
    "## ドアの面積"
   ]
  },
  {
   "cell_type": "code",
   "execution_count": 80,
   "metadata": {},
   "outputs": [],
   "source": [
    "for h, doc in zip(hs, docs):\n",
    "    doc['南西に面したドアの面積'] = round2(h.a_door[0])\n",
    "    doc['北西に面したドアの面積'] = round2(h.a_door[1])\n",
    "    doc['北東に面したドアの面積'] = round2(h.a_door[2])\n",
    "    doc['南東に面したドアの面積'] = round2(h.a_door[3])"
   ]
  },
  {
   "cell_type": "markdown",
   "metadata": {},
   "source": [
    "## 窓の面積"
   ]
  },
  {
   "cell_type": "code",
   "execution_count": 81,
   "metadata": {},
   "outputs": [],
   "source": [
    "for h, doc in zip(hs, docs):\n",
    "    doc['南西に面した窓の面積'] = round2(h.a_wnd[0])\n",
    "    doc['北西に面した窓の面積'] = round2(h.a_wnd[1])\n",
    "    doc['北東に面した窓の面積'] = round2(h.a_wnd[2])\n",
    "    doc['南東に面した窓の面積'] = round2(h.a_wnd[3])"
   ]
  },
  {
   "cell_type": "markdown",
   "metadata": {},
   "source": [
    "## 床断熱した床の面積"
   ]
  },
  {
   "cell_type": "code",
   "execution_count": 82,
   "metadata": {},
   "outputs": [],
   "source": [
    "for h, doc in zip(hs, docs):\n",
    "    doc['床断熱した床の面積'] = round2(h.a_if)"
   ]
  },
  {
   "cell_type": "markdown",
   "metadata": {},
   "source": [
    "## 玄関等を除く基礎の面積"
   ]
  },
  {
   "cell_type": "markdown",
   "metadata": {},
   "source": [
    "2017.07まで「基礎の面積の合計」のみを表示していたが、2017.07より、「基礎の面積(玄関)」と「基礎の面積(玄関除く)」に分けて記載することになった。  \n",
    "簡易法の表記上、基礎の面積は、「玄関」と「（玄関以外の）その他」としてまとめる。  \n",
    "本来であれば、「基礎の面積(玄関除く)」は、「基礎の面積(その他)」と「基礎の面積(浴室)」の合計とすべきところである。しかし、「基礎の面積(玄関)」と「基礎の面積(浴室)」、「基礎の面積(その他)」をそれぞれ小数点第二位まで四捨五入して合計した値は、「基礎の面積の合計」を小数点第二位まで四捨五入した値に一致しない。そこで、「基礎の面積の合計」を小数点第二位まで四捨五入した値から、「基礎の面積(玄関)」を小数点第二位まで四捨五入した値を減じることにより、従来評価に変更がでないように対処する。"
   ]
  },
  {
   "cell_type": "code",
   "execution_count": 83,
   "metadata": {},
   "outputs": [],
   "source": [
    "for h, doc in zip(hs, docs):\n",
    "    doc['南西に面した玄関等を除く基礎の面積'] = round2(round2(h.a_base_total_outside[0]) - round2(h.a_base_entrance_outside[0]))\n",
    "    doc['北西に面した玄関等を除く基礎の面積'] = round2(round2(h.a_base_total_outside[1]) - round2(h.a_base_entrance_outside[1]))\n",
    "    doc['北東に面した玄関等を除く基礎の面積'] = round2(round2(h.a_base_total_outside[2]) - round2(h.a_base_entrance_outside[2]))\n",
    "    doc['南東に面した玄関等を除く基礎の面積'] = round2(round2(h.a_base_total_outside[3]) - round2(h.a_base_entrance_outside[3]))\n",
    "    doc['床下に面した玄関等を除く基礎の面積'] = round2(round2(h.a_base_total_inside) - round2(h.a_base_entrance_inside))"
   ]
  },
  {
   "cell_type": "markdown",
   "metadata": {},
   "source": [
    "## 玄関等の基礎の面積"
   ]
  },
  {
   "cell_type": "code",
   "execution_count": 84,
   "metadata": {},
   "outputs": [],
   "source": [
    "for h, doc in zip(hs, docs):\n",
    "    doc['南西に面した玄関等の基礎の面積'] = round2(h.a_base_entrance_outside[0])\n",
    "    doc['北西に面した玄関等の基礎の面積'] = round2(h.a_base_entrance_outside[1])\n",
    "    doc['北東に面した玄関等の基礎の面積'] = round2(h.a_base_entrance_outside[2])\n",
    "    doc['南東に面した玄関等の基礎の面積'] = round2(h.a_base_entrance_outside[3])\n",
    "    doc['床下に面した玄関等の基礎の面積'] = round2(h.a_base_entrance_inside)"
   ]
  },
  {
   "cell_type": "markdown",
   "metadata": {},
   "source": [
    "## 玄関等を除く土間床等の外周部の長さ"
   ]
  },
  {
   "cell_type": "markdown",
   "metadata": {},
   "source": [
    "2017.07まで「土間床周長の合計」のみを表示していたが、2017.07より、「土間床周長(玄関)」と「土間床周長(玄関除く)」に分けて記載することになった。  \n",
    "簡易法の表記上、基礎の面積は、「玄関」と「（玄関以外の）その他」としてまとめる。  \n",
    "本来であれば、「土間床周長(玄関除く)」は、「土間床周長(その他)」と「土間床周長(浴室)」の合計とすべきところである。しかし、「土間床周長(玄関)」と「土間床周長(浴室)」、「土間床周長(その他)」をそれぞれ小数点第二位まで四捨五入して合計した値は、「土間床周長の合計」を小数点第二位まで四捨五入した値に一致しない。そこで、「土間床周長の合計」を小数点第二位まで四捨五入した値から、「土間床周長(玄関)」を小数点第二位まで四捨五入した値を減じることにより、従来評価に変更がでないように対処する。"
   ]
  },
  {
   "cell_type": "code",
   "execution_count": 85,
   "metadata": {
    "scrolled": true
   },
   "outputs": [],
   "source": [
    "for h, doc in zip(hs, docs):\n",
    "    doc['南西に面した玄関等を除く土間床等の外周部の長さ'] = round2(round2(h.l_prm_outside[0]) - round2(h.l_base_entrance_outside[0]))\n",
    "    doc['北西に面した玄関等を除く土間床等の外周部の長さ'] = round2(round2(h.l_prm_outside[1]) - round2(h.l_base_entrance_outside[1]))\n",
    "    doc['北東に面した玄関等を除く土間床等の外周部の長さ'] = round2(round2(h.l_prm_outside[2]) - round2(h.l_base_entrance_outside[2]))\n",
    "    doc['南東に面した玄関等を除く土間床等の外周部の長さ'] = round2(round2(h.l_prm_outside[3]) - round2(h.l_base_entrance_outside[3]))\n",
    "    doc['床下に面した玄関等を除く土間床等の外周部の長さ'] = round2(round2(h.l_prm_inside) - round2(h.l_base_entrance_inside))"
   ]
  },
  {
   "cell_type": "markdown",
   "metadata": {},
   "source": [
    "## 玄関等の土間床等の外周部の長さ"
   ]
  },
  {
   "cell_type": "code",
   "execution_count": 86,
   "metadata": {},
   "outputs": [
    {
     "name": "stdout",
     "output_type": "stream",
     "text": [
      "(0.0, 1.82, 1.37, 0.0, 3.19)\n",
      "(0.0, 1.82, 1.37, 0.0, 0.0)\n"
     ]
    }
   ],
   "source": [
    "for h, doc in zip(hs, docs):\n",
    "    doc['南西に面した玄関等の土間床等の外周部の長さ'] = round2(h.l_base_entrance_outside[0])\n",
    "    doc['北西に面した玄関等の土間床等の外周部の長さ'] = round2(h.l_base_entrance_outside[1])\n",
    "    doc['北東に面した玄関等の土間床等の外周部の長さ'] = round2(h.l_base_entrance_outside[2])\n",
    "    doc['南東に面した玄関等の土間床等の外周部の長さ'] = round2(h.l_base_entrance_outside[3])\n",
    "    doc['床下に面した玄関等の土間床等の外周部の長さ'] = round2(h.l_base_entrance_inside)\n",
    "    print((doc['南西に面した玄関等の土間床等の外周部の長さ'],\n",
    "           doc['北西に面した玄関等の土間床等の外周部の長さ'],\n",
    "           doc['北東に面した玄関等の土間床等の外周部の長さ'],\n",
    "           doc['南東に面した玄関等の土間床等の外周部の長さ'],\n",
    "           doc['床下に面した玄関等の土間床等の外周部の長さ']))"
   ]
  },
  {
   "cell_type": "markdown",
   "metadata": {},
   "source": [
    "# テスト"
   ]
  },
  {
   "cell_type": "code",
   "execution_count": 87,
   "metadata": {},
   "outputs": [],
   "source": [
    "wb = xlrd.open_workbook('publicated_value.xlsx')\n",
    "sheet = wb.sheet_by_name('test2017')\n",
    "values = [sheet.row_values(row) for row in range(sheet.nrows)]"
   ]
  },
  {
   "cell_type": "code",
   "execution_count": 88,
   "metadata": {},
   "outputs": [
    {
     "name": "stdout",
     "output_type": "stream",
     "text": [
      "外皮の部位の面積の合計\n",
      "OK\n",
      "床面積の合計\n",
      "OK\n",
      "屋根又は天井の面積\n",
      "OK\n",
      "南西に面した壁の面積\n",
      "OK\n",
      "北西に面した壁の面積\n",
      "OK\n",
      "北東に面した壁の面積\n",
      "OK\n",
      "南東に面した壁の面積\n",
      "OK\n",
      "南西に面したドアの面積\n",
      "OK\n",
      "北西に面したドアの面積\n",
      "OK\n",
      "北東に面したドアの面積\n",
      "OK\n",
      "南東に面したドアの面積\n",
      "OK\n",
      "南西に面した窓の面積\n",
      "OK\n",
      "北西に面した窓の面積\n",
      "OK\n",
      "北東に面した窓の面積\n",
      "OK\n",
      "南東に面した窓の面積\n",
      "OK\n",
      "床断熱した床の面積\n",
      "OK\n",
      "南西に面した玄関等を除く基礎の面積\n",
      "OK\n",
      "北西に面した玄関等を除く基礎の面積\n",
      "OK\n",
      "北東に面した玄関等を除く基礎の面積\n",
      "OK\n",
      "南東に面した玄関等を除く基礎の面積\n",
      "OK\n",
      "床下に面した玄関等を除く基礎の面積\n",
      "OK\n",
      "南西に面した玄関等の基礎の面積\n",
      "OK\n",
      "北西に面した玄関等の基礎の面積\n",
      "OK\n",
      "北東に面した玄関等の基礎の面積\n",
      "OK\n",
      "南東に面した玄関等の基礎の面積\n",
      "OK\n",
      "床下に面した玄関等の基礎の面積\n",
      "OK\n",
      "南西に面した玄関等を除く土間床等の外周部の長さ\n",
      "OK\n",
      "北西に面した玄関等を除く土間床等の外周部の長さ\n",
      "OK\n",
      "北東に面した玄関等を除く土間床等の外周部の長さ\n",
      "OK\n",
      "南東に面した玄関等を除く土間床等の外周部の長さ\n",
      "OK\n",
      "床下に面した玄関等を除く土間床等の外周部の長さ\n",
      "OK\n",
      "南西に面した玄関等の土間床等の外周部の長さ\n",
      "OK\n",
      "北西に面した玄関等の土間床等の外周部の長さ\n",
      "OK\n",
      "北東に面した玄関等の土間床等の外周部の長さ\n",
      "OK\n",
      "南東に面した玄関等の土間床等の外周部の長さ\n",
      "OK\n",
      "床下に面した玄関等の土間床等の外周部の長さ\n",
      "OK\n"
     ]
    }
   ],
   "source": [
    "for i, value in enumerate(values):\n",
    "    if i != 0:\n",
    "        print(value[0])\n",
    "        is_ok = True\n",
    "        for j, doc in enumerate(docs):\n",
    "            real = doc[value[0]]\n",
    "            expected = value[j+1]\n",
    "            if real != expected:\n",
    "                print('house ' + str(j) + ' error: real = ' + str(real) + ' expected = ' + str(expected) )\n",
    "                is_ok = False\n",
    "        if is_ok == True:\n",
    "            print('OK')\n"
   ]
  }
 ],
 "metadata": {
  "file_extension": ".py",
  "kernelspec": {
   "display_name": "Python 3",
   "language": "python",
   "name": "python3"
  },
  "language_info": {
   "codemirror_mode": {
    "name": "ipython",
    "version": 3
   },
   "file_extension": ".py",
   "mimetype": "text/x-python",
   "name": "python",
   "nbconvert_exporter": "python",
   "pygments_lexer": "ipython3",
   "version": "3.6.4"
  },
  "mimetype": "text/x-python",
  "name": "python",
  "npconvert_exporter": "python",
  "pygments_lexer": "ipython3",
  "toc": {
   "base_numbering": 1,
   "nav_menu": {},
   "number_sections": true,
   "sideBar": true,
   "skip_h1_title": false,
   "title_cell": "Table of Contents",
   "title_sidebar": "Contents",
   "toc_cell": false,
   "toc_position": {
    "height": "calc(100% - 180px)",
    "left": "10px",
    "top": "150px",
    "width": "392px"
   },
   "toc_section_display": true,
   "toc_window_display": false
  },
  "version": 3
 },
 "nbformat": 4,
 "nbformat_minor": 2
}
