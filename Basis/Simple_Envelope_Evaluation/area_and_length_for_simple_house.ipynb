{
 "cells": [
  {
   "cell_type": "code",
   "execution_count": 1,
   "metadata": {},
   "outputs": [],
   "source": [
    "import math\n",
    "import numpy as np\n",
    "from collections import namedtuple\n",
    "from decimal import *\n",
    "\n",
    "from typing import List, Tuple\n",
    "from enum import Enum\n",
    "\n",
    "import xlrd"
   ]
  },
  {
   "cell_type": "markdown",
   "metadata": {},
   "source": [
    "# 変更履歴"
   ]
  },
  {
   "cell_type": "markdown",
   "metadata": {},
   "source": [
    "- 2019.10.15: 浴室の床が断熱、浴室の床が外皮に接しない場合の計算を追加  \n",
    "それにより、外皮の部位の面積の合計が異なることが判明した。（2019.10時点の評価方法においては、床断熱住戸については同じ面積を使用している。）"
   ]
  },
  {
   "cell_type": "markdown",
   "metadata": {},
   "source": [
    "# 四捨五入"
   ]
  },
  {
   "cell_type": "markdown",
   "metadata": {},
   "source": [
    "建研HPで公表する値としては、さらに小数点2桁までにまとめた値とする。  \n",
    "丸める場合に、round関数は、JIS Z 8401 付属書A の方法（0.5の場合は偶数側に丸める）が適用されるため、自前に作成したround2関数で丸めることとする。この場合は、端数が「.5」の場合は、必ず大きい側（切り上げ側）に丸められる。"
   ]
  },
  {
   "cell_type": "code",
   "execution_count": 2,
   "metadata": {},
   "outputs": [],
   "source": [
    "def round2(x,d=2):\n",
    "    p=10**d\n",
    "    return (x*p*2+1)//2/p\n",
    "#    return x.quantize(Decimal('0.01'), rounding=ROUND_HALF_UP)"
   ]
  },
  {
   "cell_type": "code",
   "execution_count": 3,
   "metadata": {},
   "outputs": [],
   "source": [
    "def round2_direction(x, d=2):\n",
    "    return (\n",
    "        round2(x[0], d),\n",
    "        round2(x[1], d),\n",
    "        round2(x[2], d),\n",
    "        round2(x[3], d)\n",
    "    )"
   ]
  },
  {
   "cell_type": "markdown",
   "metadata": {},
   "source": [
    "# 住宅の種類"
   ]
  },
  {
   "cell_type": "markdown",
   "metadata": {},
   "source": [
    "床・基礎部分の断熱方法"
   ]
  },
  {
   "cell_type": "code",
   "execution_count": 4,
   "metadata": {},
   "outputs": [],
   "source": [
    "class FloorIns(Enum):\n",
    "\n",
    "    # 床断熱\n",
    "    FLOOR = 1\n",
    "    \n",
    "    # 基礎断熱\n",
    "    BASE = 2"
   ]
  },
  {
   "cell_type": "markdown",
   "metadata": {},
   "source": [
    "浴室における床・基礎部分の断熱方法"
   ]
  },
  {
   "cell_type": "code",
   "execution_count": 5,
   "metadata": {},
   "outputs": [],
   "source": [
    "class BathIns(Enum):\n",
    "\n",
    "    # （浴室が2階にある等）浴室床が外皮に面さない\n",
    "    NOT_EXIST = 1\n",
    "    \n",
    "    # 床断熱\n",
    "    FLOOR = 2\n",
    "    \n",
    "    # 基礎断熱\n",
    "    BASE = 3"
   ]
  },
  {
   "cell_type": "markdown",
   "metadata": {},
   "source": [
    "# 保持するパラメータ"
   ]
  },
  {
   "cell_type": "code",
   "execution_count": 6,
   "metadata": {},
   "outputs": [],
   "source": [
    "class House():\n",
    "    \n",
    "    def __init__(self, name, ver, floor_ins, bath_ins):\n",
    "        \n",
    "        # 名前\n",
    "        self.name = name\n",
    "        \n",
    "        # バージョン\n",
    "        self.ver = ver\n",
    "\n",
    "        # 床の断熱種類\n",
    "        self.floor_ins = floor_ins\n",
    "        \n",
    "        # 浴室の断熱種類\n",
    "        self.bath_ins = bath_ins\n",
    "        \n",
    "        # 床面積の合計, m2\n",
    "        self.a_f_total = None\n",
    "        \n",
    "        # 形状係数\n",
    "        self.sf = None\n",
    "        \n",
    "        # 1階の床面積に対する2階の床面積の比\n",
    "        self.r_fa = None\n",
    "        \n",
    "        # 基礎の高さ（一般部分）, m\n",
    "        self.h_base = None\n",
    "        \n",
    "        # 基礎の高さ（玄関）, m\n",
    "        self.h_base_entrance = None\n",
    "        \n",
    "        # 基礎の高さ（浴室）, m\n",
    "        self.h_base_bath = None\n",
    "        \n",
    "        # 高さ, m\n",
    "        self.h = None\n",
    "        \n",
    "        # ドアの面積（玄関）, m2\n",
    "        self.a_door_entrance = None\n",
    "        \n",
    "        # ドアの面積（勝手口）, m2\n",
    "        self.a_door_backentrance = None\n",
    "        \n",
    "        # 玄関の土間床等の周辺部の基礎長さ（主開口方位側）, m\n",
    "        self.l_base_entrance_ms = None\n",
    "        \n",
    "        # 玄関の土間床等の周辺部の基礎長さ（その他方位側）, m\n",
    "        self.l_base_entrance_os = None\n",
    "        \n",
    "        # 浴室の土間床等の周辺部の基礎長さ（主開口方位側）, m\n",
    "        self.l_base_bath_ms = None\n",
    "        \n",
    "        # 浴室の土間床等の周辺部の基礎長さ（その他方位側）, m\n",
    "        self.l_base_bath_os = None\n",
    "        \n",
    "        # 開口部の面積比率\n",
    "        self.r_opn = None\n",
    "        \n",
    "        # 方位別窓面積比率\n",
    "        self.r_wnd = None\n",
    "        \n",
    "        # 床面積（土間床含む）, m2        \n",
    "        self.a_f = None\n",
    "        \n",
    "        # 周長, m\n",
    "        self.l_prm = None\n",
    "\n",
    "        # 長辺の長さ, m\n",
    "        self.l_ls = None\n",
    "        \n",
    "        # 短辺の長さ, m\n",
    "        self.l_ss = None\n",
    "        \n",
    "        # 玄関の土間床等の面積, m2\n",
    "        self.a_ef_entrance = None\n",
    "        \n",
    "        # 浴室の土間床等の面積, m2\n",
    "        self.a_ef_bath = None\n",
    "        \n",
    "        # その他の土間床等の面積, m2\n",
    "        self.a_ef_other = None\n",
    "        \n",
    "        # 土間床等の面積の合計, m2\n",
    "        self.a_ef_total = None\n",
    "        \n",
    "        # 玄関等の土間床等の外周部の長さ（外気側）, m\n",
    "        self.l_base_entrance_outside = None\n",
    "        \n",
    "        # 玄関等の土間床等の外周部の長さ（床下側）, m\n",
    "        self.l_base_entrance_inside = None\n",
    "        \n",
    "        # 浴室の土間床等の外周部の長さ（外気側）, m\n",
    "        self.l_base_bath_outside = None\n",
    "        \n",
    "        # 浴室の土間床等の外周部の長さ（床下側）, m\n",
    "        self.l_base_bath_outside = None\n",
    "        \n",
    "        # その他の土間床等の外周部の長さ（外気側）, m\n",
    "        self.l_base_other_outside = None\n",
    "        \n",
    "        # その他の土間床等の外周部の長さ（床下側）, m\n",
    "        self.l_base_other_inside = None\n",
    "        \n",
    "        # 土間床周長（外気側）, m\n",
    "        self.l_prm_outside = None\n",
    "        \n",
    "        # 土間床周長（床下側）, m\n",
    "        self.l_prm_inside = None\n",
    "        \n",
    "        # 浴室の床断熱した床の面積, m2\n",
    "        self.a_if_bath = None\n",
    "        \n",
    "        # 床断熱した床の面積, m2\n",
    "        self.a_if = None\n",
    "        \n",
    "        # 屋根又は天井の面積, m2\n",
    "        self.a_roof = None\n",
    "        \n",
    "        # 玄関等の基礎の面積（外気側）, m2\n",
    "        self.a_base_entrance_outside = None\n",
    "        \n",
    "        # 玄関等の基礎の面積（床下側）, m2\n",
    "        self.a_base_entrance_inside = None\n",
    "        \n",
    "        # 浴室の基礎の面積（外気側）, m2\n",
    "        self.a_base_bath_outside = None\n",
    "        \n",
    "        # 浴室の基礎の面積（床下側）, m2\n",
    "        self.a_base_bath_inside = None\n",
    "        \n",
    "        # その他の基礎の面積（外気側）, m2\n",
    "        self.a_base_other_outside = None\n",
    "        \n",
    "        # その他の基礎の面積（床下側）, m2\n",
    "        self.a_base_other_inside = None\n",
    "        \n",
    "        # 基礎の面積の合計（外気側）, m2\n",
    "        self.a_base_total_outside = None\n",
    "        \n",
    "        # 基礎の面積の合計（床下側）, m2\n",
    "        self.a_base_total_inside = None\n",
    "        \n",
    "        # 垂直外皮面積, m2\n",
    "        self.a_srf = None\n",
    "        \n",
    "        # 基礎を除く外皮の部位の面積の合計, m2\n",
    "        self.a_dash_env = None\n",
    "        \n",
    "        # 外皮の部位の面積の合計, m2\n",
    "        self.a_env = None\n",
    "        \n",
    "        # 開口部の面積の合計, m2\n",
    "        self.a_opn = None\n",
    "        \n",
    "        # 窓の面積の合計, m2\n",
    "        self.a_wnd_total = None\n",
    "\n",
    "        # 窓の面積, m2\n",
    "        self.a_wnd = None\n",
    "        \n",
    "        # ドアの面積, m2\n",
    "        self.a_door = None\n",
    "\n",
    "        # 壁の面積, m2\n",
    "        self.a_wall = None\n",
    "        \n",
    "        # rnd_床面積の合計, m2\n",
    "        self.rnd_a_f_total = None\n",
    "        \n",
    "        # rnd_外皮の部位の面積の合計, m2\n",
    "        self.rnd_a_env = None\n",
    "\n",
    "        # rnd_屋根又は天井の面積, m2\n",
    "        self.rnd_a_roof = None\n",
    "        \n",
    "        # rnd_壁の面積, m2\n",
    "        self.rnd_a_wall = None\n",
    "\n",
    "        # rnd_窓の面積, m2\n",
    "        self.rnd_a_wnd = None\n",
    "\n",
    "        # rnd_ドアの面積, m2\n",
    "        self.rnd_a_door = None\n",
    "\n",
    "        # rnd_浴室の床断熱した床の面積, m2\n",
    "        self.rnd_a_if_bath = None\n",
    "\n",
    "        # rnd_床断熱した床の面積, m2\n",
    "        self.rnd_a_if = None\n",
    "\n",
    "        # rnd_土間床等の面積の合計, m2\n",
    "        self.rnd_a_ef_total = None\n",
    "\n",
    "        # rnd_浴室の土間床等の面積, m2\n",
    "        self.rnd_a_ef_bath = None\n",
    "\n",
    "        # rnd_基礎の面積の合計（外気側）, m2\n",
    "        self.rnd_a_base_total_outside = None\n",
    "\n",
    "        # rnd_基礎の面積の合計（床下側）, m2\n",
    "        self.rnd_a_base_total_inside = None\n",
    "\n",
    "        # rnd_玄関等の基礎の面積（外気側）, m2\n",
    "        self.rnd_a_base_entrance_outside = None\n",
    "\n",
    "        # rnd_玄関等の基礎の面積（床下側）, m2\n",
    "        self.rnd_a_base_entrance_inside = None\n",
    "\n",
    "        # rnd_浴室の基礎の面積（外気側）, m2\n",
    "        self.rnd_a_base_bath_outside = None\n",
    "\n",
    "        # rnd_浴室の基礎の面積（床下側）, m2\n",
    "        self.rnd_a_base_bath_inside = None\n",
    "\n",
    "        # rnd_玄関等を除く基礎の面積（外気側）, m2\n",
    "        self.rnd_a_base_except_entrance_outside = None\n",
    "\n",
    "        # rnd_玄関等を除く基礎の面積（床下側）, m2\n",
    "        self.rnd_a_base_except_entrance_inside = None\n",
    "\n",
    "        # rnd_その他の基礎の面積（外気側）, m2\n",
    "        self.rnd_a_base_other_outside = None\n",
    "\n",
    "        # rnd_その他の基礎の面積（床下側）, m2\n",
    "        self.rnd_a_base_other_inside = None\n",
    "\n",
    "        # rnd_土間床周長（外気側）, m\n",
    "        self.rnd_l_prm_outside = None\n",
    "\n",
    "        # rnd_土間床周長（床下側）, m\n",
    "        self.rnd_l_prm_inside = None\n",
    "\n",
    "        # rnd_玄関等の土間床等の外周部の長さ（外気側）, m\n",
    "        self.rnd_l_base_entrance_outside= None\n",
    "\n",
    "        # rnd_玄関等の土間床等の外周部の長さ（床下側）, m\n",
    "        self.rnd_l_base_entrance_inside = None\n",
    "\n",
    "        # rnd_浴室の土間床等の外周部の長さ（外気側）, m\n",
    "        self.rnd_l_base_bath_outside = None\n",
    "\n",
    "        # rnd_浴室の土間床等の外周部の長さ（床下側）, m\n",
    "        self.rnd_l_base_bath_inside = None\n",
    "\n",
    "        # rnd_玄関等を除く土間床等の外周部の長さ（外気側）, m\n",
    "        self.rnd_l_base_except_entrance_outside = None\n",
    "\n",
    "        # rnd_玄関等を除く土間床等の外周部の長さ（床下側）, m\n",
    "        self.rnd_l_base_except_entrance_inside = None\n",
    "\n",
    "        # rnd_その他の土間床等の外周部の長さ（外気側）, m\n",
    "        self.rnd_l_base_other_outside = None\n",
    "\n",
    "        # rnd_その他の土間床等の外周部の長さ（床下側）, m\n",
    "        self.rnd_l_base_other_inside = None\n"
   ]
  },
  {
   "cell_type": "markdown",
   "metadata": {},
   "source": [
    "# 計算ケース"
   ]
  },
  {
   "cell_type": "markdown",
   "metadata": {},
   "source": [
    "以下のケースについて検討する。\n",
    "- 床断熱住宅（外皮に接する浴室床なし）\n",
    "- 床断熱住宅（浴室床断熱）\n",
    "- 床断熱住宅（浴室基礎断熱）\n",
    "- 基礎断熱住宅"
   ]
  },
  {
   "cell_type": "code",
   "execution_count": 7,
   "metadata": {},
   "outputs": [],
   "source": [
    "hs = [\n",
    "    House(name='床断熱住宅（外皮に接する浴室床なし）', ver=1, floor_ins=FloorIns.FLOOR, bath_ins=BathIns.NOT_EXIST),\n",
    "    House(name='床断熱住宅（浴室床断熱）', ver=1, floor_ins=FloorIns.FLOOR, bath_ins=BathIns.FLOOR),\n",
    "    House(name='床断熱住宅（浴室基礎断熱）', ver=1, floor_ins=FloorIns.FLOOR, bath_ins=BathIns.BASE),\n",
    "    House(name='基礎断熱住宅', ver=1, floor_ins=FloorIns.BASE, bath_ins=None)\n",
    "]"
   ]
  },
  {
   "cell_type": "markdown",
   "metadata": {},
   "source": [
    "# 簡易評価式の算出の前提"
   ]
  },
  {
   "cell_type": "markdown",
   "metadata": {},
   "source": [
    "部位の面積及び長さ等を計算するにあたっての前提条件を以下に示す。"
   ]
  },
  {
   "cell_type": "markdown",
   "metadata": {},
   "source": [
    "| 意味 | 記号| 値 | 単位 | 備考 |\n",
    "| --- | :---: | :---: | :---: | --- |\n",
    "| 階数 | - | 2 | - | - |\n",
    "| 床面積の合計 | $A_{F,total}$ | 90.0 | m<sup>2</sup> | - |\n",
    "| 形状係数(1階) | $SF_1$ | 1.08 | - | - |\n",
    "| 形状係数(2階) | $SF_2$ | 1.04 | - | - |\n",
    "| 主開口方位 | - | 南西 | - | - |\n",
    "| 1階の床面積に対する2階の床面積の比 | $r_{FA}$ | 0.77 | - | 自立循環型住宅プランの比を採用した。 |\n",
    "| 基礎の高さ(基礎断熱住宅) | $h_{base}$ | 0.5 | m | 基礎の高さとは土間基礎上端から1階床レベルまでの間を言う。<br>(GLからではない。) |\n",
    "| 基礎の高さ(玄関) | $h_{base,d}$ | 0.18 | m | - |\n",
    "| 基礎の高さ(浴室) | $h_{base,b}$ | 0.5 | m | - |\n",
    "| 高さ(1階) | $h_1$ | 2.9 | m | - |\n",
    "| 高さ(2階) | $h_2$ | 2.7 | m | - |\n",
    "| ドア(玄関) | $A_{door,1}$ | 1.89 | m<sup>2</sup> | 方位：北西 自立循環型住宅プランの面積を採用 |\n",
    "| ドア(勝手口) | $A_{door,2}$ | 1.62 | m<sup>2</sup> | 方位：北東 自立循環型住宅プランの面積を採用 |\n",
    "| 玄関の土間床等の周辺部の基礎長さ(主開口方位側) | $L_{base,d,MS}$ | 1.365 | m | - |\n",
    "| 玄関の土間床等の周辺部の基礎長さ(その他の方位側) | $L_{base,d,OS}$ | 1.82 | m | - |\n",
    "| 浴室の土間床等の周辺部の基礎長さ(主開口方位側) | $L_{base,b,MS}$ | 1.82 | m | - |\n",
    "| 浴室の土間床等の周辺部の基礎長さ(その他の方位側) | $L_{base,b,OS}$ | 1.82 | m | - |\n",
    "| 開口部の面積比率 | $r_{opn}$ | 0.14 | - | 床断熱住宅と基礎断熱住宅とを同じ開口部面積にするために、<br>基礎面積を含めない外皮表面積に対する値とする。 |\n",
    "| 方位別窓面積比率(南西) | $r_{wnd,SW}$ | 0.6862 | - | - |\n",
    "| 方位別窓面積比率(北西) | $r_{wnd,NW}$ | 0.0721 | - | - |\n",
    "| 方位別窓面積比率(北東) | $r_{wnd,NE}$ | 0.1097 | - | - |\n",
    "| 方位別窓面積比率(南東) | $r_{wnd,SE}$ | 0.1320 | - | - |\n"
   ]
  },
  {
   "cell_type": "markdown",
   "metadata": {},
   "source": [
    "※基礎の高さについて  \n",
    "下記を想定すると、根太がけの場合は524～539、根太レスの場合は479～494  \n",
    "・基礎の高さは400mm（参考：長期優良住宅）  \n",
    "・土台は105mm又は10mm  \n",
    "・根太は45mm（根太がけの場合のみ）  \n",
    "・床荒板およびフローリングは24mm（12mm＋12mm）  \n",
    "・GLから土間基礎上端までは50mm  \n",
    "あるいは下記を想定すると、根太がけの場合は489～504、根太レスの場合は444～459  \n",
    "・床下空間高さ（土間基礎上端から大引き下端まで）は330mmを確保（長期優良）  \n",
    "・大引は90又は105mm  \n",
    "・根太は45mm（根太がけの場合のみ）  \n",
    "・床荒板およびフローリングは24mm（12mm＋12mm）  \n",
    "以上を勘案して、500mmと決めた。"
   ]
  },
  {
   "cell_type": "markdown",
   "metadata": {},
   "source": [
    "## 階数"
   ]
  },
  {
   "cell_type": "markdown",
   "metadata": {},
   "source": [
    "階数は2階とする。"
   ]
  },
  {
   "cell_type": "markdown",
   "metadata": {},
   "source": [
    "##  床面積の合計"
   ]
  },
  {
   "cell_type": "markdown",
   "metadata": {},
   "source": [
    "$ A_{F,total} = 90.0 $ (m<sup>2</sup>)"
   ]
  },
  {
   "cell_type": "code",
   "execution_count": 8,
   "metadata": {},
   "outputs": [],
   "source": [
    "for h in hs:\n",
    "    h.a_f_total = 90.0"
   ]
  },
  {
   "cell_type": "markdown",
   "metadata": {},
   "source": [
    "## 形状係数"
   ]
  },
  {
   "cell_type": "markdown",
   "metadata": {},
   "source": [
    "1階: $ SF_1 = 1.08 $  \n",
    "2階: $ SF_2 = 1.04 $"
   ]
  },
  {
   "cell_type": "code",
   "execution_count": 9,
   "metadata": {},
   "outputs": [],
   "source": [
    "for h in hs:\n",
    "    h.sf = [1.08, 1.04]"
   ]
  },
  {
   "cell_type": "markdown",
   "metadata": {},
   "source": [
    "## 主開口方位"
   ]
  },
  {
   "cell_type": "markdown",
   "metadata": {},
   "source": [
    "南西とする。"
   ]
  },
  {
   "cell_type": "markdown",
   "metadata": {},
   "source": [
    "## 1階の床面積に対する2階の床面積の比"
   ]
  },
  {
   "cell_type": "markdown",
   "metadata": {},
   "source": [
    "自立循環型住宅プランの比を採用する。"
   ]
  },
  {
   "cell_type": "markdown",
   "metadata": {},
   "source": [
    "$ r_{FA} = 0.77 $"
   ]
  },
  {
   "cell_type": "code",
   "execution_count": 10,
   "metadata": {},
   "outputs": [],
   "source": [
    "for h in hs:\n",
    "    h.r_fa = 0.77"
   ]
  },
  {
   "cell_type": "markdown",
   "metadata": {},
   "source": [
    "## 基礎の高さ"
   ]
  },
  {
   "cell_type": "markdown",
   "metadata": {},
   "source": [
    "$ h_{base} = 0.5 $ (m) (一般部分)  "
   ]
  },
  {
   "cell_type": "markdown",
   "metadata": {},
   "source": [
    "$ h_{base,entrance} = 0.18 $ (m) (玄関)"
   ]
  },
  {
   "cell_type": "markdown",
   "metadata": {},
   "source": [
    "$ h_{base,bath} = 0.5 $ (m) (浴室)"
   ]
  },
  {
   "cell_type": "code",
   "execution_count": 11,
   "metadata": {},
   "outputs": [],
   "source": [
    "for h in hs:\n",
    "    h.h_base = 0.5\n",
    "    h.h_base_entrance = 0.18\n",
    "    h.h_base_bath = 0.5"
   ]
  },
  {
   "cell_type": "markdown",
   "metadata": {},
   "source": [
    "## 高さ"
   ]
  },
  {
   "cell_type": "markdown",
   "metadata": {},
   "source": [
    "$ h_1 = 2.9 $ (1階)  \n",
    "$ h_2 = 2.7 $ (2階)"
   ]
  },
  {
   "cell_type": "code",
   "execution_count": 12,
   "metadata": {},
   "outputs": [],
   "source": [
    "for h in hs:\n",
    "    h.h = [2.9, 2.7]"
   ]
  },
  {
   "cell_type": "markdown",
   "metadata": {},
   "source": [
    "## ドアの面積"
   ]
  },
  {
   "cell_type": "markdown",
   "metadata": {},
   "source": [
    "玄関の方位は北西、勝手口の方位は北東とする。自立循環型住宅プランの面積を採用した。"
   ]
  },
  {
   "cell_type": "markdown",
   "metadata": {},
   "source": [
    "$ A_{door,entrance} = 1.89 $ (m<sup>2</sup>) (玄関)  "
   ]
  },
  {
   "cell_type": "markdown",
   "metadata": {},
   "source": [
    "$ A_{door,backentrance} = 1.62 $ (m<sup>2</sup>) (勝手口)"
   ]
  },
  {
   "cell_type": "code",
   "execution_count": 13,
   "metadata": {},
   "outputs": [],
   "source": [
    "for h in hs:\n",
    "    h.a_door_entrance = 1.89\n",
    "    h.a_door_backentrance = 1.62"
   ]
  },
  {
   "cell_type": "markdown",
   "metadata": {},
   "source": [
    "## 玄関の土間床等の周辺部の基礎長さ"
   ]
  },
  {
   "cell_type": "markdown",
   "metadata": {},
   "source": [
    "$L_{base,entrance,MS}=1.365$(m)(主開口方位側)"
   ]
  },
  {
   "cell_type": "markdown",
   "metadata": {},
   "source": [
    "$L_{base,entrance,OS}=1.82$(m)(その他方位側)"
   ]
  },
  {
   "cell_type": "code",
   "execution_count": 14,
   "metadata": {},
   "outputs": [],
   "source": [
    "for h in hs:\n",
    "    h.l_base_entrance_ms = 1.365\n",
    "    h.l_base_entrance_os = 1.82"
   ]
  },
  {
   "cell_type": "markdown",
   "metadata": {},
   "source": [
    "## 浴室の土間床等の周辺部の基礎長さ"
   ]
  },
  {
   "cell_type": "markdown",
   "metadata": {},
   "source": [
    "$L_{base,bath,MS}=1.82$(m)(主開口方位側)"
   ]
  },
  {
   "cell_type": "markdown",
   "metadata": {},
   "source": [
    "$L_{base,bath,OS}=1.82$(m)(その他方位側)"
   ]
  },
  {
   "cell_type": "code",
   "execution_count": 15,
   "metadata": {},
   "outputs": [],
   "source": [
    "for h in hs:\n",
    "    h.l_base_bath_ms = 1.82\n",
    "    h.l_base_bath_os = 1.82"
   ]
  },
  {
   "cell_type": "markdown",
   "metadata": {},
   "source": [
    "## 開口部の面積比率"
   ]
  },
  {
   "cell_type": "markdown",
   "metadata": {},
   "source": [
    "$r_{opn} = 0.12$"
   ]
  },
  {
   "cell_type": "markdown",
   "metadata": {},
   "source": [
    "床断熱住宅と基礎断熱住宅とを同じ開口部面積にするために、基礎面積を含めない外皮表面積に対する値とする。"
   ]
  },
  {
   "cell_type": "code",
   "execution_count": 16,
   "metadata": {},
   "outputs": [],
   "source": [
    "for h in hs:\n",
    "    h.r_opn = 0.14"
   ]
  },
  {
   "cell_type": "markdown",
   "metadata": {},
   "source": [
    "## 方位別窓面積比率"
   ]
  },
  {
   "cell_type": "markdown",
   "metadata": {},
   "source": [
    "南西  \n",
    "$r_{wnd,SW}=0.6862$  \n",
    "北西  \n",
    "$r_{wnd,NW}=0.0721$  \n",
    "北東  \n",
    "$r_{wnd,NE}=0.1097$  \n",
    "南東  \n",
    "$r_{wnd,SE}=0.1320$"
   ]
  },
  {
   "cell_type": "code",
   "execution_count": 17,
   "metadata": {},
   "outputs": [],
   "source": [
    "for h in hs:\n",
    "    h.r_wnd = [0.6862, 0.0721, 0.1097, 0.1320]"
   ]
  },
  {
   "cell_type": "markdown",
   "metadata": {},
   "source": [
    "# 算出過程"
   ]
  },
  {
   "cell_type": "code",
   "execution_count": 18,
   "metadata": {},
   "outputs": [],
   "source": [
    "def show_result(prm):\n",
    "    for h in hs:\n",
    "        print(str(h.name) + ' : ' + str(prm(h)))"
   ]
  },
  {
   "cell_type": "markdown",
   "metadata": {},
   "source": [
    "## 床面積(土間床含む)"
   ]
  },
  {
   "cell_type": "markdown",
   "metadata": {},
   "source": [
    "$ A_{F,1} = \\frac{A_{F,total}}{ ( 1 + r_{FA} )} $  \n",
    "\n",
    "$ A_{F,2} = A_{F,total} - A_{F,1} $\n",
    "\n",
    "$A_{F,total}$: 床面積の合計(m<sup>2</sup>)  \n",
    "$r_{FA}$: 1階の床面積に対する2階の床面積の比  \n",
    "$A_{F,1}$: 1階の床面積(土間床含む)(m<sup>2</sup>)  \n",
    "$A_{F,2}$: 2階の床面積(m<sup>2</sup>)"
   ]
  },
  {
   "cell_type": "code",
   "execution_count": 19,
   "metadata": {},
   "outputs": [],
   "source": [
    "def get_a_f(a_f_total: float, r_fa: float) -> List[float]:\n",
    "    \n",
    "    a_f_1 = a_f_total / (1.0 + r_fa)\n",
    "    a_f_2 = a_f_total - a_f_1\n",
    "    \n",
    "    return [a_f_1, a_f_2]"
   ]
  },
  {
   "cell_type": "code",
   "execution_count": 20,
   "metadata": {},
   "outputs": [],
   "source": [
    "for h in hs:\n",
    "    h.a_f = get_a_f(a_f_total=h.a_f_total, r_fa=h.r_fa)"
   ]
  },
  {
   "cell_type": "code",
   "execution_count": 21,
   "metadata": {},
   "outputs": [
    {
     "name": "stdout",
     "output_type": "stream",
     "text": [
      "床断熱住宅（外皮に接する浴室床なし） : [50.847457627118644, 39.152542372881356]\n",
      "床断熱住宅（浴室床断熱） : [50.847457627118644, 39.152542372881356]\n",
      "床断熱住宅（浴室基礎断熱） : [50.847457627118644, 39.152542372881356]\n",
      "基礎断熱住宅 : [50.847457627118644, 39.152542372881356]\n"
     ]
    }
   ],
   "source": [
    "show_result(lambda h: h.a_f)"
   ]
  },
  {
   "cell_type": "markdown",
   "metadata": {},
   "source": [
    "## 周長"
   ]
  },
  {
   "cell_type": "markdown",
   "metadata": {},
   "source": [
    "$ \\begin{align} L_{prm,i} = \\sqrt{A_{F,i}} \\times 4 \\times SF_i \\end{align} $\n",
    "\n",
    "$L_{prm,i}$: $i$階の周長(m)($i=1,2$)  \n",
    "$SF_i$: $i$階の形状係数($i=1,2$)  "
   ]
  },
  {
   "cell_type": "code",
   "execution_count": 22,
   "metadata": {},
   "outputs": [],
   "source": [
    "def get_l_prm(a_f: List[float], sf:List[float]) -> List[float]:\n",
    "    \n",
    "    return [4 * sf_i * np.sqrt(a_f_i) for a_f_i, sf_i in zip(a_f, sf)]"
   ]
  },
  {
   "cell_type": "code",
   "execution_count": 23,
   "metadata": {},
   "outputs": [],
   "source": [
    "for h in hs:\n",
    "    h.l_prm = get_l_prm(a_f=h.a_f, sf=h.sf)"
   ]
  },
  {
   "cell_type": "code",
   "execution_count": 24,
   "metadata": {},
   "outputs": [
    {
     "name": "stdout",
     "output_type": "stream",
     "text": [
      "床断熱住宅（外皮に接する浴室床なし） : [30.80479821749104, 26.029948852968104]\n",
      "床断熱住宅（浴室床断熱） : [30.80479821749104, 26.029948852968104]\n",
      "床断熱住宅（浴室基礎断熱） : [30.80479821749104, 26.029948852968104]\n",
      "基礎断熱住宅 : [30.80479821749104, 26.029948852968104]\n"
     ]
    }
   ],
   "source": [
    "show_result(lambda h: h.l_prm)"
   ]
  },
  {
   "cell_type": "markdown",
   "metadata": {},
   "source": [
    "## 長辺の長さ"
   ]
  },
  {
   "cell_type": "markdown",
   "metadata": {},
   "source": [
    "$ \\displaystyle L_{LS,i} = \\frac{ \\frac{L_{prm,i}}{2} + \\sqrt{ \\left( \\frac{L_{prm,i}}{2} \\right)^2 - 4 \\times A_{F,i} } }{2} $\n",
    "\n",
    "$L_{LS,i}$: $i$階の長辺の長さ($i=1,2$)"
   ]
  },
  {
   "cell_type": "code",
   "execution_count": 25,
   "metadata": {},
   "outputs": [],
   "source": [
    "def get_l_ls(l_prm: List[float], a_f: List[float]) -> List[float]:\n",
    "    \n",
    "    return [(l_prm_i / 2 + np.sqrt((l_prm_i / 2)**2 - 4 * a_f_i)) / 2 for l_prm_i, a_f_i in zip(l_prm, a_f)]"
   ]
  },
  {
   "cell_type": "code",
   "execution_count": 26,
   "metadata": {},
   "outputs": [],
   "source": [
    "for h in hs:\n",
    "    h.l_ls = get_l_ls(l_prm=h.l_prm, a_f=h.a_f)"
   ]
  },
  {
   "cell_type": "code",
   "execution_count": 27,
   "metadata": {},
   "outputs": [
    {
     "name": "stdout",
     "output_type": "stream",
     "text": [
      "床断熱住宅（外皮に接する浴室床なし） : [10.609982280729707, 8.29490083566609]\n",
      "床断熱住宅（浴室床断熱） : [10.609982280729707, 8.29490083566609]\n",
      "床断熱住宅（浴室基礎断熱） : [10.609982280729707, 8.29490083566609]\n",
      "基礎断熱住宅 : [10.609982280729707, 8.29490083566609]\n"
     ]
    }
   ],
   "source": [
    "show_result(lambda h: h.l_ls)"
   ]
  },
  {
   "cell_type": "markdown",
   "metadata": {},
   "source": [
    "## 短辺の長さ"
   ]
  },
  {
   "cell_type": "markdown",
   "metadata": {},
   "source": [
    "$ \\displaystyle L_{SS,i} = \\frac{L_{prm,i}}{2} - L_{LS,i} $"
   ]
  },
  {
   "cell_type": "markdown",
   "metadata": {},
   "source": [
    "$L_{ss,i}$: $i$階の短辺の長さ(m)"
   ]
  },
  {
   "cell_type": "code",
   "execution_count": 28,
   "metadata": {},
   "outputs": [],
   "source": [
    "def get_l_ss(l_prm: List[float], l_ls: List[float]) -> List[float]:\n",
    "    \n",
    "    return [l_prm_i / 2 - l_ls_i for l_prm_i, l_ls_i in zip(l_prm, l_ls)]"
   ]
  },
  {
   "cell_type": "code",
   "execution_count": 29,
   "metadata": {},
   "outputs": [],
   "source": [
    "for h in hs:\n",
    "    h.l_ss = get_l_ss(l_prm=h.l_prm, l_ls=h.l_ls)"
   ]
  },
  {
   "cell_type": "code",
   "execution_count": 30,
   "metadata": {},
   "outputs": [
    {
     "name": "stdout",
     "output_type": "stream",
     "text": [
      "床断熱住宅（外皮に接する浴室床なし） : [4.7924168280158135, 4.720073590817963]\n",
      "床断熱住宅（浴室床断熱） : [4.7924168280158135, 4.720073590817963]\n",
      "床断熱住宅（浴室基礎断熱） : [4.7924168280158135, 4.720073590817963]\n",
      "基礎断熱住宅 : [4.7924168280158135, 4.720073590817963]\n"
     ]
    }
   ],
   "source": [
    "show_result(lambda h: h.l_ss)"
   ]
  },
  {
   "cell_type": "markdown",
   "metadata": {},
   "source": [
    "## 玄関の土間床等の面積"
   ]
  },
  {
   "cell_type": "markdown",
   "metadata": {},
   "source": [
    "$ A_{EF,entrance} = L_{base,entrance,MS} \\times L_{base,entrance,OS} $\n",
    "\n",
    "$A_{EF,entrance}$: 玄関の土間床等の面積(m<sup>2</sup>)  \n",
    "$L_{base,entrance,MS}$: 玄関の土間床等の周辺部の基礎長さ(主開口方位側)(m)  \n",
    "$L_{base,entrance,OS}$: 玄関の土間床等の周辺部の基礎長さ(その他の方位側)(m)  "
   ]
  },
  {
   "cell_type": "code",
   "execution_count": 31,
   "metadata": {},
   "outputs": [],
   "source": [
    "def get_a_ef_entrance(l_base_entrance_ms: float, l_base_entrance_os: float) -> float:\n",
    "    \n",
    "    return l_base_entrance_ms * l_base_entrance_os"
   ]
  },
  {
   "cell_type": "code",
   "execution_count": 32,
   "metadata": {},
   "outputs": [],
   "source": [
    "for h in hs:\n",
    "    h.a_ef_entrance = get_a_ef_entrance(l_base_entrance_ms=h.l_base_entrance_ms, l_base_entrance_os=h.l_base_entrance_os)"
   ]
  },
  {
   "cell_type": "code",
   "execution_count": 33,
   "metadata": {},
   "outputs": [
    {
     "name": "stdout",
     "output_type": "stream",
     "text": [
      "床断熱住宅（外皮に接する浴室床なし） : 2.4843\n",
      "床断熱住宅（浴室床断熱） : 2.4843\n",
      "床断熱住宅（浴室基礎断熱） : 2.4843\n",
      "基礎断熱住宅 : 2.4843\n"
     ]
    }
   ],
   "source": [
    "show_result(lambda h: h.a_ef_entrance)"
   ]
  },
  {
   "cell_type": "markdown",
   "metadata": {},
   "source": [
    "## 浴室の土間床等の面積"
   ]
  },
  {
   "cell_type": "markdown",
   "metadata": {},
   "source": [
    "$ A_{EF,bath} = L_{base,bath,MS} \\times L_{base,bath,OS} $\n",
    "\n",
    "$A_{EF,bath}$: 浴室の土間床等の面積(m<sup>2</sup>)  \n",
    "$L_{base,bath,MS}$: 浴室の土間床等の周辺部の基礎長さ(主開口方位側)(m)  \n",
    "$L_{base,bath,OS}$: 浴室の土間床等の周辺部の基礎長さ(その他の方位側)(m)  \n",
    "\n",
    "ただし、「床断熱住宅（外皮に接する浴室床なし）」及び「床断熱住宅（浴室床断熱）」の場合は、0.0(m<sup>2</sup>)とする。"
   ]
  },
  {
   "cell_type": "code",
   "execution_count": 34,
   "metadata": {},
   "outputs": [],
   "source": [
    "def get_a_ef_bath(floor_ins: FloorIns, bath_ins: BathIns, l_base_bath_ms: float, l_base_bath_os: float) -> float:\n",
    "    \n",
    "    if floor_ins == FloorIns.FLOOR:\n",
    "        if bath_ins == BathIns.NOT_EXIST:\n",
    "            return 0.0\n",
    "        elif bath_ins == BathIns.FLOOR:\n",
    "            return 0.0\n",
    "        elif bath_ins == BathIns.BASE:\n",
    "            return l_base_bath_ms * l_base_bath_os\n",
    "        else:\n",
    "            raise ValueError()\n",
    "    elif floor_ins == FloorIns.BASE:\n",
    "        return l_base_bath_ms * l_base_bath_os\n",
    "    else:\n",
    "        raise ValueError()"
   ]
  },
  {
   "cell_type": "code",
   "execution_count": 35,
   "metadata": {},
   "outputs": [],
   "source": [
    "for h in hs:\n",
    "    h.a_ef_bath = get_a_ef_bath(\n",
    "        floor_ins=h.floor_ins, bath_ins=h.bath_ins, l_base_bath_ms=h.l_base_bath_ms, l_base_bath_os=h.l_base_bath_os)"
   ]
  },
  {
   "cell_type": "code",
   "execution_count": 36,
   "metadata": {},
   "outputs": [
    {
     "name": "stdout",
     "output_type": "stream",
     "text": [
      "床断熱住宅（外皮に接する浴室床なし） : 0.0\n",
      "床断熱住宅（浴室床断熱） : 0.0\n",
      "床断熱住宅（浴室基礎断熱） : 3.3124000000000002\n",
      "基礎断熱住宅 : 3.3124000000000002\n"
     ]
    }
   ],
   "source": [
    "show_result(lambda h: h.a_ef_bath)"
   ]
  },
  {
   "cell_type": "markdown",
   "metadata": {},
   "source": [
    "## 玄関・浴室除くその他の土間床等の面積"
   ]
  },
  {
   "cell_type": "markdown",
   "metadata": {},
   "source": [
    "$ A_{EF,other} = A_{F,1} - A_{EF,entrance} - A_{EF,bath} $\n",
    "\n",
    "$ A_{EF,other} $: 土間床等の面積(玄関・浴室除く)(m<sup>2</sup>)  \n",
    "\n",
    "ただし、「床断熱住宅」の場合は、0.0(m<sup>2</sup>)とする。"
   ]
  },
  {
   "cell_type": "code",
   "execution_count": 37,
   "metadata": {},
   "outputs": [],
   "source": [
    "def get_a_ef_other(floor_ins: FloorIns, a_f: List[float], a_ef_entrance: float, a_ef_bath: float) -> float:\n",
    "    \n",
    "    if floor_ins == FloorIns.FLOOR:\n",
    "        return 0.0\n",
    "    elif floor_ins == FloorIns.BASE:\n",
    "        return a_f[0] - a_ef_entrance - a_ef_bath\n",
    "    else:\n",
    "        raise ValueError()"
   ]
  },
  {
   "cell_type": "code",
   "execution_count": 38,
   "metadata": {},
   "outputs": [],
   "source": [
    "for h in hs:\n",
    "    h.a_ef_other = get_a_ef_other(floor_ins=h.floor_ins, a_f=h.a_f, a_ef_entrance=h.a_ef_entrance, a_ef_bath=h.a_ef_bath)"
   ]
  },
  {
   "cell_type": "code",
   "execution_count": 39,
   "metadata": {},
   "outputs": [
    {
     "name": "stdout",
     "output_type": "stream",
     "text": [
      "床断熱住宅（外皮に接する浴室床なし） : 0.0\n",
      "床断熱住宅（浴室床断熱） : 0.0\n",
      "床断熱住宅（浴室基礎断熱） : 0.0\n",
      "基礎断熱住宅 : 45.05075762711864\n"
     ]
    }
   ],
   "source": [
    "show_result(lambda h: h.a_ef_other)"
   ]
  },
  {
   "cell_type": "markdown",
   "metadata": {},
   "source": [
    "## 土間床等の面積の合計"
   ]
  },
  {
   "cell_type": "markdown",
   "metadata": {},
   "source": [
    "$ A_{EF,total} = A_{EF,entrane} + A_{EF,bath} + A_{EF,other} $"
   ]
  },
  {
   "cell_type": "markdown",
   "metadata": {},
   "source": [
    "$A_{EF,total}$ : 土間床等の面積の合計(m<sup>2</sup>)"
   ]
  },
  {
   "cell_type": "code",
   "execution_count": 40,
   "metadata": {},
   "outputs": [],
   "source": [
    "def get_a_ef_total(a_ef_entrance: float, a_ef_bath: float, a_ef_other: float) -> float:\n",
    "    \n",
    "    return a_ef_entrance + a_ef_bath + a_ef_other"
   ]
  },
  {
   "cell_type": "code",
   "execution_count": 41,
   "metadata": {},
   "outputs": [],
   "source": [
    "for h in hs:\n",
    "    h.a_ef_total = get_a_ef_total(a_ef_entrance=h.a_ef_entrance, a_ef_bath=h.a_ef_bath, a_ef_other=h.a_ef_other)"
   ]
  },
  {
   "cell_type": "code",
   "execution_count": 42,
   "metadata": {},
   "outputs": [
    {
     "name": "stdout",
     "output_type": "stream",
     "text": [
      "床断熱住宅（外皮に接する浴室床なし） : 2.4843\n",
      "床断熱住宅（浴室床断熱） : 2.4843\n",
      "床断熱住宅（浴室基礎断熱） : 5.7967\n",
      "基礎断熱住宅 : 50.847457627118644\n"
     ]
    }
   ],
   "source": [
    "show_result(lambda h: h.a_ef_total)"
   ]
  },
  {
   "cell_type": "markdown",
   "metadata": {},
   "source": [
    "## 玄関等の土間床等の外周部の長さ"
   ]
  },
  {
   "cell_type": "markdown",
   "metadata": {},
   "source": [
    "外気側：  \n",
    "南西: $L_{base,entrance,SW}=0.0$  \n",
    "北西: $L_{base,entrance,NW}=L_{base,entrance,OS}$  \n",
    "北東: $L_{base,entrance,NE}=L_{base,entrance,MS}$  \n",
    "南東: $L_{base,entrance,SE}=0.0$  "
   ]
  },
  {
   "cell_type": "code",
   "execution_count": 43,
   "metadata": {},
   "outputs": [],
   "source": [
    "def get_l_base_entrance_outside(l_base_entrance_ms: float, l_base_entrance_os: float) -> Tuple[float]:\n",
    "    \n",
    "    return (0.0, l_base_entrance_os, l_base_entrance_ms, 0.0)"
   ]
  },
  {
   "cell_type": "code",
   "execution_count": 44,
   "metadata": {},
   "outputs": [],
   "source": [
    "for h in hs:\n",
    "    h.l_base_entrance_outside = get_l_base_entrance_outside(\n",
    "        l_base_entrance_ms=h.l_base_entrance_ms, l_base_entrance_os=h.l_base_entrance_os)"
   ]
  },
  {
   "cell_type": "code",
   "execution_count": 45,
   "metadata": {},
   "outputs": [
    {
     "name": "stdout",
     "output_type": "stream",
     "text": [
      "床断熱住宅（外皮に接する浴室床なし） : (0.0, 1.82, 1.365, 0.0)\n",
      "床断熱住宅（浴室床断熱） : (0.0, 1.82, 1.365, 0.0)\n",
      "床断熱住宅（浴室基礎断熱） : (0.0, 1.82, 1.365, 0.0)\n",
      "基礎断熱住宅 : (0.0, 1.82, 1.365, 0.0)\n"
     ]
    }
   ],
   "source": [
    "show_result(lambda h: h.l_base_entrance_outside)"
   ]
  },
  {
   "cell_type": "markdown",
   "metadata": {},
   "source": [
    "床下側:  \n",
    "$\n",
    "L_{base,entrance,inside} = \\left \\{\n",
    "\\begin{array}{ll}\n",
    "    L_{base,entrance,MS} + L_{base,entrance,OS} & \\text{ ( floor insulted house ) } \\\\\n",
    "    0.0 & \\text{ ( insulated house ) }\n",
    "\\end{array}\n",
    "\\right.\n",
    "$"
   ]
  },
  {
   "cell_type": "code",
   "execution_count": 46,
   "metadata": {},
   "outputs": [],
   "source": [
    "def get_l_base_entrance_inside(floor_ins: FloorIns, l_base_entrance_ms: float, l_base_entrance_os: float) -> float:\n",
    "    \n",
    "    return {\n",
    "        FloorIns.FLOOR: l_base_entrance_ms + l_base_entrance_os,\n",
    "        FloorIns.BASE: 0.0\n",
    "    }[floor_ins]"
   ]
  },
  {
   "cell_type": "code",
   "execution_count": 47,
   "metadata": {},
   "outputs": [],
   "source": [
    "for h in hs:\n",
    "    h.l_base_entrance_inside = get_l_base_entrance_inside(\n",
    "        floor_ins=h.floor_ins, l_base_entrance_ms=h.l_base_entrance_ms, l_base_entrance_os=h.l_base_entrance_os)"
   ]
  },
  {
   "cell_type": "code",
   "execution_count": 48,
   "metadata": {},
   "outputs": [
    {
     "name": "stdout",
     "output_type": "stream",
     "text": [
      "床断熱住宅（外皮に接する浴室床なし） : 3.185\n",
      "床断熱住宅（浴室床断熱） : 3.185\n",
      "床断熱住宅（浴室基礎断熱） : 3.185\n",
      "基礎断熱住宅 : 0.0\n"
     ]
    }
   ],
   "source": [
    "show_result(lambda h: h.l_base_entrance_inside)"
   ]
  },
  {
   "cell_type": "markdown",
   "metadata": {},
   "source": [
    "## 浴室の土間床等の外周部の長さ"
   ]
  },
  {
   "cell_type": "markdown",
   "metadata": {},
   "source": [
    "外気側：  \n",
    "南西:  $L_{base,bath,SW}=0.0$  \n",
    "北西:  $L_{base,bath,NW}=L_{base,bath,OS}$  \n",
    "北東:  $L_{base,bath,NE}=L_{base,bath,MS}$  \n",
    "南東:  $L_{base,bath,SE}=0.0$\n",
    "\n",
    "ただし、「床断熱住宅（外皮に接する浴室床なし）」、「床断熱住宅（浴室床断熱）」及び「基礎断熱住宅」の場合はいずれの長さも0mとする。"
   ]
  },
  {
   "cell_type": "code",
   "execution_count": 49,
   "metadata": {},
   "outputs": [],
   "source": [
    "def get_l_base_bath_outside(floor_ins: FloorIns, bath_ins: BathIns, l_base_bath_ms: float, l_base_bath_os: float) -> Tuple[float]:\n",
    "    \n",
    "    if floor_ins == FloorIns.FLOOR:\n",
    "        if bath_ins == BathIns.NOT_EXIST or bath_ins == BathIns.FLOOR:\n",
    "            return 0.0, 0.0, 0.0, 0.0\n",
    "        elif bath_ins == BathIns.BASE:\n",
    "            return 0.0, l_base_bath_os, l_base_bath_ms, 0.0\n",
    "        else:\n",
    "            raise ValueError\n",
    "    elif floor_ins == FloorIns.BASE:\n",
    "        return 0.0, l_base_bath_os, l_base_bath_ms, 0.0\n",
    "    else:\n",
    "        raise ValueError"
   ]
  },
  {
   "cell_type": "code",
   "execution_count": 50,
   "metadata": {},
   "outputs": [],
   "source": [
    "for h in hs:\n",
    "    h.l_base_bath_outside = get_l_base_bath_outside(\n",
    "        floor_ins=h.floor_ins, bath_ins=h.bath_ins, l_base_bath_ms=h.l_base_bath_ms, l_base_bath_os=h.l_base_bath_os)"
   ]
  },
  {
   "cell_type": "code",
   "execution_count": 51,
   "metadata": {},
   "outputs": [
    {
     "name": "stdout",
     "output_type": "stream",
     "text": [
      "床断熱住宅（外皮に接する浴室床なし） : (0.0, 0.0, 0.0, 0.0)\n",
      "床断熱住宅（浴室床断熱） : (0.0, 0.0, 0.0, 0.0)\n",
      "床断熱住宅（浴室基礎断熱） : (0.0, 1.82, 1.82, 0.0)\n",
      "基礎断熱住宅 : (0.0, 1.82, 1.82, 0.0)\n"
     ]
    }
   ],
   "source": [
    "show_result(lambda h: h.l_base_bath_outside)"
   ]
  },
  {
   "cell_type": "markdown",
   "metadata": {},
   "source": [
    "室内側:  \n",
    "$ L_{base,bath,inside} = L_{base,bath,MS} + L_{base,bath,OS} $\n",
    "\n",
    "ただし、「床断熱住宅（外皮に接する浴室床なし）」、「床断熱住宅（浴室床断熱）」及び「基礎断熱住宅」の場合はいずれの長さも0mとする。"
   ]
  },
  {
   "cell_type": "code",
   "execution_count": 52,
   "metadata": {},
   "outputs": [],
   "source": [
    "def get_l_base_bath_inside(floor_ins: FloorIns, bath_ins: BathIns, l_base_bath_ms: float, l_base_bath_os: float) -> float:\n",
    "    \n",
    "    if floor_ins == FloorIns.FLOOR:\n",
    "        if bath_ins == BathIns.NOT_EXIST or bath_ins == BathIns.FLOOR:\n",
    "            return 0.0\n",
    "        elif bath_ins == BathIns.BASE:\n",
    "            return l_base_bath_ms + l_base_bath_os\n",
    "        else:\n",
    "            raise ValueError\n",
    "    elif floor_ins == FloorIns.BASE:\n",
    "        return 0.0\n",
    "    else:\n",
    "        raise ValueError"
   ]
  },
  {
   "cell_type": "code",
   "execution_count": 53,
   "metadata": {},
   "outputs": [],
   "source": [
    "for h in hs:\n",
    "    h.l_base_bath_inside = get_l_base_bath_inside(\n",
    "        floor_ins=h.floor_ins, bath_ins=h.bath_ins, l_base_bath_ms=h.l_base_bath_ms, l_base_bath_os=h.l_base_bath_os)"
   ]
  },
  {
   "cell_type": "code",
   "execution_count": 54,
   "metadata": {},
   "outputs": [
    {
     "name": "stdout",
     "output_type": "stream",
     "text": [
      "床断熱住宅（外皮に接する浴室床なし） : 0.0\n",
      "床断熱住宅（浴室床断熱） : 0.0\n",
      "床断熱住宅（浴室基礎断熱） : 3.64\n",
      "基礎断熱住宅 : 0.0\n"
     ]
    }
   ],
   "source": [
    "show_result(lambda h: h.l_base_bath_inside)"
   ]
  },
  {
   "cell_type": "markdown",
   "metadata": {},
   "source": [
    "## 玄関・浴室除くその他の土間床等の外周部の長さ"
   ]
  },
  {
   "cell_type": "markdown",
   "metadata": {},
   "source": [
    "南西: $L_{base,SW} = \\left \\{\n",
    "\\begin{array}{ll}\n",
    "    0.0 & \\text{ ( floor insulated house ) } \\\\\n",
    "    L_{LS,1} - L_{base,entrance,SW} - L_{base,bath,SW} & \\text{ ( base insulated house ) }\n",
    "\\end{array}\n",
    "\\right.\n",
    "$\n",
    "\n",
    "北西: $L_{base,NW} = \\left \\{\n",
    "\\begin{array}{ll}\n",
    "    0.0 & \\text{ ( floor insulated house ) } \\\\\n",
    "    L_{SS,1} - L_{base,entrance,NW} - L_{base,bath,NW} & \\text{ ( base insulated house ) }\n",
    "\\end{array}\n",
    "\\right.\n",
    "$\n",
    "\n",
    "北東: $L_{base,NE} = \\left \\{\n",
    "\\begin{array}{ll}\n",
    "    0.0 & \\text{ ( floor insulated house ) } \\\\\n",
    "    L_{LS,1} - L_{base,entrance,NE} - L_{base,bath,NE} & \\text{ ( base insulated house ) }\n",
    "\\end{array}\n",
    "\\right.\n",
    "$\n",
    "\n",
    "南東: $L_{base,SE} = \\left \\{\n",
    "\\begin{array}{ll}\n",
    "    0.0 & \\text{ ( floor insulated house ) } \\\\\n",
    "    L_{SS,1} - L_{base,entrance,SE} - L_{base,bath,SE} & \\text{ ( base insulated house ) }\n",
    "\\end{array}\n",
    "\\right.\n",
    "$"
   ]
  },
  {
   "cell_type": "code",
   "execution_count": 55,
   "metadata": {},
   "outputs": [],
   "source": [
    "def get_l_base_other_outside(\n",
    "    floor_ins: FloorIns, l_ls: Tuple[float], l_ss: Tuple[float], l_base_entrance_outside: Tuple[float], l_base_bath_outside: Tuple[float]\n",
    ") -> Tuple[float]:\n",
    "    \n",
    "    if floor_ins == FloorIns.FLOOR:\n",
    "        return (0.0, 0.0, 0.0, 0.0)\n",
    "    elif floor_ins == FloorIns.BASE:\n",
    "        return (\n",
    "            l_ls[0] - l_base_entrance_outside[0] - l_base_bath_outside[0],\n",
    "            l_ss[0] - l_base_entrance_outside[1] - l_base_bath_outside[1],\n",
    "            l_ls[0] - l_base_entrance_outside[2] - l_base_bath_outside[2],\n",
    "            l_ss[0] - l_base_entrance_outside[3] - l_base_bath_outside[3]\n",
    "        )\n",
    "    else:\n",
    "        raise ValueError()       "
   ]
  },
  {
   "cell_type": "code",
   "execution_count": 56,
   "metadata": {},
   "outputs": [],
   "source": [
    "for h in hs:\n",
    "    h.l_base_other_outside = get_l_base_other_outside(\n",
    "        floor_ins=h.floor_ins, l_ls=h.l_ls, l_ss=h.l_ss, l_base_entrance_outside=h.l_base_entrance_outside,\n",
    "        l_base_bath_outside=h.l_base_bath_outside)"
   ]
  },
  {
   "cell_type": "code",
   "execution_count": 57,
   "metadata": {},
   "outputs": [
    {
     "name": "stdout",
     "output_type": "stream",
     "text": [
      "床断熱住宅（外皮に接する浴室床なし） : (0.0, 0.0, 0.0, 0.0)\n",
      "床断熱住宅（浴室床断熱） : (0.0, 0.0, 0.0, 0.0)\n",
      "床断熱住宅（浴室基礎断熱） : (0.0, 0.0, 0.0, 0.0)\n",
      "基礎断熱住宅 : (10.609982280729707, 1.1524168280158131, 7.424982280729706, 4.7924168280158135)\n"
     ]
    }
   ],
   "source": [
    "show_result(lambda h: h.l_base_other_outside)"
   ]
  },
  {
   "cell_type": "markdown",
   "metadata": {},
   "source": [
    "室内側:  \n",
    "$ L_{base,inside} = 0.0 $"
   ]
  },
  {
   "cell_type": "code",
   "execution_count": 58,
   "metadata": {},
   "outputs": [],
   "source": [
    "def get_l_base_other_inside() -> float:\n",
    "    \n",
    "    return 0.0"
   ]
  },
  {
   "cell_type": "code",
   "execution_count": 59,
   "metadata": {},
   "outputs": [],
   "source": [
    "for h in hs:\n",
    "    h.l_base_other_inside = get_l_base_other_inside()"
   ]
  },
  {
   "cell_type": "code",
   "execution_count": 60,
   "metadata": {},
   "outputs": [
    {
     "name": "stdout",
     "output_type": "stream",
     "text": [
      "床断熱住宅（外皮に接する浴室床なし） : 0.0\n",
      "床断熱住宅（浴室床断熱） : 0.0\n",
      "床断熱住宅（浴室基礎断熱） : 0.0\n",
      "基礎断熱住宅 : 0.0\n"
     ]
    }
   ],
   "source": [
    "show_result(lambda h: h.l_base_other_inside)"
   ]
  },
  {
   "cell_type": "markdown",
   "metadata": {},
   "source": [
    "## 土間床周長(合計)"
   ]
  },
  {
   "cell_type": "markdown",
   "metadata": {},
   "source": [
    "南西:   $ L_{prm,SW} = L_{base,SW} + L_{base,entrance,SW} + L_{base,bath,SW} $  \n",
    "北西:   $ L_{prm,NW} = L_{base,NW} + L_{base,entrance,NW} + L_{base,bath,NW} $  \n",
    "北東:   $ L_{prm,NE} = L_{base,NE} + L_{base,entrance,NE} + L_{base,bath,NE} $  \n",
    "南東:   $ L_{prm,SE} = L_{base,SE} + L_{base,entrance,SE} + L_{base,bath,SE} $  "
   ]
  },
  {
   "cell_type": "code",
   "execution_count": 61,
   "metadata": {},
   "outputs": [],
   "source": [
    "def get_l_prm_outside(\n",
    "    l_base_outside: Tuple[float], l_base_entrance_outside: Tuple[float], l_base_bath_outside: Tuple[float]) -> Tuple[float]:\n",
    "\n",
    "    return (\n",
    "        l_base_outside[0] + l_base_entrance_outside[0] + l_base_bath_outside[0],\n",
    "        l_base_outside[1] + l_base_entrance_outside[1] + l_base_bath_outside[1],\n",
    "        l_base_outside[2] + l_base_entrance_outside[2] + l_base_bath_outside[2],\n",
    "        l_base_outside[3] + l_base_entrance_outside[3] + l_base_bath_outside[3]\n",
    "    )"
   ]
  },
  {
   "cell_type": "code",
   "execution_count": 62,
   "metadata": {},
   "outputs": [],
   "source": [
    "for h in hs:\n",
    "    h.l_prm_outside = get_l_prm_outside(\n",
    "        l_base_outside=h.l_base_other_outside, l_base_entrance_outside=h.l_base_entrance_outside,\n",
    "        l_base_bath_outside=h.l_base_bath_outside)"
   ]
  },
  {
   "cell_type": "code",
   "execution_count": 63,
   "metadata": {},
   "outputs": [
    {
     "name": "stdout",
     "output_type": "stream",
     "text": [
      "床断熱住宅（外皮に接する浴室床なし） : (0.0, 1.82, 1.365, 0.0)\n",
      "床断熱住宅（浴室床断熱） : (0.0, 1.82, 1.365, 0.0)\n",
      "床断熱住宅（浴室基礎断熱） : (0.0, 3.64, 3.185, 0.0)\n",
      "基礎断熱住宅 : (10.609982280729707, 4.7924168280158135, 10.609982280729707, 4.7924168280158135)\n"
     ]
    }
   ],
   "source": [
    "show_result(lambda h: h.l_prm_outside)"
   ]
  },
  {
   "cell_type": "markdown",
   "metadata": {},
   "source": [
    "室内側: $ L_{prm,inside} = L_{base,inside} + L_{base,entrance,inside} + L_{base,bath,inside} $"
   ]
  },
  {
   "cell_type": "code",
   "execution_count": 64,
   "metadata": {},
   "outputs": [],
   "source": [
    "def get_l_prm_inside(l_base_inside: float, l_base_d_inside: float, l_base_b_inside: float) -> float:\n",
    "\n",
    "    return l_base_inside + l_base_d_inside + l_base_b_inside"
   ]
  },
  {
   "cell_type": "code",
   "execution_count": 65,
   "metadata": {},
   "outputs": [],
   "source": [
    "for h in hs:\n",
    "    h.l_prm_inside = get_l_prm_inside(\n",
    "        l_base_inside=h.l_base_other_inside, l_base_d_inside=h.l_base_entrance_inside,\n",
    "        l_base_b_inside=h.l_base_bath_inside)"
   ]
  },
  {
   "cell_type": "code",
   "execution_count": 66,
   "metadata": {},
   "outputs": [
    {
     "name": "stdout",
     "output_type": "stream",
     "text": [
      "床断熱住宅（外皮に接する浴室床なし） : 3.185\n",
      "床断熱住宅（浴室床断熱） : 3.185\n",
      "床断熱住宅（浴室基礎断熱） : 6.825\n",
      "基礎断熱住宅 : 0.0\n"
     ]
    }
   ],
   "source": [
    "show_result(lambda h: h.l_prm_inside)"
   ]
  },
  {
   "cell_type": "markdown",
   "metadata": {},
   "source": [
    "## 浴室の床断熱した床の面積"
   ]
  },
  {
   "cell_type": "markdown",
   "metadata": {},
   "source": [
    "$ A_{IF,bath} = L_{base,bath,MS} \\times L_{base,bath,OS} $\n",
    "\n",
    "$A_{IF,bath}$: 浴室の床断熱した床の面積(m<sup>2</sup>)  \n",
    "$L_{base,bath,MS}$: 浴室の土間床等の周辺部の基礎長さ(主開口方位側)(m)  \n",
    "$L_{base,bath,OS}$: 浴室の土間床等の周辺部の基礎長さ(その他の方位側)(m)  \n",
    "\n",
    "ただし、「床断熱住宅（外皮に接する浴室床なし）」及び「床断熱住宅（浴室床断熱）」の場合のみ。  \n",
    "その他の場合は、0.0(m<sup>2</sup>)とする。"
   ]
  },
  {
   "cell_type": "code",
   "execution_count": 67,
   "metadata": {},
   "outputs": [],
   "source": [
    "def get_a_if_bath(floor_ins: FloorIns, bath_ins: BathIns, l_base_bath_ms: float, l_base_bath_os: float) -> float:\n",
    "    \n",
    "    if floor_ins == FloorIns.FLOOR:\n",
    "        if bath_ins == BathIns.NOT_EXIST:\n",
    "            return l_base_bath_ms * l_base_bath_os\n",
    "        elif bath_ins == BathIns.FLOOR:\n",
    "            return l_base_bath_ms * l_base_bath_os\n",
    "        elif bath_ins == BathIns.BASE:\n",
    "            return 0.0\n",
    "        else:\n",
    "            raise ValueError()\n",
    "    elif floor_ins == FloorIns.BASE:\n",
    "        return 0.0\n",
    "    else:\n",
    "        raise ValueError()"
   ]
  },
  {
   "cell_type": "code",
   "execution_count": 68,
   "metadata": {},
   "outputs": [],
   "source": [
    "for h in hs:\n",
    "    h.a_if_bath = get_a_if_bath(\n",
    "        floor_ins=h.floor_ins, bath_ins=h.bath_ins, l_base_bath_ms=h.l_base_bath_ms, l_base_bath_os=h.l_base_bath_os)"
   ]
  },
  {
   "cell_type": "code",
   "execution_count": 69,
   "metadata": {},
   "outputs": [
    {
     "name": "stdout",
     "output_type": "stream",
     "text": [
      "床断熱住宅（外皮に接する浴室床なし） : 3.3124000000000002\n",
      "床断熱住宅（浴室床断熱） : 3.3124000000000002\n",
      "床断熱住宅（浴室基礎断熱） : 0.0\n",
      "基礎断熱住宅 : 0.0\n"
     ]
    }
   ],
   "source": [
    "show_result(lambda h: h.a_if_bath)"
   ]
  },
  {
   "cell_type": "markdown",
   "metadata": {},
   "source": [
    "## 浴室除くその他の床断熱した床の面積"
   ]
  },
  {
   "cell_type": "markdown",
   "metadata": {},
   "source": [
    "$ A_{IF} = A_{F,1} - A_{EF,total} - A_{IF,bath} $ "
   ]
  },
  {
   "cell_type": "markdown",
   "metadata": {},
   "source": [
    "$A_{IF}$: 床断熱した床の面積(m<sup>2</sup>)"
   ]
  },
  {
   "cell_type": "code",
   "execution_count": 70,
   "metadata": {},
   "outputs": [],
   "source": [
    "def get_a_if(a_f: List[float], a_ef_total: float, a_if_bath: float) -> float:\n",
    "    return a_f[0] - a_ef_total - a_if_bath"
   ]
  },
  {
   "cell_type": "code",
   "execution_count": 71,
   "metadata": {},
   "outputs": [],
   "source": [
    "for h in hs:\n",
    "    h.a_if = get_a_if(a_f=h.a_f, a_ef_total=h.a_ef_total, a_if_bath=h.a_if_bath)"
   ]
  },
  {
   "cell_type": "code",
   "execution_count": 72,
   "metadata": {},
   "outputs": [
    {
     "name": "stdout",
     "output_type": "stream",
     "text": [
      "床断熱住宅（外皮に接する浴室床なし） : 45.05075762711864\n",
      "床断熱住宅（浴室床断熱） : 45.05075762711864\n",
      "床断熱住宅（浴室基礎断熱） : 45.05075762711864\n",
      "基礎断熱住宅 : 0.0\n"
     ]
    }
   ],
   "source": [
    "show_result(lambda h: h.a_if)"
   ]
  },
  {
   "cell_type": "markdown",
   "metadata": {},
   "source": [
    "## 天井・屋根(下屋を含む)"
   ]
  },
  {
   "cell_type": "markdown",
   "metadata": {},
   "source": [
    "天井・屋根(下屋を含む)の面積は、オーバーハング床を想定しない限り、1階の床面積(土間床含む)と等しい。"
   ]
  },
  {
   "cell_type": "markdown",
   "metadata": {},
   "source": [
    "$ A_{roof} = A_{F,1}  $ "
   ]
  },
  {
   "cell_type": "markdown",
   "metadata": {},
   "source": [
    "$A_{roof}$: 天井・屋根(下屋を含む)の面積 (m<sup>2</sup>)"
   ]
  },
  {
   "cell_type": "code",
   "execution_count": 73,
   "metadata": {},
   "outputs": [],
   "source": [
    "def get_a_roof(a_f: List[float]) -> float:\n",
    "    \n",
    "    return a_f[0]"
   ]
  },
  {
   "cell_type": "code",
   "execution_count": 74,
   "metadata": {},
   "outputs": [],
   "source": [
    "for h in hs:\n",
    "    h.a_roof = get_a_roof(h.a_f)"
   ]
  },
  {
   "cell_type": "code",
   "execution_count": 75,
   "metadata": {},
   "outputs": [
    {
     "name": "stdout",
     "output_type": "stream",
     "text": [
      "床断熱住宅（外皮に接する浴室床なし） : 50.847457627118644\n",
      "床断熱住宅（浴室床断熱） : 50.847457627118644\n",
      "床断熱住宅（浴室基礎断熱） : 50.847457627118644\n",
      "基礎断熱住宅 : 50.847457627118644\n"
     ]
    }
   ],
   "source": [
    "show_result(lambda h: h.a_roof)"
   ]
  },
  {
   "cell_type": "markdown",
   "metadata": {},
   "source": [
    "## 基礎(玄関)の面積"
   ]
  },
  {
   "cell_type": "markdown",
   "metadata": {},
   "source": [
    "南西:  $ A_{base,entrance,SW} = L_{base,entrance,SW} \\times h_{base,entrance} $  \n",
    "北西:  $ A_{base,entrance,NW} = L_{base,entrance,NW} \\times h_{base,entrance} $  \n",
    "北東:  $ A_{base,entrance,NE} = L_{base,entrance,NE} \\times h_{base,entrance} $  \n",
    "南東:  $ L_{base,entrance,SE} = L_{base,entrance,SE} \\times h_{base,entrance} $  \n",
    "\n",
    "$A_{base,entrance,SW}$: 基礎(玄関)(南西)の面積(m<sup>2</sup>)  \n",
    "$A_{base,entrance,NW}$: 基礎(玄関)(北西)の面積(m<sup>2</sup>)  \n",
    "$A_{base,entrance,NE}$: 基礎(玄関)(北東)の面積(m<sup>2</sup>)  \n",
    "$A_{base,entrance,SE}$: 基礎(玄関)(南東)の面積(m<sup>2</sup>)  "
   ]
  },
  {
   "cell_type": "code",
   "execution_count": 76,
   "metadata": {},
   "outputs": [],
   "source": [
    "def get_a_base_entrance_outside(l_base_entrance_outside: Tuple[float], h_base_entrance: float):\n",
    "    \n",
    "    return (\n",
    "        l_base_entrance_outside[0] * h_base_entrance,\n",
    "        l_base_entrance_outside[1] * h_base_entrance,\n",
    "        l_base_entrance_outside[2] * h_base_entrance,\n",
    "        l_base_entrance_outside[3] * h_base_entrance\n",
    "    )"
   ]
  },
  {
   "cell_type": "code",
   "execution_count": 77,
   "metadata": {},
   "outputs": [],
   "source": [
    "for h in hs:\n",
    "    \n",
    "    h.a_base_entrance_outside = get_a_base_entrance_outside(\n",
    "        l_base_entrance_outside=h.l_base_entrance_outside, h_base_entrance=h.h_base_entrance)"
   ]
  },
  {
   "cell_type": "code",
   "execution_count": 78,
   "metadata": {},
   "outputs": [
    {
     "name": "stdout",
     "output_type": "stream",
     "text": [
      "床断熱住宅（外皮に接する浴室床なし） : (0.0, 0.3276, 0.2457, 0.0)\n",
      "床断熱住宅（浴室床断熱） : (0.0, 0.3276, 0.2457, 0.0)\n",
      "床断熱住宅（浴室基礎断熱） : (0.0, 0.3276, 0.2457, 0.0)\n",
      "基礎断熱住宅 : (0.0, 0.3276, 0.2457, 0.0)\n"
     ]
    }
   ],
   "source": [
    "show_result(lambda h: h.a_base_entrance_outside)"
   ]
  },
  {
   "cell_type": "markdown",
   "metadata": {},
   "source": [
    "室内側:  $ L_{base,entrance,inside} = L_{base,entrance,inside} \\times h_{base,entrance} $\n",
    "\n",
    "$A_{base,entrance,inside}$: 基礎(玄関)(室内側)の面積(m<sup>2</sup>)  "
   ]
  },
  {
   "cell_type": "code",
   "execution_count": 79,
   "metadata": {},
   "outputs": [],
   "source": [
    "def get_a_base_entrance_inside(l_base_entrance_inside: float, h_base_entrance: float):\n",
    "    \n",
    "    return l_base_entrance_inside * h_base_entrance"
   ]
  },
  {
   "cell_type": "code",
   "execution_count": 80,
   "metadata": {},
   "outputs": [],
   "source": [
    "for h in hs:\n",
    "    h.a_base_entrance_inside = get_a_base_entrance_inside(\n",
    "        l_base_entrance_inside=h.l_base_entrance_inside, h_base_entrance=h.h_base_entrance)"
   ]
  },
  {
   "cell_type": "code",
   "execution_count": 81,
   "metadata": {},
   "outputs": [
    {
     "name": "stdout",
     "output_type": "stream",
     "text": [
      "床断熱住宅（外皮に接する浴室床なし） : 0.5733\n",
      "床断熱住宅（浴室床断熱） : 0.5733\n",
      "床断熱住宅（浴室基礎断熱） : 0.5733\n",
      "基礎断熱住宅 : 0.0\n"
     ]
    }
   ],
   "source": [
    "show_result(lambda h: h.a_base_entrance_inside)"
   ]
  },
  {
   "cell_type": "markdown",
   "metadata": {},
   "source": [
    "## 基礎(浴室)の面積"
   ]
  },
  {
   "cell_type": "markdown",
   "metadata": {},
   "source": [
    "南西:  $ A_{base,bath,SW} = L_{base,bath,SW} \\times h_{base,bath} $  \n",
    "北西:  $ A_{base,bath,NW} = L_{base,bath,NW} \\times h_{base,bath} $  \n",
    "北東:  $ A_{base,bath,NE} = L_{base,bath,NE} \\times h_{base,bath} $  \n",
    "南東:  $ L_{base,bath,SE} = L_{base,bath,SE} \\times h_{base,bath} $  \n",
    "\n",
    "$A_{base,bath,SW}$: 基礎(浴室)(南西)の面積(m<sup>2</sup>)  \n",
    "$A_{base,bath,NW}$: 基礎(浴室)(北西)の面積(m<sup>2</sup>)  \n",
    "$A_{base,bath,NE}$: 基礎(浴室)(北東)の面積(m<sup>2</sup>)  \n",
    "$A_{base,bath,SE}$: 基礎(浴室)(南東)の面積(m<sup>2</sup>)  "
   ]
  },
  {
   "cell_type": "code",
   "execution_count": 82,
   "metadata": {},
   "outputs": [],
   "source": [
    "def get_a_base_bath_outside(l_base_bath: Tuple[float], h_base_bath: float) -> Tuple[float]:\n",
    "    \n",
    "    return (\n",
    "        l_base_bath[0] * h_base_bath,\n",
    "        l_base_bath[1] * h_base_bath,\n",
    "        l_base_bath[2] * h_base_bath,\n",
    "        l_base_bath[3] * h_base_bath\n",
    "    )"
   ]
  },
  {
   "cell_type": "code",
   "execution_count": 83,
   "metadata": {},
   "outputs": [],
   "source": [
    "for h in hs:\n",
    "    h.a_base_bath_outside = get_a_base_bath_outside(l_base_bath=h.l_base_bath_outside, h_base_bath=h.h_base_bath)"
   ]
  },
  {
   "cell_type": "code",
   "execution_count": 84,
   "metadata": {},
   "outputs": [
    {
     "name": "stdout",
     "output_type": "stream",
     "text": [
      "床断熱住宅（外皮に接する浴室床なし） : (0.0, 0.0, 0.0, 0.0)\n",
      "床断熱住宅（浴室床断熱） : (0.0, 0.0, 0.0, 0.0)\n",
      "床断熱住宅（浴室基礎断熱） : (0.0, 0.91, 0.91, 0.0)\n",
      "基礎断熱住宅 : (0.0, 0.91, 0.91, 0.0)\n"
     ]
    }
   ],
   "source": [
    "show_result(lambda h: h.a_base_bath_outside)"
   ]
  },
  {
   "cell_type": "markdown",
   "metadata": {},
   "source": [
    "室内側:  $ L_{base,bath,inside} = L_{base,bath,inside} \\times h_{base,bath} $\n",
    "\n",
    "$A_{base,bath,inside}$: 基礎(浴室)(室内側)の面積(m<sup>2</sup>)  "
   ]
  },
  {
   "cell_type": "code",
   "execution_count": 85,
   "metadata": {},
   "outputs": [],
   "source": [
    "def get_a_base_bath_inside(l_base_bath_inside: float, h_base_bath: float) -> float:\n",
    "    \n",
    "    return l_base_bath_inside * h_base_bath"
   ]
  },
  {
   "cell_type": "code",
   "execution_count": 86,
   "metadata": {},
   "outputs": [],
   "source": [
    "for h in hs:\n",
    "    h.a_base_bath_inside = get_a_base_bath_inside(l_base_bath_inside=h.l_base_bath_inside, h_base_bath=h.h_base_bath)"
   ]
  },
  {
   "cell_type": "code",
   "execution_count": 87,
   "metadata": {},
   "outputs": [
    {
     "name": "stdout",
     "output_type": "stream",
     "text": [
      "床断熱住宅（外皮に接する浴室床なし） : 0.0\n",
      "床断熱住宅（浴室床断熱） : 0.0\n",
      "床断熱住宅（浴室基礎断熱） : 1.82\n",
      "基礎断熱住宅 : 0.0\n"
     ]
    }
   ],
   "source": [
    "show_result(lambda h: h.a_base_bath_inside)"
   ]
  },
  {
   "cell_type": "markdown",
   "metadata": {},
   "source": [
    "## 基礎断熱部分(玄関・浴室除く)の面積"
   ]
  },
  {
   "cell_type": "markdown",
   "metadata": {},
   "source": [
    "南西: $ A_{base,SW} = L_{base,SW} \\times h_{base} $  \n",
    "北西:  $ A_{base,NW} = L_{base,NW} \\times h_{base} $  \n",
    "北東:  $ A_{base,NE} = L_{base,NE} \\times h_{base} $  \n",
    "南東:  $ A_{base,SE} = L_{base,SE} \\times h_{base} $  \n",
    "\n",
    "$A_{base,SW}$: 基礎断熱部分(玄関・浴室除く)(南西)の面積(m<sup>2</sup>)  \n",
    "$A_{base,NW}$: 基礎断熱部分(玄関・浴室除く)(北西)の面積(m<sup>2</sup>)  \n",
    "$A_{base,NE}$: 基礎断熱部分(玄関・浴室除く)(北東)の面積(m<sup>2</sup>)  \n",
    "$A_{base,SE}$: 基礎断熱部分(玄関・浴室除く)(南東)の面積(m<sup>2</sup>)  "
   ]
  },
  {
   "cell_type": "code",
   "execution_count": 88,
   "metadata": {},
   "outputs": [],
   "source": [
    "def get_a_base_other_outside(l_base_outside: Tuple[float], h_base: float) -> Tuple[float]:\n",
    "    \n",
    "    return (\n",
    "        l_base_outside[0] * h_base,\n",
    "        l_base_outside[1] * h_base,\n",
    "        l_base_outside[2] * h_base,\n",
    "        l_base_outside[3] * h_base\n",
    "    )"
   ]
  },
  {
   "cell_type": "code",
   "execution_count": 89,
   "metadata": {},
   "outputs": [],
   "source": [
    "for h in hs:\n",
    "    h.a_base_other_outside = get_a_base_other_outside(l_base_outside=h.l_base_other_outside, h_base=h.h_base)"
   ]
  },
  {
   "cell_type": "code",
   "execution_count": 90,
   "metadata": {},
   "outputs": [
    {
     "name": "stdout",
     "output_type": "stream",
     "text": [
      "床断熱住宅（外皮に接する浴室床なし） : (0.0, 0.0, 0.0, 0.0)\n",
      "床断熱住宅（浴室床断熱） : (0.0, 0.0, 0.0, 0.0)\n",
      "床断熱住宅（浴室基礎断熱） : (0.0, 0.0, 0.0, 0.0)\n",
      "基礎断熱住宅 : (5.304991140364853, 0.5762084140079066, 3.712491140364853, 2.3962084140079067)\n"
     ]
    }
   ],
   "source": [
    "show_result(lambda h: h.a_base_other_outside)"
   ]
  },
  {
   "cell_type": "markdown",
   "metadata": {},
   "source": [
    "室内側:  $ A_{base,inside} = 0.0 $\n",
    "\n",
    "$A_{base,inside}$: 基礎断熱部分(玄関・浴室除く)(室内側)の面積(m<sup>2</sup>)  "
   ]
  },
  {
   "cell_type": "code",
   "execution_count": 91,
   "metadata": {},
   "outputs": [],
   "source": [
    "def get_a_base_other_inside() -> float:\n",
    "    \n",
    "    return 0.0"
   ]
  },
  {
   "cell_type": "code",
   "execution_count": 92,
   "metadata": {},
   "outputs": [],
   "source": [
    "for h in hs:\n",
    "    h.a_base_other_inside = get_a_base_other_inside()"
   ]
  },
  {
   "cell_type": "code",
   "execution_count": 93,
   "metadata": {},
   "outputs": [
    {
     "name": "stdout",
     "output_type": "stream",
     "text": [
      "床断熱住宅（外皮に接する浴室床なし） : 0.0\n",
      "床断熱住宅（浴室床断熱） : 0.0\n",
      "床断熱住宅（浴室基礎断熱） : 0.0\n",
      "基礎断熱住宅 : 0.0\n"
     ]
    }
   ],
   "source": [
    "show_result(lambda h: h.a_base_other_inside)"
   ]
  },
  {
   "cell_type": "markdown",
   "metadata": {},
   "source": [
    "## 基礎断熱部分の面積の合計"
   ]
  },
  {
   "cell_type": "markdown",
   "metadata": {},
   "source": [
    "南西:  $ A_{prm,SW} = A_{base,SW} + A_{base,entrance,SW} + A_{base,b,SW} $  \n",
    "北西:  $ A_{prm,NW} = A_{base,NW} + A_{base,entrance,NW} + A_{base,b,NW} $  \n",
    "北東:  $ A_{prm,NE} = A_{base,NE} + A_{base,entrance,NE} + A_{base,b,NE} $  \n",
    "南東:  $ A_{prm,SE} = A_{base,SE} + A_{base,entrance,SE} + A_{base,b,SE} $  \n",
    "\n",
    "$A_{prm,SW}$: 基礎断熱部分(南西)の面積の合計(m<sup>2</sup>)  \n",
    "$A_{prm,NW}$: 基礎断熱部分(北西)の面積の合計(m<sup>2</sup>)  \n",
    "$A_{prm,NE}$: 基礎断熱部分(北東)の面積の合計(m<sup>2</sup>)  \n",
    "$A_{prm,SE}$: 基礎断熱部分(南東)の面積の合計(m<sup>2</sup>)  "
   ]
  },
  {
   "cell_type": "code",
   "execution_count": 94,
   "metadata": {},
   "outputs": [],
   "source": [
    "def get_a_base_total_outside(a_base: Tuple[float], a_base_entrance: Tuple[float], a_base_bath: Tuple[float]) -> Tuple[float]:\n",
    "    \n",
    "    return (\n",
    "        a_base[0] + a_base_entrance[0] + a_base_bath[0],\n",
    "        a_base[1] + a_base_entrance[1] + a_base_bath[1],\n",
    "        a_base[2] + a_base_entrance[2] + a_base_bath[2],\n",
    "        a_base[3] + a_base_entrance[3] + a_base_bath[3]\n",
    "    )"
   ]
  },
  {
   "cell_type": "code",
   "execution_count": 95,
   "metadata": {},
   "outputs": [],
   "source": [
    "for h in hs:\n",
    "    h.a_base_total_outside = get_a_base_total_outside(\n",
    "        a_base=h.a_base_other_outside, a_base_entrance=h.a_base_entrance_outside, a_base_bath=h.a_base_bath_outside)"
   ]
  },
  {
   "cell_type": "code",
   "execution_count": 96,
   "metadata": {},
   "outputs": [
    {
     "name": "stdout",
     "output_type": "stream",
     "text": [
      "床断熱住宅（外皮に接する浴室床なし） : (0.0, 0.3276, 0.2457, 0.0)\n",
      "床断熱住宅（浴室床断熱） : (0.0, 0.3276, 0.2457, 0.0)\n",
      "床断熱住宅（浴室基礎断熱） : (0.0, 1.2376, 1.1557, 0.0)\n",
      "基礎断熱住宅 : (5.304991140364853, 1.8138084140079065, 4.868191140364853, 2.3962084140079067)\n"
     ]
    }
   ],
   "source": [
    "show_result(lambda h: h.a_base_total_outside)"
   ]
  },
  {
   "cell_type": "markdown",
   "metadata": {},
   "source": [
    "室内側:  $ A_{prm,IS} = A_{base,IS} + A_{base,entrance,IS} + A_{base,b,IS} $\n",
    "\n",
    "$A_{prm,IS}$: 基礎断熱部分(室内側)の面積の合計(m<sup>2</sup>)  "
   ]
  },
  {
   "cell_type": "code",
   "execution_count": 97,
   "metadata": {},
   "outputs": [],
   "source": [
    "def get_a_base_total_inside(a_base_inside: float, a_base_entrance_inside: float, a_base_bath_inside: float) -> float:\n",
    "    \n",
    "    return a_base_inside + a_base_entrance_inside + a_base_bath_inside"
   ]
  },
  {
   "cell_type": "code",
   "execution_count": 98,
   "metadata": {},
   "outputs": [],
   "source": [
    "for h in hs:\n",
    "    h.a_base_total_inside = get_a_base_total_inside(\n",
    "        a_base_inside=h.a_base_other_inside, a_base_entrance_inside=h.a_base_entrance_inside, a_base_bath_inside=h.a_base_bath_inside)"
   ]
  },
  {
   "cell_type": "code",
   "execution_count": 99,
   "metadata": {},
   "outputs": [
    {
     "name": "stdout",
     "output_type": "stream",
     "text": [
      "床断熱住宅（外皮に接する浴室床なし） : 0.5733\n",
      "床断熱住宅（浴室床断熱） : 0.5733\n",
      "床断熱住宅（浴室基礎断熱） : 2.3933\n",
      "基礎断熱住宅 : 0.0\n"
     ]
    }
   ],
   "source": [
    "show_result(lambda h: h.a_base_total_inside)"
   ]
  },
  {
   "cell_type": "markdown",
   "metadata": {},
   "source": [
    "## 壁面積(開口部含む)"
   ]
  },
  {
   "cell_type": "markdown",
   "metadata": {
    "collapsed": true
   },
   "source": [
    "1階:  \n",
    "南西: $ A_{srf,1,SW} = L_{LS,1} \\times h_1 $  \n",
    "北西: $ A_{srf,1,NW} = L_{SS,1} \\times h_1 $  \n",
    "北東: $ A_{srf,1,NE} = L_{LS,1} \\times h_1 $  \n",
    "北西: $ A_{srf,1,SE} = L_{SS,1} \\times h_1 $\n",
    "\n",
    "2階:  \n",
    "南西: $ A_{srf,2,SW} = L_{LS,2} \\times h_2 $  \n",
    "北西: $ A_{srf,2,NW} = L_{SS,2} \\times h_2 $  \n",
    "北東: $ A_{srf,2,NE} = L_{LS,2} \\times h_2 $  \n",
    "北西: $ A_{srf,2,SE} = L_{SS,2} \\times h_2 $"
   ]
  },
  {
   "cell_type": "code",
   "execution_count": 100,
   "metadata": {},
   "outputs": [],
   "source": [
    "def get_a_srf(l_ls: List[float], l_ss: List[float], h: List[float]) -> [Tuple[float], Tuple[float]]:\n",
    "\n",
    "    return [\n",
    "        (l_ls[0] * h[0], l_ss[0] * h[0], l_ls[0] * h[0], l_ss[0] * h[0]),\n",
    "        (l_ls[1] * h[1], l_ss[1] * h[1], l_ls[1] * h[1], l_ss[1] * h[1])\n",
    "    ]"
   ]
  },
  {
   "cell_type": "code",
   "execution_count": 101,
   "metadata": {},
   "outputs": [],
   "source": [
    "for h in hs:\n",
    "    h.a_srf = get_a_srf(l_ls=h.l_ls, l_ss=h.l_ss, h=h.h)"
   ]
  },
  {
   "cell_type": "code",
   "execution_count": 102,
   "metadata": {},
   "outputs": [
    {
     "name": "stdout",
     "output_type": "stream",
     "text": [
      "床断熱住宅（外皮に接する浴室床なし） : [(30.768948614116148, 13.898008801245858, 30.768948614116148, 13.898008801245858), (22.396232256298443, 12.7441986952085, 22.396232256298443, 12.7441986952085)]\n",
      "床断熱住宅（浴室床断熱） : [(30.768948614116148, 13.898008801245858, 30.768948614116148, 13.898008801245858), (22.396232256298443, 12.7441986952085, 22.396232256298443, 12.7441986952085)]\n",
      "床断熱住宅（浴室基礎断熱） : [(30.768948614116148, 13.898008801245858, 30.768948614116148, 13.898008801245858), (22.396232256298443, 12.7441986952085, 22.396232256298443, 12.7441986952085)]\n",
      "基礎断熱住宅 : [(30.768948614116148, 13.898008801245858, 30.768948614116148, 13.898008801245858), (22.396232256298443, 12.7441986952085, 22.396232256298443, 12.7441986952085)]\n"
     ]
    }
   ],
   "source": [
    "show_result(lambda h: h.a_srf)"
   ]
  },
  {
   "cell_type": "markdown",
   "metadata": {},
   "source": [
    "## 外皮面積の合計(基礎の面積を除く)"
   ]
  },
  {
   "cell_type": "markdown",
   "metadata": {},
   "source": [
    "$ A'_{env} = A_{IF} + A_{IF,bath} + A_{EF,total} + A_{roof} \\\\\n",
    "+ A_{srf,1,SW} + A_{srf,1,NW} + A_{srf,1,NE} + A_{srf,1,SE} \\\\\n",
    "+ A_{srf,2,SW} + A_{srf,2,NW} + A_{srf,2,NE} + A_{srf,2,SE} $"
   ]
  },
  {
   "cell_type": "markdown",
   "metadata": {},
   "source": [
    "$ A'_{env}$: 外皮面積の合計(基礎の面積を除く)(m<sup>2</sup>)"
   ]
  },
  {
   "cell_type": "code",
   "execution_count": 103,
   "metadata": {},
   "outputs": [],
   "source": [
    "def get_a_dash_env(a_if: float, a_if_bath: float, a_ef_total: float, a_roof: float, a_srf: [Tuple[float], Tuple[float]]) -> float:\n",
    "    \n",
    "    return a_if + a_if_bath + a_ef_total + a_roof + sum(a_srf[0]) + sum(a_srf[1])"
   ]
  },
  {
   "cell_type": "code",
   "execution_count": 104,
   "metadata": {},
   "outputs": [],
   "source": [
    "for h in hs:\n",
    "    h.a_dash_env = get_a_dash_env(a_if=h.a_if, a_if_bath=h.a_if_bath, a_ef_total=h.a_ef_total, a_roof=h.a_roof, a_srf=h.a_srf)"
   ]
  },
  {
   "cell_type": "code",
   "execution_count": 105,
   "metadata": {},
   "outputs": [
    {
     "name": "stdout",
     "output_type": "stream",
     "text": [
      "床断熱住宅（外皮に接する浴室床なし） : 261.30969198797516\n",
      "床断熱住宅（浴室床断熱） : 261.30969198797516\n",
      "床断熱住宅（浴室基礎断熱） : 261.30969198797516\n",
      "基礎断熱住宅 : 261.30969198797516\n"
     ]
    }
   ],
   "source": [
    "show_result(lambda h: h.a_dash_env)"
   ]
  },
  {
   "cell_type": "markdown",
   "metadata": {},
   "source": [
    "## 外皮面積の合計(m<sup>2</sup>)"
   ]
  },
  {
   "cell_type": "markdown",
   "metadata": {},
   "source": [
    "$ A_{env} = A'_{env} + A_{prm,SW} + A_{prm,NW} + A_{prm,NE} + A_{prm,SE} + A_{prm,IS} $"
   ]
  },
  {
   "cell_type": "markdown",
   "metadata": {},
   "source": [
    "$ A_{env} $: 外皮面積の合計(m<sup>2</sup>)"
   ]
  },
  {
   "cell_type": "code",
   "execution_count": 106,
   "metadata": {},
   "outputs": [],
   "source": [
    "def get_a_env(a_dash_env: float, a_prm_outside: Tuple[float], a_prm_inside: float) -> float:\n",
    "    \n",
    "    return a_dash_env + sum(a_prm_outside) + a_prm_inside"
   ]
  },
  {
   "cell_type": "code",
   "execution_count": 107,
   "metadata": {},
   "outputs": [],
   "source": [
    "for h in hs:\n",
    "    h.a_env = get_a_env(a_dash_env=h.a_dash_env, a_prm_outside=h.a_base_total_outside, a_prm_inside=h.a_base_total_inside)"
   ]
  },
  {
   "cell_type": "code",
   "execution_count": 108,
   "metadata": {},
   "outputs": [
    {
     "name": "stdout",
     "output_type": "stream",
     "text": [
      "床断熱住宅（外皮に接する浴室床なし） : 262.4562919879752\n",
      "床断熱住宅（浴室床断熱） : 262.4562919879752\n",
      "床断熱住宅（浴室基礎断熱） : 266.0962919879752\n",
      "基礎断熱住宅 : 275.6928910967207\n"
     ]
    }
   ],
   "source": [
    "show_result(lambda h: h.a_env)"
   ]
  },
  {
   "cell_type": "markdown",
   "metadata": {},
   "source": [
    "## 開口部の面積の合計"
   ]
  },
  {
   "cell_type": "markdown",
   "metadata": {},
   "source": [
    "$ A_{opn} = A'_{env} \\times r_{opn} $"
   ]
  },
  {
   "cell_type": "markdown",
   "metadata": {},
   "source": [
    "$A_{opn}$: 開口部の面積の合計(m<sup>2</sup>)"
   ]
  },
  {
   "cell_type": "code",
   "execution_count": 109,
   "metadata": {},
   "outputs": [],
   "source": [
    "def get_a_opn(a_dash_env: float, r_opn: float) -> float:\n",
    "    \n",
    "    return a_dash_env * r_opn"
   ]
  },
  {
   "cell_type": "code",
   "execution_count": 110,
   "metadata": {},
   "outputs": [],
   "source": [
    "for h in hs:\n",
    "    h.a_opn = get_a_opn(a_dash_env=h.a_dash_env, r_opn=h.r_opn)"
   ]
  },
  {
   "cell_type": "code",
   "execution_count": 111,
   "metadata": {},
   "outputs": [
    {
     "name": "stdout",
     "output_type": "stream",
     "text": [
      "床断熱住宅（外皮に接する浴室床なし） : 36.58335687831652\n",
      "床断熱住宅（浴室床断熱） : 36.58335687831652\n",
      "床断熱住宅（浴室基礎断熱） : 36.58335687831652\n",
      "基礎断熱住宅 : 36.58335687831652\n"
     ]
    }
   ],
   "source": [
    "show_result(lambda h: h.a_opn)"
   ]
  },
  {
   "cell_type": "markdown",
   "metadata": {},
   "source": [
    "## 窓の面積の合計"
   ]
  },
  {
   "cell_type": "markdown",
   "metadata": {},
   "source": [
    "$ A_{wnd,total} = A_{opn} - A_{door,entrance} - A_{door,backentrance} $"
   ]
  },
  {
   "cell_type": "markdown",
   "metadata": {},
   "source": [
    "$A_{wnd,total}$: 窓の面積(m<sup>2</sup>)"
   ]
  },
  {
   "cell_type": "code",
   "execution_count": 112,
   "metadata": {},
   "outputs": [],
   "source": [
    "def get_a_wnd_total(a_opn: float, a_door_entrance: float, a_door_backentrance: float) -> float:\n",
    "    \n",
    "    return a_opn - a_door_entrance - a_door_backentrance"
   ]
  },
  {
   "cell_type": "code",
   "execution_count": 113,
   "metadata": {},
   "outputs": [],
   "source": [
    "for h in hs:\n",
    "    h.a_wnd_total = get_a_wnd_total(a_opn=h.a_opn, a_door_entrance=h.a_door_entrance, a_door_backentrance=h.a_door_backentrance)"
   ]
  },
  {
   "cell_type": "code",
   "execution_count": 114,
   "metadata": {},
   "outputs": [
    {
     "name": "stdout",
     "output_type": "stream",
     "text": [
      "床断熱住宅（外皮に接する浴室床なし） : 33.073356878316524\n",
      "床断熱住宅（浴室床断熱） : 33.073356878316524\n",
      "床断熱住宅（浴室基礎断熱） : 33.073356878316524\n",
      "基礎断熱住宅 : 33.073356878316524\n"
     ]
    }
   ],
   "source": [
    "show_result(lambda h: h.a_wnd_total)"
   ]
  },
  {
   "cell_type": "markdown",
   "metadata": {},
   "source": [
    "## 窓の面積"
   ]
  },
  {
   "cell_type": "markdown",
   "metadata": {},
   "source": [
    "南西側: $ A_{wnd,SW} = A_{wnd} \\times r_{wnd,SW} $  \n",
    "北西側: $ A_{wnd,NW} = A_{wnd} \\times r_{wnd,NW} $  \n",
    "北東側: $ A_{wnd,NE} = A_{wnd} \\times r_{wnd,NE} $  \n",
    "南東側: $ A_{wnd,SE} = A_{wnd} \\times r_{wnd,SE} $  "
   ]
  },
  {
   "cell_type": "markdown",
   "metadata": {},
   "source": [
    "$ A_{wnd,SW}$: 窓の面積(南西)(m<sup>2</sup>)  \n",
    "$ A_{wnd,NW}$: 窓の面積(北西)(m<sup>2</sup>)  \n",
    "$ A_{wnd,NE}$: 窓の面積(北東)(m<sup>2</sup>)  \n",
    "$ A_{wnd,SE}$: 窓の面積(南東)(m<sup>2</sup>)  "
   ]
  },
  {
   "cell_type": "code",
   "execution_count": 115,
   "metadata": {},
   "outputs": [],
   "source": [
    "def get_a_wnd(a_wnd_total: float, r_wnd: Tuple[float]) -> Tuple[float]:\n",
    "    \n",
    "    return a_wnd_total * r_wnd[0], a_wnd_total * r_wnd[1], a_wnd_total * r_wnd[2], a_wnd_total * r_wnd[3]"
   ]
  },
  {
   "cell_type": "code",
   "execution_count": 116,
   "metadata": {},
   "outputs": [],
   "source": [
    "for h in hs:\n",
    "    h.a_wnd = get_a_wnd(a_wnd_total=h.a_wnd_total, r_wnd=h.r_wnd)"
   ]
  },
  {
   "cell_type": "code",
   "execution_count": 117,
   "metadata": {},
   "outputs": [
    {
     "name": "stdout",
     "output_type": "stream",
     "text": [
      "床断熱住宅（外皮に接する浴室床なし） : (22.6949374899008, 2.3845890309266213, 3.628147249551323, 4.365683107937781)\n",
      "床断熱住宅（浴室床断熱） : (22.6949374899008, 2.3845890309266213, 3.628147249551323, 4.365683107937781)\n",
      "床断熱住宅（浴室基礎断熱） : (22.6949374899008, 2.3845890309266213, 3.628147249551323, 4.365683107937781)\n",
      "基礎断熱住宅 : (22.6949374899008, 2.3845890309266213, 3.628147249551323, 4.365683107937781)\n"
     ]
    }
   ],
   "source": [
    "show_result(lambda h: h.a_wnd)"
   ]
  },
  {
   "cell_type": "markdown",
   "metadata": {},
   "source": [
    "## ドアの面積"
   ]
  },
  {
   "cell_type": "markdown",
   "metadata": {},
   "source": [
    "南西側: $ A_{door,SW} = 0.0 $  \n",
    "北西側: $ A_{door,NW} = A_{door,entrance} $   \n",
    "北東側: $ A_{door,NE} = A_{door,backentrance} $  \n",
    "南東側: $ A_{door,SE} = 0.0 $  "
   ]
  },
  {
   "cell_type": "markdown",
   "metadata": {},
   "source": [
    "$A_{door}$: ドアの面積(m<sup>2</sup>)"
   ]
  },
  {
   "cell_type": "code",
   "execution_count": 118,
   "metadata": {},
   "outputs": [],
   "source": [
    "def get_a_door(a_door_entrance: float, a_door_backentrance: float) -> Tuple[float]:\n",
    "    \n",
    "    return 0.0, a_door_entrance, a_door_backentrance, 0.0"
   ]
  },
  {
   "cell_type": "code",
   "execution_count": 119,
   "metadata": {},
   "outputs": [],
   "source": [
    "for h in hs:\n",
    "    h.a_door = get_a_door(a_door_entrance=h.a_door_entrance, a_door_backentrance=h.a_door_backentrance)"
   ]
  },
  {
   "cell_type": "code",
   "execution_count": 120,
   "metadata": {},
   "outputs": [
    {
     "name": "stdout",
     "output_type": "stream",
     "text": [
      "床断熱住宅（外皮に接する浴室床なし） : 1.89\n",
      "床断熱住宅（浴室床断熱） : 1.89\n",
      "床断熱住宅（浴室基礎断熱） : 1.89\n",
      "基礎断熱住宅 : 1.89\n"
     ]
    }
   ],
   "source": [
    "show_result(lambda h: h.a_door_entrance)"
   ]
  },
  {
   "cell_type": "markdown",
   "metadata": {},
   "source": [
    "## 壁の面積"
   ]
  },
  {
   "cell_type": "markdown",
   "metadata": {},
   "source": [
    "南西側: $ A_{wall,SW} = A_{srf,1,SW} + A_{srf,2,SW} - A_{wnd,SW} - A_{door,SW} $  \n",
    "北西側: $ A_{wall,NW} = A_{srf,1,NW} + A_{srf,2,NW} - A_{wnd,NW} - A_{door,NW} $  \n",
    "北東側: $ A_{wall,NE} = A_{srf,1,NE} + A_{srf,2,NE} - A_{wnd,NE} - A_{door,NE} $  \n",
    "南東側: $ A_{wall,SE} = A_{srf,1,SE} + A_{srf,2,SE} - A_{wnd,SE} - A_{door,SE} $  "
   ]
  },
  {
   "cell_type": "markdown",
   "metadata": {},
   "source": [
    "$ A_{wall}$: 壁の面積(m<sup>2</sup>)"
   ]
  },
  {
   "cell_type": "code",
   "execution_count": 121,
   "metadata": {},
   "outputs": [],
   "source": [
    "def get_a_wall(a_srf: [Tuple[float], Tuple[float]], a_wnd: Tuple[float], a_door: Tuple[float]) -> Tuple[float]:\n",
    "    \n",
    "    return (\n",
    "        a_srf[0][0] + a_srf[1][0] - a_wnd[0] - a_door[0],\n",
    "        a_srf[0][1] + a_srf[1][1] - a_wnd[1] - a_door[1],\n",
    "        a_srf[0][2] + a_srf[1][2] - a_wnd[2] - a_door[2],\n",
    "        a_srf[0][3] + a_srf[1][3] - a_wnd[3] - a_door[3]\n",
    "    )        "
   ]
  },
  {
   "cell_type": "code",
   "execution_count": 122,
   "metadata": {},
   "outputs": [],
   "source": [
    "for h in hs:\n",
    "    h.a_wall = get_a_wall(a_srf=h.a_srf, a_wnd=h.a_wnd, a_door=h.a_door)"
   ]
  },
  {
   "cell_type": "code",
   "execution_count": 123,
   "metadata": {
    "scrolled": true
   },
   "outputs": [
    {
     "name": "stdout",
     "output_type": "stream",
     "text": [
      "床断熱住宅（外皮に接する浴室床なし） : (30.47024338051379, 22.367618465527734, 47.917033620863265, 22.276524388516577)\n",
      "床断熱住宅（浴室床断熱） : (30.47024338051379, 22.367618465527734, 47.917033620863265, 22.276524388516577)\n",
      "床断熱住宅（浴室基礎断熱） : (30.47024338051379, 22.367618465527734, 47.917033620863265, 22.276524388516577)\n",
      "基礎断熱住宅 : (30.47024338051379, 22.367618465527734, 47.917033620863265, 22.276524388516577)\n"
     ]
    }
   ],
   "source": [
    "show_result(lambda h: h.a_wall)"
   ]
  },
  {
   "cell_type": "markdown",
   "metadata": {},
   "source": [
    "# 結果"
   ]
  },
  {
   "cell_type": "markdown",
   "metadata": {},
   "source": [
    "## 床面積の合計(m<sup>2</sup>)"
   ]
  },
  {
   "cell_type": "code",
   "execution_count": 124,
   "metadata": {},
   "outputs": [],
   "source": [
    "for h in hs:\n",
    "    h.rnd_a_f_total = round2(h.a_f_total)"
   ]
  },
  {
   "cell_type": "code",
   "execution_count": 125,
   "metadata": {},
   "outputs": [
    {
     "name": "stdout",
     "output_type": "stream",
     "text": [
      "床断熱住宅（外皮に接する浴室床なし） : 90.0\n",
      "床断熱住宅（浴室床断熱） : 90.0\n",
      "床断熱住宅（浴室基礎断熱） : 90.0\n",
      "基礎断熱住宅 : 90.0\n"
     ]
    }
   ],
   "source": [
    "show_result(lambda h: h.rnd_a_f_total)"
   ]
  },
  {
   "cell_type": "markdown",
   "metadata": {},
   "source": [
    "## 外皮の部位の面積の合計(m<sup>2</sup>)"
   ]
  },
  {
   "cell_type": "code",
   "execution_count": 126,
   "metadata": {},
   "outputs": [],
   "source": [
    "for h in hs:\n",
    "    h.rnd_a_env = round2(h.a_env)"
   ]
  },
  {
   "cell_type": "code",
   "execution_count": 127,
   "metadata": {},
   "outputs": [
    {
     "name": "stdout",
     "output_type": "stream",
     "text": [
      "床断熱住宅（外皮に接する浴室床なし） : 262.46\n",
      "床断熱住宅（浴室床断熱） : 262.46\n",
      "床断熱住宅（浴室基礎断熱） : 266.1\n",
      "基礎断熱住宅 : 275.69\n"
     ]
    }
   ],
   "source": [
    "show_result(lambda h: h.rnd_a_env)"
   ]
  },
  {
   "cell_type": "markdown",
   "metadata": {},
   "source": [
    "## 屋根又は天井(下屋を含む)の面積(m<sup>2</sup>)"
   ]
  },
  {
   "cell_type": "code",
   "execution_count": 128,
   "metadata": {},
   "outputs": [],
   "source": [
    "for h in hs:\n",
    "    h.rnd_a_roof = round2(h.a_roof)"
   ]
  },
  {
   "cell_type": "code",
   "execution_count": 129,
   "metadata": {},
   "outputs": [
    {
     "name": "stdout",
     "output_type": "stream",
     "text": [
      "床断熱住宅（外皮に接する浴室床なし） : 50.85\n",
      "床断熱住宅（浴室床断熱） : 50.85\n",
      "床断熱住宅（浴室基礎断熱） : 50.85\n",
      "基礎断熱住宅 : 50.85\n"
     ]
    }
   ],
   "source": [
    "show_result(lambda h: h.rnd_a_roof)"
   ]
  },
  {
   "cell_type": "markdown",
   "metadata": {},
   "source": [
    "## 壁の面積(m<sup>2</sup>) "
   ]
  },
  {
   "cell_type": "code",
   "execution_count": 130,
   "metadata": {},
   "outputs": [],
   "source": [
    "for h in hs:\n",
    "    h.rnd_a_wall = round2_direction(h.a_wall)"
   ]
  },
  {
   "cell_type": "code",
   "execution_count": 131,
   "metadata": {},
   "outputs": [
    {
     "name": "stdout",
     "output_type": "stream",
     "text": [
      "床断熱住宅（外皮に接する浴室床なし） : (30.47, 22.37, 47.92, 22.28)\n",
      "床断熱住宅（浴室床断熱） : (30.47, 22.37, 47.92, 22.28)\n",
      "床断熱住宅（浴室基礎断熱） : (30.47, 22.37, 47.92, 22.28)\n",
      "基礎断熱住宅 : (30.47, 22.37, 47.92, 22.28)\n"
     ]
    }
   ],
   "source": [
    "show_result(lambda h: h.rnd_a_wall)"
   ]
  },
  {
   "cell_type": "markdown",
   "metadata": {},
   "source": [
    "## 窓の面積(m<sup>2</sup>) "
   ]
  },
  {
   "cell_type": "code",
   "execution_count": 132,
   "metadata": {},
   "outputs": [],
   "source": [
    "for h in hs:\n",
    "    h.rnd_a_wnd = round2_direction(h.a_wnd)"
   ]
  },
  {
   "cell_type": "code",
   "execution_count": 133,
   "metadata": {},
   "outputs": [
    {
     "name": "stdout",
     "output_type": "stream",
     "text": [
      "床断熱住宅（外皮に接する浴室床なし） : (22.69, 2.38, 3.63, 4.37)\n",
      "床断熱住宅（浴室床断熱） : (22.69, 2.38, 3.63, 4.37)\n",
      "床断熱住宅（浴室基礎断熱） : (22.69, 2.38, 3.63, 4.37)\n",
      "基礎断熱住宅 : (22.69, 2.38, 3.63, 4.37)\n"
     ]
    }
   ],
   "source": [
    "show_result(lambda h: h.rnd_a_wnd)"
   ]
  },
  {
   "cell_type": "markdown",
   "metadata": {},
   "source": [
    "## ドアの面積(m<sup>2</sup>)"
   ]
  },
  {
   "cell_type": "code",
   "execution_count": 134,
   "metadata": {},
   "outputs": [],
   "source": [
    "for h in hs:\n",
    "    h.rnd_a_door = round2_direction(h.a_door)"
   ]
  },
  {
   "cell_type": "code",
   "execution_count": 135,
   "metadata": {
    "scrolled": true
   },
   "outputs": [
    {
     "name": "stdout",
     "output_type": "stream",
     "text": [
      "床断熱住宅（外皮に接する浴室床なし） : (0.0, 1.89, 1.62, 0.0)\n",
      "床断熱住宅（浴室床断熱） : (0.0, 1.89, 1.62, 0.0)\n",
      "床断熱住宅（浴室基礎断熱） : (0.0, 1.89, 1.62, 0.0)\n",
      "基礎断熱住宅 : (0.0, 1.89, 1.62, 0.0)\n"
     ]
    }
   ],
   "source": [
    "show_result(lambda h: h.rnd_a_door)"
   ]
  },
  {
   "cell_type": "markdown",
   "metadata": {},
   "source": [
    "## 浴室の床断熱した床の面積"
   ]
  },
  {
   "cell_type": "code",
   "execution_count": 136,
   "metadata": {},
   "outputs": [],
   "source": [
    "for h in hs:\n",
    "    h.rnd_a_if_bath = round2(h.a_if_bath)"
   ]
  },
  {
   "cell_type": "code",
   "execution_count": 137,
   "metadata": {},
   "outputs": [
    {
     "name": "stdout",
     "output_type": "stream",
     "text": [
      "床断熱住宅（外皮に接する浴室床なし） : 3.31\n",
      "床断熱住宅（浴室床断熱） : 3.31\n",
      "床断熱住宅（浴室基礎断熱） : 0.0\n",
      "基礎断熱住宅 : 0.0\n"
     ]
    }
   ],
   "source": [
    "show_result(lambda h: h.rnd_a_if_bath)"
   ]
  },
  {
   "cell_type": "markdown",
   "metadata": {},
   "source": [
    "## （浴室除くその他の）床断熱した床の面積(m<sup>2</sup>)  "
   ]
  },
  {
   "cell_type": "code",
   "execution_count": 138,
   "metadata": {},
   "outputs": [],
   "source": [
    "for h in hs:\n",
    "    h.rnd_a_if = round2(h.a_if)"
   ]
  },
  {
   "cell_type": "code",
   "execution_count": 139,
   "metadata": {},
   "outputs": [
    {
     "name": "stdout",
     "output_type": "stream",
     "text": [
      "床断熱住宅（外皮に接する浴室床なし） : 45.05\n",
      "床断熱住宅（浴室床断熱） : 45.05\n",
      "床断熱住宅（浴室基礎断熱） : 45.05\n",
      "基礎断熱住宅 : 0.0\n"
     ]
    }
   ],
   "source": [
    "show_result(lambda h: h.rnd_a_if)"
   ]
  },
  {
   "cell_type": "markdown",
   "metadata": {},
   "source": [
    "## 土間床等の面積の合計(m<sup>2</sup>)  "
   ]
  },
  {
   "cell_type": "markdown",
   "metadata": {},
   "source": [
    "参考値。"
   ]
  },
  {
   "cell_type": "code",
   "execution_count": 140,
   "metadata": {},
   "outputs": [],
   "source": [
    "for h in hs:\n",
    "    h.rnd_a_ef_total = round2(h.a_ef_total)"
   ]
  },
  {
   "cell_type": "code",
   "execution_count": 141,
   "metadata": {},
   "outputs": [
    {
     "name": "stdout",
     "output_type": "stream",
     "text": [
      "床断熱住宅（外皮に接する浴室床なし） : 2.48\n",
      "床断熱住宅（浴室床断熱） : 2.48\n",
      "床断熱住宅（浴室基礎断熱） : 5.8\n",
      "基礎断熱住宅 : 50.85\n"
     ]
    }
   ],
   "source": [
    "show_result(lambda h: h.rnd_a_ef_total)"
   ]
  },
  {
   "cell_type": "markdown",
   "metadata": {},
   "source": [
    "## 浴室の土間床等の面積(m<sup>2</sup>)"
   ]
  },
  {
   "cell_type": "code",
   "execution_count": 142,
   "metadata": {},
   "outputs": [],
   "source": [
    "for h in hs:\n",
    "    h.rnd_a_ef_bath = round2(h.a_ef_bath)"
   ]
  },
  {
   "cell_type": "code",
   "execution_count": 143,
   "metadata": {},
   "outputs": [
    {
     "name": "stdout",
     "output_type": "stream",
     "text": [
      "床断熱住宅（外皮に接する浴室床なし） : 0.0\n",
      "床断熱住宅（浴室床断熱） : 0.0\n",
      "床断熱住宅（浴室基礎断熱） : 3.31\n",
      "基礎断熱住宅 : 3.31\n"
     ]
    }
   ],
   "source": [
    "show_result(lambda h: h.rnd_a_ef_bath)"
   ]
  },
  {
   "cell_type": "markdown",
   "metadata": {},
   "source": [
    "## 基礎の面積の合計(m<sup>2</sup>)  "
   ]
  },
  {
   "cell_type": "markdown",
   "metadata": {},
   "source": [
    "従来はこの値を表示していたが、2017.07から、玄関とそれ以外に分離させる。  \n",
    "現在ではこの値は表示していない。"
   ]
  },
  {
   "cell_type": "code",
   "execution_count": 144,
   "metadata": {},
   "outputs": [],
   "source": [
    "for h in hs:\n",
    "    h.rnd_a_base_total_outside = round2_direction(h.a_base_total_outside)\n",
    "    h.rnd_a_base_total_inside = round2(h.a_base_total_inside)"
   ]
  },
  {
   "cell_type": "code",
   "execution_count": 145,
   "metadata": {},
   "outputs": [
    {
     "name": "stdout",
     "output_type": "stream",
     "text": [
      "床断熱住宅（外皮に接する浴室床なし） : (0.0, 0.33, 0.25, 0.0)\n",
      "床断熱住宅（浴室床断熱） : (0.0, 0.33, 0.25, 0.0)\n",
      "床断熱住宅（浴室基礎断熱） : (0.0, 1.24, 1.16, 0.0)\n",
      "基礎断熱住宅 : (5.3, 1.81, 4.87, 2.4)\n"
     ]
    }
   ],
   "source": [
    "show_result(lambda h: h.rnd_a_base_total_outside)"
   ]
  },
  {
   "cell_type": "code",
   "execution_count": 146,
   "metadata": {},
   "outputs": [
    {
     "name": "stdout",
     "output_type": "stream",
     "text": [
      "床断熱住宅（外皮に接する浴室床なし） : 0.57\n",
      "床断熱住宅（浴室床断熱） : 0.57\n",
      "床断熱住宅（浴室基礎断熱） : 2.39\n",
      "基礎断熱住宅 : 0.0\n"
     ]
    }
   ],
   "source": [
    "show_result(lambda h: h.rnd_a_base_total_inside)"
   ]
  },
  {
   "cell_type": "markdown",
   "metadata": {},
   "source": [
    "## 玄関等の基礎の面積(m<sup>2</sup>)  "
   ]
  },
  {
   "cell_type": "code",
   "execution_count": 147,
   "metadata": {},
   "outputs": [],
   "source": [
    "for h in hs:\n",
    "    h.rnd_a_base_entrance_outside = round2_direction(h.a_base_entrance_outside)\n",
    "    h.rnd_a_base_entrance_inside = round2(h.a_base_entrance_inside)"
   ]
  },
  {
   "cell_type": "code",
   "execution_count": 148,
   "metadata": {},
   "outputs": [
    {
     "name": "stdout",
     "output_type": "stream",
     "text": [
      "床断熱住宅（外皮に接する浴室床なし） : (0.0, 0.33, 0.25, 0.0)\n",
      "床断熱住宅（浴室床断熱） : (0.0, 0.33, 0.25, 0.0)\n",
      "床断熱住宅（浴室基礎断熱） : (0.0, 0.33, 0.25, 0.0)\n",
      "基礎断熱住宅 : (0.0, 0.33, 0.25, 0.0)\n"
     ]
    }
   ],
   "source": [
    "show_result(lambda h: h.rnd_a_base_entrance_outside)"
   ]
  },
  {
   "cell_type": "code",
   "execution_count": 149,
   "metadata": {},
   "outputs": [
    {
     "name": "stdout",
     "output_type": "stream",
     "text": [
      "床断熱住宅（外皮に接する浴室床なし） : 0.57\n",
      "床断熱住宅（浴室床断熱） : 0.57\n",
      "床断熱住宅（浴室基礎断熱） : 0.57\n",
      "基礎断熱住宅 : 0.0\n"
     ]
    }
   ],
   "source": [
    "show_result(lambda h: h.rnd_a_base_entrance_inside)"
   ]
  },
  {
   "cell_type": "markdown",
   "metadata": {},
   "source": [
    "## 浴室の基礎の面積(m<sup>2</sup>)  "
   ]
  },
  {
   "cell_type": "code",
   "execution_count": 150,
   "metadata": {},
   "outputs": [],
   "source": [
    "for h in hs:\n",
    "    h.rnd_a_base_bath_outside = round2_direction(h.a_base_bath_outside)\n",
    "    h.rnd_a_base_bath_inside = round2(h.a_base_bath_inside)"
   ]
  },
  {
   "cell_type": "code",
   "execution_count": 151,
   "metadata": {},
   "outputs": [
    {
     "name": "stdout",
     "output_type": "stream",
     "text": [
      "床断熱住宅（外皮に接する浴室床なし） : (0.0, 0.0, 0.0, 0.0)\n",
      "床断熱住宅（浴室床断熱） : (0.0, 0.0, 0.0, 0.0)\n",
      "床断熱住宅（浴室基礎断熱） : (0.0, 0.91, 0.91, 0.0)\n",
      "基礎断熱住宅 : (0.0, 0.91, 0.91, 0.0)\n"
     ]
    }
   ],
   "source": [
    "show_result(lambda h: h.rnd_a_base_bath_outside)"
   ]
  },
  {
   "cell_type": "code",
   "execution_count": 152,
   "metadata": {},
   "outputs": [
    {
     "name": "stdout",
     "output_type": "stream",
     "text": [
      "床断熱住宅（外皮に接する浴室床なし） : 0.0\n",
      "床断熱住宅（浴室床断熱） : 0.0\n",
      "床断熱住宅（浴室基礎断熱） : 1.82\n",
      "基礎断熱住宅 : 0.0\n"
     ]
    }
   ],
   "source": [
    "show_result(lambda h: h.rnd_a_base_bath_inside)"
   ]
  },
  {
   "cell_type": "markdown",
   "metadata": {},
   "source": [
    "## 玄関等を除く基礎の面積(m<sup>2</sup>)  "
   ]
  },
  {
   "cell_type": "markdown",
   "metadata": {},
   "source": [
    "2017.07まで「基礎の面積の合計」のみを表示していたが、2017.07より、「基礎の面積(玄関)」と「基礎の面積(玄関除く)」に分けて記載することになった。  \n",
    "簡易法の表記上、基礎の面積は、「玄関」と「（玄関以外の）その他」としてまとめる。  \n",
    "本来であれば、「基礎の面積(玄関除く)」は、「基礎の面積(その他)」と「基礎の面積(浴室)」の合計とすべきところである。しかし、「基礎の面積(玄関)」と「基礎の面積(浴室)」、「基礎の面積(その他)」をそれぞれ小数点第二位まで四捨五入して合計した値は、「基礎の面積の合計」を小数点第二位まで四捨五入した値に一致しない。そこで、「基礎の面積の合計」を小数点第二位まで四捨五入した値から、「基礎の面積(玄関)」を小数点第二位まで四捨五入した値を減じることにより、従来評価に変更がでないように対処する。"
   ]
  },
  {
   "cell_type": "code",
   "execution_count": 153,
   "metadata": {},
   "outputs": [],
   "source": [
    "for h in hs:\n",
    "    h.rnd_a_base_except_entrance_outside = round2_direction((\n",
    "        round2(h.a_base_total_outside[0]) - round2(h.a_base_entrance_outside[0]),\n",
    "        round2(h.a_base_total_outside[1]) - round2(h.a_base_entrance_outside[1]),\n",
    "        round2(h.a_base_total_outside[2]) - round2(h.a_base_entrance_outside[2]),\n",
    "        round2(h.a_base_total_outside[3]) - round2(h.a_base_entrance_outside[3])\n",
    "    ))\n",
    "    h.rnd_a_base_except_entrance_inside = round2(round2(h.a_base_total_inside) - round2(h.a_base_entrance_inside))"
   ]
  },
  {
   "cell_type": "code",
   "execution_count": 154,
   "metadata": {},
   "outputs": [
    {
     "name": "stdout",
     "output_type": "stream",
     "text": [
      "床断熱住宅（外皮に接する浴室床なし） : (0.0, 0.0, 0.0, 0.0)\n",
      "床断熱住宅（浴室床断熱） : (0.0, 0.0, 0.0, 0.0)\n",
      "床断熱住宅（浴室基礎断熱） : (0.0, 0.91, 0.91, 0.0)\n",
      "基礎断熱住宅 : (5.3, 1.48, 4.62, 2.4)\n"
     ]
    }
   ],
   "source": [
    "show_result(lambda h: h.rnd_a_base_except_entrance_outside)"
   ]
  },
  {
   "cell_type": "code",
   "execution_count": 155,
   "metadata": {},
   "outputs": [
    {
     "name": "stdout",
     "output_type": "stream",
     "text": [
      "床断熱住宅（外皮に接する浴室床なし） : 0.0\n",
      "床断熱住宅（浴室床断熱） : 0.0\n",
      "床断熱住宅（浴室基礎断熱） : 1.82\n",
      "基礎断熱住宅 : 0.0\n"
     ]
    }
   ],
   "source": [
    "show_result(lambda h: h.rnd_a_base_except_entrance_inside)"
   ]
  },
  {
   "cell_type": "markdown",
   "metadata": {},
   "source": [
    "## その他の基礎の面積(m<sup>2</sup>)"
   ]
  },
  {
   "cell_type": "code",
   "execution_count": 156,
   "metadata": {},
   "outputs": [],
   "source": [
    "for h in hs:\n",
    "    h.rnd_a_base_other_outside = round2_direction((\n",
    "        round2(h.a_base_total_outside[0]) - round2(h.a_base_entrance_outside[0]) - round2(h.a_base_bath_outside[0]),\n",
    "        round2(h.a_base_total_outside[1]) - round2(h.a_base_entrance_outside[1]) - round2(h.a_base_bath_outside[1]),\n",
    "        round2(h.a_base_total_outside[2]) - round2(h.a_base_entrance_outside[2]) - round2(h.a_base_bath_outside[2]),\n",
    "        round2(h.a_base_total_outside[3]) - round2(h.a_base_entrance_outside[3]) - round2(h.a_base_bath_outside[3])\n",
    "    ))\n",
    "    h.rnd_a_base_other_inside = round2(round2(h.a_base_total_inside) - round2(h.a_base_entrance_inside) - round2(h.a_base_bath_inside))"
   ]
  },
  {
   "cell_type": "code",
   "execution_count": 157,
   "metadata": {},
   "outputs": [
    {
     "name": "stdout",
     "output_type": "stream",
     "text": [
      "床断熱住宅（外皮に接する浴室床なし） : (0.0, 0.0, 0.0, 0.0)\n",
      "床断熱住宅（浴室床断熱） : (0.0, 0.0, 0.0, 0.0)\n",
      "床断熱住宅（浴室基礎断熱） : (0.0, 0.0, 0.0, 0.0)\n",
      "基礎断熱住宅 : (5.3, 0.57, 3.71, 2.4)\n"
     ]
    }
   ],
   "source": [
    "show_result(lambda h: h.rnd_a_base_other_outside)"
   ]
  },
  {
   "cell_type": "code",
   "execution_count": 158,
   "metadata": {},
   "outputs": [
    {
     "name": "stdout",
     "output_type": "stream",
     "text": [
      "床断熱住宅（外皮に接する浴室床なし） : 0.0\n",
      "床断熱住宅（浴室床断熱） : 0.0\n",
      "床断熱住宅（浴室基礎断熱） : 0.0\n",
      "基礎断熱住宅 : 0.0\n"
     ]
    }
   ],
   "source": [
    "show_result(lambda h: h.rnd_a_base_other_inside)"
   ]
  },
  {
   "cell_type": "markdown",
   "metadata": {
    "collapsed": true
   },
   "source": [
    "## 土間床周長の合計(m)"
   ]
  },
  {
   "cell_type": "markdown",
   "metadata": {},
   "source": [
    "従来はこの値を表示していたが、2017.07から、玄関とそれ以外に分離させる。  \n",
    "現在ではこの値は表示していない。"
   ]
  },
  {
   "cell_type": "code",
   "execution_count": 159,
   "metadata": {},
   "outputs": [],
   "source": [
    "for h in hs:\n",
    "    h.rnd_l_prm_outside = round2_direction(h.l_prm_outside)\n",
    "    h.rnd_l_prm_inside = round2(h.l_prm_inside)"
   ]
  },
  {
   "cell_type": "code",
   "execution_count": 160,
   "metadata": {},
   "outputs": [
    {
     "name": "stdout",
     "output_type": "stream",
     "text": [
      "床断熱住宅（外皮に接する浴室床なし） : (0.0, 1.82, 1.37, 0.0)\n",
      "床断熱住宅（浴室床断熱） : (0.0, 1.82, 1.37, 0.0)\n",
      "床断熱住宅（浴室基礎断熱） : (0.0, 3.64, 3.19, 0.0)\n",
      "基礎断熱住宅 : (10.61, 4.79, 10.61, 4.79)\n"
     ]
    }
   ],
   "source": [
    "show_result(lambda h: h.rnd_l_prm_outside)"
   ]
  },
  {
   "cell_type": "code",
   "execution_count": 161,
   "metadata": {},
   "outputs": [
    {
     "name": "stdout",
     "output_type": "stream",
     "text": [
      "床断熱住宅（外皮に接する浴室床なし） : 3.19\n",
      "床断熱住宅（浴室床断熱） : 3.19\n",
      "床断熱住宅（浴室基礎断熱） : 6.83\n",
      "基礎断熱住宅 : 0.0\n"
     ]
    }
   ],
   "source": [
    "show_result(lambda h: h.rnd_l_prm_inside)"
   ]
  },
  {
   "cell_type": "markdown",
   "metadata": {},
   "source": [
    "## 玄関等の土間床等の外周部の長さ(m)"
   ]
  },
  {
   "cell_type": "code",
   "execution_count": 162,
   "metadata": {
    "scrolled": true
   },
   "outputs": [],
   "source": [
    "for h in hs:\n",
    "    h.rnd_l_base_entrance_outside = round2_direction(h.l_base_entrance_outside)\n",
    "    h.rnd_l_base_entrance_inside = round2(h.l_base_entrance_inside)"
   ]
  },
  {
   "cell_type": "code",
   "execution_count": 163,
   "metadata": {},
   "outputs": [
    {
     "name": "stdout",
     "output_type": "stream",
     "text": [
      "床断熱住宅（外皮に接する浴室床なし） : (0.0, 1.82, 1.37, 0.0)\n",
      "床断熱住宅（浴室床断熱） : (0.0, 1.82, 1.37, 0.0)\n",
      "床断熱住宅（浴室基礎断熱） : (0.0, 1.82, 1.37, 0.0)\n",
      "基礎断熱住宅 : (0.0, 1.82, 1.37, 0.0)\n"
     ]
    }
   ],
   "source": [
    "show_result(lambda h: h.rnd_l_base_entrance_outside)"
   ]
  },
  {
   "cell_type": "code",
   "execution_count": 164,
   "metadata": {},
   "outputs": [
    {
     "name": "stdout",
     "output_type": "stream",
     "text": [
      "床断熱住宅（外皮に接する浴室床なし） : 3.19\n",
      "床断熱住宅（浴室床断熱） : 3.19\n",
      "床断熱住宅（浴室基礎断熱） : 3.19\n",
      "基礎断熱住宅 : 0.0\n"
     ]
    }
   ],
   "source": [
    "show_result(lambda h: h.rnd_l_base_entrance_inside)"
   ]
  },
  {
   "cell_type": "markdown",
   "metadata": {},
   "source": [
    "## 浴室の土間床等の外周部の長さ"
   ]
  },
  {
   "cell_type": "code",
   "execution_count": 165,
   "metadata": {},
   "outputs": [],
   "source": [
    "for h in hs:\n",
    "    h.rnd_l_base_bath_outside = round2_direction(h.l_base_bath_outside)\n",
    "    h.rnd_l_base_bath_inside = round2(h.l_base_bath_inside)"
   ]
  },
  {
   "cell_type": "code",
   "execution_count": 166,
   "metadata": {},
   "outputs": [
    {
     "name": "stdout",
     "output_type": "stream",
     "text": [
      "床断熱住宅（外皮に接する浴室床なし） : (0.0, 0.0, 0.0, 0.0)\n",
      "床断熱住宅（浴室床断熱） : (0.0, 0.0, 0.0, 0.0)\n",
      "床断熱住宅（浴室基礎断熱） : (0.0, 1.82, 1.82, 0.0)\n",
      "基礎断熱住宅 : (0.0, 1.82, 1.82, 0.0)\n"
     ]
    }
   ],
   "source": [
    "show_result(lambda h: h.rnd_l_base_bath_outside)"
   ]
  },
  {
   "cell_type": "code",
   "execution_count": 167,
   "metadata": {},
   "outputs": [
    {
     "name": "stdout",
     "output_type": "stream",
     "text": [
      "床断熱住宅（外皮に接する浴室床なし） : 0.0\n",
      "床断熱住宅（浴室床断熱） : 0.0\n",
      "床断熱住宅（浴室基礎断熱） : 3.64\n",
      "基礎断熱住宅 : 0.0\n"
     ]
    }
   ],
   "source": [
    "show_result(lambda h: h.rnd_l_base_bath_inside)"
   ]
  },
  {
   "cell_type": "markdown",
   "metadata": {},
   "source": [
    "## 玄関等を除く土間床等の外周部の長さ(m)"
   ]
  },
  {
   "cell_type": "markdown",
   "metadata": {},
   "source": [
    "2017.07まで「土間床周長の合計」のみを表示していたが、2017.07より、「土間床周長(玄関)」と「土間床周長(玄関除く)」に分けて記載することになった。  \n",
    "簡易法の表記上、基礎の面積は、「玄関」と「（玄関以外の）その他」としてまとめる。  \n",
    "本来であれば、「土間床周長(玄関除く)」は、「土間床周長(その他)」と「土間床周長(浴室)」の合計とすべきところである。しかし、「土間床周長(玄関)」と「土間床周長(浴室)」、「土間床周長(その他)」をそれぞれ小数点第二位まで四捨五入して合計した値は、「土間床周長の合計」を小数点第二位まで四捨五入した値に一致しない。そこで、「土間床周長の合計」を小数点第二位まで四捨五入した値から、「土間床周長(玄関)」を小数点第二位まで四捨五入した値を減じることにより、従来評価に変更がでないように対処する。"
   ]
  },
  {
   "cell_type": "code",
   "execution_count": 168,
   "metadata": {},
   "outputs": [],
   "source": [
    "for h in hs:\n",
    "    h.rnd_l_base_except_entrance_outside = round2_direction((\n",
    "        round2(h.l_prm_outside[0]) - round2(h.l_base_entrance_outside[0]),\n",
    "        round2(h.l_prm_outside[1]) - round2(h.l_base_entrance_outside[1]),\n",
    "        round2(h.l_prm_outside[2]) - round2(h.l_base_entrance_outside[2]),\n",
    "        round2(h.l_prm_outside[3]) - round2(h.l_base_entrance_outside[3])\n",
    "    ))\n",
    "    h.rnd_l_base_except_entrance_inside = round2(\n",
    "        round2(h.l_prm_inside) - round2(h.l_base_entrance_inside)\n",
    "    )"
   ]
  },
  {
   "cell_type": "code",
   "execution_count": 169,
   "metadata": {},
   "outputs": [
    {
     "name": "stdout",
     "output_type": "stream",
     "text": [
      "床断熱住宅（外皮に接する浴室床なし） : (0.0, 0.0, 0.0, 0.0)\n",
      "床断熱住宅（浴室床断熱） : (0.0, 0.0, 0.0, 0.0)\n",
      "床断熱住宅（浴室基礎断熱） : (0.0, 1.82, 1.82, 0.0)\n",
      "基礎断熱住宅 : (10.61, 2.97, 9.24, 4.79)\n"
     ]
    }
   ],
   "source": [
    "show_result(lambda h: h.rnd_l_base_except_entrance_outside)"
   ]
  },
  {
   "cell_type": "code",
   "execution_count": 170,
   "metadata": {},
   "outputs": [
    {
     "name": "stdout",
     "output_type": "stream",
     "text": [
      "床断熱住宅（外皮に接する浴室床なし） : 0.0\n",
      "床断熱住宅（浴室床断熱） : 0.0\n",
      "床断熱住宅（浴室基礎断熱） : 3.64\n",
      "基礎断熱住宅 : 0.0\n"
     ]
    }
   ],
   "source": [
    "show_result(lambda h: h.rnd_l_base_except_entrance_inside)"
   ]
  },
  {
   "cell_type": "markdown",
   "metadata": {},
   "source": [
    "## その他の土間床等の外周部の長さ(m<sup>2</sup>)"
   ]
  },
  {
   "cell_type": "code",
   "execution_count": 171,
   "metadata": {},
   "outputs": [],
   "source": [
    "for h in hs:\n",
    "    h.rnd_l_base_other_outside = round2_direction((\n",
    "        round2(h.l_prm_outside[0]) - round2(h.l_base_entrance_outside[0]) - round2(h.l_base_bath_outside[0]),\n",
    "        round2(h.l_prm_outside[1]) - round2(h.l_base_entrance_outside[1]) - round2(h.l_base_bath_outside[1]),\n",
    "        round2(h.l_prm_outside[2]) - round2(h.l_base_entrance_outside[2]) - round2(h.l_base_bath_outside[2]),\n",
    "        round2(h.l_prm_outside[3]) - round2(h.l_base_entrance_outside[3]) - round2(h.l_base_bath_outside[3])\n",
    "    ))\n",
    "    h.rnd_l_base_other_inside = round2(round2(h.l_prm_inside) - round2(h.l_base_entrance_inside) - round2(h.l_base_bath_inside))"
   ]
  },
  {
   "cell_type": "code",
   "execution_count": 172,
   "metadata": {},
   "outputs": [
    {
     "name": "stdout",
     "output_type": "stream",
     "text": [
      "床断熱住宅（外皮に接する浴室床なし） : (0.0, 0.0, 0.0, 0.0)\n",
      "床断熱住宅（浴室床断熱） : (0.0, 0.0, 0.0, 0.0)\n",
      "床断熱住宅（浴室基礎断熱） : (0.0, 0.0, 0.0, 0.0)\n",
      "基礎断熱住宅 : (10.61, 1.15, 7.42, 4.79)\n"
     ]
    }
   ],
   "source": [
    "show_result(lambda h: h.rnd_l_base_other_outside)"
   ]
  },
  {
   "cell_type": "code",
   "execution_count": 173,
   "metadata": {},
   "outputs": [
    {
     "name": "stdout",
     "output_type": "stream",
     "text": [
      "床断熱住宅（外皮に接する浴室床なし） : 0.0\n",
      "床断熱住宅（浴室床断熱） : 0.0\n",
      "床断熱住宅（浴室基礎断熱） : 0.0\n",
      "基礎断熱住宅 : 0.0\n"
     ]
    }
   ],
   "source": [
    "show_result(lambda h: h.rnd_l_base_other_inside)"
   ]
  },
  {
   "cell_type": "markdown",
   "metadata": {},
   "source": [
    "# テスト"
   ]
  },
  {
   "cell_type": "code",
   "execution_count": 174,
   "metadata": {},
   "outputs": [],
   "source": [
    "def check_result(e,r):\n",
    "    if abs( e - r ) < 0.000001:\n",
    "        return ('EXPECTED = ' + str(e) + ' / RESULT = ' +  str(r) + ' / ' + ('.....OK'), True)\n",
    "    else:\n",
    "        return ('EXPECTED = ' + str(e) + ' / RESULT = ' +  str(r) + ' / ' + ('.....NG'), False)"
   ]
  },
  {
   "cell_type": "code",
   "execution_count": 175,
   "metadata": {},
   "outputs": [],
   "source": [
    "def check_tuple_result(e,r):\n",
    "    \n",
    "    messages = []\n",
    "    results = True\n",
    "    \n",
    "    message, result = check_result(e=e[0], r=r[0])\n",
    "    if not result:\n",
    "        messages.append('（南西）: ' + message)\n",
    "        results = result\n",
    "        \n",
    "    message, result = check_result(e=e[1], r=r[1])\n",
    "    if not result:\n",
    "        messages.append('（北西）: ' + message)\n",
    "        results = result\n",
    "        \n",
    "    message, result = check_result(e=e[2], r=r[2])\n",
    "    if not result:\n",
    "        messages.append('（北東）: ' + message)\n",
    "        results = result\n",
    "\n",
    "    message, result = check_result(e=e[3], r=r[3])\n",
    "    if not result:\n",
    "        messages.append('（南東）: ' + message)\n",
    "        results = result\n",
    "\n",
    "    return messages, results"
   ]
  },
  {
   "cell_type": "code",
   "execution_count": 176,
   "metadata": {},
   "outputs": [],
   "source": [
    "testcase = [\n",
    "    ['外皮の部位の面積の合計', '', lambda h: h.rnd_a_env,\n",
    "     262.46, 262.46, 266.10, 275.69],\n",
    "    ['床面積の合計', '', lambda h: h.rnd_a_f_total,\n",
    "     90.00, 90.00, 90.00, 90.00],\n",
    "    ['屋根又は天井の面積', '', lambda h: h.rnd_a_roof,\n",
    "     50.85, 50.85, 50.85, 50.85],\n",
    "    ['壁の面積', '', lambda h: h.rnd_a_wall,\n",
    "     (30.47, 22.37, 47.92, 22.28),\n",
    "     (30.47, 22.37, 47.92, 22.28),\n",
    "     (30.47, 22.37, 47.92, 22.28),\n",
    "     (30.47, 22.37, 47.92, 22.28)],\n",
    "    ['ドアの面積', '', lambda h: h.rnd_a_door,\n",
    "     (0.00, 1.89, 1.62, 0.00),\n",
    "     (0.00, 1.89, 1.62, 0.00),\n",
    "     (0.00, 1.89, 1.62, 0.00),\n",
    "     (0.00, 1.89, 1.62, 0.00)],\n",
    "    ['窓の面積', '', lambda h: h.rnd_a_wnd,\n",
    "     (22.69, 2.38, 3.63, 4.37),\n",
    "     (22.69, 2.38, 3.63, 4.37),\n",
    "     (22.69, 2.38, 3.63, 4.37),\n",
    "     (22.69, 2.38, 3.63, 4.37)],\n",
    "    ['浴室の床断熱した床の面積', '（2019/10/15 に追加。評価方法には2018時点で反映されている。）', lambda h: h.rnd_a_if_bath,\n",
    "     3.31, 3.31, 0.00, 0.00],\n",
    "    ['床断熱した床の面積', '', lambda h: h.rnd_a_if,\n",
    "     45.05, 45.05, 45.05, 0.00],\n",
    "    ['玄関等の基礎の面積（外気側）', '(2017.07より使用。)', lambda h: h.rnd_a_base_entrance_outside,\n",
    "     (0.00, 0.33, 0.25, 0.00), \n",
    "     (0.00, 0.33, 0.25, 0.00), \n",
    "     (0.00, 0.33, 0.25, 0.00), \n",
    "     (0.00, 0.33, 0.25, 0.00)],\n",
    "    ['玄関等の基礎の面積（床下側）', '(2017.07より使用。)', lambda h: h.rnd_a_base_entrance_inside,\n",
    "     0.57, 0.57, 0.57, 0.00],\n",
    "    ['浴室の基礎の面積（外気側）', '(参考値。)', lambda h: h.rnd_a_base_bath_outside,\n",
    "     (0.00, 0.00, 0.00, 0.00),\n",
    "     (0.00, 0.00, 0.00, 0.00),\n",
    "     (0.00, 0.91, 0.91, 0.00),\n",
    "     (0.00, 0.91, 0.91, 0.00)],\n",
    "    ['浴室の基礎の面積（床下側）', '(参考値。)', lambda h: h.rnd_a_base_bath_inside,\n",
    "     0.00, 0.00, 1.82, 0.00],\n",
    "    ['その他の基礎の面積（外気側）', '(参考値。)', lambda h: h.rnd_a_base_other_outside,\n",
    "     (0.00, 0.00, 0.00, 0.00),\n",
    "     (0.00, 0.00, 0.00, 0.00),\n",
    "     (0.00, 0.00, 0.00, 0.00),\n",
    "     (5.30, 0.57, 3.71, 2.40)],\n",
    "    ['その他の基礎の面積（床下側）', '(参考値。)', lambda h: h.rnd_a_base_other_inside,\n",
    "     0.00, 0.00, 0.00, 0.00],    \n",
    "    ['玄関等の土間床等の外周部の長さ（外気側）', '(2017.07より使用。)', lambda h: h.rnd_l_base_entrance_outside,\n",
    "     (0.00, 1.82, 1.37, 0.00),\n",
    "     (0.00, 1.82, 1.37, 0.00),\n",
    "     (0.00, 1.82, 1.37, 0.00),\n",
    "     (0.00, 1.82, 1.37, 0.00)],\n",
    "    ['玄関等の土間床等の外周部の長さ（床下側）', '(2017.07より使用。)', lambda h: h.rnd_l_base_entrance_inside,\n",
    "     3.19, 3.19, 3.19, 0.00],\n",
    "    ['浴室の土間床等の外周部の長さ（外気側）', '(参考値。)', lambda h: h.rnd_l_base_bath_outside,\n",
    "     (0.00, 0.00, 0.00, 0.00),\n",
    "     (0.00, 0.00, 0.00, 0.00),\n",
    "     (0.00, 1.82, 1.82, 0.00),\n",
    "     (0.00, 1.82, 1.82, 0.00)],\n",
    "    ['浴室の土間床等の外周部の長さ（床下側）', '(参考値。)', lambda h: h.rnd_l_base_bath_inside,\n",
    "     0.00, 0.00, 3.64, 0.00],\n",
    "    ['その他の土間床等の外周部の長さ（外気側）', '(参考値。)', lambda h: h.rnd_l_base_other_outside,\n",
    "     ( 0.00, 0.00, 0.00, 0.00),\n",
    "     ( 0.00, 0.00, 0.00, 0.00),\n",
    "     ( 0.00, 0.00, 0.00, 0.00),\n",
    "     (10.61, 1.15, 7.42, 4.79)],\n",
    "    ['その他の土間床等の外周部の長さ（床下側）', '(参考値。)', lambda h: h.rnd_l_base_other_inside,\n",
    "     0.00, 0.00, 0.00, 0.00],\n",
    "    \n",
    "    ['土間床等の面積の合計', '(参考)', lambda h: h.rnd_a_ef_total,\n",
    "     2.48, 2.48, 5.80, 50.85],\n",
    "    ['浴室の土間床等の面積', '(2018.04から使用。)', lambda h: h.rnd_a_ef_bath,\n",
    "     0.00, 0.00, 3.31, 3.31],\n",
    "    ['基礎の面積の合計（外気側）', '(2017.07まで使用。現在は使用していない。)', lambda h: h.rnd_a_base_total_outside,      \n",
    "     (0.00, 0.33, 0.25, 0.00),\n",
    "     (0.00, 0.33, 0.25, 0.00),\n",
    "     (0.00, 1.24, 1.16, 0.00),\n",
    "     (5.30, 1.81, 4.87, 2.40)],\n",
    "    ['基礎の面積の合計（床下側）', '(2017.07まで使用。現在は使用していない。)', lambda h: h.rnd_a_base_total_inside,\n",
    "     0.58, 0.58, 2.39, 0.00],\n",
    "    ['玄関等を除く基礎の面積（外気側）', '(2017.07より使用。)', lambda h: h.rnd_a_base_except_entrance_outside,\n",
    "     (0.00, 0.00, 0.00, 0.00),\n",
    "     (0.00, 0.00, 0.00, 0.00),\n",
    "     (0.00, 0.91, 0.91, 0.00),\n",
    "     (5.30, 1.48, 4.62, 2.40)],\n",
    "    ['玄関等を除く基礎の面積（床下側）', '(2017.07より使用。)', lambda h: h.rnd_a_base_except_entrance_inside,\n",
    "     0.00, 0.00, 1.82, 0.00],\n",
    "    ['土間床周長（外気側）', '(2017.07まで使用。現在は使用していない。)', lambda h: h.rnd_l_prm_outside,  \n",
    "     ( 0.00, 1.82,  1.37, 0.00),\n",
    "     ( 0.00, 1.82,  1.37, 0.00),\n",
    "     ( 0.00, 3.64,  3.19, 0.00),\n",
    "     (10.61, 4.79, 10.61, 4.79)],\n",
    "    ['土間床周長（床下側）', '(2017.07まで使用。現在は使用していない。)', lambda h: h.rnd_l_prm_inside,\n",
    "     3.19, 3.19, 6.83, 0.00],\n",
    "    ['玄関等を除く土間床等の外周部の長さ（外気側）', '(2017.07より使用。)', lambda h: h.rnd_l_base_except_entrance_outside,\n",
    "     (0.00, 0.00, 0.00, 0.00),\n",
    "     (0.00, 0.00, 0.00, 0.00),\n",
    "     ( 0.00, 1.82, 1.82, 0.00),\n",
    "     (10.61, 2.97, 9.24, 4.79)],\n",
    "    ['玄関等を除く土間床等の外周部の長さ（床下側）', '(2017.07より使用。)', lambda h: h.rnd_l_base_except_entrance_inside,\n",
    "     0.00, 0.00, 3.64, 0.00],\n",
    "\n",
    "]"
   ]
  },
  {
   "cell_type": "code",
   "execution_count": 177,
   "metadata": {},
   "outputs": [
    {
     "name": "stdout",
     "output_type": "stream",
     "text": [
      "基礎の面積の合計（床下側） (2017.07まで使用。現在は使用していない。): 床断熱住宅（外皮に接する浴室床なし） : EXPECTED = 0.58 / RESULT = 0.57 / .....NG\n",
      "基礎の面積の合計（床下側） (2017.07まで使用。現在は使用していない。): 床断熱住宅（浴室床断熱） : EXPECTED = 0.58 / RESULT = 0.57 / .....NG\n"
     ]
    }
   ],
   "source": [
    "for index, row in enumerate(testcase):\n",
    "    \n",
    "    name, remark, func = row[0], row[1], row[2]\n",
    "\n",
    "    if type(row[3]) == str or type(row[3]) == float:\n",
    "        for i, h in enumerate(hs):\n",
    "            message, result = check_result(e=row[i+3], r=func(h))\n",
    "            if result:\n",
    "                pass\n",
    "            else:\n",
    "                print(name + ' ' + remark + ': ' + h.name + ' : ' + message)\n",
    "    elif type(row[3]) == tuple and len(row[3]) == 4:\n",
    "        for i, h in enumerate(hs):\n",
    "            messages, results = check_tuple_result(e=row[i+3], r=func(h))\n",
    "            if not results:\n",
    "                [print(name + ' ' + remark + ': ' + h.name + m) for m in messages]\n",
    "    else:\n",
    "        print ( '  Format Error' )"
   ]
  },
  {
   "cell_type": "code",
   "execution_count": 178,
   "metadata": {},
   "outputs": [],
   "source": [
    "wb = xlrd.open_workbook('publicated_value.xlsx')\n",
    "sheet = wb.sheet_by_name('test')\n",
    "value = [sheet.row_values(row) for row in range(sheet.nrows)]"
   ]
  },
  {
   "cell_type": "code",
   "execution_count": null,
   "metadata": {},
   "outputs": [],
   "source": []
  }
 ],
 "metadata": {
  "file_extension": ".py",
  "kernelspec": {
   "display_name": "Python 3",
   "language": "python",
   "name": "python3"
  },
  "language_info": {
   "codemirror_mode": {
    "name": "ipython",
    "version": 3
   },
   "file_extension": ".py",
   "mimetype": "text/x-python",
   "name": "python",
   "nbconvert_exporter": "python",
   "pygments_lexer": "ipython3",
   "version": "3.6.4"
  },
  "mimetype": "text/x-python",
  "name": "python",
  "npconvert_exporter": "python",
  "pygments_lexer": "ipython3",
  "toc": {
   "base_numbering": 1,
   "nav_menu": {},
   "number_sections": true,
   "sideBar": true,
   "skip_h1_title": false,
   "title_cell": "Table of Contents",
   "title_sidebar": "Contents",
   "toc_cell": false,
   "toc_position": {
    "height": "calc(100% - 180px)",
    "left": "10px",
    "top": "150px",
    "width": "320px"
   },
   "toc_section_display": true,
   "toc_window_display": true
  },
  "version": 3
 },
 "nbformat": 4,
 "nbformat_minor": 2
}
